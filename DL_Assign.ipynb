{
  "nbformat": 4,
  "nbformat_minor": 0,
  "metadata": {
    "colab": {
      "name": "DL_Assign.ipynb",
      "version": "0.3.2",
      "provenance": [],
      "collapsed_sections": [],
      "toc_visible": true,
      "include_colab_link": true
    },
    "kernelspec": {
      "name": "python3",
      "display_name": "Python 3"
    },
    "accelerator": "GPU"
  },
  "cells": [
    {
      "cell_type": "markdown",
      "metadata": {
        "id": "view-in-github",
        "colab_type": "text"
      },
      "source": [
        "<a href=\"https://colab.research.google.com/github/rajeshsahu09/CS69002_9A_18CS60R19/blob/master/DL_Assign.ipynb\" target=\"_parent\"><img src=\"https://colab.research.google.com/assets/colab-badge.svg\" alt=\"Open In Colab\"/></a>"
      ]
    },
    {
      "metadata": {
        "id": "wuB0HM37teAc",
        "colab_type": "text"
      },
      "cell_type": "markdown",
      "source": [
        "# Movie Review Sentiment Analysis"
      ]
    },
    {
      "metadata": {
        "id": "rKlXTA5zfx20",
        "colab_type": "text"
      },
      "cell_type": "markdown",
      "source": [
        "# Run on **GPU**\n",
        "\n"
      ]
    },
    {
      "metadata": {
        "id": "_NV6CE-qtvGO",
        "colab_type": "text"
      },
      "cell_type": "markdown",
      "source": [
        "### Import Header Files"
      ]
    },
    {
      "metadata": {
        "id": "WE7OEcPOtzJf",
        "colab_type": "code",
        "colab": {}
      },
      "cell_type": "code",
      "source": [
        "import torch\n",
        "import pandas as pd\n",
        "import numpy as np\n",
        "import io\n",
        "import time"
      ],
      "execution_count": 0,
      "outputs": []
    },
    {
      "metadata": {
        "id": "v4037ccUuFFp",
        "colab_type": "text"
      },
      "cell_type": "markdown",
      "source": [
        "### Load the Dataset and Visualise"
      ]
    },
    {
      "metadata": {
        "id": "EhWFepP2t3eA",
        "colab_type": "code",
        "colab": {}
      },
      "cell_type": "code",
      "source": [
        "# from google.colab import files\n",
        "# uploaded = files.upload()\n",
        "\n",
        "# import io\n",
        "# df_train = pd.read_csv(io.StringIO(uploaded['Train_20K.csv'].decode('utf-8')), sep='\\t')\n",
        "# df_train.head()\n",
        "url = \"https://raw.githubusercontent.com/binny-mathew/IITKGP_CS69002_Spring_2019/master/Dataset/Train_20K.csv\"\n",
        "df = pd.read_csv(url, sep='\\t')"
      ],
      "execution_count": 0,
      "outputs": []
    },
    {
      "metadata": {
        "id": "mvAXyCoDaR3b",
        "colab_type": "code",
        "outputId": "79c830b5-6393-4327-bf69-dd767fdfd2e9",
        "colab": {
          "base_uri": "https://localhost:8080/",
          "height": 34
        }
      },
      "cell_type": "code",
      "source": [
        "df.shape"
      ],
      "execution_count": 3,
      "outputs": [
        {
          "output_type": "execute_result",
          "data": {
            "text/plain": [
              "(17999, 2)"
            ]
          },
          "metadata": {
            "tags": []
          },
          "execution_count": 3
        }
      ]
    },
    {
      "metadata": {
        "id": "44YtF48vX24a",
        "colab_type": "code",
        "colab": {}
      },
      "cell_type": "code",
      "source": [
        "df_1 = df[df['label']==1] # get only label == 1\n",
        "df_0 = df[df['label']==0] # get only label == 0\n",
        "\n",
        "range_1 = int(0.9*len(df_1))\n",
        "range_2 = int(0.9*len(df_0))\n",
        "\n",
        "np.random.seed(42) # fix the seed value\n",
        "df_1 = df_1.iloc[np.random.permutation(len(df_1))] # shuffled the data set of label==1\n",
        "df_0 = df_0.iloc[np.random.permutation(len(df_0))] # shuffled the data set of label==0\n",
        "\n",
        "temp_1_train = df_1.iloc[:range_1]\n",
        "temp_2_train = df_0.iloc[:range_2]\n",
        "df_train = pd.concat([temp_1_train, temp_2_train])\n",
        "\n",
        "temp_1_val = df_1.iloc[range_1:]\n",
        "temp_2_val = df_0.iloc[range_2:]\n",
        "df_val = pd.concat([temp_1_val, temp_2_val])\n"
      ],
      "execution_count": 0,
      "outputs": []
    },
    {
      "metadata": {
        "id": "T9FBTqABuRlO",
        "colab_type": "code",
        "outputId": "d615cbc9-9352-4d12-bf17-cc6632040a47",
        "colab": {
          "base_uri": "https://localhost:8080/",
          "height": 34
        }
      },
      "cell_type": "code",
      "source": [
        "df_train = df_train.iloc[np.random.permutation(len(df_train))] # shuffled the data set of label==1\n",
        "df_val = df_val.iloc[np.random.permutation(len(df_val))] # shuffled the data set of label==1\n",
        "len(df_train), len(df_val)"
      ],
      "execution_count": 5,
      "outputs": [
        {
          "output_type": "execute_result",
          "data": {
            "text/plain": [
              "(16198, 1801)"
            ]
          },
          "metadata": {
            "tags": []
          },
          "execution_count": 5
        }
      ]
    },
    {
      "metadata": {
        "id": "0WFB1TtsxD3F",
        "colab_type": "code",
        "outputId": "956a1213-711e-4885-e78a-9098ded67c75",
        "colab": {
          "base_uri": "https://localhost:8080/",
          "height": 68
        }
      },
      "cell_type": "code",
      "source": [
        "print('Number of Negative movie reviews', len(df_train[df_train['label']==0]))\n",
        "print('Number of Positive movie reviews', len(df_train[df_train['label']==1]))\n",
        "print('Number of movie reviews', len(df_train['label']))"
      ],
      "execution_count": 6,
      "outputs": [
        {
          "output_type": "stream",
          "text": [
            "Number of Negative movie reviews 8094\n",
            "Number of Positive movie reviews 8104\n",
            "Number of movie reviews 16198\n"
          ],
          "name": "stdout"
        }
      ]
    },
    {
      "metadata": {
        "id": "sYtzJk8r3lm5",
        "colab_type": "code",
        "outputId": "d73620b6-35fd-4ccd-d30a-d39b1b6e918d",
        "colab": {
          "base_uri": "https://localhost:8080/",
          "height": 68
        }
      },
      "cell_type": "code",
      "source": [
        "print('Number of Negative movie reviews', len(df_val[df_val['label']==0]))\n",
        "print('Number of Positive movie reviews', len(df_val[df_val['label']==1]))\n",
        "print('Number of movie reviews', len(df_val['label']))"
      ],
      "execution_count": 7,
      "outputs": [
        {
          "output_type": "stream",
          "text": [
            "Number of Negative movie reviews 900\n",
            "Number of Positive movie reviews 901\n",
            "Number of movie reviews 1801\n"
          ],
          "name": "stdout"
        }
      ]
    },
    {
      "metadata": {
        "id": "uuZxOMpkQoka",
        "colab_type": "code",
        "colab": {}
      },
      "cell_type": "code",
      "source": [
        "url = \"https://raw.githubusercontent.com/binny-mathew/IITKGP_CS69002_Spring_2019/master/Dataset/Test_5K.csv\"\n",
        "df_test = pd.read_csv(url, sep='\\t')"
      ],
      "execution_count": 0,
      "outputs": []
    },
    {
      "metadata": {
        "id": "TVzhPcGGxf2-",
        "colab_type": "text"
      },
      "cell_type": "markdown",
      "source": [
        "## Data pre-processing"
      ]
    },
    {
      "metadata": {
        "id": "u-8IR64TKH0F",
        "colab_type": "text"
      },
      "cell_type": "markdown",
      "source": [
        "### Get Train Data"
      ]
    },
    {
      "metadata": {
        "id": "JprKnOXgxXkE",
        "colab_type": "code",
        "colab": {}
      },
      "cell_type": "code",
      "source": [
        "train_raw_text_reviews = df_train['text'].astype(str).tolist()\n",
        "train_text_labels = df_train['label'].astype(int).tolist()"
      ],
      "execution_count": 0,
      "outputs": []
    },
    {
      "metadata": {
        "id": "TwU4zROpKLdQ",
        "colab_type": "text"
      },
      "cell_type": "markdown",
      "source": [
        "###Get Validation Data"
      ]
    },
    {
      "metadata": {
        "id": "7TsL1ACWJ_3V",
        "colab_type": "code",
        "colab": {}
      },
      "cell_type": "code",
      "source": [
        "val_raw_text_reviews = df_val['text'].astype(str).tolist()\n",
        "val_text_labels = df_val['label'].astype(int).tolist()"
      ],
      "execution_count": 0,
      "outputs": []
    },
    {
      "metadata": {
        "id": "YixDzEnXLZN-",
        "colab_type": "text"
      },
      "cell_type": "markdown",
      "source": [
        "###Get Test Data"
      ]
    },
    {
      "metadata": {
        "id": "MQHaSpnJJ9eT",
        "colab_type": "code",
        "colab": {}
      },
      "cell_type": "code",
      "source": [
        "test_raw_text_reviews = df_test['text'].astype(str).tolist()\n",
        "test_text_labels = df_test['label'].astype(int).tolist()"
      ],
      "execution_count": 0,
      "outputs": []
    },
    {
      "metadata": {
        "id": "ui-q6WRqOrB4",
        "colab_type": "text"
      },
      "cell_type": "markdown",
      "source": [
        "#### Cleaning the raw input data"
      ]
    },
    {
      "metadata": {
        "id": "8_4b4FmShb0u",
        "colab_type": "code",
        "outputId": "29f60ca4-ec06-45f5-ecf6-7c41a0abb595",
        "colab": {
          "base_uri": "https://localhost:8080/",
          "height": 51
        }
      },
      "cell_type": "code",
      "source": [
        "import re\n",
        "import string\n",
        "import nltk\n",
        "nltk.download(\"stopwords\")\n",
        "from nltk.corpus import stopwords\n",
        "\n",
        "# Finding stop words\n",
        "stop_words = set(stopwords.words('english'))"
      ],
      "execution_count": 12,
      "outputs": [
        {
          "output_type": "stream",
          "text": [
            "[nltk_data] Downloading package stopwords to /root/nltk_data...\n",
            "[nltk_data]   Package stopwords is already up-to-date!\n"
          ],
          "name": "stdout"
        }
      ]
    },
    {
      "metadata": {
        "id": "s3AxEhD_z1DM",
        "colab_type": "code",
        "colab": {}
      },
      "cell_type": "code",
      "source": [
        "def preprocess_document(doc):\n",
        "    # negative sense should not be eleminated + some short representation\n",
        "    CONTRACTIONS = {\"mayn't\":\"may not\", \"can't\":\"can not\", \"won't\":\"will not\", \"isn't\":\"is not\", \"amn't\":\"am not\",\\\n",
        "                  \"aren't\":\"are not\", \"wasn't\":\"was not\", \"weren't\":\"were not\", \"couldn't\":\"could not\", \\\n",
        "                  \"wouldn't\":\"would not\", \"don't\":\"do not\", \"doesn't\":\"does not\",\\\n",
        "                  \"i'll\":\"i will\", \"you'll\":\"you will\", \"they'll\":\"they will\",\\\n",
        "                  \"may've\":\"may have\", \"can've\":\"can have\", \"will've\":\"will have\", \"you've\":\"you have\", \\\n",
        "                  \"could've\":\"could have\", \"would've\":\"would have\", \"you've\":\"you have\", \"they\":\"they have\",\\\n",
        "                  \"i've\":\"i have\", \"you've\":\"you have\", \"we've\":\"we have\", \"there's\":\"there is\", \"i'm\":\"i am\",\\\n",
        "                  \"it's\":\"it is\", \"what's\":\"what is\", \"where's\":\"where is\", \"how's\":\"how is\", \"i'd\":\"i had\"}\n",
        "    punctuation = string.punctuation + \"\\n\\n\"\n",
        "    punc_replace = ''.join([' ' for s in punctuation]) # required for replacing punctuation with null ('')\n",
        "    doc_clean = doc.replace('-', ' ') # replace - with null str\n",
        "    doc_clean = (doc_clean.encode('ascii', 'ignore')).decode(\"utf-8\")\n",
        "    doc_clean = doc_clean.replace('<br />', '') # replace <br /> with ''\n",
        "    doc_clean = doc_clean.replace(\"’\", \"'\") # replace <br /> with null str\n",
        "    doc_clean = [CONTRACTIONS[word] if word in CONTRACTIONS else word for word in doc_clean.split(' ')] # replacing some common short forms\n",
        "    doc_clean = \" \".join(doc_clean) # list to sentence of strings\n",
        "    doc_clean = re.sub(r'\\W +', ' ', doc_clean) # except [a-zA-Z0-9_]\n",
        "    doc_clean = re.sub(r'\\d+', ' ', doc_clean) # remove numbers [0-9]\n",
        "    trans_table = str.maketrans(punctuation, punc_replace); # replace punctuations with ' '\n",
        "    doc_clean = ' '.join([word.translate(trans_table) for word in doc_clean.split(' ')])\n",
        "    doc_clean = doc_clean.split(' ');\n",
        "    doc_clean = [word for word in doc_clean if len(word) > 0];\n",
        "    # removing the stopwords from a sentence\n",
        "    doc_clean = [word for word in doc_clean if not word.lower() in stop_words or word.lower() == 'not' or word.lower() == 'no']\n",
        "    return doc_clean;"
      ],
      "execution_count": 0,
      "outputs": []
    },
    {
      "metadata": {
        "id": "rSNuXUopzavX",
        "colab_type": "code",
        "outputId": "28e12faa-49c7-490d-e703-15ad784ac58f",
        "colab": {
          "base_uri": "https://localhost:8080/",
          "height": 71
        }
      },
      "cell_type": "code",
      "source": [
        "train_text_reviews = [preprocess_document(review.lower()) for review in train_raw_text_reviews]\n",
        "print (train_text_reviews[len(train_text_reviews)-2])\n",
        "print (train_text_labels[len(train_text_labels)-2])"
      ],
      "execution_count": 14,
      "outputs": [
        {
          "output_type": "stream",
          "text": [
            "['three', 'tales', 'told', 'film', 'seemed', 'shot', 'without', 'knowledge', 'combined', 'vignette', 'film', 'makers', 'relate', 'three', 'vignettes', 'connected', 'shrink', 'martin', 'kove', 'although', 'never', 'see', 'leads', 'kove', 'first', 'vignette', 'sexy', 'vivian', 'schilling', 'woman', 'afraid', 'everything', 'sun', 'makes', 'adrian', 'monk', 'look', 'brave', 'paranoia', 'laced', 'evening', 'home', 'alone', 'literally', 'scream', 'vivian', 'ridiculous', 'things', 'spends', 'majority', 'time', 'nighty', 'shows', 'amazing', 'features', 'film', 'worst', 'not', 'nail', 'biting', 'second', 'vignette', 'owned', 'bill', 'paxton', 'portrays', 'roommate', 'hell', 'geeky', 'roommate', 'allows', 'take', 'complete', 'advantage', 'bill', 'whenever', 'last', 'vignette', 'funny', 'man', 'fears', 'death', 'take', 'moment', 'much', 'like', 'pal', 'choked', 'death', 'olive', 'not', 'interesting', 'movie', 'whole', 'seems', 'chopped', 'together', 'little', 'thought', 'involved', 'must', 'bill', 'paxton', 'fans']\n",
            "0\n"
          ],
          "name": "stdout"
        }
      ]
    },
    {
      "metadata": {
        "id": "W6psZ2jxNOoP",
        "colab_type": "code",
        "outputId": "74ae99c2-d58d-49a8-bb8c-13ae957f0b65",
        "colab": {
          "base_uri": "https://localhost:8080/",
          "height": 71
        }
      },
      "cell_type": "code",
      "source": [
        "val_text_reviews = [preprocess_document(review.lower()) for review in val_raw_text_reviews]\n",
        "print (val_text_reviews[len(val_text_reviews)-2])\n",
        "print (val_text_labels[len(val_text_labels)-2])"
      ],
      "execution_count": 15,
      "outputs": [
        {
          "output_type": "stream",
          "text": [
            "['even', 'one', 'realize', 'sellers', 'poor', 'health', 'time', 'filming', 'passed', 'away', 'film', 'release', 'fiendish', 'plot', 'dr', 'fu', 'manchu', 'would', 'painful', 'viewing', 'supposedly', 'lampoon', 'sax', 'rohmer', 'famous', 'oriental', 'villain', 'lacks', 'focus', 'potential', 'satirical', 'commentary', 'anti', 'oriental', 'overtones', 'rohmer', 'concept', 'ignored', 'indeed', 'movie', 'employs', 'racist', 'insults', 'hardly', 'actual', 'jokes', 'gags', 'mostly', 'actors', 'behaving', 'idiotically', 'spouting', 'dreary', 'lines', 'especially', 'distressing', 'see', 'sid', 'caesar', 'forced', 'spout', 'curses', 'racial', 'slurs', 'attempted', 'laughs', 'actors', 'embarrass', 'well', 'peter', 'sellers', 'plays', 'dual', 'roles', 'sinister', 'fu', 'manchu', 'trying', 'concoct', 'formula', 'regain', 'youth', 'stalwart', 'british', 'foe', 'nayland', 'smith', 'sellers', 'not', 'one', 'hundred', 'per', 'cent', 'bad', 'conveys', 'quirky', 'warmth', 'smith', 'discusses', 'fetishistic', 'attachment', 'lawn', 'mower', 'oddly', 'moving', 'manchu', 'expresses', 'love', 'english', 'music', 'hall', 'entertainment', 'time', 'plays', 'roles', 'weary', 'grimness', 'thus', 'sabotaging', 'comical', 'possibilities', 'sellers', 'routines', 'revitalizes', 'fading', 'strength', 'electric', 'shocks', 'particularly', 'excruciating', 'seems', 'convincingly', 'agonized', 'funny', 'genuinely', 'witty', 'lines', 'apt', 'slapstick', 'bit', 'burt', 'kwouk', 'cato', 'pink', 'panther', 'films', 'one', 'manchu', 'minions', 'helen', 'mirren', 'amusing', 'musical', 'numbers', 'cannot', 'salvage', 'mess', 'anyone', 'wants', 'understand', 'peter', 'sellers', 'considered', 'comedic', 'genius', 'not', 'learn', 'anything', 'fiendish', 'plot', 'dr', 'fu', 'manchu']\n",
            "0\n"
          ],
          "name": "stdout"
        }
      ]
    },
    {
      "metadata": {
        "id": "REdaGj3VNOEX",
        "colab_type": "code",
        "outputId": "e375c8d0-5162-4b3d-c7a2-ae4800bbb22b",
        "colab": {
          "base_uri": "https://localhost:8080/",
          "height": 71
        }
      },
      "cell_type": "code",
      "source": [
        "test_text_reviews = [preprocess_document(review.lower()) for review in test_raw_text_reviews]\n",
        "print (test_text_reviews[len(test_text_reviews)-2])\n",
        "print (test_text_labels[len(test_text_labels)-2])"
      ],
      "execution_count": 16,
      "outputs": [
        {
          "output_type": "stream",
          "text": [
            "['shining', 'know', 'weird', 'movie', 'movie', 'everyone', 'people', 'claim', 'not', 'like', 'horror', 'films', 'always', 'say', 'shining', 'terrific', 'film', 'stanley', 'kubrick', 'classic', 'vision', 'stephen', 'king', 'horror', 'tale', 'madness', 'blood', 'incredible', 'film', 'wither', 'seen', 'not', 'heard', 'know', 'lines', 'know', 'classic', 'images', 'could', 'forget', 'jack', 'johnny', 'could', 'forget', 'work', 'no', 'play', 'make', 'jack', 'dull', 'boy', 'could', 'forget', 'chilling', 'ending', 'film', 'unforgettable', 'honestly', 'opinion', 'kubrick', 'best', 'work', 'know', 'lot', 'argument', 'department', 'lot', 'people', 'say', 'space', 'odyssey', 'clockwork', 'orange', 'even', 'dr', 'strangelove', 'film', 'pioneered', 'film', 'making', 'shining', 'perfected', 'tale', 'isolation', 'madness', 'terrifying', 'images', 'ultimate', 'ghost', 'story', 'crawl', 'underneath', 'skin', 'jack', 'torrance', 'jack', 'son', 'danny', 'jack', 'wife', 'wendy', 'arrive', 'overlook', 'hotel', 'closing', 'day', 'elderly', 'african', 'american', 'chef', 'dick', 'hallorann', 'surprises', 'danny', 'speaking', 'telepathically', 'offering', 'ice', 'cream', 'explains', 'danny', 'grandmother', 'shared', 'gift', 'called', 'communication', 'shining', 'danny', 'asks', 'anything', 'afraid', 'hotel', 'particularly', 'room', 'dick', 'tells', 'danny', 'hotel', 'certain', 'shine', 'many', 'memories', 'not', 'good', 'advises', 'stay', 'room', 'circumstances', 'danny', 'curiosity', 'room', 'finally', 'gets', 'better', 'sees', 'room', 'opened', 'danny', 'shows', 'injured', 'visibly', 'traumatized', 'jack', 'tells', 'wendy', 'loves', 'family', 'seeing', 'wendy', 'thinks', 'jack', 'abusing', 'danny', 'jack', 'wanders', 'hotel', 'gold', 'room', 'meets', 'ghostly', 'bartender', 'named', 'lloyd', 'danny', 'starts', 'calling', 'word', 'redrum', 'frantically', 'scribbling', 'walls', 'goes', 'trance', 'withdraws', 'says', 'tony', 'imaginary', 'friend', 'jack', 'sabotages', 'hotel', 'radio', 'cutting', 'communication', 'outside', 'world', 'hallorann', 'received', 'danny', 'telepathic', 'cry', 'help', 'way', 'wendy', 'discovers', 'jack', 'typing', 'endless', 'pages', 'manuscript', 'repeating', 'work', 'no', 'play', 'makes', 'jack', 'dull', 'boy', 'formatted', 'various', 'ways', 'horrified', 'jack', 'threatens', 'knocks', 'unconscious', 'baseball', 'bat', 'locking', 'storage', 'locker', 'kitchen', 'jack', 'converses', 'grady', 'door', 'locker', 'unlocks', 'releasing', 'danny', 'written', 'redrum', 'lipstick', 'door', 'wendy', 'bedroom', 'looks', 'mirror', 'sees', 'murder', 'spelled', 'backwards', 'jack', 'picks', 'axe', 'begins', 'chop', 'door', 'leading', 'family', 'living', 'quarters', 'johnny', 'jack', 'legendary', 'image', 'born', 'shining', 'one', 'films', 'seriously', 'make', 'time', 'see', 'incredible', 'film', 'still', 'gives', 'nightmares', 'jack', 'nicholson', 'performance', 'timeless', 'unforgettable', 'one', 'also', 'feel', 'extremely', 'overlooked', 'shelley', 'duvall', 'scene', 'finding', 'jack', 'rant', 'work', 'incredible', 'look', 'horror', 'see', 'fear', 'face', 'realizing', 'husband', 'mad', 'also', 'another', 'incredible', 'scene', 'jack', 'sees', 'ghost', 'woman', 'bathtub', 'honestly', 'one', 'terrifying', 'scenes', 'horror', 'cinema', 'reason', 'film', 'well', 'known', 'film', 'perfection', 'simpsons', 'shown', 'films', 'film', 'forever', 'stay', 'see', 'trust']\n",
            "1\n"
          ],
          "name": "stdout"
        }
      ]
    },
    {
      "metadata": {
        "id": "ydrqMX261kQ-",
        "colab_type": "code",
        "outputId": "f56971b6-9afe-4e06-aa24-bfdb620e0f7c",
        "colab": {
          "base_uri": "https://localhost:8080/",
          "height": 34
        }
      },
      "cell_type": "code",
      "source": [
        "import gc\n",
        "gc.collect()"
      ],
      "execution_count": 17,
      "outputs": [
        {
          "output_type": "execute_result",
          "data": {
            "text/plain": [
              "0"
            ]
          },
          "metadata": {
            "tags": []
          },
          "execution_count": 17
        }
      ]
    },
    {
      "metadata": {
        "id": "xWfJK2HvwwQn",
        "colab_type": "code",
        "colab": {}
      },
      "cell_type": "code",
      "source": [
        "def build_vocabulary(sentences):\n",
        "    # Build vocabulary\n",
        "    dictWordCount = {}\n",
        "    for sent in sentences:\n",
        "        for word in sent:\n",
        "            dictWordCount[word] = 0 # initialising the dict value to zero\n",
        "    for sent in sentences:\n",
        "        for word in sent:\n",
        "            dictWordCount[word] += 1 # updating the dictionary count\n",
        "    \n",
        "    temp = dictWordCount.copy()\n",
        "    for key, val in temp.items():\n",
        "        if(dictWordCount[key] <= 3):\n",
        "            del dictWordCount[key]\n",
        "    \n",
        "    # Mapping from index to word\n",
        "    vocabulary_inv = sorted(dictWordCount, key=dictWordCount.__getitem__, reverse=True)\n",
        "    \n",
        "    # Mapping from word to index\n",
        "    vocabulary = {x: i for i, x in enumerate(vocabulary_inv)}\n",
        "    return vocabulary, vocabulary_inv"
      ],
      "execution_count": 0,
      "outputs": []
    },
    {
      "metadata": {
        "id": "MKifaS85Dkap",
        "colab_type": "text"
      },
      "cell_type": "markdown",
      "source": [
        "###Creating Tokens and Types"
      ]
    },
    {
      "metadata": {
        "id": "9cpQlJ3TytgZ",
        "colab_type": "code",
        "colab": {}
      },
      "cell_type": "code",
      "source": [
        "word_to_ix, ix_to_word = build_vocabulary(train_text_reviews+val_text_reviews+test_text_reviews)"
      ],
      "execution_count": 0,
      "outputs": []
    },
    {
      "metadata": {
        "id": "PLBgxuf0xDB9",
        "colab_type": "code",
        "outputId": "16836021-772f-4251-aa2d-39a1b1ee03d8",
        "colab": {
          "base_uri": "https://localhost:8080/",
          "height": 34
        }
      },
      "cell_type": "code",
      "source": [
        "VOCAB_SIZE = len(word_to_ix)\n",
        "ix_to_word[word_to_ix['kick']]=='kick', word_to_ix['kick'], VOCAB_SIZE"
      ],
      "execution_count": 20,
      "outputs": [
        {
          "output_type": "execute_result",
          "data": {
            "text/plain": [
              "(True, 1829, 30943)"
            ]
          },
          "metadata": {
            "tags": []
          },
          "execution_count": 20
        }
      ]
    },
    {
      "metadata": {
        "id": "GMbWbZdr1reC",
        "colab_type": "code",
        "outputId": "3551417b-dfde-4108-a9d2-2e79cb950608",
        "colab": {
          "base_uri": "https://localhost:8080/",
          "height": 34
        }
      },
      "cell_type": "code",
      "source": [
        "gc.collect()"
      ],
      "execution_count": 21,
      "outputs": [
        {
          "output_type": "execute_result",
          "data": {
            "text/plain": [
              "403"
            ]
          },
          "metadata": {
            "tags": []
          },
          "execution_count": 21
        }
      ]
    },
    {
      "metadata": {
        "id": "sWqAwOAI7D54",
        "colab_type": "text"
      },
      "cell_type": "markdown",
      "source": [
        "## Generate the BOW Vectors"
      ]
    },
    {
      "metadata": {
        "id": "UZK9TAQI7Fbm",
        "colab_type": "code",
        "colab": {}
      },
      "cell_type": "code",
      "source": [
        "def make_bow_vector(sentence, word_to_ix):\n",
        "    # create a vector of zeros of vocab size = len(word_to_idx)\n",
        "    vec = torch.zeros(len(word_to_ix)).to('cuda:0') #, device=device) # make 1D vector of len = vocab size\n",
        "    for word in sentence:\n",
        "        if word not in word_to_ix:            \n",
        "#             raise ValueError('Word',word,' not present in the dictionary. Sorry!')\n",
        "            pass\n",
        "        else:\n",
        "            vec[word_to_ix[word]]+=1 # count the number of occurance of same word in a sentences\n",
        "            \n",
        "    return vec.view(1, -1)"
      ],
      "execution_count": 0,
      "outputs": []
    },
    {
      "metadata": {
        "id": "yNUlKuJeNJEu",
        "colab_type": "text"
      },
      "cell_type": "markdown",
      "source": [
        "## PyTorch"
      ]
    },
    {
      "metadata": {
        "id": "SqLOymKPLPug",
        "colab_type": "code",
        "outputId": "8e04f56e-610c-4ccf-fa02-32660ee99b65",
        "colab": {
          "base_uri": "https://localhost:8080/",
          "height": 34
        }
      },
      "cell_type": "code",
      "source": [
        "import torch.nn as nn\n",
        "import torch.nn.functional as F\n",
        "from torch.autograd import Variable # Automatic gradients are calculated and back-propagated through the computational graph\n",
        "\n",
        "device = torch.device(\"cuda:0\" if torch.cuda.is_available() else \"cpu\")\n",
        "device"
      ],
      "execution_count": 22,
      "outputs": [
        {
          "output_type": "execute_result",
          "data": {
            "text/plain": [
              "device(type='cuda', index=0)"
            ]
          },
          "metadata": {
            "tags": []
          },
          "execution_count": 22
        }
      ]
    },
    {
      "metadata": {
        "id": "SaSwXEBh6565",
        "colab_type": "text"
      },
      "cell_type": "markdown",
      "source": [
        "##Model Definition for the BOWClassifier"
      ]
    },
    {
      "metadata": {
        "id": "PM5I4GP6lFGu",
        "colab_type": "code",
        "colab": {}
      },
      "cell_type": "code",
      "source": [
        "class BOWClassifier(nn.Module):\n",
        "    def __init__(self, input_size, hidden_size, output_size):\n",
        "        super(BOWClassifier, self).__init__()\n",
        "        SEED = 42\n",
        "        torch.manual_seed(SEED)\n",
        "        torch.cuda.manual_seed(SEED)\n",
        "        self.hidden_size = hidden_size\n",
        "        self.i2h = nn.Linear(input_size, hidden_size) # initialises weights and biases i2h\n",
        "        self.h2o = nn.Linear(hidden_size, output_size) # initialises weights and biases h2o\n",
        "#         self.i2o = nn.Linear(input_size, output_size) # initialises weights and biases i2o\n",
        "         \n",
        "    def forward(self, x):\n",
        "        x = torch.relu(self.i2h(x)) # relu activation @ hidden layer\n",
        "        x = torch.sigmoid(self.h2o(x)) # sigmoid activation @ output layer\n",
        "        return x"
      ],
      "execution_count": 0,
      "outputs": []
    },
    {
      "metadata": {
        "id": "a8MGEFG3Mmww",
        "colab_type": "text"
      },
      "cell_type": "markdown",
      "source": [
        "### Initialise Parameter and Model"
      ]
    },
    {
      "metadata": {
        "id": "MlMeX6577J9A",
        "colab_type": "code",
        "outputId": "3418a383-19aa-4bae-bbe4-7f99cc0093d7",
        "colab": {
          "base_uri": "https://localhost:8080/",
          "height": 51
        }
      },
      "cell_type": "code",
      "source": [
        "num_of_input = VOCAB_SIZE # Bag word restriction has to be equal to vocabulary\n",
        "num_of_hidden = 50 # vary this for assignment\n",
        "num_of_output = 1 # binary sentiment classes (+ve, -ve)\n",
        "\n",
        "bow = BOWClassifier(num_of_input, num_of_hidden, num_of_output).to('cuda:0') # initialises weights and biases\n",
        "bow.i2h, bow.h2o # desc network\n",
        "\n",
        "# bow.i2o"
      ],
      "execution_count": 34,
      "outputs": [
        {
          "output_type": "execute_result",
          "data": {
            "text/plain": [
              "(Linear(in_features=30943, out_features=50, bias=True),\n",
              " Linear(in_features=50, out_features=1, bias=True))"
            ]
          },
          "metadata": {
            "tags": []
          },
          "execution_count": 34
        }
      ]
    },
    {
      "metadata": {
        "id": "6p3T6oo_T99z",
        "colab_type": "text"
      },
      "cell_type": "markdown",
      "source": [
        "### Store in input sentences torch vector"
      ]
    },
    {
      "metadata": {
        "id": "g6Tw8pD5NW2S",
        "colab_type": "code",
        "colab": {}
      },
      "cell_type": "code",
      "source": [
        ""
      ],
      "execution_count": 0,
      "outputs": []
    },
    {
      "metadata": {
        "id": "W7xoiOiAyZN5",
        "colab_type": "code",
        "outputId": "d04f8335-9f7c-4a92-906b-2c2d01148072",
        "colab": {
          "base_uri": "https://localhost:8080/",
          "height": 34
        }
      },
      "cell_type": "code",
      "source": [
        "# store the bag of word vectors for each sentences and wraping to tensor of torch type\n",
        "tic = time.time()\n",
        "train_data = [Variable(make_bow_vector(instance, word_to_ix)).to('cuda:0') for instance in train_text_reviews]\n",
        "num_train_data = len(train_text_reviews)\n",
        "\n",
        "val_data = [Variable(make_bow_vector(instance, word_to_ix)).to('cuda:0') for instance in val_text_reviews]\n",
        "num_val_data = len(val_text_reviews)\n",
        "toc = time.time()\n",
        "num_train_data, num_val_data, (toc-tic)"
      ],
      "execution_count": 28,
      "outputs": [
        {
          "output_type": "execute_result",
          "data": {
            "text/plain": [
              "(16198, 1801, 98.21929597854614)"
            ]
          },
          "metadata": {
            "tags": []
          },
          "execution_count": 28
        }
      ]
    },
    {
      "metadata": {
        "id": "deO_hz8vT19u",
        "colab_type": "text"
      },
      "cell_type": "markdown",
      "source": [
        "### Validation Accuracy Computation"
      ]
    },
    {
      "metadata": {
        "id": "cStQIVFfESWM",
        "colab_type": "code",
        "colab": {}
      },
      "cell_type": "code",
      "source": [
        "def evaluate_validation_accuracy(data, net):\n",
        "    sum_loss = 0\n",
        "    \n",
        "    true_positive = 0\n",
        "    true_negative = 0\n",
        "    false_positive = 0\n",
        "    false_negative = 0\n",
        "    \n",
        "    for i, instance in enumerate(data):\n",
        "        label = val_text_labels[i] # get the label of the corresponding instace\n",
        "        label = Variable(torch.FloatTensor([label])).resize_((1,1)).to('cuda:0') # wraps a tensor for label\n",
        "        \n",
        "#         vec = Variable(make_bow_vector(instance, word_to_ix)).to('cuda:0') # wrap to tensor of torch type for instance\n",
        "        \n",
        "#         prob = net.forward(vec) # forward pass\n",
        "\n",
        "        prob = net.forward(instance)\n",
        "    \n",
        "        _class = 1 if prob.item() > 0.5 else 0 # sigmoid activated\n",
        "        \n",
        "        loss = loss_function(prob, label) # compute the loss\n",
        "        \n",
        "        sum_loss += float(loss.item())\n",
        "#         print (int(label), _class)        \n",
        "        if(int(label) == _class and _class == 1):\n",
        "            true_positive += 1\n",
        "            \n",
        "        if(int(label) == _class and _class == 0):\n",
        "            true_negative += 1\n",
        "        \n",
        "        if(_class == 1 and int(label) == 0):\n",
        "            false_positive += 1\n",
        "            \n",
        "        if(_class == 0 and int(label) == 1):\n",
        "            false_negative += 1\n",
        "    \n",
        "    \n",
        "    precision = float(true_positive) / (true_positive + false_positive)\n",
        "    recall = float(true_positive) / (true_positive + false_negative)\n",
        "    f_score = float(2)*true_positive / (2*true_positive + false_positive + false_negative)\n",
        "    \n",
        "    return float(sum_loss)/len(data), float(100)*(true_positive+true_negative)/(true_positive+true_negative+false_positive+false_negative), precision, recall, f_score"
      ],
      "execution_count": 0,
      "outputs": []
    },
    {
      "metadata": {
        "id": "nw0OYbTzBwJ8",
        "colab_type": "text"
      },
      "cell_type": "markdown",
      "source": [
        "## Define Loss function"
      ]
    },
    {
      "metadata": {
        "id": "PbQcwSIb96V9",
        "colab_type": "code",
        "colab": {}
      },
      "cell_type": "code",
      "source": [
        "# define a loss function and an optimizer\n",
        "loss_function = nn.BCELoss()\n",
        "opt = torch.optim.SGD(bow.parameters(), lr = 0.0001)#float(1)/epochs)#, momentum=0.9)"
      ],
      "execution_count": 0,
      "outputs": []
    },
    {
      "metadata": {
        "id": "dqYSLXcj11HJ",
        "colab_type": "code",
        "outputId": "5e5e008d-1cee-43cf-d15d-8877d7539b61",
        "colab": {
          "base_uri": "https://localhost:8080/",
          "height": 34
        }
      },
      "cell_type": "code",
      "source": [
        "gc.collect()"
      ],
      "execution_count": 31,
      "outputs": [
        {
          "output_type": "execute_result",
          "data": {
            "text/plain": [
              "608"
            ]
          },
          "metadata": {
            "tags": []
          },
          "execution_count": 31
        }
      ]
    },
    {
      "metadata": {
        "id": "tuYAAQh2F6J8",
        "colab_type": "text"
      },
      "cell_type": "markdown",
      "source": [
        "## Train the model"
      ]
    },
    {
      "metadata": {
        "id": "ad6MFVt7F5X8",
        "colab_type": "code",
        "outputId": "9968d646-d200-494e-842f-2e14ebc74d87",
        "colab": {
          "base_uri": "https://localhost:8080/",
          "height": 5137
        }
      },
      "cell_type": "code",
      "source": [
        "import copy\n",
        "epochs = 100\n",
        "# the training loop\n",
        "total_time = 0.0\n",
        "train_epoch_history = []\n",
        "train_loss_history = []\n",
        "val_loss_history = []\n",
        "precision = []\n",
        "recall = []\n",
        "f_score = []\n",
        "prev_val_loss = 0\n",
        "flag = 1\n",
        "no_change = 0\n",
        "\n",
        "for e in range(epochs):\n",
        "    tic = time.time() # start the timer\n",
        "    correct = 0\n",
        "    cumulative_loss = 0\n",
        "    incorrect = 0\n",
        "    \n",
        "    for i, instance in enumerate(train_data): # train_text_reviews \n",
        "        # get the training data\n",
        "        label = train_text_labels[i] # get the label of the corresponding instace\n",
        "        label = Variable(torch.FloatTensor([label])).resize_((1,1)).to('cuda:0') # wraps a tensor for label\n",
        "        \n",
        "        bow.zero_grad() # reset the gradient for each instance\n",
        "        \n",
        "#         bow_vec = Variable(make_bow_vector(instance, word_to_ix)).to('cuda:0') # vector repesentation of input sentence\n",
        "        \n",
        "#         pred = bow.forward(bow_vec) # forward pass ==> computes predictied values (1 or 0)\n",
        "        pred = bow.forward(instance)\n",
        "    \n",
        "        loss = loss_function(pred, label) # compute the loss\n",
        "        loss.backward() # backprop the loss\n",
        "        opt.step() # performs parameter updation based on the current gradient\n",
        "        \n",
        "        cumulative_loss += float(loss.item()) # accumulate the loss over whole training sample\n",
        "        \n",
        "        pred_class = 1 if pred.item() > 0.5 else 0 # as sigmoid activated\n",
        "        if(int(label) == pred_class): # counting correct prediction in each epoch\n",
        "            correct += 1\n",
        "    \n",
        "    train_loss = float(cumulative_loss)/num_train_data\n",
        "    train_accuracy = correct*float(100)/num_train_data\n",
        "    train_epoch_history.append(e+1)\n",
        "    train_loss_history.append(train_loss)\n",
        "    \n",
        "    val_loss, val_accuracy, p, r, f = evaluate_validation_accuracy(val_data, bow) # test val-data-set on currently trained model\n",
        "    val_loss_history.append(val_loss)\n",
        "    \n",
        "    precision.append(p)\n",
        "    recall.append(r)\n",
        "    f_score.append(f)\n",
        "    \n",
        "    if(abs(prev_val_loss-val_loss) < 0.001): # less delta validation loss\n",
        "        no_change = 1\n",
        "        \n",
        "    if(no_change == 1 and abs(prev_val_loss-val_loss) > 0.001): # early stop if nearly no change\n",
        "        precision.append(p)\n",
        "        recall.append(r)\n",
        "        f_score.append(f)\n",
        "        stop_bow = copy.deepcopy(bow)\n",
        "        break\n",
        "        \n",
        "    prev_val_loss = val_loss\n",
        "    \n",
        "    toc = time.time() # final time\n",
        "    total_time += (toc-tic)\n",
        "    \n",
        "    print(\"Epoch {}/{}\\n[On Training] ==> Time: {:.2f}s, Train Loss: {:.9f}, Train Accuracy: {:.2f}%\".format(e+1, epochs, (toc-tic), train_loss, train_accuracy))\n",
        "    print(\"[On Validation] ==> Precision: {:.3f}, Recall: {:.3f}, F-Score: {:.3f}, Val loss: {:.9f}, Val Accuracy: {:.2f}% Total Time: {:.2f}s\".format(p, r, f, val_loss, val_accuracy, total_time))\n",
        "    if(val_loss > train_loss and flag == 1): # saving the intersection point\n",
        "        more_bow = copy.deepcopy(bow)\n",
        "        flag = 0"
      ],
      "execution_count": 39,
      "outputs": [
        {
          "output_type": "stream",
          "text": [
            "Epoch 1/100\n",
            "[On Training] ==> Time: 28.16s, Train Loss: 0.681805475, Train Accuracy: 55.40%\n",
            "[On Validation] ==> Precision: 0.864, Recall: 0.431, F-Score: 0.575, Val loss: 0.661491506, Val Accuracy: 68.13% Total Time: 28.16s\n",
            "Epoch 2/100\n",
            "[On Training] ==> Time: 27.95s, Train Loss: 0.638137053, Train Accuracy: 74.11%\n",
            "[On Validation] ==> Precision: 0.802, Recall: 0.724, F-Score: 0.761, Val loss: 0.612378043, Val Accuracy: 77.23% Total Time: 56.11s\n",
            "Epoch 3/100\n",
            "[On Training] ==> Time: 28.30s, Train Loss: 0.585768936, Train Accuracy: 78.78%\n",
            "[On Validation] ==> Precision: 0.795, Recall: 0.794, F-Score: 0.794, Val loss: 0.559371899, Val Accuracy: 79.46% Total Time: 84.42s\n",
            "Epoch 4/100\n",
            "[On Training] ==> Time: 27.99s, Train Loss: 0.532907354, Train Accuracy: 80.61%\n",
            "[On Validation] ==> Precision: 0.808, Recall: 0.828, F-Score: 0.818, Val loss: 0.511127691, Val Accuracy: 81.57% Total Time: 112.41s\n",
            "Epoch 5/100\n",
            "[On Training] ==> Time: 27.69s, Train Loss: 0.487021461, Train Accuracy: 81.77%\n",
            "[On Validation] ==> Precision: 0.814, Recall: 0.852, F-Score: 0.833, Val loss: 0.472548046, Val Accuracy: 82.90% Total Time: 140.10s\n",
            "Epoch 6/100\n",
            "[On Training] ==> Time: 27.68s, Train Loss: 0.450151947, Train Accuracy: 83.02%\n",
            "[On Validation] ==> Precision: 0.820, Recall: 0.857, F-Score: 0.838, Val loss: 0.443157029, Val Accuracy: 83.40% Total Time: 167.78s\n",
            "Epoch 7/100\n",
            "[On Training] ==> Time: 27.67s, Train Loss: 0.420768544, Train Accuracy: 83.98%\n",
            "[On Validation] ==> Precision: 0.826, Recall: 0.857, F-Score: 0.841, Val loss: 0.420730087, Val Accuracy: 83.79% Total Time: 195.45s\n",
            "Epoch 8/100\n",
            "[On Training] ==> Time: 27.62s, Train Loss: 0.396737865, Train Accuracy: 85.01%\n",
            "[On Validation] ==> Precision: 0.834, Recall: 0.857, F-Score: 0.845, Val loss: 0.403225587, Val Accuracy: 84.29% Total Time: 223.07s\n",
            "Epoch 9/100\n",
            "[On Training] ==> Time: 27.70s, Train Loss: 0.376408787, Train Accuracy: 85.74%\n",
            "[On Validation] ==> Precision: 0.839, Recall: 0.861, F-Score: 0.850, Val loss: 0.389197865, Val Accuracy: 84.79% Total Time: 250.77s\n",
            "Epoch 10/100\n",
            "[On Training] ==> Time: 27.86s, Train Loss: 0.358716081, Train Accuracy: 86.39%\n",
            "[On Validation] ==> Precision: 0.846, Recall: 0.869, F-Score: 0.858, Val loss: 0.377692858, Val Accuracy: 85.56% Total Time: 278.63s\n",
            "Epoch 11/100\n",
            "[On Training] ==> Time: 27.74s, Train Loss: 0.343000432, Train Accuracy: 87.08%\n",
            "[On Validation] ==> Precision: 0.848, Recall: 0.873, F-Score: 0.861, Val loss: 0.368086056, Val Accuracy: 85.84% Total Time: 306.37s\n",
            "Epoch 12/100\n",
            "[On Training] ==> Time: 27.71s, Train Loss: 0.328857956, Train Accuracy: 87.63%\n",
            "[On Validation] ==> Precision: 0.850, Recall: 0.875, F-Score: 0.862, Val loss: 0.359941975, Val Accuracy: 86.01% Total Time: 334.08s\n",
            "Epoch 13/100\n",
            "[On Training] ==> Time: 27.70s, Train Loss: 0.316025268, Train Accuracy: 88.22%\n",
            "[On Validation] ==> Precision: 0.850, Recall: 0.877, F-Score: 0.863, Val loss: 0.352981144, Val Accuracy: 86.12% Total Time: 361.78s\n",
            "Epoch 14/100\n",
            "[On Training] ==> Time: 27.97s, Train Loss: 0.304309009, Train Accuracy: 88.79%\n",
            "[On Validation] ==> Precision: 0.852, Recall: 0.871, F-Score: 0.862, Val loss: 0.347022434, Val Accuracy: 86.01% Total Time: 389.76s\n",
            "Epoch 15/100\n",
            "[On Training] ==> Time: 27.68s, Train Loss: 0.293567328, Train Accuracy: 89.28%\n",
            "[On Validation] ==> Precision: 0.856, Recall: 0.875, F-Score: 0.865, Val loss: 0.341908911, Val Accuracy: 86.34% Total Time: 417.43s\n",
            "Epoch 16/100\n",
            "[On Training] ==> Time: 27.74s, Train Loss: 0.283677610, Train Accuracy: 89.76%\n",
            "[On Validation] ==> Precision: 0.854, Recall: 0.873, F-Score: 0.863, Val loss: 0.337513846, Val Accuracy: 86.17% Total Time: 445.18s\n",
            "Epoch 17/100\n",
            "[On Training] ==> Time: 27.68s, Train Loss: 0.274544089, Train Accuracy: 90.13%\n",
            "[On Validation] ==> Precision: 0.860, Recall: 0.879, F-Score: 0.869, Val loss: 0.333727514, Val Accuracy: 86.79% Total Time: 472.85s\n",
            "Epoch 18/100\n",
            "[On Training] ==> Time: 27.70s, Train Loss: 0.266079638, Train Accuracy: 90.57%\n",
            "[On Validation] ==> Precision: 0.859, Recall: 0.881, F-Score: 0.870, Val loss: 0.330462760, Val Accuracy: 86.84% Total Time: 500.55s\n",
            "Epoch 19/100\n",
            "[On Training] ==> Time: 27.69s, Train Loss: 0.258206970, Train Accuracy: 90.80%\n",
            "[On Validation] ==> Precision: 0.860, Recall: 0.880, F-Score: 0.870, Val loss: 0.327644819, Val Accuracy: 86.84% Total Time: 528.24s\n",
            "Epoch 20/100\n",
            "[On Training] ==> Time: 27.75s, Train Loss: 0.250855240, Train Accuracy: 91.13%\n",
            "[On Validation] ==> Precision: 0.863, Recall: 0.881, F-Score: 0.872, Val loss: 0.325207732, Val Accuracy: 87.06% Total Time: 555.99s\n",
            "Epoch 21/100\n",
            "[On Training] ==> Time: 27.87s, Train Loss: 0.243965972, Train Accuracy: 91.42%\n",
            "[On Validation] ==> Precision: 0.865, Recall: 0.882, F-Score: 0.874, Val loss: 0.323097163, Val Accuracy: 87.23% Total Time: 583.86s\n",
            "Epoch 22/100\n",
            "[On Training] ==> Time: 27.71s, Train Loss: 0.237488179, Train Accuracy: 91.73%\n",
            "[On Validation] ==> Precision: 0.865, Recall: 0.883, F-Score: 0.874, Val loss: 0.321266231, Val Accuracy: 87.28% Total Time: 611.58s\n",
            "Epoch 23/100\n",
            "[On Training] ==> Time: 27.69s, Train Loss: 0.231377846, Train Accuracy: 92.02%\n",
            "[On Validation] ==> Precision: 0.865, Recall: 0.881, F-Score: 0.873, Val loss: 0.319681084, Val Accuracy: 87.17% Total Time: 639.27s\n",
            "Epoch 24/100\n",
            "[On Training] ==> Time: 27.71s, Train Loss: 0.225597062, Train Accuracy: 92.31%\n",
            "[On Validation] ==> Precision: 0.866, Recall: 0.881, F-Score: 0.873, Val loss: 0.318313273, Val Accuracy: 87.23% Total Time: 666.98s\n",
            "Epoch 25/100\n",
            "[On Training] ==> Time: 27.99s, Train Loss: 0.220112714, Train Accuracy: 92.53%\n",
            "[On Validation] ==> Precision: 0.870, Recall: 0.881, F-Score: 0.875, Val loss: 0.317133546, Val Accuracy: 87.45% Total Time: 694.98s\n",
            "Epoch 26/100\n",
            "[On Training] ==> Time: 27.72s, Train Loss: 0.214895511, Train Accuracy: 92.73%\n",
            "[On Validation] ==> Precision: 0.868, Recall: 0.880, F-Score: 0.874, Val loss: 0.316122817, Val Accuracy: 87.28% Total Time: 722.70s\n",
            "Epoch 27/100\n",
            "[On Training] ==> Time: 27.68s, Train Loss: 0.209919793, Train Accuracy: 92.95%\n",
            "[On Validation] ==> Precision: 0.867, Recall: 0.880, F-Score: 0.873, Val loss: 0.315261751, Val Accuracy: 87.23% Total Time: 750.38s\n",
            "Epoch 28/100\n",
            "[On Training] ==> Time: 27.67s, Train Loss: 0.205164012, Train Accuracy: 93.19%\n",
            "[On Validation] ==> Precision: 0.867, Recall: 0.879, F-Score: 0.873, Val loss: 0.314538316, Val Accuracy: 87.23% Total Time: 778.05s\n",
            "Epoch 29/100\n",
            "[On Training] ==> Time: 27.71s, Train Loss: 0.200609383, Train Accuracy: 93.33%\n",
            "[On Validation] ==> Precision: 0.869, Recall: 0.879, F-Score: 0.874, Val loss: 0.313934955, Val Accuracy: 87.34% Total Time: 805.76s\n",
            "Epoch 30/100\n",
            "[On Training] ==> Time: 27.66s, Train Loss: 0.196239249, Train Accuracy: 93.53%\n",
            "[On Validation] ==> Precision: 0.870, Recall: 0.880, F-Score: 0.875, Val loss: 0.313447539, Val Accuracy: 87.45% Total Time: 833.42s\n",
            "Epoch 31/100\n",
            "[On Training] ==> Time: 27.67s, Train Loss: 0.192040013, Train Accuracy: 93.70%\n",
            "[On Validation] ==> Precision: 0.873, Recall: 0.886, F-Score: 0.879, Val loss: 0.313068014, Val Accuracy: 87.84% Total Time: 861.09s\n",
            "Epoch 32/100\n",
            "[On Training] ==> Time: 27.85s, Train Loss: 0.187998628, Train Accuracy: 93.86%\n",
            "[On Validation] ==> Precision: 0.874, Recall: 0.888, F-Score: 0.881, Val loss: 0.312787782, Val Accuracy: 88.01% Total Time: 888.94s\n",
            "Epoch 33/100\n",
            "[On Training] ==> Time: 27.68s, Train Loss: 0.184103908, Train Accuracy: 94.02%\n",
            "[On Validation] ==> Precision: 0.874, Recall: 0.888, F-Score: 0.881, Val loss: 0.312598195, Val Accuracy: 88.01% Total Time: 916.62s\n",
            "Epoch 34/100\n",
            "[On Training] ==> Time: 27.65s, Train Loss: 0.180345223, Train Accuracy: 94.14%\n",
            "[On Validation] ==> Precision: 0.877, Recall: 0.889, F-Score: 0.883, Val loss: 0.312490760, Val Accuracy: 88.23% Total Time: 944.27s\n",
            "Epoch 35/100\n",
            "[On Training] ==> Time: 27.70s, Train Loss: 0.176714010, Train Accuracy: 94.30%\n",
            "[On Validation] ==> Precision: 0.877, Recall: 0.888, F-Score: 0.883, Val loss: 0.312457038, Val Accuracy: 88.17% Total Time: 971.96s\n",
            "Epoch 36/100\n",
            "[On Training] ==> Time: 27.75s, Train Loss: 0.173201993, Train Accuracy: 94.40%\n",
            "[On Validation] ==> Precision: 0.876, Recall: 0.889, F-Score: 0.883, Val loss: 0.312494764, Val Accuracy: 88.17% Total Time: 999.72s\n",
            "Epoch 37/100\n",
            "[On Training] ==> Time: 27.86s, Train Loss: 0.169801864, Train Accuracy: 94.56%\n",
            "[On Validation] ==> Precision: 0.877, Recall: 0.888, F-Score: 0.883, Val loss: 0.312598547, Val Accuracy: 88.17% Total Time: 1027.58s\n",
            "Epoch 38/100\n",
            "[On Training] ==> Time: 27.71s, Train Loss: 0.166507290, Train Accuracy: 94.75%\n",
            "[On Validation] ==> Precision: 0.876, Recall: 0.888, F-Score: 0.882, Val loss: 0.312764798, Val Accuracy: 88.12% Total Time: 1055.28s\n",
            "Epoch 39/100\n",
            "[On Training] ==> Time: 27.67s, Train Loss: 0.163312633, Train Accuracy: 94.93%\n",
            "[On Validation] ==> Precision: 0.875, Recall: 0.888, F-Score: 0.882, Val loss: 0.312988502, Val Accuracy: 88.06% Total Time: 1082.95s\n",
            "Epoch 40/100\n",
            "[On Training] ==> Time: 27.66s, Train Loss: 0.160212834, Train Accuracy: 95.06%\n",
            "[On Validation] ==> Precision: 0.875, Recall: 0.889, F-Score: 0.882, Val loss: 0.313267442, Val Accuracy: 88.12% Total Time: 1110.61s\n",
            "Epoch 41/100\n",
            "[On Training] ==> Time: 27.66s, Train Loss: 0.157203116, Train Accuracy: 95.20%\n",
            "[On Validation] ==> Precision: 0.875, Recall: 0.888, F-Score: 0.882, Val loss: 0.313595507, Val Accuracy: 88.06% Total Time: 1138.27s\n",
            "Epoch 42/100\n",
            "[On Training] ==> Time: 27.71s, Train Loss: 0.154279013, Train Accuracy: 95.32%\n",
            "[On Validation] ==> Precision: 0.875, Recall: 0.889, F-Score: 0.882, Val loss: 0.313971270, Val Accuracy: 88.12% Total Time: 1165.98s\n",
            "Epoch 43/100\n",
            "[On Training] ==> Time: 27.84s, Train Loss: 0.151436400, Train Accuracy: 95.39%\n",
            "[On Validation] ==> Precision: 0.876, Recall: 0.888, F-Score: 0.882, Val loss: 0.314389554, Val Accuracy: 88.12% Total Time: 1193.82s\n",
            "Epoch 44/100\n",
            "[On Training] ==> Time: 27.70s, Train Loss: 0.148671873, Train Accuracy: 95.46%\n",
            "[On Validation] ==> Precision: 0.877, Recall: 0.890, F-Score: 0.883, Val loss: 0.314848574, Val Accuracy: 88.23% Total Time: 1221.52s\n",
            "Epoch 45/100\n",
            "[On Training] ==> Time: 27.65s, Train Loss: 0.145981942, Train Accuracy: 95.58%\n",
            "[On Validation] ==> Precision: 0.878, Recall: 0.892, F-Score: 0.885, Val loss: 0.315343938, Val Accuracy: 88.40% Total Time: 1249.18s\n",
            "Epoch 46/100\n",
            "[On Training] ==> Time: 27.72s, Train Loss: 0.143363193, Train Accuracy: 95.70%\n",
            "[On Validation] ==> Precision: 0.878, Recall: 0.893, F-Score: 0.886, Val loss: 0.315873991, Val Accuracy: 88.45% Total Time: 1276.89s\n",
            "Epoch 47/100\n",
            "[On Training] ==> Time: 27.64s, Train Loss: 0.140812571, Train Accuracy: 95.79%\n",
            "[On Validation] ==> Precision: 0.879, Recall: 0.893, F-Score: 0.886, Val loss: 0.316434008, Val Accuracy: 88.51% Total Time: 1304.53s\n",
            "Epoch 48/100\n",
            "[On Training] ==> Time: 27.96s, Train Loss: 0.138327466, Train Accuracy: 95.88%\n",
            "[On Validation] ==> Precision: 0.879, Recall: 0.895, F-Score: 0.887, Val loss: 0.317023468, Val Accuracy: 88.56% Total Time: 1332.50s\n",
            "Epoch 49/100\n",
            "[On Training] ==> Time: 27.66s, Train Loss: 0.135905055, Train Accuracy: 95.96%\n",
            "[On Validation] ==> Precision: 0.879, Recall: 0.893, F-Score: 0.886, Val loss: 0.317638931, Val Accuracy: 88.51% Total Time: 1360.16s\n",
            "Epoch 50/100\n",
            "[On Training] ==> Time: 27.70s, Train Loss: 0.133542822, Train Accuracy: 96.09%\n",
            "[On Validation] ==> Precision: 0.878, Recall: 0.891, F-Score: 0.884, Val loss: 0.318279241, Val Accuracy: 88.34% Total Time: 1387.86s\n",
            "Epoch 51/100\n",
            "[On Training] ==> Time: 27.69s, Train Loss: 0.131238528, Train Accuracy: 96.20%\n",
            "[On Validation] ==> Precision: 0.879, Recall: 0.891, F-Score: 0.885, Val loss: 0.318941102, Val Accuracy: 88.40% Total Time: 1415.55s\n",
            "Epoch 52/100\n",
            "[On Training] ==> Time: 27.65s, Train Loss: 0.128989777, Train Accuracy: 96.30%\n",
            "[On Validation] ==> Precision: 0.879, Recall: 0.890, F-Score: 0.885, Val loss: 0.319624065, Val Accuracy: 88.40% Total Time: 1443.20s\n",
            "Epoch 53/100\n",
            "[On Training] ==> Time: 27.64s, Train Loss: 0.126794719, Train Accuracy: 96.43%\n",
            "[On Validation] ==> Precision: 0.879, Recall: 0.890, F-Score: 0.885, Val loss: 0.320327767, Val Accuracy: 88.40% Total Time: 1470.84s\n",
            "Epoch 54/100\n",
            "[On Training] ==> Time: 27.86s, Train Loss: 0.124651422, Train Accuracy: 96.51%\n",
            "[On Validation] ==> Precision: 0.880, Recall: 0.890, F-Score: 0.885, Val loss: 0.321048729, Val Accuracy: 88.45% Total Time: 1498.70s\n",
            "Epoch 55/100\n",
            "[On Training] ==> Time: 27.74s, Train Loss: 0.122557916, Train Accuracy: 96.60%\n",
            "[On Validation] ==> Precision: 0.880, Recall: 0.890, F-Score: 0.885, Val loss: 0.321788295, Val Accuracy: 88.45% Total Time: 1526.44s\n",
            "Epoch 56/100\n",
            "[On Training] ==> Time: 27.66s, Train Loss: 0.120512775, Train Accuracy: 96.70%\n",
            "[On Validation] ==> Precision: 0.880, Recall: 0.890, F-Score: 0.885, Val loss: 0.322544681, Val Accuracy: 88.45% Total Time: 1554.10s\n",
            "Epoch 57/100\n",
            "[On Training] ==> Time: 27.72s, Train Loss: 0.118514067, Train Accuracy: 96.80%\n",
            "[On Validation] ==> Precision: 0.881, Recall: 0.889, F-Score: 0.885, Val loss: 0.323316535, Val Accuracy: 88.45% Total Time: 1581.82s\n",
            "Epoch 58/100\n",
            "[On Training] ==> Time: 27.70s, Train Loss: 0.116560717, Train Accuracy: 96.88%\n",
            "[On Validation] ==> Precision: 0.882, Recall: 0.889, F-Score: 0.886, Val loss: 0.324103383, Val Accuracy: 88.51% Total Time: 1609.52s\n",
            "Epoch 59/100\n",
            "[On Training] ==> Time: 28.04s, Train Loss: 0.114651220, Train Accuracy: 96.96%\n",
            "[On Validation] ==> Precision: 0.881, Recall: 0.890, F-Score: 0.886, Val loss: 0.324904575, Val Accuracy: 88.51% Total Time: 1637.56s\n",
            "Epoch 60/100\n",
            "[On Training] ==> Time: 27.70s, Train Loss: 0.112784434, Train Accuracy: 97.07%\n",
            "[On Validation] ==> Precision: 0.881, Recall: 0.890, F-Score: 0.886, Val loss: 0.325718445, Val Accuracy: 88.51% Total Time: 1665.26s\n",
            "Epoch 61/100\n",
            "[On Training] ==> Time: 27.67s, Train Loss: 0.110958926, Train Accuracy: 97.15%\n",
            "[On Validation] ==> Precision: 0.880, Recall: 0.891, F-Score: 0.886, Val loss: 0.326546123, Val Accuracy: 88.51% Total Time: 1692.93s\n",
            "Epoch 62/100\n",
            "[On Training] ==> Time: 27.71s, Train Loss: 0.109173374, Train Accuracy: 97.22%\n",
            "[On Validation] ==> Precision: 0.879, Recall: 0.891, F-Score: 0.885, Val loss: 0.327385113, Val Accuracy: 88.40% Total Time: 1720.64s\n",
            "Epoch 63/100\n",
            "[On Training] ==> Time: 27.70s, Train Loss: 0.107426751, Train Accuracy: 97.30%\n",
            "[On Validation] ==> Precision: 0.878, Recall: 0.890, F-Score: 0.884, Val loss: 0.328234062, Val Accuracy: 88.34% Total Time: 1748.34s\n",
            "Epoch 64/100\n",
            "[On Training] ==> Time: 27.71s, Train Loss: 0.105717771, Train Accuracy: 97.38%\n",
            "[On Validation] ==> Precision: 0.878, Recall: 0.889, F-Score: 0.884, Val loss: 0.329095162, Val Accuracy: 88.28% Total Time: 1776.05s\n",
            "Epoch 65/100\n",
            "[On Training] ==> Time: 27.83s, Train Loss: 0.104045160, Train Accuracy: 97.45%\n",
            "[On Validation] ==> Precision: 0.878, Recall: 0.889, F-Score: 0.884, Val loss: 0.329965484, Val Accuracy: 88.28% Total Time: 1803.89s\n",
            "Epoch 66/100\n",
            "[On Training] ==> Time: 27.72s, Train Loss: 0.102408179, Train Accuracy: 97.52%\n",
            "[On Validation] ==> Precision: 0.879, Recall: 0.889, F-Score: 0.884, Val loss: 0.330843981, Val Accuracy: 88.34% Total Time: 1831.61s\n",
            "Epoch 67/100\n",
            "[On Training] ==> Time: 27.66s, Train Loss: 0.100805509, Train Accuracy: 97.55%\n",
            "[On Validation] ==> Precision: 0.879, Recall: 0.889, F-Score: 0.884, Val loss: 0.331730513, Val Accuracy: 88.34% Total Time: 1859.27s\n",
            "Epoch 68/100\n",
            "[On Training] ==> Time: 27.75s, Train Loss: 0.099236476, Train Accuracy: 97.59%\n",
            "[On Validation] ==> Precision: 0.878, Recall: 0.889, F-Score: 0.884, Val loss: 0.332626747, Val Accuracy: 88.28% Total Time: 1887.01s\n",
            "Epoch 69/100\n",
            "[On Training] ==> Time: 27.69s, Train Loss: 0.097699922, Train Accuracy: 97.67%\n",
            "[On Validation] ==> Precision: 0.878, Recall: 0.890, F-Score: 0.884, Val loss: 0.333528354, Val Accuracy: 88.34% Total Time: 1914.71s\n",
            "Epoch 70/100\n",
            "[On Training] ==> Time: 27.97s, Train Loss: 0.096194951, Train Accuracy: 97.73%\n",
            "[On Validation] ==> Precision: 0.878, Recall: 0.890, F-Score: 0.884, Val loss: 0.334439441, Val Accuracy: 88.34% Total Time: 1942.68s\n",
            "Epoch 71/100\n",
            "[On Training] ==> Time: 27.68s, Train Loss: 0.094721030, Train Accuracy: 97.79%\n",
            "[On Validation] ==> Precision: 0.877, Recall: 0.890, F-Score: 0.884, Val loss: 0.335355496, Val Accuracy: 88.28% Total Time: 1970.35s\n",
            "Epoch 72/100\n",
            "[On Training] ==> Time: 27.72s, Train Loss: 0.093277011, Train Accuracy: 97.87%\n",
            "[On Validation] ==> Precision: 0.878, Recall: 0.890, F-Score: 0.884, Val loss: 0.336280089, Val Accuracy: 88.34% Total Time: 1998.07s\n",
            "Epoch 73/100\n",
            "[On Training] ==> Time: 27.68s, Train Loss: 0.091862149, Train Accuracy: 97.94%\n",
            "[On Validation] ==> Precision: 0.878, Recall: 0.890, F-Score: 0.884, Val loss: 0.337210102, Val Accuracy: 88.34% Total Time: 2025.75s\n",
            "Epoch 74/100\n",
            "[On Training] ==> Time: 27.69s, Train Loss: 0.090475713, Train Accuracy: 98.00%\n",
            "[On Validation] ==> Precision: 0.878, Recall: 0.888, F-Score: 0.883, Val loss: 0.338145057, Val Accuracy: 88.23% Total Time: 2053.44s\n",
            "Epoch 75/100\n",
            "[On Training] ==> Time: 27.69s, Train Loss: 0.089116937, Train Accuracy: 98.07%\n",
            "[On Validation] ==> Precision: 0.878, Recall: 0.888, F-Score: 0.883, Val loss: 0.339084983, Val Accuracy: 88.23% Total Time: 2081.13s\n",
            "Epoch 76/100\n",
            "[On Training] ==> Time: 27.88s, Train Loss: 0.087784825, Train Accuracy: 98.12%\n",
            "[On Validation] ==> Precision: 0.877, Recall: 0.888, F-Score: 0.883, Val loss: 0.340032132, Val Accuracy: 88.17% Total Time: 2109.01s\n",
            "Epoch 77/100\n",
            "[On Training] ==> Time: 27.74s, Train Loss: 0.086479056, Train Accuracy: 98.17%\n",
            "[On Validation] ==> Precision: 0.877, Recall: 0.888, F-Score: 0.883, Val loss: 0.340983528, Val Accuracy: 88.17% Total Time: 2136.75s\n",
            "Epoch 78/100\n",
            "[On Training] ==> Time: 27.71s, Train Loss: 0.085198623, Train Accuracy: 98.23%\n",
            "[On Validation] ==> Precision: 0.876, Recall: 0.887, F-Score: 0.881, Val loss: 0.341940508, Val Accuracy: 88.06% Total Time: 2164.47s\n",
            "Epoch 79/100\n",
            "[On Training] ==> Time: 27.72s, Train Loss: 0.083942922, Train Accuracy: 98.25%\n",
            "[On Validation] ==> Precision: 0.876, Recall: 0.887, F-Score: 0.881, Val loss: 0.342901505, Val Accuracy: 88.06% Total Time: 2192.18s\n",
            "Epoch 80/100\n",
            "[On Training] ==> Time: 27.75s, Train Loss: 0.082711237, Train Accuracy: 98.30%\n",
            "[On Validation] ==> Precision: 0.876, Recall: 0.887, F-Score: 0.881, Val loss: 0.343866867, Val Accuracy: 88.06% Total Time: 2219.93s\n",
            "Epoch 81/100\n",
            "[On Training] ==> Time: 28.02s, Train Loss: 0.081503193, Train Accuracy: 98.35%\n",
            "[On Validation] ==> Precision: 0.877, Recall: 0.887, F-Score: 0.882, Val loss: 0.344837765, Val Accuracy: 88.12% Total Time: 2247.96s\n",
            "Epoch 82/100\n",
            "[On Training] ==> Time: 27.72s, Train Loss: 0.080318096, Train Accuracy: 98.41%\n",
            "[On Validation] ==> Precision: 0.877, Recall: 0.886, F-Score: 0.881, Val loss: 0.345813252, Val Accuracy: 88.06% Total Time: 2275.68s\n",
            "Epoch 83/100\n",
            "[On Training] ==> Time: 27.74s, Train Loss: 0.079155110, Train Accuracy: 98.46%\n",
            "[On Validation] ==> Precision: 0.878, Recall: 0.886, F-Score: 0.882, Val loss: 0.346791454, Val Accuracy: 88.12% Total Time: 2303.41s\n",
            "Epoch 84/100\n",
            "[On Training] ==> Time: 27.71s, Train Loss: 0.078013775, Train Accuracy: 98.49%\n",
            "[On Validation] ==> Precision: 0.879, Recall: 0.886, F-Score: 0.882, Val loss: 0.347776524, Val Accuracy: 88.17% Total Time: 2331.13s\n",
            "Epoch 85/100\n",
            "[On Training] ==> Time: 27.78s, Train Loss: 0.076893724, Train Accuracy: 98.54%\n",
            "[On Validation] ==> Precision: 0.879, Recall: 0.886, F-Score: 0.882, Val loss: 0.348763135, Val Accuracy: 88.17% Total Time: 2358.90s\n",
            "Epoch 86/100\n",
            "[On Training] ==> Time: 27.72s, Train Loss: 0.075794243, Train Accuracy: 98.56%\n",
            "[On Validation] ==> Precision: 0.879, Recall: 0.886, F-Score: 0.882, Val loss: 0.349757315, Val Accuracy: 88.17% Total Time: 2386.63s\n",
            "Epoch 87/100\n",
            "[On Training] ==> Time: 27.92s, Train Loss: 0.074715109, Train Accuracy: 98.57%\n",
            "[On Validation] ==> Precision: 0.879, Recall: 0.886, F-Score: 0.882, Val loss: 0.350754946, Val Accuracy: 88.17% Total Time: 2414.55s\n",
            "Epoch 88/100\n",
            "[On Training] ==> Time: 27.73s, Train Loss: 0.073655557, Train Accuracy: 98.60%\n",
            "[On Validation] ==> Precision: 0.879, Recall: 0.886, F-Score: 0.882, Val loss: 0.351756170, Val Accuracy: 88.17% Total Time: 2442.28s\n",
            "Epoch 89/100\n",
            "[On Training] ==> Time: 27.72s, Train Loss: 0.072615198, Train Accuracy: 98.64%\n",
            "[On Validation] ==> Precision: 0.879, Recall: 0.886, F-Score: 0.882, Val loss: 0.352764714, Val Accuracy: 88.17% Total Time: 2469.99s\n",
            "Epoch 90/100\n",
            "[On Training] ==> Time: 27.75s, Train Loss: 0.071594035, Train Accuracy: 98.68%\n",
            "[On Validation] ==> Precision: 0.878, Recall: 0.886, F-Score: 0.882, Val loss: 0.353776136, Val Accuracy: 88.12% Total Time: 2497.74s\n",
            "Epoch 91/100\n",
            "[On Training] ==> Time: 27.71s, Train Loss: 0.070591061, Train Accuracy: 98.71%\n",
            "[On Validation] ==> Precision: 0.878, Recall: 0.886, F-Score: 0.882, Val loss: 0.354792484, Val Accuracy: 88.12% Total Time: 2525.45s\n",
            "Epoch 92/100\n",
            "[On Training] ==> Time: 27.73s, Train Loss: 0.069606239, Train Accuracy: 98.71%\n",
            "[On Validation] ==> Precision: 0.877, Recall: 0.886, F-Score: 0.881, Val loss: 0.355812862, Val Accuracy: 88.06% Total Time: 2553.18s\n",
            "Epoch 93/100\n",
            "[On Training] ==> Time: 27.96s, Train Loss: 0.068639224, Train Accuracy: 98.74%\n",
            "[On Validation] ==> Precision: 0.876, Recall: 0.885, F-Score: 0.880, Val loss: 0.356838863, Val Accuracy: 87.95% Total Time: 2581.13s\n",
            "Epoch 94/100\n",
            "[On Training] ==> Time: 27.77s, Train Loss: 0.067689715, Train Accuracy: 98.78%\n",
            "[On Validation] ==> Precision: 0.875, Recall: 0.885, F-Score: 0.880, Val loss: 0.357867815, Val Accuracy: 87.90% Total Time: 2608.91s\n",
            "Epoch 95/100\n",
            "[On Training] ==> Time: 27.72s, Train Loss: 0.066757279, Train Accuracy: 98.80%\n",
            "[On Validation] ==> Precision: 0.875, Recall: 0.885, F-Score: 0.880, Val loss: 0.358902240, Val Accuracy: 87.90% Total Time: 2636.63s\n",
            "Epoch 96/100\n",
            "[On Training] ==> Time: 27.72s, Train Loss: 0.065841827, Train Accuracy: 98.83%\n",
            "[On Validation] ==> Precision: 0.876, Recall: 0.883, F-Score: 0.880, Val loss: 0.359940609, Val Accuracy: 87.90% Total Time: 2664.35s\n",
            "Epoch 97/100\n",
            "[On Training] ==> Time: 27.74s, Train Loss: 0.064942611, Train Accuracy: 98.85%\n",
            "[On Validation] ==> Precision: 0.876, Recall: 0.883, F-Score: 0.880, Val loss: 0.360986579, Val Accuracy: 87.90% Total Time: 2692.08s\n",
            "Epoch 98/100\n",
            "[On Training] ==> Time: 27.94s, Train Loss: 0.064060199, Train Accuracy: 98.88%\n",
            "[On Validation] ==> Precision: 0.876, Recall: 0.885, F-Score: 0.880, Val loss: 0.362036888, Val Accuracy: 87.95% Total Time: 2720.02s\n",
            "Epoch 99/100\n",
            "[On Training] ==> Time: 27.74s, Train Loss: 0.063193573, Train Accuracy: 98.89%\n",
            "[On Validation] ==> Precision: 0.876, Recall: 0.885, F-Score: 0.880, Val loss: 0.363094744, Val Accuracy: 87.95% Total Time: 2747.77s\n",
            "Epoch 100/100\n",
            "[On Training] ==> Time: 27.70s, Train Loss: 0.062342826, Train Accuracy: 98.91%\n",
            "[On Validation] ==> Precision: 0.876, Recall: 0.883, F-Score: 0.880, Val loss: 0.364157003, Val Accuracy: 87.90% Total Time: 2775.47s\n"
          ],
          "name": "stdout"
        }
      ]
    },
    {
      "metadata": {
        "id": "RsIuCobJmOel",
        "colab_type": "code",
        "outputId": "bb98b98e-0803-4485-e9df-82413fcd1ecd",
        "colab": {
          "base_uri": "https://localhost:8080/",
          "height": 34
        }
      },
      "cell_type": "code",
      "source": [
        "gc.collect()\n",
        "np.mean(np.array(f_score)), np.mean(np.array(precision)), np.mean(np.array(recall)), np.mean(np.array(val_accuracy))"
      ],
      "execution_count": 48,
      "outputs": [
        {
          "output_type": "execute_result",
          "data": {
            "text/plain": [
              "(0.8721428020609605, 0.8691031582779319, 0.8767924528301887, 87.89561354802888)"
            ]
          },
          "metadata": {
            "tags": []
          },
          "execution_count": 48
        }
      ]
    },
    {
      "metadata": {
        "id": "FDUyFfwmXSew",
        "colab_type": "code",
        "outputId": "d1d5a605-ec16-4675-d1ff-05e808f3d8d0",
        "colab": {
          "base_uri": "https://localhost:8080/",
          "height": 379
        }
      },
      "cell_type": "code",
      "source": [
        "import matplotlib.pyplot as plt\n",
        "plt.figure(\"Image\")\n",
        "plt.title(\"Loss vs Epoch\")\n",
        "val_loss_history_plt =  [float(i)/sum(val_loss_history) for i in val_loss_history] # normalised between 0-1\n",
        "train_loss_history_plt =  [float(i)/sum(train_loss_history) for i in train_loss_history] # normalised between 0-1\n",
        "f_score_plt = [float(i)/sum(f_score) for i in f_score] # normalised between 0-1\n",
        "plt.plot(val_loss_history_plt, c=\"red\", label=\"Validation Loss\")\n",
        "plt.plot(train_loss_history_plt, c=\"blue\", label = \"Training Loss\")\n",
        "plt.plot(f_score_plt, c=\"green\", label = \"F-Score\")\n",
        "plt.legend()"
      ],
      "execution_count": 46,
      "outputs": [
        {
          "output_type": "execute_result",
          "data": {
            "text/plain": [
              "<matplotlib.legend.Legend at 0x7f535a62fdd8>"
            ]
          },
          "metadata": {
            "tags": []
          },
          "execution_count": 46
        },
        {
          "output_type": "display_data",
          "data": {
            "image/png": "[encoded data removed]",
            "text/plain": [
              "<Figure size 576x396 with 1 Axes>"
            ]
          },
          "metadata": {
            "tags": []
          }
        }
      ]
    },
    {
      "metadata": {
        "id": "gPf_k4VNuaDi",
        "colab_type": "code",
        "colab": {}
      },
      "cell_type": "code",
      "source": [
        "# for param in bow.parameters(): # desc the parameter value\n",
        "#     print(param,param.size())\n",
        "# print ()\n",
        "# for param in stop_bow.parameters(): # desc the parameter value\n",
        "#     print(param,param.size())\n",
        "# print()\n",
        "# for param in more_bow.parameters(): # desc the parameter value\n",
        "#     print(param,param.size())    "
      ],
      "execution_count": 0,
      "outputs": []
    },
    {
      "metadata": {
        "id": "fkYBaktsF-sm",
        "colab_type": "code",
        "colab": {}
      },
      "cell_type": "code",
      "source": [
        "data = []\n",
        "data = [Variable(make_bow_vector(instance, word_to_ix)).to('cuda:0') for instance in test_text_reviews]"
      ],
      "execution_count": 0,
      "outputs": []
    },
    {
      "metadata": {
        "id": "ffYv5PAmjyp-",
        "colab_type": "code",
        "outputId": "22e349f5-319f-4bb0-9d38-a284b0b92668",
        "colab": {
          "base_uri": "https://localhost:8080/",
          "height": 51
        }
      },
      "cell_type": "code",
      "source": [
        "print('--- AFTER TRAINING ---')\n",
        "correct = 0\n",
        "tic = time.time()\n",
        "for i, instance in enumerate(data):\n",
        "    label = test_text_labels[i]\n",
        "    pred = bow.forward(instance)\n",
        "#     pred = more_bow.forward(instance)\n",
        "#     pred = stop_bow.forward(instance)\n",
        "    pred_class = 1 if pred.item() > 0.5 else 0 # sigmoid activated\n",
        "    \n",
        "    if(int(label) == pred_class):\n",
        "        correct += 1\n",
        "toc = time.time()\n",
        "print(\"Time: {}, Test Accuracy: {:.2f}%\".format((toc-tic), correct*100/len(data)))"
      ],
      "execution_count": 43,
      "outputs": [
        {
          "output_type": "stream",
          "text": [
            "--- AFTER TRAINING ---\n",
            "Time: 2.3347599506378174, Test Accuracy: 88.00%\n"
          ],
          "name": "stdout"
        }
      ]
    },
    {
      "metadata": {
        "id": "uHAvtGWbudLN",
        "colab_type": "code",
        "outputId": "edfd00f1-006e-46e3-8452-77cf0f952351",
        "colab": {
          "base_uri": "https://localhost:8080/",
          "height": 71
        }
      },
      "cell_type": "code",
      "source": [
        "torch.save(bow, 'Task1A.mdl')\n",
        "\n",
        "from google.colab import files\n",
        "files.download(\"Task1A.mdl\")"
      ],
      "execution_count": 44,
      "outputs": [
        {
          "output_type": "stream",
          "text": [
            "/usr/local/lib/python3.6/dist-packages/torch/serialization.py:251: UserWarning: Couldn't retrieve source code for container of type BOWClassifier. It won't be checked for correctness upon loading.\n",
            "  \"type \" + obj.__name__ + \". It won't be checked \"\n"
          ],
          "name": "stderr"
        }
      ]
    },
    {
      "metadata": {
        "id": "0VkVoMzMUdeh",
        "colab_type": "code",
        "colab": {}
      },
      "cell_type": "code",
      "source": [
        "np.save('vocab.npy', word_to_ix)\n",
        "\n",
        "from google.colab import files\n",
        "files.download(\"vocab.npy\")"
      ],
      "execution_count": 0,
      "outputs": []
    },
    {
      "metadata": {
        "id": "Zz5PwYjVudEk",
        "colab_type": "code",
        "outputId": "4af3e550-1c3f-4d0b-c907-050712aece2b",
        "colab": {
          "resources": {
            "http://localhost:8080/nbextensions/google.colab/files.js": {
              "data": "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",
              "ok": true,
              "headers": [
                [
                  "content-type",
                  "application/javascript"
                ]
              ],
              "status": 200,
              "status_text": ""
            }
          },
          "base_uri": "https://localhost:8080/",
          "height": 40
        }
      },
      "cell_type": "code",
      "source": [
        "from google.colab import files\n",
        "temp_test = files.upload()"
      ],
      "execution_count": 45,
      "outputs": [
        {
          "output_type": "display_data",
          "data": {
            "text/html": [
              "\n",
              "     <input type=\"file\" id=\"files-3b0f6017-260d-485f-94c5-e7c808f9bf0c\" name=\"files[]\" multiple disabled />\n",
              "     <output id=\"result-3b0f6017-260d-485f-94c5-e7c808f9bf0c\">\n",
              "      Upload widget is only available when the cell has been executed in the\n",
              "      current browser session. Please rerun this cell to enable.\n",
              "      </output>\n",
              "      <script src=\"/nbextensions/google.colab/files.js\"></script> "
            ],
            "text/plain": [
              "<IPython.core.display.HTML object>"
            ]
          },
          "metadata": {
            "tags": []
          }
        }
      ]
    },
    {
      "metadata": {
        "id": "29twCfxpuc8r",
        "colab_type": "code",
        "colab": {}
      },
      "cell_type": "code",
      "source": [
        "_model_ = torch.load(io.BytesIO(temp_test['Task1A.mdl']))"
      ],
      "execution_count": 0,
      "outputs": []
    },
    {
      "metadata": {
        "id": "Ixy30WkrH3_-",
        "colab_type": "code",
        "outputId": "38c445b3-70f5-45b7-f5fc-a98fd76df239",
        "colab": {
          "base_uri": "https://localhost:8080/",
          "height": 476
        }
      },
      "cell_type": "code",
      "source": [
        "for params in _model_.parameters():\n",
        "    print (params)"
      ],
      "execution_count": 0,
      "outputs": [
        {
          "output_type": "stream",
          "text": [
            "Parameter containing:\n",
            "tensor([[ 0.0261,  0.0221,  0.0165,  ..., -0.0042, -0.0004, -0.0055],\n",
            "        [ 0.0266,  0.0270,  0.0171,  ..., -0.0006, -0.0056,  0.0031],\n",
            "        [ 0.0152,  0.0111,  0.0046,  ..., -0.0007,  0.0044,  0.0056],\n",
            "        ...,\n",
            "        [ 0.0340,  0.0254,  0.0204,  ...,  0.0040,  0.0004, -0.0002],\n",
            "        [ 0.0323,  0.0227,  0.0225,  ..., -0.0038, -0.0009,  0.0004],\n",
            "        [ 0.0352,  0.0154,  0.0106,  ...,  0.0023, -0.0001,  0.0027]],\n",
            "       device='cuda:0', requires_grad=True)\n",
            "Parameter containing:\n",
            "tensor([ 0.0355,  0.0442,  0.0223,  0.0447,  0.0201,  0.0354,  0.0306,  0.0417,\n",
            "         0.0565,  0.0647,  0.0215,  0.0432,  0.0580,  0.0563,  0.0606,  0.0675,\n",
            "         0.0388,  0.0760,  0.0272,  0.0324, -0.0007,  0.0737,  0.0119,  0.0335,\n",
            "         0.0316,  0.0209,  0.0557,  0.0693,  0.0163,  0.0389,  0.0016,  0.0559,\n",
            "         0.0609,  0.0391,  0.0114,  0.0536,  0.0292,  0.0587,  0.0381,  0.0036,\n",
            "         0.0454,  0.0594,  0.0273,  0.0265,  0.0096,  0.0742,  0.0530,  0.0476,\n",
            "         0.0559,  0.0517], device='cuda:0', requires_grad=True)\n",
            "Parameter containing:\n",
            "tensor([[-0.5615,  0.6852, -0.2882,  0.7626,  0.2254,  0.5352, -0.4892, -0.6133,\n",
            "          1.0005, -0.9908,  0.3702,  0.7004, -0.8739,  0.9629,  1.0271, -1.0576,\n",
            "          0.6003, -1.1655,  0.5059, -0.4314, -0.0098, -1.1250, -0.1615,  0.6162,\n",
            "          0.5057,  0.3194,  1.0106, -0.9704,  0.3083,  0.5165,  0.0655, -0.9062,\n",
            "         -0.9707, -0.5013, -0.1331,  0.8262,  0.4815,  1.0114,  0.7084, -0.0698,\n",
            "         -0.7600, -0.9379,  0.4303,  0.3599, -0.0572, -1.0431,  0.8399,  0.8347,\n",
            "         -0.8567,  0.7620]], device='cuda:0', requires_grad=True)\n",
            "Parameter containing:\n",
            "tensor([0.0355], device='cuda:0', requires_grad=True)\n"
          ],
          "name": "stdout"
        }
      ]
    },
    {
      "metadata": {
        "id": "Ub0HKgL8H37z",
        "colab_type": "code",
        "colab": {}
      },
      "cell_type": "code",
      "source": [
        ""
      ],
      "execution_count": 0,
      "outputs": []
    },
    {
      "metadata": {
        "id": "lCraW41hH32S",
        "colab_type": "code",
        "colab": {}
      },
      "cell_type": "code",
      "source": [
        ""
      ],
      "execution_count": 0,
      "outputs": []
    },
    {
      "metadata": {
        "id": "mhftDt1DH3x6",
        "colab_type": "code",
        "colab": {}
      },
      "cell_type": "code",
      "source": [
        ""
      ],
      "execution_count": 0,
      "outputs": []
    },
    {
      "metadata": {
        "id": "kE_TcX1KH3tQ",
        "colab_type": "code",
        "colab": {}
      },
      "cell_type": "code",
      "source": [
        ""
      ],
      "execution_count": 0,
      "outputs": []
    },
    {
      "metadata": {
        "id": "T60wqxmoH3Zl",
        "colab_type": "code",
        "colab": {}
      },
      "cell_type": "code",
      "source": [
        ""
      ],
      "execution_count": 0,
      "outputs": []
    }
  ]
}
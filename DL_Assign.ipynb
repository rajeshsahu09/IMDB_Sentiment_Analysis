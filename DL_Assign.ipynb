{
  "nbformat": 4,
  "nbformat_minor": 0,
  "metadata": {
    "colab": {
      "name": "DL_Assign.ipynb",
      "version": "0.3.2",
      "provenance": [],
      "collapsed_sections": [],
      "toc_visible": true,
      "include_colab_link": true
    },
    "kernelspec": {
      "name": "python3",
      "display_name": "Python 3"
    },
    "accelerator": "GPU"
  },
  "cells": [
    {
      "cell_type": "markdown",
      "metadata": {
        "id": "view-in-github",
        "colab_type": "text"
      },
      "source": [
        "<a href=\"https://colab.research.google.com/github/rajeshsahu09/CS69002_9A_18CS60R19/blob/master/DL_Assign.ipynb\" target=\"_parent\"><img src=\"https://colab.research.google.com/assets/colab-badge.svg\" alt=\"Open In Colab\"/></a>"
      ]
    },
    {
      "metadata": {
        "id": "wuB0HM37teAc",
        "colab_type": "text"
      },
      "cell_type": "markdown",
      "source": [
        "# Movie Review Sentiment Analysis"
      ]
    },
    {
      "metadata": {
        "id": "_NV6CE-qtvGO",
        "colab_type": "text"
      },
      "cell_type": "markdown",
      "source": [
        "### Import Header Files"
      ]
    },
    {
      "metadata": {
        "id": "WE7OEcPOtzJf",
        "colab_type": "code",
        "colab": {}
      },
      "cell_type": "code",
      "source": [
        "import torch\n",
        "import pandas as pd\n",
        "import numpy as np\n",
        "import io"
      ],
      "execution_count": 0,
      "outputs": []
    },
    {
      "metadata": {
        "id": "v4037ccUuFFp",
        "colab_type": "text"
      },
      "cell_type": "markdown",
      "source": [
        "### Load the Dataset and Visualise"
      ]
    },
    {
      "metadata": {
        "id": "EhWFepP2t3eA",
        "colab_type": "code",
        "colab": {}
      },
      "cell_type": "code",
      "source": [
        "# from google.colab import files\n",
        "# uploaded = files.upload()\n",
        "\n",
        "# import io\n",
        "# df_train = pd.read_csv(io.StringIO(uploaded['Train_20K.csv'].decode('utf-8')), sep='\\t')\n",
        "# df_train.head()\n",
        "url = \"https://raw.githubusercontent.com/rajeshsahu09/CS69002_9A_18CS60R19/master/Dataset/Train_20K.csv?token=As1EmI0GPOj5OpjYAlhWRT6mMktHzaPPks5cn6hxwA%3D%3D\"\n",
        "df_train = pd.read_csv(url, sep='\\t')"
      ],
      "execution_count": 0,
      "outputs": []
    },
    {
      "metadata": {
        "id": "T9FBTqABuRlO",
        "colab_type": "code",
        "colab": {}
      },
      "cell_type": "code",
      "source": [
        "# from google.colab import files\n",
        "# uploaded = files.upload()\n",
        "\n",
        "# import io\n",
        "# df_val = pd.read_csv(io.StringIO(uploaded['check.csv'].decode('utf-8')), sep='\\t')\n",
        "# df_val.head()\n",
        "url = \"https://raw.githubusercontent.com/rajeshsahu09/CS69002_9A_18CS60R19/master/Dataset/check.csv?token=As1EmE_KgnB6UgrlOw1DW1N_E45ndWMMks5cn6jdwA%3D%3D\"\n",
        "df_val = pd.read_csv(url, sep='\\t')"
      ],
      "execution_count": 0,
      "outputs": []
    },
    {
      "metadata": {
        "id": "uuZxOMpkQoka",
        "colab_type": "code",
        "colab": {}
      },
      "cell_type": "code",
      "source": [
        "# from google.colab import files\n",
        "# uploaded = files.upload()\n",
        "\n",
        "# import io\n",
        "# df_test = pd.read_csv(io.StringIO(uploaded['Test_5K.csv'].decode('utf-8')), sep='\\t')\n",
        "# df_test.head()\n",
        "url = \"https://raw.githubusercontent.com/rajeshsahu09/CS69002_9A_18CS60R19/master/Dataset/Test_5K.csv?token=As1EmIN_Eayhyyb4Mc_XXDoSdtSV9t-Dks5cn6kKwA%3D%3D\"\n",
        "df_test = pd.read_csv(url, sep='\\t')"
      ],
      "execution_count": 0,
      "outputs": []
    },
    {
      "metadata": {
        "id": "0WFB1TtsxD3F",
        "colab_type": "code",
        "outputId": "f024c580-3ac2-4a4f-eefc-a70446067601",
        "colab": {
          "base_uri": "https://localhost:8080/",
          "height": 68
        }
      },
      "cell_type": "code",
      "source": [
        "print('Number of Negative movie reviews', len(df_train[df_train['label']==0]))\n",
        "print('Number of Positive movie reviews', len(df_train[df_train['label']==1]))\n",
        "print('Number of movie reviews', len(df_train['label']))"
      ],
      "execution_count": 393,
      "outputs": [
        {
          "output_type": "stream",
          "text": [
            "Number of Negative movie reviews 8994\n",
            "Number of Positive movie reviews 9005\n",
            "Number of movie reviews 17999\n"
          ],
          "name": "stdout"
        }
      ]
    },
    {
      "metadata": {
        "id": "TVzhPcGGxf2-",
        "colab_type": "text"
      },
      "cell_type": "markdown",
      "source": [
        "## Data pre-processing"
      ]
    },
    {
      "metadata": {
        "id": "u-8IR64TKH0F",
        "colab_type": "text"
      },
      "cell_type": "markdown",
      "source": [
        "### Train"
      ]
    },
    {
      "metadata": {
        "id": "JprKnOXgxXkE",
        "colab_type": "code",
        "outputId": "430e9149-2987-49be-94fb-af1521db95ba",
        "colab": {
          "base_uri": "https://localhost:8080/",
          "height": 71
        }
      },
      "cell_type": "code",
      "source": [
        "train_raw_text_reviews = df_train['text'].astype(str).tolist()\n",
        "len(train_raw_text_reviews), train_raw_text_reviews[-2]"
      ],
      "execution_count": 394,
      "outputs": [
        {
          "output_type": "execute_result",
          "data": {
            "text/plain": [
              "(17999,\n",
              " 'Anyone notice that Tommy only has 3 facial expressions.<br /><br />1. The angry eyes look he gives every enemy. 2. The holding of the hands to face, mouth agape and frightened eyes. 3. The smiling Tommy Turnbull.<br /><br />I have to say that i pretty much hate this show, i don\\'t watch it but it\\'s like Code Lyoko, we\\'ve all watched at least one, i must say that this show is borderline racist, uninteresting and pointless.<br /><br />every episode ends with robotboy winning, except for one exception when robotboy basically let this overly geeky freakazoid fly away on a jetpack.<br /><br />The jokes are pretty crude too, i think it\\'s mostly people saying the word \"Suck\" or farting, i think the bullies of the show are quite shocking too.<br /><br />Isn\\'t there one that hides a bowling ball under his hate, and the other uses a chain, for god sake, what kind of school is he going to. Not to mention his older brother, who is borderline psychopathic and has no other character qualities.<br /><br />The whole show i feel is ripping off megas XLR and Fosters. Like you could say the trio of coop, jamie and Kiva, as well as Robotboy being similar to Megas where he beats everyone no matter what the odds and he\\'s free spirited despite being a robot.<br /><br />There is simply no appeal to this show, i\\'m surprised that it\\'s still running.')"
            ]
          },
          "metadata": {
            "tags": []
          },
          "execution_count": 394
        }
      ]
    },
    {
      "metadata": {
        "id": "6pyMLy0NyHVx",
        "colab_type": "code",
        "outputId": "696a9db6-8953-4eb3-ec3d-cee2891a8d12",
        "colab": {
          "base_uri": "https://localhost:8080/",
          "height": 34
        }
      },
      "cell_type": "code",
      "source": [
        "train_text_labels = df_train['label'].astype(int)\n",
        "len(train_text_labels), train_text_labels[len(train_text_labels)-2]"
      ],
      "execution_count": 395,
      "outputs": [
        {
          "output_type": "execute_result",
          "data": {
            "text/plain": [
              "(17999, 0)"
            ]
          },
          "metadata": {
            "tags": []
          },
          "execution_count": 395
        }
      ]
    },
    {
      "metadata": {
        "id": "TwU4zROpKLdQ",
        "colab_type": "text"
      },
      "cell_type": "markdown",
      "source": [
        "### Validation"
      ]
    },
    {
      "metadata": {
        "id": "7TsL1ACWJ_3V",
        "colab_type": "code",
        "colab": {
          "base_uri": "https://localhost:8080/",
          "height": 71
        },
        "outputId": "a44a33f4-816d-4489-83ae-fb1d2d32214a"
      },
      "cell_type": "code",
      "source": [
        "val_raw_text_reviews = df_val['text'].astype(str).tolist()\n",
        "len(val_raw_text_reviews), val_raw_text_reviews[-2]"
      ],
      "execution_count": 396,
      "outputs": [
        {
          "output_type": "execute_result",
          "data": {
            "text/plain": [
              "(499,\n",
              " \"This movie starts out brisk, has some slow moments in the middle, but generally moves along well, has a few very good moments, then peters out at the end of Act 3. I was able to get to see this in LA premieres 2 times (with 2 different endings). Jason Lee is a star, but he is not tomorrows leading man. He is humorous and holds his own, but he is better served as a supporting actor. Julia Stiles does 'ok' in a comedy role, new for her, but she doesn't 'steal' this movie, the way a star of her caliber should. For an actress who has so much potential(10 Things, Save the Last Dance, O), it is hard to watch her continue to do roles that are so 'average', and then not have her take the role and run away with the movie (like Daniel Day-Lewis did in 'Gangs'). Selma Blair is a good young actress as well, and does an 'ok' job. I didn't expect an academy award performance from her, and she didn't deliver one, but, her performance was adequate. Chris Koch delivers another film that is 'above average'. Perhaps the problem lies in the script more than anything else. I 'did' like this movie! But, it is not a movie where you walk away and say...'that was great!'...This 'story' has been done so many times before and there was just not much new here. The rehearsal dinner scene was probably the best in the movie, and Larry Miller gives an incredible performance in a supporting role (he could be the best surprise of the film). If you want to go see a movie that will make you laugh a few times, and have an enjoyable evening, I can still recommend this film, but unless they have changed the ending...again...leave during the church scene, or you will surely be disappointed.\")"
            ]
          },
          "metadata": {
            "tags": []
          },
          "execution_count": 396
        }
      ]
    },
    {
      "metadata": {
        "id": "nXcL1jBEJ-0w",
        "colab_type": "code",
        "colab": {
          "base_uri": "https://localhost:8080/",
          "height": 34
        },
        "outputId": "67743395-8e7a-43c1-96f2-a52d7d6f7383"
      },
      "cell_type": "code",
      "source": [
        "val_text_labels = df_val['label'].astype(int)\n",
        "len(val_text_labels), val_text_labels[len(val_text_labels)-2]"
      ],
      "execution_count": 397,
      "outputs": [
        {
          "output_type": "execute_result",
          "data": {
            "text/plain": [
              "(499, 1)"
            ]
          },
          "metadata": {
            "tags": []
          },
          "execution_count": 397
        }
      ]
    },
    {
      "metadata": {
        "id": "YixDzEnXLZN-",
        "colab_type": "text"
      },
      "cell_type": "markdown",
      "source": [
        "### Test"
      ]
    },
    {
      "metadata": {
        "id": "MQHaSpnJJ9eT",
        "colab_type": "code",
        "colab": {
          "base_uri": "https://localhost:8080/",
          "height": 71
        },
        "outputId": "514ad58c-8b3f-4ecd-b26d-dc96cee87290"
      },
      "cell_type": "code",
      "source": [
        "test_raw_text_reviews = df_test['text'].astype(str).tolist()\n",
        "len(test_raw_text_reviews), test_raw_text_reviews[-2]"
      ],
      "execution_count": 398,
      "outputs": [
        {
          "output_type": "execute_result",
          "data": {
            "text/plain": [
              "(5000,\n",
              " 'The Shining, you know what\\'s weird about this movie? This is the movie that everyone, for people who claim to not like horror films, will always say that The Shining is a terrific film. This is Stanley Kubrick\\'s classic vision of Stephen King\\'s horror tale of madness and blood. This is just an incredible film and wither you have seen it or not, you have heard of it, know a few lines from it, and know some of the classic images. Who could forget Jack\\'s \"Here\\'s Johnny!\"? Who could forget \"All Work and No Play Make Jack a Dull Boy\"? Who could forget that chilling ending? This is the film that is unforgettable and honestly in my opinion is Kubrick\\'s best work. I know there is a lot of argument in that department, a lot of people say it\\'s 2001: A Space Odyssey or Clockwork Orange or even Dr. Strangelove, but if those film pioneered film making, then The Shining perfected it. This is the tale of isolation, madness, terrifying images, and the ultimate ghost story that will crawl underneath your skin. <br /><br />Jack Torrance, Jack\\'s son Danny, and Jack\\'s wife, Wendy arrive at the Overlook Hotel on closing day. The elderly African-American chef, Dick Hallorann, surprises Danny by speaking to him telepathically and offering him some ice cream. He explains to Danny that he and his grandmother shared the gift; they called the communication \"shining.\" Danny asks if there is anything to be afraid of in the hotel, particularly Room 237. Dick tells Danny that the hotel has a certain \"shine\" to it and many memories, not all of them good, and advises him to stay out of room 237 under all circumstances. Danny\\'s curiosity about Room 237 finally gets the better of him when he sees the room has been opened. Danny shows up injured and visibly traumatized after Jack tells Wendy that he loves his family. Seeing this, Wendy thinks Jack has been abusing Danny. Jack wanders into the hotel\\'s Gold Room where he meets a ghostly bartender named Lloyd. Danny starts calling out the word \"redrum\" frantically, and scribbling it on walls. He goes into a trance, and withdraws; he now says that he is Tony, his own \"imaginary friend.\" Jack sabotages the hotel radio, cutting off communication from the outside world, but Hallorann has received Danny\\'s telepathic cry for help and is on his way. Wendy discovers that Jack has been typing endless pages of manuscript repeating \"All work and no play makes Jack a dull boy\" formatted in various ways. Horrified, Jack threatens her and she knocks him unconscious with a baseball bat, locking him in a storage locker in the kitchen. Jack converses with Grady through the door of the locker, which then unlocks releasing him. Danny has written \"REDRUM\" in lipstick on the door of Wendy\\'s bedroom. When she looks in the mirror, she sees that it is \"Murder\" spelled backwards. Jack picks up an axe and begins to chop through the door leading to his family\\'s living quarters. \"Here\\'s Johnny!\", and Jack\\'s legendary image is born.<br /><br />The Shining is one of those films that you seriously have to make time to see, this is an incredible film and still gives me nightmares. Jack Nicholson\\'s performance is timeless and unforgettable. But one I also feel is extremely overlooked is Shelley Duvall, her scene of finding Jack\\'s rant All Work\\x85 is incredible, that\\'s a look of horror and you can see that fear in her face after realizing her husband is mad. Also another incredible scene is when Jack sees a ghost woman in the bathtub, it\\'s honestly one of the most terrifying scenes in horror cinema. The reason this film is so well known is because it\\'s a film of perfection, it\\'s been on The Simpsons, it\\'s been shown in other films and it\\'s a film that will forever stay with you when you see it, trust me.<br /><br />10/10')"
            ]
          },
          "metadata": {
            "tags": []
          },
          "execution_count": 398
        }
      ]
    },
    {
      "metadata": {
        "id": "xm_vDSe9J8jO",
        "colab_type": "code",
        "colab": {
          "base_uri": "https://localhost:8080/",
          "height": 34
        },
        "outputId": "6f0c99f1-ca3a-4d8c-903a-e81e20642060"
      },
      "cell_type": "code",
      "source": [
        "test_text_labels = df_test['label'].astype(int)\n",
        "len(test_text_labels), test_text_labels[len(val_text_labels)-2]"
      ],
      "execution_count": 399,
      "outputs": [
        {
          "output_type": "execute_result",
          "data": {
            "text/plain": [
              "(5000, 1)"
            ]
          },
          "metadata": {
            "tags": []
          },
          "execution_count": 399
        }
      ]
    },
    {
      "metadata": {
        "id": "s3AxEhD_z1DM",
        "colab_type": "code",
        "colab": {}
      },
      "cell_type": "code",
      "source": [
        "import re\n",
        "import string\n",
        "def preprocess_document(doc):\n",
        "    # negative sense should not be eleminated + some short representation\n",
        "    CONTRACTIONS = {\"mayn't\":\"may not\", \"can't\":\"can not\", \"won't\":\"will not\", \"isn't\":\"is not\", \"amn't\":\"am not\",\\\n",
        "                  \"aren't\":\"are not\", \"wasn't\":\"was not\", \"weren't\":\"were not\", \"couldn't\":\"could not\", \\\n",
        "                  \"wouldn't\":\"would not\", \"don't\":\"do not\", \"doesn't\":\"does not\",\\\n",
        "                  \"i'll\":\"i will\", \"you'll\":\"you will\", \"they'll\":\"they will\",\\\n",
        "                  \"may've\":\"may have\", \"can've\":\"can have\", \"will've\":\"will have\", \"you've\":\"you have\", \\\n",
        "                  \"could've\":\"could have\", \"would've\":\"would have\", \"you've\":\"you have\", \"they\":\"they have\",\\\n",
        "                  \"i've\":\"i have\", \"you've\":\"you have\", \"we've\":\"we have\", \"there's\":\"there is\", \"i'm\":\"i am\",\\\n",
        "                  \"it's\":\"it is\", \"what's\":\"what is\", \"where's\":\"where is\", \"how's\":\"how is\", \"i'd\":\"i had\"}\n",
        "    punctuation = string.punctuation + \"\\n\\n\"\n",
        "    punc_replace = ''.join([' ' for s in punctuation]); # required for replacing punctuation with null ('')\n",
        "    doc_clean = doc.replace('-', ' '); # replace - with null str\n",
        "    doc_clean = (doc_clean.encode('ascii', 'ignore')).decode(\"utf-8\")\n",
        "    doc_clean = doc_clean.replace('<br />', ''); # replace <br /> with ''\n",
        "    doc_clean = doc_clean.replace(\"’\", \"'\"); # replace <br /> with null str\n",
        "    doc_clean = [CONTRACTIONS[word] if word in CONTRACTIONS else word for word in doc_clean.split(' ')] # replacing some common short forms\n",
        "    doc_clean = \" \".join(doc_clean) # list to sentence of strings\n",
        "    doc_clean = re.sub(r'\\W +', ' ', doc_clean) # except [a-zA-Z0-9_]\n",
        "    doc_clean = re.sub(r'\\d+', ' ', doc_clean) # remove numbers [0-9]\n",
        "    trans_table = str.maketrans(punctuation, punc_replace); # replace punctuations with ' '\n",
        "    doc_clean = ' '.join([word.translate(trans_table) for word in doc_clean.split(' ')]);\n",
        "    doc_clean = doc_clean.split(' ');\n",
        "    doc_clean = [word for word in doc_clean if len(word) > 0];\n",
        "\n",
        "    return doc_clean;"
      ],
      "execution_count": 0,
      "outputs": []
    },
    {
      "metadata": {
        "id": "rSNuXUopzavX",
        "colab_type": "code",
        "outputId": "e3876aa0-da14-4c92-a76f-508dcbca8fa7",
        "colab": {
          "base_uri": "https://localhost:8080/",
          "height": 71
        }
      },
      "cell_type": "code",
      "source": [
        "train_text_reviews = [preprocess_document(review.lower()) for review in train_raw_text_reviews]\n",
        "print (train_text_reviews[len(train_text_reviews)-2])\n",
        "print (train_text_labels[len(train_text_labels)-2])"
      ],
      "execution_count": 406,
      "outputs": [
        {
          "output_type": "stream",
          "text": [
            "['anyone', 'notice', 'that', 'tommy', 'only', 'has', 'facial', 'expressions', 'the', 'angry', 'eyes', 'look', 'he', 'gives', 'every', 'enemy', 'the', 'holding', 'of', 'the', 'hands', 'to', 'face', 'mouth', 'agape', 'and', 'frightened', 'eyes', 'the', 'smiling', 'tommy', 'turnbull', 'i', 'have', 'to', 'say', 'that', 'i', 'pretty', 'much', 'hate', 'this', 'show', 'i', 'do', 'not', 'watch', 'it', 'but', 'it', 'is', 'like', 'code', 'lyoko', 'we', 'have', 'all', 'watched', 'at', 'least', 'one', 'i', 'must', 'say', 'that', 'this', 'show', 'is', 'borderline', 'racist', 'uninteresting', 'and', 'pointless', 'every', 'episode', 'ends', 'with', 'robotboy', 'winning', 'except', 'for', 'one', 'exception', 'when', 'robotboy', 'basically', 'let', 'this', 'overly', 'geeky', 'freakazoid', 'fly', 'away', 'on', 'a', 'jetpack', 'the', 'jokes', 'are', 'pretty', 'crude', 'too', 'i', 'think', 'it', 'is', 'mostly', 'people', 'saying', 'the', 'word', 'suck', 'or', 'farting', 'i', 'think', 'the', 'bullies', 'of', 'the', 'show', 'are', 'quite', 'shocking', 'too', 'isn', 't', 'there', 'one', 'that', 'hides', 'a', 'bowling', 'ball', 'under', 'his', 'hate', 'and', 'the', 'other', 'uses', 'a', 'chain', 'for', 'god', 'sake', 'what', 'kind', 'of', 'school', 'is', 'he', 'going', 'to', 'not', 'to', 'mention', 'his', 'older', 'brother', 'who', 'is', 'borderline', 'psychopathic', 'and', 'has', 'no', 'other', 'character', 'qualities', 'the', 'whole', 'show', 'i', 'feel', 'is', 'ripping', 'off', 'megas', 'xlr', 'and', 'fosters', 'like', 'you', 'could', 'say', 'the', 'trio', 'of', 'coop', 'jamie', 'and', 'kiva', 'as', 'well', 'as', 'robotboy', 'being', 'similar', 'to', 'megas', 'where', 'he', 'beats', 'everyone', 'no', 'matter', 'what', 'the', 'odds', 'and', 'he', 's', 'free', 'spirited', 'despite', 'being', 'a', 'robot', 'there', 'is', 'simply', 'no', 'appeal', 'to', 'this', 'show', 'i', 'am', 'surprised', 'that', 'it', 'is', 'still', 'running']\n",
            "0\n"
          ],
          "name": "stdout"
        }
      ]
    },
    {
      "metadata": {
        "id": "W6psZ2jxNOoP",
        "colab_type": "code",
        "colab": {
          "base_uri": "https://localhost:8080/",
          "height": 71
        },
        "outputId": "0b98f0bb-3f97-47db-a6af-899af311c742"
      },
      "cell_type": "code",
      "source": [
        "val_text_reviews = [preprocess_document(review.lower()) for review in val_raw_text_reviews]\n",
        "print (val_text_reviews[len(val_text_reviews)-2])\n",
        "print (val_text_labels[len(val_text_labels)-2])"
      ],
      "execution_count": 407,
      "outputs": [
        {
          "output_type": "stream",
          "text": [
            "['this', 'movie', 'starts', 'out', 'brisk', 'has', 'some', 'slow', 'moments', 'in', 'the', 'middle', 'but', 'generally', 'moves', 'along', 'well', 'has', 'a', 'few', 'very', 'good', 'moments', 'then', 'peters', 'out', 'at', 'the', 'end', 'of', 'act', 'i', 'was', 'able', 'to', 'get', 'to', 'see', 'this', 'in', 'la', 'premieres', 'times', 'with', 'different', 'endings', 'jason', 'lee', 'is', 'a', 'star', 'but', 'he', 'is', 'not', 'tomorrows', 'leading', 'man', 'he', 'is', 'humorous', 'and', 'holds', 'his', 'own', 'but', 'he', 'is', 'better', 'served', 'as', 'a', 'supporting', 'actor', 'julia', 'stiles', 'does', 'ok', 'in', 'a', 'comedy', 'role', 'new', 'for', 'her', 'but', 'she', 'does', 'not', 'steal', 'this', 'movie', 'the', 'way', 'a', 'star', 'of', 'her', 'caliber', 'should', 'for', 'an', 'actress', 'who', 'has', 'so', 'much', 'potential', 'things', 'save', 'the', 'last', 'dance', 'o', 'it', 'is', 'hard', 'to', 'watch', 'her', 'continue', 'to', 'do', 'roles', 'that', 'are', 'so', 'average', 'and', 'then', 'not', 'have', 'her', 'take', 'the', 'role', 'and', 'run', 'away', 'with', 'the', 'movie', 'like', 'daniel', 'day', 'lewis', 'did', 'in', 'gangs', 'selma', 'blair', 'is', 'a', 'good', 'young', 'actress', 'as', 'well', 'and', 'does', 'an', 'ok', 'job', 'i', 'didn', 't', 'expect', 'an', 'academy', 'award', 'performance', 'from', 'her', 'and', 'she', 'didn', 't', 'deliver', 'one', 'but', 'her', 'performance', 'was', 'adequate', 'chris', 'koch', 'delivers', 'another', 'film', 'that', 'is', 'above', 'average', 'perhaps', 'the', 'problem', 'lies', 'in', 'the', 'script', 'more', 'than', 'anything', 'else', 'i', 'did', 'like', 'this', 'movie', 'but', 'it', 'is', 'not', 'a', 'movie', 'where', 'you', 'walk', 'away', 'and', 'say', 'that', 'was', 'great', 'this', 'story', 'has', 'been', 'done', 'so', 'many', 'times', 'before', 'and', 'there', 'was', 'just', 'not', 'much', 'new', 'here', 'the', 'rehearsal', 'dinner', 'scene', 'was', 'probably', 'the', 'best', 'in', 'the', 'movie', 'and', 'larry', 'miller', 'gives', 'an', 'incredible', 'performance', 'in', 'a', 'supporting', 'role', 'he', 'could', 'be', 'the', 'best', 'surprise', 'of', 'the', 'film', 'if', 'you', 'want', 'to', 'go', 'see', 'a', 'movie', 'that', 'will', 'make', 'you', 'laugh', 'a', 'few', 'times', 'and', 'have', 'an', 'enjoyable', 'evening', 'i', 'can', 'still', 'recommend', 'this', 'film', 'but', 'unless', 'they', 'have', 'have', 'changed', 'the', 'ending', 'again', 'leave', 'during', 'the', 'church', 'scene', 'or', 'you', 'will', 'surely', 'be', 'disappointed']\n",
            "1\n"
          ],
          "name": "stdout"
        }
      ]
    },
    {
      "metadata": {
        "id": "REdaGj3VNOEX",
        "colab_type": "code",
        "colab": {
          "base_uri": "https://localhost:8080/",
          "height": 71
        },
        "outputId": "8fed3b7b-6780-477f-91fb-8fb682d8b1fd"
      },
      "cell_type": "code",
      "source": [
        "test_text_reviews = [preprocess_document(review.lower()) for review in test_raw_text_reviews]\n",
        "print (test_text_reviews[len(test_text_reviews)-2])\n",
        "print (test_text_labels[len(test_text_labels)-2])"
      ],
      "execution_count": 408,
      "outputs": [
        {
          "output_type": "stream",
          "text": [
            "['the', 'shining', 'you', 'know', 'what', 'is', 'weird', 'about', 'this', 'movie', 'this', 'is', 'the', 'movie', 'that', 'everyone', 'for', 'people', 'who', 'claim', 'to', 'not', 'like', 'horror', 'films', 'will', 'always', 'say', 'that', 'the', 'shining', 'is', 'a', 'terrific', 'film', 'this', 'is', 'stanley', 'kubrick', 's', 'classic', 'vision', 'of', 'stephen', 'king', 's', 'horror', 'tale', 'of', 'madness', 'and', 'blood', 'this', 'is', 'just', 'an', 'incredible', 'film', 'and', 'wither', 'you', 'have', 'seen', 'it', 'or', 'not', 'you', 'have', 'heard', 'of', 'it', 'know', 'a', 'few', 'lines', 'from', 'it', 'and', 'know', 'some', 'of', 'the', 'classic', 'images', 'who', 'could', 'forget', 'jack', 's', 'here', 's', 'johnny', 'who', 'could', 'forget', 'all', 'work', 'and', 'no', 'play', 'make', 'jack', 'a', 'dull', 'boy', 'who', 'could', 'forget', 'that', 'chilling', 'ending', 'this', 'is', 'the', 'film', 'that', 'is', 'unforgettable', 'and', 'honestly', 'in', 'my', 'opinion', 'is', 'kubrick', 's', 'best', 'work', 'i', 'know', 'there', 'is', 'a', 'lot', 'of', 'argument', 'in', 'that', 'department', 'a', 'lot', 'of', 'people', 'say', 'it', 'is', 'a', 'space', 'odyssey', 'or', 'clockwork', 'orange', 'or', 'even', 'dr', 'strangelove', 'but', 'if', 'those', 'film', 'pioneered', 'film', 'making', 'then', 'the', 'shining', 'perfected', 'it', 'this', 'is', 'the', 'tale', 'of', 'isolation', 'madness', 'terrifying', 'images', 'and', 'the', 'ultimate', 'ghost', 'story', 'that', 'will', 'crawl', 'underneath', 'your', 'skin', 'jack', 'torrance', 'jack', 's', 'son', 'danny', 'and', 'jack', 's', 'wife', 'wendy', 'arrive', 'at', 'the', 'overlook', 'hotel', 'on', 'closing', 'day', 'the', 'elderly', 'african', 'american', 'chef', 'dick', 'hallorann', 'surprises', 'danny', 'by', 'speaking', 'to', 'him', 'telepathically', 'and', 'offering', 'him', 'some', 'ice', 'cream', 'he', 'explains', 'to', 'danny', 'that', 'he', 'and', 'his', 'grandmother', 'shared', 'the', 'gift', 'they', 'have', 'called', 'the', 'communication', 'shining', 'danny', 'asks', 'if', 'there', 'is', 'anything', 'to', 'be', 'afraid', 'of', 'in', 'the', 'hotel', 'particularly', 'room', 'dick', 'tells', 'danny', 'that', 'the', 'hotel', 'has', 'a', 'certain', 'shine', 'to', 'it', 'and', 'many', 'memories', 'not', 'all', 'of', 'them', 'good', 'and', 'advises', 'him', 'to', 'stay', 'out', 'of', 'room', 'under', 'all', 'circumstances', 'danny', 's', 'curiosity', 'about', 'room', 'finally', 'gets', 'the', 'better', 'of', 'him', 'when', 'he', 'sees', 'the', 'room', 'has', 'been', 'opened', 'danny', 'shows', 'up', 'injured', 'and', 'visibly', 'traumatized', 'after', 'jack', 'tells', 'wendy', 'that', 'he', 'loves', 'his', 'family', 'seeing', 'this', 'wendy', 'thinks', 'jack', 'has', 'been', 'abusing', 'danny', 'jack', 'wanders', 'into', 'the', 'hotel', 's', 'gold', 'room', 'where', 'he', 'meets', 'a', 'ghostly', 'bartender', 'named', 'lloyd', 'danny', 'starts', 'calling', 'out', 'the', 'word', 'redrum', 'frantically', 'and', 'scribbling', 'it', 'on', 'walls', 'he', 'goes', 'into', 'a', 'trance', 'and', 'withdraws', 'he', 'now', 'says', 'that', 'he', 'is', 'tony', 'his', 'own', 'imaginary', 'friend', 'jack', 'sabotages', 'the', 'hotel', 'radio', 'cutting', 'off', 'communication', 'from', 'the', 'outside', 'world', 'but', 'hallorann', 'has', 'received', 'danny', 's', 'telepathic', 'cry', 'for', 'help', 'and', 'is', 'on', 'his', 'way', 'wendy', 'discovers', 'that', 'jack', 'has', 'been', 'typing', 'endless', 'pages', 'of', 'manuscript', 'repeating', 'all', 'work', 'and', 'no', 'play', 'makes', 'jack', 'a', 'dull', 'boy', 'formatted', 'in', 'various', 'ways', 'horrified', 'jack', 'threatens', 'her', 'and', 'she', 'knocks', 'him', 'unconscious', 'with', 'a', 'baseball', 'bat', 'locking', 'him', 'in', 'a', 'storage', 'locker', 'in', 'the', 'kitchen', 'jack', 'converses', 'with', 'grady', 'through', 'the', 'door', 'of', 'the', 'locker', 'which', 'then', 'unlocks', 'releasing', 'him', 'danny', 'has', 'written', 'redrum', 'in', 'lipstick', 'on', 'the', 'door', 'of', 'wendy', 's', 'bedroom', 'when', 'she', 'looks', 'in', 'the', 'mirror', 'she', 'sees', 'that', 'it', 'is', 'murder', 'spelled', 'backwards', 'jack', 'picks', 'up', 'an', 'axe', 'and', 'begins', 'to', 'chop', 'through', 'the', 'door', 'leading', 'to', 'his', 'family', 's', 'living', 'quarters', 'here', 's', 'johnny', 'and', 'jack', 's', 'legendary', 'image', 'is', 'born', 'the', 'shining', 'is', 'one', 'of', 'those', 'films', 'that', 'you', 'seriously', 'have', 'to', 'make', 'time', 'to', 'see', 'this', 'is', 'an', 'incredible', 'film', 'and', 'still', 'gives', 'me', 'nightmares', 'jack', 'nicholson', 's', 'performance', 'is', 'timeless', 'and', 'unforgettable', 'but', 'one', 'i', 'also', 'feel', 'is', 'extremely', 'overlooked', 'is', 'shelley', 'duvall', 'her', 'scene', 'of', 'finding', 'jack', 's', 'rant', 'all', 'work', 'is', 'incredible', 'that', 's', 'a', 'look', 'of', 'horror', 'and', 'you', 'can', 'see', 'that', 'fear', 'in', 'her', 'face', 'after', 'realizing', 'her', 'husband', 'is', 'mad', 'also', 'another', 'incredible', 'scene', 'is', 'when', 'jack', 'sees', 'a', 'ghost', 'woman', 'in', 'the', 'bathtub', 'it', 'is', 'honestly', 'one', 'of', 'the', 'most', 'terrifying', 'scenes', 'in', 'horror', 'cinema', 'the', 'reason', 'this', 'film', 'is', 'so', 'well', 'known', 'is', 'because', 'it', 'is', 'a', 'film', 'of', 'perfection', 'it', 'is', 'been', 'on', 'the', 'simpsons', 'it', 'is', 'been', 'shown', 'in', 'other', 'films', 'and', 'it', 'is', 'a', 'film', 'that', 'will', 'forever', 'stay', 'with', 'you', 'when', 'you', 'see', 'it', 'trust', 'me']\n",
            "1\n"
          ],
          "name": "stdout"
        }
      ]
    },
    {
      "metadata": {
        "id": "MKifaS85Dkap",
        "colab_type": "text"
      },
      "cell_type": "markdown",
      "source": [
        "###Creating Bag Of Word (BOW) representation of sentences."
      ]
    },
    {
      "metadata": {
        "id": "dyQJIGVw4Dau",
        "colab_type": "code",
        "outputId": "b73b2375-dd7a-435c-dbb6-aaed40df367c",
        "colab": {
          "base_uri": "https://localhost:8080/",
          "height": 34
        }
      },
      "cell_type": "code",
      "source": [
        "# Fetching the tokens (all words in a doc) and types(unique words in a doc) in the document\n",
        "types = ()\n",
        "tokens = []\n",
        "for row in train_text_reviews:\n",
        "    tokens += [words for words in row]\n",
        "types = set(tokens)\n",
        "\n",
        "VOCAB_SIZE, TOKEN_SIZE = len(types), len(tokens)\n",
        "VOCAB_SIZE, TOKEN_SIZE"
      ],
      "execution_count": 409,
      "outputs": [
        {
          "output_type": "execute_result",
          "data": {
            "text/plain": [
              "(65218, 4275850)"
            ]
          },
          "metadata": {
            "tags": []
          },
          "execution_count": 409
        }
      ]
    },
    {
      "metadata": {
        "id": "B20xEKK-Hwn7",
        "colab_type": "code",
        "outputId": "d40be36b-73e2-46bc-c6b4-a012b342c036",
        "colab": {
          "base_uri": "https://localhost:8080/",
          "height": 34
        }
      },
      "cell_type": "code",
      "source": [
        "word_to_ix = {x:i for i, x in enumerate(types)}\n",
        "ix_to_word = [x for i, x in enumerate(types)]\n",
        "\n",
        "ix_to_word[word_to_ix['kick']]=='kick', word_to_ix['kick'], len(ix_to_word)"
      ],
      "execution_count": 410,
      "outputs": [
        {
          "output_type": "execute_result",
          "data": {
            "text/plain": [
              "(True, 32089, 65218)"
            ]
          },
          "metadata": {
            "tags": []
          },
          "execution_count": 410
        }
      ]
    },
    {
      "metadata": {
        "id": "Tf9alcVgJSgM",
        "colab_type": "code",
        "outputId": "3ad289b9-ec10-4fe3-dfed-b203c2536be0",
        "colab": {
          "base_uri": "https://localhost:8080/",
          "height": 204
        }
      },
      "cell_type": "code",
      "source": [
        "for i, (key, value) in enumerate(word_to_ix.items()):\n",
        "    if(i > 10):\n",
        "        break\n",
        "    print (key,':', value)"
      ],
      "execution_count": 411,
      "outputs": [
        {
          "output_type": "stream",
          "text": [
            "vanesa : 0\n",
            "ignacio : 1\n",
            "specialty : 2\n",
            "arkham : 3\n",
            "bathhouses : 4\n",
            "muccino : 5\n",
            "aggravate : 6\n",
            "nudity : 7\n",
            "ssg : 8\n",
            "hitchhikers : 9\n",
            "alaska : 10\n"
          ],
          "name": "stdout"
        }
      ]
    },
    {
      "metadata": {
        "id": "yNUlKuJeNJEu",
        "colab_type": "text"
      },
      "cell_type": "markdown",
      "source": [
        "## PyTorch"
      ]
    },
    {
      "metadata": {
        "id": "SqLOymKPLPug",
        "colab_type": "code",
        "colab": {
          "base_uri": "https://localhost:8080/",
          "height": 34
        },
        "outputId": "dda944d3-8ecc-4eae-e3fe-70bc7d78a86d"
      },
      "cell_type": "code",
      "source": [
        "import torch.nn as nn\n",
        "import torch.nn.functional as F\n",
        "from torch.autograd import Variable # Automatic gradients are calculated and back-propagated through the computational graph\n",
        "\n",
        "device = torch.device(\"cuda:0\" if torch.cuda.is_available() else \"cpu\")\n",
        "device"
      ],
      "execution_count": 420,
      "outputs": [
        {
          "output_type": "execute_result",
          "data": {
            "text/plain": [
              "device(type='cuda', index=0)"
            ]
          },
          "metadata": {
            "tags": []
          },
          "execution_count": 420
        }
      ]
    },
    {
      "metadata": {
        "id": "SaSwXEBh6565",
        "colab_type": "text"
      },
      "cell_type": "markdown",
      "source": [
        "##Model Definition for the BOWClassifier"
      ]
    },
    {
      "metadata": {
        "id": "PM5I4GP6lFGu",
        "colab_type": "code",
        "colab": {}
      },
      "cell_type": "code",
      "source": [
        "class BOWClassifier(nn.Module):\n",
        "    def __init__(self, input_size, hidden_size, output_size):\n",
        "        super(BOWClassifier, self).__init__()\n",
        "        SEED = 42\n",
        "        torch.manual_seed(SEED)\n",
        "        torch.cuda.manual_seed(SEED)\n",
        "        self.hidden_size = hidden_size\n",
        "        self.i2h = nn.Linear(input_size, hidden_size) # initialises weights and biases i2h\n",
        "        self.h2o = nn.Linear(hidden_size, output_size) # initialises weights and biases h2o\n",
        "        \n",
        "    def forward(self, x):\n",
        "        x = F.relu(self.i2h(x))\n",
        "        x = self.h2o(x)\n",
        "        return F.softmax(x, dim=1)"
      ],
      "execution_count": 0,
      "outputs": []
    },
    {
      "metadata": {
        "id": "sWqAwOAI7D54",
        "colab_type": "text"
      },
      "cell_type": "markdown",
      "source": [
        "## Generate the BOW Vectors"
      ]
    },
    {
      "metadata": {
        "id": "UZK9TAQI7Fbm",
        "colab_type": "code",
        "colab": {}
      },
      "cell_type": "code",
      "source": [
        "def make_bow_vector(sentence, word_to_ix):\n",
        "    # create a vector of zeros of vocab size = len(word_to_idx)\n",
        "    vec = torch.zeros(len(word_to_ix))#, device=device) # make 1D vector of len = vocab size\n",
        "    for word in sentence:\n",
        "        if word not in word_to_ix:            \n",
        "#             raise ValueError('Word',word,' not present in the dictionary. Sorry!')\n",
        "            pass\n",
        "        else:\n",
        "            vec[word_to_ix[word]]+=1 # count the number of occurance of same word in a sentences\n",
        "            \n",
        "    return vec.view(1, -1)"
      ],
      "execution_count": 0,
      "outputs": []
    },
    {
      "metadata": {
        "id": "MlMeX6577J9A",
        "colab_type": "code",
        "colab": {
          "base_uri": "https://localhost:8080/",
          "height": 51
        },
        "outputId": "3ae35569-870a-498c-a6c7-231bce11652e"
      },
      "cell_type": "code",
      "source": [
        "num_of_input = VOCAB_SIZE\n",
        "num_of_hidden = 50 # vary this for assignment\n",
        "num_of_output = 2\n",
        "\n",
        "bow = BOWClassifier(num_of_input, num_of_hidden, num_of_output) # initialises weights and biases\n",
        "bow.i2h, bow.h2o # desc network"
      ],
      "execution_count": 470,
      "outputs": [
        {
          "output_type": "execute_result",
          "data": {
            "text/plain": [
              "(Linear(in_features=65218, out_features=50, bias=True),\n",
              " Linear(in_features=50, out_features=2, bias=True))"
            ]
          },
          "metadata": {
            "tags": []
          },
          "execution_count": 470
        }
      ]
    },
    {
      "metadata": {
        "id": "PRhDPFx87Ptm",
        "colab_type": "code",
        "colab": {
          "base_uri": "https://localhost:8080/",
          "height": 663
        },
        "outputId": "e4dacbd9-0f34-4f59-9dcf-e341ad90a195"
      },
      "cell_type": "code",
      "source": [
        "# visualise the parameter\n",
        "for param in bow.parameters(): # desc the parameter value\n",
        "    print(param,param.size())"
      ],
      "execution_count": 471,
      "outputs": [
        {
          "output_type": "stream",
          "text": [
            "Parameter containing:\n",
            "tensor([[ 0.0030,  0.0033, -0.0009,  ..., -0.0018, -0.0014,  0.0025],\n",
            "        [-0.0028, -0.0018, -0.0008,  ...,  0.0033,  0.0018,  0.0016],\n",
            "        [ 0.0021, -0.0028,  0.0004,  ..., -0.0012,  0.0021,  0.0025],\n",
            "        ...,\n",
            "        [ 0.0015,  0.0012, -0.0015,  ..., -0.0001,  0.0032, -0.0014],\n",
            "        [ 0.0007, -0.0003, -0.0015,  ...,  0.0022,  0.0025, -0.0032],\n",
            "        [ 0.0025, -0.0026, -0.0024,  ..., -0.0032, -0.0033, -0.0013]],\n",
            "       requires_grad=True) torch.Size([50, 65218])\n",
            "Parameter containing:\n",
            "tensor([-1.3104e-03,  3.2903e-03,  6.1280e-04, -2.7294e-03, -2.2279e-03,\n",
            "        -9.1547e-05,  2.5709e-03, -5.6241e-04, -2.6983e-03,  1.0206e-04,\n",
            "         5.0756e-04, -1.1061e-03, -1.4223e-03, -1.5041e-03,  2.4952e-03,\n",
            "        -1.2899e-03, -1.3637e-03, -7.5031e-04,  3.1638e-03, -2.5097e-03,\n",
            "        -2.8268e-03,  2.8530e-03, -9.9877e-04, -1.1066e-03,  2.9716e-03,\n",
            "         2.4182e-03,  2.1017e-03,  2.1711e-03,  1.2739e-03,  6.2563e-04,\n",
            "         3.3654e-03, -2.4031e-03,  1.2779e-03,  1.0620e-03,  7.7532e-04,\n",
            "         2.7036e-03,  1.3746e-03, -1.6362e-03, -2.5552e-03, -3.3799e-03,\n",
            "        -3.6542e-03, -3.9032e-03, -8.0149e-04, -6.9769e-04,  1.2913e-03,\n",
            "        -3.5259e-03,  4.9818e-04, -1.2017e-03, -3.2078e-03,  3.6679e-03],\n",
            "       requires_grad=True) torch.Size([50])\n",
            "Parameter containing:\n",
            "tensor([[-0.0693, -0.0504,  0.0363, -0.0351,  0.0915, -0.0984, -0.0204, -0.0961,\n",
            "         -0.0715,  0.0888, -0.1393,  0.0295, -0.0937,  0.0355, -0.0565,  0.1322,\n",
            "         -0.0915,  0.0284, -0.1375,  0.1282,  0.0827, -0.0840,  0.1244,  0.1183,\n",
            "         -0.0689, -0.0911, -0.0245, -0.0800, -0.0313,  0.1039, -0.0132,  0.0408,\n",
            "         -0.0359, -0.0344,  0.1311,  0.0801, -0.1396,  0.1221, -0.0508, -0.0464,\n",
            "          0.0533,  0.0972,  0.0349,  0.1336,  0.0785, -0.1341, -0.0715,  0.0378,\n",
            "          0.0192, -0.1087],\n",
            "        [-0.0071,  0.1240, -0.0169, -0.0976, -0.0894,  0.0060, -0.0123, -0.1085,\n",
            "         -0.0657, -0.1077, -0.0527,  0.1132, -0.0404, -0.0049,  0.0528, -0.0531,\n",
            "         -0.0271,  0.1029, -0.0163, -0.1061, -0.0872, -0.0819,  0.1247, -0.0431,\n",
            "         -0.0704, -0.0182,  0.0944, -0.0208, -0.0237, -0.0170,  0.1408, -0.0868,\n",
            "          0.0784,  0.0663,  0.0252,  0.1282,  0.0746,  0.0872, -0.0272,  0.0524,\n",
            "         -0.1040,  0.1218,  0.0872, -0.1218,  0.0730,  0.0864, -0.0132, -0.1184,\n",
            "         -0.0721, -0.0122]], requires_grad=True) torch.Size([2, 50])\n",
            "Parameter containing:\n",
            "tensor([-0.0761,  0.0331], requires_grad=True) torch.Size([2])\n"
          ],
          "name": "stdout"
        }
      ]
    },
    {
      "metadata": {
        "id": "04LpXPa99z4v",
        "colab_type": "text"
      },
      "cell_type": "markdown",
      "source": [
        "### Let's check with a sample case how our model is working"
      ]
    },
    {
      "metadata": {
        "id": "TQd4B8jo7o2l",
        "colab_type": "code",
        "colab": {
          "base_uri": "https://localhost:8080/",
          "height": 88
        },
        "outputId": "da39f30c-bcb0-4426-a2d5-a8846293cf14"
      },
      "cell_type": "code",
      "source": [
        "sample_data, sample_label = train_text_reviews[0], train_text_labels[0]\n",
        "bow_vector = torch.autograd.Variable(make_bow_vector(sample_data, word_to_ix))# variable wraps a tensor to torch type\n",
        "print (bow_vector)\n",
        "logprobs = bow.forward(bow_vector) # calls forward function bow(bow_vector)\n",
        "print(train_text_reviews[0])\n",
        "print(logprobs.data)"
      ],
      "execution_count": 472,
      "outputs": [
        {
          "output_type": "stream",
          "text": [
            "tensor([[0., 0., 0.,  ..., 0., 0., 0.]])\n",
            "['john', 'waters', 'has', 'given', 'us', 'a', 'genuinely', 'enjoyable', 'film', 'this', 'certainly', 'is', 'not', 'without', 'its', 'shocking', 'waters', 'esque', 'moments', 'but', 'it', 'is', 'tamer', 'than', 'his', 'older', 'culty', 'stuff', 'such', 'as', 'pink', 'flamingoes', 'pecker', 'harkens', 'back', 'to', 'john', 's', 'early', 'mainstream', 'stage', 'in', 'that', 'it', 'reminds', 'the', 'viewer', 'of', 'the', 'same', 'kind', 'of', 'humor', 'that', 'was', 'evident', 'in', 'polyester', 'overall', 'a', 'really', 'fun', 'comedy', 'with', 'some', 'great', 'moments']\n",
            "tensor([[0.4710, 0.5290]])\n"
          ],
          "name": "stdout"
        }
      ]
    },
    {
      "metadata": {
        "id": "REIlwRONHCox",
        "colab_type": "text"
      },
      "cell_type": "markdown",
      "source": [
        "### Testing with normal variable"
      ]
    },
    {
      "metadata": {
        "id": "p0zesRPzDjE2",
        "colab_type": "code",
        "colab": {
          "base_uri": "https://localhost:8080/",
          "height": 68
        },
        "outputId": "f356e4e1-a18b-4033-a9cc-9a3bdd062c1b"
      },
      "cell_type": "code",
      "source": [
        "bow_vec = Variable(make_bow_vector(preprocess_document(df_train['text'][1].lower()), word_to_ix)) # encoding test data\n",
        "logprobs = bow(bow_vec) # call to forward\n",
        "print(logprobs)\n",
        "pred = np.argmax(logprobs.data.numpy())\n",
        "print('prediction: {}'.format(pred))\n",
        "print('actual: {}'.format(df_train['label'][0]))"
      ],
      "execution_count": 473,
      "outputs": [
        {
          "output_type": "stream",
          "text": [
            "tensor([[0.4770, 0.5230]], grad_fn=<SoftmaxBackward>)\n",
            "prediction: 1\n",
            "actual: 1\n"
          ],
          "name": "stdout"
        }
      ]
    },
    {
      "metadata": {
        "id": "nw0OYbTzBwJ8",
        "colab_type": "text"
      },
      "cell_type": "markdown",
      "source": [
        "## Define Loss fun"
      ]
    },
    {
      "metadata": {
        "id": "PbQcwSIb96V9",
        "colab_type": "code",
        "colab": {}
      },
      "cell_type": "code",
      "source": [
        "# define a loss function and an optimizer\n",
        "loss_function = nn.NLLLoss()\n",
        "opt = torch.optim.SGD(bow.parameters(), lr = 0.1) #, momentum=0.9)"
      ],
      "execution_count": 0,
      "outputs": []
    },
    {
      "metadata": {
        "id": "tuYAAQh2F6J8",
        "colab_type": "text"
      },
      "cell_type": "markdown",
      "source": [
        "## Train the model"
      ]
    },
    {
      "metadata": {
        "id": "W7xoiOiAyZN5",
        "colab_type": "code",
        "colab": {}
      },
      "cell_type": "code",
      "source": [
        "# store the bag of word vectors for each sentences\n",
        "data = [make_bow_vector(instance, word_to_ix) for instance in train_text_reviews]\n",
        "num_train_data = len(data)\n",
        "num_train_data"
      ],
      "execution_count": 0,
      "outputs": []
    },
    {
      "metadata": {
        "id": "ad6MFVt7F5X8",
        "colab_type": "code",
        "colab": {
          "base_uri": "https://localhost:8080/",
          "height": 489
        },
        "outputId": "a3d193d9-64e8-4890-dbcc-7ede706b22b6"
      },
      "cell_type": "code",
      "source": [
        "import time\n",
        "# the training loop\n",
        "epochs = 150\n",
        "total_time = 0.0\n",
        "train_epoch_history = []\n",
        "train_loss_history = []\n",
        "for e in range(epochs):\n",
        "    tic = time.time()\n",
        "    correct = 0\n",
        "    cumulative_loss = 0\n",
        "    \n",
        "    for i, instance in enumerate(data):\n",
        "        # get the training data\n",
        "        label = train_text_labels[i] # training label\n",
        "        \n",
        "        bow.zero_grad() # reset the gradient for each epoch\n",
        "        \n",
        "        bow_vec = Variable(instance) # vector repesentation of input sentence\n",
        "        label = Variable(torch.LongTensor([label])) # makes a tensor for label\n",
        "        \n",
        "        pred = bow.forward(bow_vec) # forward pass\n",
        "        \n",
        "        pred_class = int(np.argmax(pred.data.numpy()))\n",
        "        if(int(label) == pred_class):\n",
        "            correct += 1\n",
        "        \n",
        "        loss = loss_function(pred, label)\n",
        "        loss.backward() # backprop the loss\n",
        "        cumulative_loss += float(loss.data)\n",
        "        opt.step() # performs a parameter update based on the current gradient due to SGD\n",
        "        \n",
        "        toc = time.time()\n",
        "        \n",
        "    total_time += (toc-tic)\n",
        "    train_epoch_history.append(e+1)\n",
        "    train_loss_history.append(cumulative_loss/num_train_data)\n",
        "    print(\"Epoch {}/{},\\tLoss: {:.9f},\\tTime: {:.2f},\\tAccuracy: {:.2f}%,\\tTotal Time: {:.2f}\".format(e+1, epochs, float(loss.data), (toc-tic), correct*100/num_train_data, total_time))"
      ],
      "execution_count": 467,
      "outputs": [
        {
          "output_type": "error",
          "ename": "KeyboardInterrupt",
          "evalue": "ignored",
          "traceback": [
            "\u001b[0;31m---------------------------------------------------------------------------\u001b[0m",
            "\u001b[0;31mKeyboardInterrupt\u001b[0m                         Traceback (most recent call last)",
            "\u001b[0;32m<ipython-input-467-2b1ac7b6fe40>\u001b[0m in \u001b[0;36m<module>\u001b[0;34m()\u001b[0m\n\u001b[1;32m     26\u001b[0m \u001b[0;34m\u001b[0m\u001b[0m\n\u001b[1;32m     27\u001b[0m         \u001b[0mloss\u001b[0m \u001b[0;34m=\u001b[0m \u001b[0mloss_function\u001b[0m\u001b[0;34m(\u001b[0m\u001b[0mpred\u001b[0m\u001b[0;34m,\u001b[0m \u001b[0mlabel\u001b[0m\u001b[0;34m)\u001b[0m\u001b[0;34m\u001b[0m\u001b[0;34m\u001b[0m\u001b[0m\n\u001b[0;32m---> 28\u001b[0;31m         \u001b[0mloss\u001b[0m\u001b[0;34m.\u001b[0m\u001b[0mbackward\u001b[0m\u001b[0;34m(\u001b[0m\u001b[0;34m)\u001b[0m \u001b[0;31m# backprop the loss\u001b[0m\u001b[0;34m\u001b[0m\u001b[0;34m\u001b[0m\u001b[0m\n\u001b[0m\u001b[1;32m     29\u001b[0m         \u001b[0mcumulative_loss\u001b[0m \u001b[0;34m+=\u001b[0m \u001b[0mfloat\u001b[0m\u001b[0;34m(\u001b[0m\u001b[0mloss\u001b[0m\u001b[0;34m.\u001b[0m\u001b[0mdata\u001b[0m\u001b[0;34m)\u001b[0m\u001b[0;34m\u001b[0m\u001b[0;34m\u001b[0m\u001b[0m\n\u001b[1;32m     30\u001b[0m         \u001b[0mopt\u001b[0m\u001b[0;34m.\u001b[0m\u001b[0mstep\u001b[0m\u001b[0;34m(\u001b[0m\u001b[0;34m)\u001b[0m \u001b[0;31m# performs a parameter update based on the current gradient\u001b[0m\u001b[0;34m\u001b[0m\u001b[0;34m\u001b[0m\u001b[0m\n",
            "\u001b[0;32m/usr/local/lib/python3.6/dist-packages/torch/tensor.py\u001b[0m in \u001b[0;36mbackward\u001b[0;34m(self, gradient, retain_graph, create_graph)\u001b[0m\n\u001b[1;32m    100\u001b[0m                 \u001b[0mproducts\u001b[0m\u001b[0;34m.\u001b[0m \u001b[0mDefaults\u001b[0m \u001b[0mto\u001b[0m\u001b[0;31m \u001b[0m\u001b[0;31m`\u001b[0m\u001b[0;31m`\u001b[0m\u001b[0;32mFalse\u001b[0m\u001b[0;31m`\u001b[0m\u001b[0;31m`\u001b[0m\u001b[0;34m.\u001b[0m\u001b[0;34m\u001b[0m\u001b[0;34m\u001b[0m\u001b[0m\n\u001b[1;32m    101\u001b[0m         \"\"\"\n\u001b[0;32m--> 102\u001b[0;31m         \u001b[0mtorch\u001b[0m\u001b[0;34m.\u001b[0m\u001b[0mautograd\u001b[0m\u001b[0;34m.\u001b[0m\u001b[0mbackward\u001b[0m\u001b[0;34m(\u001b[0m\u001b[0mself\u001b[0m\u001b[0;34m,\u001b[0m \u001b[0mgradient\u001b[0m\u001b[0;34m,\u001b[0m \u001b[0mretain_graph\u001b[0m\u001b[0;34m,\u001b[0m \u001b[0mcreate_graph\u001b[0m\u001b[0;34m)\u001b[0m\u001b[0;34m\u001b[0m\u001b[0;34m\u001b[0m\u001b[0m\n\u001b[0m\u001b[1;32m    103\u001b[0m \u001b[0;34m\u001b[0m\u001b[0m\n\u001b[1;32m    104\u001b[0m     \u001b[0;32mdef\u001b[0m \u001b[0mregister_hook\u001b[0m\u001b[0;34m(\u001b[0m\u001b[0mself\u001b[0m\u001b[0;34m,\u001b[0m \u001b[0mhook\u001b[0m\u001b[0;34m)\u001b[0m\u001b[0;34m:\u001b[0m\u001b[0;34m\u001b[0m\u001b[0;34m\u001b[0m\u001b[0m\n",
            "\u001b[0;32m/usr/local/lib/python3.6/dist-packages/torch/autograd/__init__.py\u001b[0m in \u001b[0;36mbackward\u001b[0;34m(tensors, grad_tensors, retain_graph, create_graph, grad_variables)\u001b[0m\n\u001b[1;32m     88\u001b[0m     Variable._execution_engine.run_backward(\n\u001b[1;32m     89\u001b[0m         \u001b[0mtensors\u001b[0m\u001b[0;34m,\u001b[0m \u001b[0mgrad_tensors\u001b[0m\u001b[0;34m,\u001b[0m \u001b[0mretain_graph\u001b[0m\u001b[0;34m,\u001b[0m \u001b[0mcreate_graph\u001b[0m\u001b[0;34m,\u001b[0m\u001b[0;34m\u001b[0m\u001b[0;34m\u001b[0m\u001b[0m\n\u001b[0;32m---> 90\u001b[0;31m         allow_unreachable=True)  # allow_unreachable flag\n\u001b[0m\u001b[1;32m     91\u001b[0m \u001b[0;34m\u001b[0m\u001b[0m\n\u001b[1;32m     92\u001b[0m \u001b[0;34m\u001b[0m\u001b[0m\n",
            "\u001b[0;31mKeyboardInterrupt\u001b[0m: "
          ]
        }
      ]
    },
    {
      "metadata": {
        "id": "FDUyFfwmXSew",
        "colab_type": "code",
        "colab": {
          "base_uri": "https://localhost:8080/",
          "height": 379
        },
        "outputId": "062fce89-e42b-45b5-edd1-04956bc8a0ab"
      },
      "cell_type": "code",
      "source": [
        "import matplotlib.pyplot as plt\n",
        "plt.figure(\"Image\")\n",
        "plt.title(\"Loss vs Epoch\")\n",
        "# val_loss_history_1 =  [float(i)/sum(val_loss_history_1) for i in val_loss_history_1] # normalised between 0-1\n",
        "train_loss_history_1 =  [float(i)/sum(train_loss_history) for i in train_loss_history] # normalised between 0-1\n",
        "# plt.plot(val_loss_history_1, c=\"red\", label=\"Validation Loss\")\n",
        "plt.plot(train_loss_history, c=\"blue\", label = \"Training Loss\")\n",
        "plt.legend()"
      ],
      "execution_count": 445,
      "outputs": [
        {
          "output_type": "execute_result",
          "data": {
            "text/plain": [
              "<matplotlib.legend.Legend at 0x7f7f2718a080>"
            ]
          },
          "metadata": {
            "tags": []
          },
          "execution_count": 445
        },
        {
          "output_type": "display_data",
          "data": {
            "image/png": "[encoded data removed]",
            "text/plain": [
              "<Figure size 576x396 with 1 Axes>"
            ]
          },
          "metadata": {
            "tags": []
          }
        }
      ]
    },
    {
      "metadata": {
        "id": "gPf_k4VNuaDi",
        "colab_type": "code",
        "colab": {}
      },
      "cell_type": "code",
      "source": [
        ""
      ],
      "execution_count": 0,
      "outputs": []
    },
    {
      "metadata": {
        "id": "fkYBaktsF-sm",
        "colab_type": "code",
        "colab": {
          "base_uri": "https://localhost:8080/",
          "height": 51
        },
        "outputId": "8083b485-b323-4db0-ef48-28e17038dcef"
      },
      "cell_type": "code",
      "source": [
        "print('--- AFTER TRAINING ---')\n",
        "correct = 0\n",
        "data = []\n",
        "data = [make_bow_vector(instance, word_to_ix) for instance in test_text_reviews]\n",
        "tic = time.time()\n",
        "for i, instance in enumerate(data):\n",
        "    label = test_text_labels[i]\n",
        "    bow_vec = Variable(instance)\n",
        "    logprobs = bow.forward(bow_vec)\n",
        "#     print(logprobs)\n",
        "    pred_class = np.argmax(logprobs.data.numpy())\n",
        "    \n",
        "#     print('prediction: {}'.format(pred_class))\n",
        "#     print('actual: {}'.format(label))\n",
        "    if(int(label) == pred_class):\n",
        "        correct += 1\n",
        "toc = time.time()\n",
        "print(\"Test Accuracy: {:.2f}%\".format(correct*100/len(data)))"
      ],
      "execution_count": 454,
      "outputs": [
        {
          "output_type": "stream",
          "text": [
            "--- AFTER TRAINING ---\n",
            "Test Accuracy: 87.140%\n"
          ],
          "name": "stdout"
        }
      ]
    },
    {
      "metadata": {
        "id": "uHAvtGWbudLN",
        "colab_type": "code",
        "colab": {}
      },
      "cell_type": "code",
      "source": [
        "torch.save(bow,'model.json')\n",
        "\n",
        "from google.colab import files\n",
        "files.download(\"model.json\")"
      ],
      "execution_count": 0,
      "outputs": []
    },
    {
      "metadata": {
        "id": "Zz5PwYjVudEk",
        "colab_type": "code",
        "colab": {}
      },
      "cell_type": "code",
      "source": [
        "from google.colab import files\n",
        "temp_test = files.upload()"
      ],
      "execution_count": 0,
      "outputs": []
    },
    {
      "metadata": {
        "id": "29twCfxpuc8r",
        "colab_type": "code",
        "colab": {}
      },
      "cell_type": "code",
      "source": [
        "torch.load(io.BytesIO(temp_test['model.json']))"
      ],
      "execution_count": 0,
      "outputs": []
    }
  ]
}
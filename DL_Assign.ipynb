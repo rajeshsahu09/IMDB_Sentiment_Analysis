{
  "nbformat": 4,
  "nbformat_minor": 0,
  "metadata": {
    "colab": {
      "name": "DL_Assign.ipynb",
      "version": "0.3.2",
      "provenance": [],
      "collapsed_sections": [],
      "toc_visible": true,
      "include_colab_link": true
    },
    "kernelspec": {
      "name": "python3",
      "display_name": "Python 3"
    },
    "accelerator": "GPU"
  },
  "cells": [
    {
      "cell_type": "markdown",
      "metadata": {
        "id": "view-in-github",
        "colab_type": "text"
      },
      "source": [
        "<a href=\"https://colab.research.google.com/github/rajeshsahu09/CS69002_9A_18CS60R19/blob/master/DL_Assign.ipynb\" target=\"_parent\"><img src=\"https://colab.research.google.com/assets/colab-badge.svg\" alt=\"Open In Colab\"/></a>"
      ]
    },
    {
      "metadata": {
        "id": "wuB0HM37teAc",
        "colab_type": "text"
      },
      "cell_type": "markdown",
      "source": [
        "# Movie Review Sentiment Analysis"
      ]
    },
    {
      "metadata": {
        "id": "rKlXTA5zfx20",
        "colab_type": "text"
      },
      "cell_type": "markdown",
      "source": [
        "# Run on **GPU**\n",
        "\n"
      ]
    },
    {
      "metadata": {
        "id": "_NV6CE-qtvGO",
        "colab_type": "text"
      },
      "cell_type": "markdown",
      "source": [
        "### Import Header Files"
      ]
    },
    {
      "metadata": {
        "id": "WE7OEcPOtzJf",
        "colab_type": "code",
        "colab": {}
      },
      "cell_type": "code",
      "source": [
        "import torch\n",
        "import pandas as pd\n",
        "import numpy as np\n",
        "import io\n",
        "import time"
      ],
      "execution_count": 0,
      "outputs": []
    },
    {
      "metadata": {
        "id": "v4037ccUuFFp",
        "colab_type": "text"
      },
      "cell_type": "markdown",
      "source": [
        "### Load the Dataset and Visualise"
      ]
    },
    {
      "metadata": {
        "id": "EhWFepP2t3eA",
        "colab_type": "code",
        "colab": {}
      },
      "cell_type": "code",
      "source": [
        "# from google.colab import files\n",
        "# uploaded = files.upload()\n",
        "\n",
        "# import io\n",
        "# df_train = pd.read_csv(io.StringIO(uploaded['Train_20K.csv'].decode('utf-8')), sep='\\t')\n",
        "# df_train.head()\n",
        "url = \"https://raw.githubusercontent.com/binny-mathew/IITKGP_CS69002_Spring_2019/master/Dataset/Train_20K.csv\"\n",
        "df = pd.read_csv(url, sep='\\t')"
      ],
      "execution_count": 0,
      "outputs": []
    },
    {
      "metadata": {
        "id": "mvAXyCoDaR3b",
        "colab_type": "code",
        "outputId": "85e471b0-4938-46be-c07c-b3f34ac19290",
        "colab": {
          "base_uri": "https://localhost:8080/",
          "height": 34
        }
      },
      "cell_type": "code",
      "source": [
        "df.shape"
      ],
      "execution_count": 214,
      "outputs": [
        {
          "output_type": "execute_result",
          "data": {
            "text/plain": [
              "(17999, 2)"
            ]
          },
          "metadata": {
            "tags": []
          },
          "execution_count": 214
        }
      ]
    },
    {
      "metadata": {
        "id": "44YtF48vX24a",
        "colab_type": "code",
        "colab": {}
      },
      "cell_type": "code",
      "source": [
        "df_1 = df[df['label']==1] # get only label == 1\n",
        "df_0 = df[df['label']==0] # get only label == 0\n",
        "\n",
        "range_1 = int(0.9*len(df_1))\n",
        "range_2 = int(0.9*len(df_0))\n",
        "\n",
        "np.random.seed(42) # fix the seed value\n",
        "df_1 = df_1.iloc[np.random.permutation(len(df_1))] # shuffled the data set of label==1\n",
        "df_0 = df_0.iloc[np.random.permutation(len(df_0))] # shuffled the data set of label==0\n",
        "\n",
        "temp_1_train = df_1.iloc[:range_1]\n",
        "temp_2_train = df_0.iloc[:range_2]\n",
        "df_train = pd.concat([temp_1_train, temp_2_train])\n",
        "\n",
        "temp_1_val = df_1.iloc[range_1:]\n",
        "temp_2_val = df_0.iloc[range_2:]\n",
        "df_val = pd.concat([temp_1_val, temp_2_val])"
      ],
      "execution_count": 0,
      "outputs": []
    },
    {
      "metadata": {
        "id": "T9FBTqABuRlO",
        "colab_type": "code",
        "outputId": "84f52e9a-a4d6-4232-82d0-d92bf83ee1a5",
        "colab": {
          "base_uri": "https://localhost:8080/",
          "height": 34
        }
      },
      "cell_type": "code",
      "source": [
        "df_train = df_train.iloc[np.random.permutation(len(df_train))] # shuffled the data set of label==1\n",
        "df_val = df_val.iloc[np.random.permutation(len(df_val))] # shuffled the data set of label==1\n",
        "len(df_train), len(df_val)"
      ],
      "execution_count": 216,
      "outputs": [
        {
          "output_type": "execute_result",
          "data": {
            "text/plain": [
              "(16198, 1801)"
            ]
          },
          "metadata": {
            "tags": []
          },
          "execution_count": 216
        }
      ]
    },
    {
      "metadata": {
        "id": "0WFB1TtsxD3F",
        "colab_type": "code",
        "outputId": "ea8554fc-3d04-4972-9e2e-aecd2b2488c7",
        "colab": {
          "base_uri": "https://localhost:8080/",
          "height": 68
        }
      },
      "cell_type": "code",
      "source": [
        "print('Number of Negative movie reviews', len(df_train[df_train['label']==0]))\n",
        "print('Number of Positive movie reviews', len(df_train[df_train['label']==1]))\n",
        "print('Number of movie reviews', len(df_train['label']))"
      ],
      "execution_count": 217,
      "outputs": [
        {
          "output_type": "stream",
          "text": [
            "Number of Negative movie reviews 8094\n",
            "Number of Positive movie reviews 8104\n",
            "Number of movie reviews 16198\n"
          ],
          "name": "stdout"
        }
      ]
    },
    {
      "metadata": {
        "id": "sYtzJk8r3lm5",
        "colab_type": "code",
        "outputId": "66aa512e-3384-4585-bac0-1a3f3c2118ab",
        "colab": {
          "base_uri": "https://localhost:8080/",
          "height": 68
        }
      },
      "cell_type": "code",
      "source": [
        "print('Number of Negative movie reviews', len(df_val[df_val['label']==0]))\n",
        "print('Number of Positive movie reviews', len(df_val[df_val['label']==1]))\n",
        "print('Number of movie reviews', len(df_val['label']))"
      ],
      "execution_count": 218,
      "outputs": [
        {
          "output_type": "stream",
          "text": [
            "Number of Negative movie reviews 900\n",
            "Number of Positive movie reviews 901\n",
            "Number of movie reviews 1801\n"
          ],
          "name": "stdout"
        }
      ]
    },
    {
      "metadata": {
        "id": "uuZxOMpkQoka",
        "colab_type": "code",
        "colab": {}
      },
      "cell_type": "code",
      "source": [
        "url = \"https://raw.githubusercontent.com/binny-mathew/IITKGP_CS69002_Spring_2019/master/Dataset/Test_5K.csv\"\n",
        "df_test = pd.read_csv(url, sep='\\t')"
      ],
      "execution_count": 0,
      "outputs": []
    },
    {
      "metadata": {
        "id": "TVzhPcGGxf2-",
        "colab_type": "text"
      },
      "cell_type": "markdown",
      "source": [
        "## Data pre-processing"
      ]
    },
    {
      "metadata": {
        "id": "u-8IR64TKH0F",
        "colab_type": "text"
      },
      "cell_type": "markdown",
      "source": [
        "### Get Train Data"
      ]
    },
    {
      "metadata": {
        "id": "JprKnOXgxXkE",
        "colab_type": "code",
        "colab": {}
      },
      "cell_type": "code",
      "source": [
        "train_raw_text_reviews = df_train['text'].astype(str).tolist()\n",
        "train_text_labels = df_train['label'].astype(int).tolist()"
      ],
      "execution_count": 0,
      "outputs": []
    },
    {
      "metadata": {
        "id": "TwU4zROpKLdQ",
        "colab_type": "text"
      },
      "cell_type": "markdown",
      "source": [
        "###Get Validation Data"
      ]
    },
    {
      "metadata": {
        "id": "7TsL1ACWJ_3V",
        "colab_type": "code",
        "colab": {}
      },
      "cell_type": "code",
      "source": [
        "val_raw_text_reviews = df_val['text'].astype(str).tolist()\n",
        "val_text_labels = df_val['label'].astype(int).tolist()"
      ],
      "execution_count": 0,
      "outputs": []
    },
    {
      "metadata": {
        "id": "YixDzEnXLZN-",
        "colab_type": "text"
      },
      "cell_type": "markdown",
      "source": [
        "###Get Test Data"
      ]
    },
    {
      "metadata": {
        "id": "MQHaSpnJJ9eT",
        "colab_type": "code",
        "colab": {}
      },
      "cell_type": "code",
      "source": [
        "test_raw_text_reviews = df_test['text'].astype(str).tolist()\n",
        "test_text_labels = df_test['label'].astype(int).tolist()"
      ],
      "execution_count": 0,
      "outputs": []
    },
    {
      "metadata": {
        "id": "ui-q6WRqOrB4",
        "colab_type": "text"
      },
      "cell_type": "markdown",
      "source": [
        "#### Cleaning the raw input data"
      ]
    },
    {
      "metadata": {
        "id": "8_4b4FmShb0u",
        "colab_type": "code",
        "outputId": "dd0ad6b5-5823-42b2-d262-578c1526d172",
        "colab": {
          "base_uri": "https://localhost:8080/",
          "height": 34
        }
      },
      "cell_type": "code",
      "source": [
        "import re\n",
        "import string\n",
        "# import nltk\n",
        "# nltk.download(\"stopwords\")\n",
        "# from nltk.corpus import stopwords\n",
        "\n",
        "# # Finding stop words\n",
        "# stop_words = set(stopwords.words('english'))\n",
        "\n",
        "import spacy\n",
        "print('spaCy Version: %s' % (spacy.__version__))\n",
        "spacy_nlp = spacy.load('en_core_web_sm')\n",
        "# stop word list\n",
        "stop_words = set(spacy.lang.en.stop_words.STOP_WORDS)"
      ],
      "execution_count": 283,
      "outputs": [
        {
          "output_type": "stream",
          "text": [
            "spaCy Version: 2.0.18\n"
          ],
          "name": "stdout"
        }
      ]
    },
    {
      "metadata": {
        "id": "s3AxEhD_z1DM",
        "colab_type": "code",
        "colab": {}
      },
      "cell_type": "code",
      "source": [
        "def preprocess_document(doc):\n",
        "    # negative sense should not be eleminated + some short representation\n",
        "    CONTRACTIONS = {\"mayn't\":\"may not\", \"can't\":\"can not\", \"won't\":\"will not\", \"isn't\":\"is not\", \"amn't\":\"am not\",\\\n",
        "                  \"aren't\":\"are not\", \"wasn't\":\"was not\", \"weren't\":\"were not\", \"couldn't\":\"could not\", \\\n",
        "                  \"wouldn't\":\"would not\", \"don't\":\"do not\", \"doesn't\":\"does not\",\\\n",
        "                  \"i'll\":\"i will\", \"you'll\":\"you will\", \"they'll\":\"they will\",\\\n",
        "                  \"may've\":\"may have\", \"can've\":\"can have\", \"will've\":\"will have\", \"you've\":\"you have\", \\\n",
        "                  \"could've\":\"could have\", \"would've\":\"would have\", \"you've\":\"you have\", \"they\":\"they have\",\\\n",
        "                  \"i've\":\"i have\", \"you've\":\"you have\", \"we've\":\"we have\", \"there's\":\"there is\", \"i'm\":\"i am\",\\\n",
        "                  \"it's\":\"it is\", \"what's\":\"what is\", \"where's\":\"where is\", \"how's\":\"how is\", \"i'd\":\"i had\"}\n",
        "    punctuation = string.punctuation + \"\\n\\n\"\n",
        "    punc_replace = ''.join([' ' for s in punctuation]) # required for replacing punctuation with null ('')\n",
        "    doc_clean = doc.replace('-', ' ') # replace - with null str\n",
        "    doc_clean = (doc_clean.encode('ascii', 'ignore')).decode(\"utf-8\")\n",
        "    doc_clean = doc_clean.replace('<br />', '') # replace <br /> with ''\n",
        "    doc_clean = doc_clean.replace(\"’\", \"'\") # replace <br /> with null str\n",
        "    doc_clean = [CONTRACTIONS[word] if word in CONTRACTIONS else word for word in doc_clean.split(' ')] # replacing some common short forms\n",
        "    doc_clean = \" \".join(doc_clean) # list to sentence of strings\n",
        "    doc_clean = re.sub(r'\\W +', ' ', doc_clean) # except [a-zA-Z0-9_]\n",
        "    doc_clean = re.sub(r'\\d+', ' ', doc_clean) # remove numbers [0-9]\n",
        "    trans_table = str.maketrans(punctuation, punc_replace); # replace punctuations with ' '\n",
        "    doc_clean = ' '.join([word.translate(trans_table) for word in doc_clean.split(' ')])\n",
        "    doc_clean = doc_clean.split(' ')\n",
        "    doc_clean = [word for word in doc_clean if len(word) > 0]\n",
        "    # removing the stopwords from a sentence\n",
        "    doc_clean = [word for word in doc_clean if not word.lower() in stop_words or word.lower() == 'not' or word.lower() == 'no']\n",
        "    return doc_clean"
      ],
      "execution_count": 0,
      "outputs": []
    },
    {
      "metadata": {
        "id": "rSNuXUopzavX",
        "colab_type": "code",
        "outputId": "d44d1016-3940-4ffc-83c5-a1f4229d577b",
        "colab": {
          "base_uri": "https://localhost:8080/",
          "height": 71
        }
      },
      "cell_type": "code",
      "source": [
        "train_text_reviews = [preprocess_document(review.lower()) for review in train_raw_text_reviews]\n",
        "print (train_text_reviews[len(train_text_reviews)-2])\n",
        "print (train_text_labels[len(train_text_labels)-2])"
      ],
      "execution_count": 285,
      "outputs": [
        {
          "output_type": "stream",
          "text": [
            "['tales', 'told', 'film', 'shot', 'knowledge', 'combined', 'vignette', 'film', 'makers', 'relate', 'vignettes', 'having', 'connected', 'shrink', 'martin', 'kove', 'leads', 'kove', 'vignette', 'sexy', 'vivian', 'schilling', 'woman', 'afraid', 'sun', 'makes', 'adrian', 'monk', 'look', 'brave', 'having', 'paranoia', 'laced', 'evening', 'home', 'literally', 'scream', 'vivian', 'ridiculous', 'things', 'spends', 'majority', 'time', 'nighty', 'shows', 'amazing', 'features', 'film', 'worst', 'not', 'nail', 'biting', 'second', 'vignette', 'owned', 'bill', 'paxton', 'portrays', 'roommate', 'hell', 'geeky', 'roommate', 'allows', 'complete', 'advantage', 'bill', 'vignette', 'funny', 'man', 'fears', 'death', 'moment', 'like', 'pal', 'choked', 'death', 'olive', 'not', 'interesting', 'movie', 'chopped', 'little', 'thought', 'involved', 'bill', 'paxton', 'fans']\n",
            "0\n"
          ],
          "name": "stdout"
        }
      ]
    },
    {
      "metadata": {
        "id": "W6psZ2jxNOoP",
        "colab_type": "code",
        "outputId": "108a15f5-5248-448b-bfc7-90f84bd8a040",
        "colab": {
          "base_uri": "https://localhost:8080/",
          "height": 71
        }
      },
      "cell_type": "code",
      "source": [
        "val_text_reviews = [preprocess_document(review.lower()) for review in val_raw_text_reviews]\n",
        "print (val_text_reviews[len(val_text_reviews)-2])\n",
        "print (val_text_labels[len(val_text_labels)-2])"
      ],
      "execution_count": 286,
      "outputs": [
        {
          "output_type": "stream",
          "text": [
            "['didn', 't', 'realize', 'sellers', 'poor', 'health', 'time', 'filming', 'passed', 'away', 'film', 's', 'release', 'fiendish', 'plot', 'dr', 'fu', 'manchu', 'painful', 'viewing', 'supposedly', 'lampoon', 'sax', 'rohmer', 's', 'famous', 'oriental', 'villain', 'lacks', 'focus', 'potential', 'satirical', 'commentary', 'anti', 'oriental', 'overtones', 'rohmer', 's', 'concept', 'ignored', 'movie', 'employs', 'racist', 'insults', 'hardly', 'actual', 'jokes', 'gags', 'actors', 'behaving', 'idiotically', 'spouting', 'dreary', 'lines', 'especially', 'distressing', 'sid', 'caesar', 'forced', 'spout', 'curses', 'racial', 'slurs', 'attempted', 'laughs', 'actors', 'embarrass', 'peter', 'sellers', 'plays', 'dual', 'roles', 'sinister', 'fu', 'manchu', 'trying', 'concoct', 'formula', 'regain', 'youth', 'stalwart', 'british', 'foe', 'nayland', 'smith', 'sellers', 'not', 'cent', 'bad', 'conveys', 'quirky', 'warmth', 'smith', 'discusses', 'fetishistic', 'attachment', 'lawn', 'mower', 's', 'oddly', 'moving', 'manchu', 'expresses', 'love', 'english', 'music', 'hall', 'entertainment', 'time', 'plays', 'roles', 'weary', 'grimness', 'sabotaging', 'comical', 'possibilities', 'sellers', 'routines', 'revitalizes', 'fading', 'strength', 'electric', 'shocks', 'particularly', 'excruciating', 'convincingly', 'agonized', 'funny', 'genuinely', 'witty', 'lines', 'apt', 'slapstick', 'bit', 'burt', 'kwouk', 'cato', 'pink', 'panther', 'films', 'manchu', 's', 'minions', 'helen', 'mirren', 's', 'amusing', 'musical', 'numbers', 'salvage', 'mess', 'wants', 'understand', 'peter', 'sellers', 'considered', 'comedic', 'genius', 'not', 'learn', 'fiendish', 'plot', 'dr', 'fu', 'manchu']\n",
            "0\n"
          ],
          "name": "stdout"
        }
      ]
    },
    {
      "metadata": {
        "id": "REdaGj3VNOEX",
        "colab_type": "code",
        "outputId": "ba7d7eaf-fa05-4f77-9209-281d1cf53575",
        "colab": {
          "base_uri": "https://localhost:8080/",
          "height": 71
        }
      },
      "cell_type": "code",
      "source": [
        "test_text_reviews = [preprocess_document(review.lower()) for review in test_raw_text_reviews]\n",
        "print (test_text_reviews[len(test_text_reviews)-2])\n",
        "print (test_text_labels[len(test_text_labels)-2])"
      ],
      "execution_count": 287,
      "outputs": [
        {
          "output_type": "stream",
          "text": [
            "['shining', 'know', 'weird', 'movie', 'movie', 'people', 'claim', 'not', 'like', 'horror', 'films', 'shining', 'terrific', 'film', 'stanley', 'kubrick', 's', 'classic', 'vision', 'stephen', 'king', 's', 'horror', 'tale', 'madness', 'blood', 'incredible', 'film', 'wither', 'seen', 'not', 'heard', 'know', 'lines', 'know', 'classic', 'images', 'forget', 'jack', 's', 's', 'johnny', 'forget', 'work', 'no', 'play', 'jack', 'dull', 'boy', 'forget', 'chilling', 'ending', 'film', 'unforgettable', 'honestly', 'opinion', 'kubrick', 's', 'best', 'work', 'know', 'lot', 'argument', 'department', 'lot', 'people', 'space', 'odyssey', 'clockwork', 'orange', 'dr', 'strangelove', 'film', 'pioneered', 'film', 'making', 'shining', 'perfected', 'tale', 'isolation', 'madness', 'terrifying', 'images', 'ultimate', 'ghost', 'story', 'crawl', 'underneath', 'skin', 'jack', 'torrance', 'jack', 's', 'son', 'danny', 'jack', 's', 'wife', 'wendy', 'arrive', 'overlook', 'hotel', 'closing', 'day', 'elderly', 'african', 'american', 'chef', 'dick', 'hallorann', 'surprises', 'danny', 'speaking', 'telepathically', 'offering', 'ice', 'cream', 'explains', 'danny', 'grandmother', 'shared', 'gift', 'called', 'communication', 'shining', 'danny', 'asks', 'afraid', 'hotel', 'particularly', 'room', 'dick', 'tells', 'danny', 'hotel', 'certain', 'shine', 'memories', 'not', 'good', 'advises', 'stay', 'room', 'circumstances', 'danny', 's', 'curiosity', 'room', 'finally', 'gets', 'better', 'sees', 'room', 'opened', 'danny', 'shows', 'injured', 'visibly', 'traumatized', 'jack', 'tells', 'wendy', 'loves', 'family', 'seeing', 'wendy', 'thinks', 'jack', 'abusing', 'danny', 'jack', 'wanders', 'hotel', 's', 'gold', 'room', 'meets', 'ghostly', 'bartender', 'named', 'lloyd', 'danny', 'starts', 'calling', 'word', 'redrum', 'frantically', 'scribbling', 'walls', 'goes', 'trance', 'withdraws', 'says', 'tony', 'imaginary', 'friend', 'jack', 'sabotages', 'hotel', 'radio', 'cutting', 'communication', 'outside', 'world', 'hallorann', 'received', 'danny', 's', 'telepathic', 'cry', 'help', 'way', 'wendy', 'discovers', 'jack', 'typing', 'endless', 'pages', 'manuscript', 'repeating', 'work', 'no', 'play', 'makes', 'jack', 'dull', 'boy', 'formatted', 'ways', 'horrified', 'jack', 'threatens', 'knocks', 'unconscious', 'baseball', 'bat', 'locking', 'storage', 'locker', 'kitchen', 'jack', 'converses', 'grady', 'door', 'locker', 'unlocks', 'releasing', 'danny', 'written', 'redrum', 'lipstick', 'door', 'wendy', 's', 'bedroom', 'looks', 'mirror', 'sees', 'murder', 'spelled', 'backwards', 'jack', 'picks', 'axe', 'begins', 'chop', 'door', 'leading', 'family', 's', 'living', 'quarters', 's', 'johnny', 'jack', 's', 'legendary', 'image', 'born', 'shining', 'films', 'seriously', 'time', 'incredible', 'film', 'gives', 'nightmares', 'jack', 'nicholson', 's', 'performance', 'timeless', 'unforgettable', 'feel', 'extremely', 'overlooked', 'shelley', 'duvall', 'scene', 'finding', 'jack', 's', 'rant', 'work', 'incredible', 's', 'look', 'horror', 'fear', 'face', 'realizing', 'husband', 'mad', 'incredible', 'scene', 'jack', 'sees', 'ghost', 'woman', 'bathtub', 'honestly', 'terrifying', 'scenes', 'horror', 'cinema', 'reason', 'film', 'known', 'film', 'perfection', 'simpsons', 'shown', 'films', 'film', 'forever', 'stay', 'trust']\n",
            "1\n"
          ],
          "name": "stdout"
        }
      ]
    },
    {
      "metadata": {
        "id": "ydrqMX261kQ-",
        "colab_type": "code",
        "outputId": "7774267c-7c8e-4da6-bed9-2e53baf2e29c",
        "colab": {
          "base_uri": "https://localhost:8080/",
          "height": 34
        }
      },
      "cell_type": "code",
      "source": [
        "import gc\n",
        "gc.collect()"
      ],
      "execution_count": 288,
      "outputs": [
        {
          "output_type": "execute_result",
          "data": {
            "text/plain": [
              "832"
            ]
          },
          "metadata": {
            "tags": []
          },
          "execution_count": 288
        }
      ]
    },
    {
      "metadata": {
        "id": "xWfJK2HvwwQn",
        "colab_type": "code",
        "colab": {}
      },
      "cell_type": "code",
      "source": [
        "def build_vocabulary(sentences):\n",
        "    # Build vocabulary\n",
        "    dictWordCount = {}\n",
        "    for sent in sentences:\n",
        "        for word in sent:\n",
        "            dictWordCount[word] = 0 # initialising the dict value to zero\n",
        "    for sent in sentences:\n",
        "        for word in sent:\n",
        "            dictWordCount[word] += 1 # updating the dictionary count\n",
        "    \n",
        "    temp = dictWordCount.copy()\n",
        "    for key, val in temp.items():\n",
        "        if(dictWordCount[key] <= 10):\n",
        "            del dictWordCount[key]\n",
        "    \n",
        "    # Mapping from index to word\n",
        "    vocabulary_inv = sorted(dictWordCount, key=dictWordCount.__getitem__, reverse=True)\n",
        "    \n",
        "    # Mapping from word to index\n",
        "    vocabulary = {x: i for i, x in enumerate(vocabulary_inv)}\n",
        "    return vocabulary, vocabulary_inv"
      ],
      "execution_count": 0,
      "outputs": []
    },
    {
      "metadata": {
        "id": "MKifaS85Dkap",
        "colab_type": "text"
      },
      "cell_type": "markdown",
      "source": [
        "###Creating Tokens and Types"
      ]
    },
    {
      "metadata": {
        "id": "9cpQlJ3TytgZ",
        "colab_type": "code",
        "colab": {}
      },
      "cell_type": "code",
      "source": [
        "word_to_ix, ix_to_word = build_vocabulary(train_text_reviews+val_text_reviews+test_text_reviews)"
      ],
      "execution_count": 0,
      "outputs": []
    },
    {
      "metadata": {
        "id": "PLBgxuf0xDB9",
        "colab_type": "code",
        "outputId": "bfa7a49c-af8e-4391-ef9a-0b0ef1994075",
        "colab": {
          "base_uri": "https://localhost:8080/",
          "height": 34
        }
      },
      "cell_type": "code",
      "source": [
        "VOCAB_SIZE = len(word_to_ix)\n",
        "ix_to_word[word_to_ix['kick']]=='kick', word_to_ix['kick'], VOCAB_SIZE"
      ],
      "execution_count": 291,
      "outputs": [
        {
          "output_type": "execute_result",
          "data": {
            "text/plain": [
              "(True, 1711, 17746)"
            ]
          },
          "metadata": {
            "tags": []
          },
          "execution_count": 291
        }
      ]
    },
    {
      "metadata": {
        "id": "GMbWbZdr1reC",
        "colab_type": "code",
        "outputId": "36b0eb25-3e41-4d87-e276-aace45ef55b8",
        "colab": {
          "base_uri": "https://localhost:8080/",
          "height": 34
        }
      },
      "cell_type": "code",
      "source": [
        "gc.collect()"
      ],
      "execution_count": 292,
      "outputs": [
        {
          "output_type": "execute_result",
          "data": {
            "text/plain": [
              "393"
            ]
          },
          "metadata": {
            "tags": []
          },
          "execution_count": 292
        }
      ]
    },
    {
      "metadata": {
        "id": "yNUlKuJeNJEu",
        "colab_type": "text"
      },
      "cell_type": "markdown",
      "source": [
        "## PyTorch"
      ]
    },
    {
      "metadata": {
        "id": "SqLOymKPLPug",
        "colab_type": "code",
        "colab": {}
      },
      "cell_type": "code",
      "source": [
        "import torch.nn as nn\n",
        "import torch.nn.functional as F\n",
        "from torch.autograd import Variable # Automatic gradients are calculated and back-propagated through the computational graph\n",
        "import copy\n",
        "import csv\n",
        "import time\n",
        "from google.colab import files"
      ],
      "execution_count": 0,
      "outputs": []
    },
    {
      "metadata": {
        "id": "sWqAwOAI7D54",
        "colab_type": "text"
      },
      "cell_type": "markdown",
      "source": [
        "## Generate the BOW Vectors"
      ]
    },
    {
      "metadata": {
        "id": "UZK9TAQI7Fbm",
        "colab_type": "code",
        "colab": {}
      },
      "cell_type": "code",
      "source": [
        "def make_bow_vector(sentence, word_to_ix):\n",
        "    # create a vector of zeros of vocab size = len(word_to_idx)\n",
        "    vec = torch.zeros(len(word_to_ix)).to('cuda:0') #, device=device) # make 1D vector of len = vocab size\n",
        "    for word in sentence:\n",
        "        if word not in word_to_ix:            \n",
        "#             raise ValueError('Word',word,' not present in the dictionary. Sorry!')\n",
        "            pass\n",
        "        else:\n",
        "            vec[word_to_ix[word]]+=1 # count the number of occurance of same word in a sentences\n",
        "            \n",
        "    return vec.view(1, -1)"
      ],
      "execution_count": 0,
      "outputs": []
    },
    {
      "metadata": {
        "id": "6p3T6oo_T99z",
        "colab_type": "text"
      },
      "cell_type": "markdown",
      "source": [
        "### Store in input sentences torch vector"
      ]
    },
    {
      "metadata": {
        "id": "W7xoiOiAyZN5",
        "colab_type": "code",
        "outputId": "755180c2-240f-41f6-f659-4322893b7d23",
        "colab": {
          "base_uri": "https://localhost:8080/",
          "height": 34
        }
      },
      "cell_type": "code",
      "source": [
        "# store the bag of word vectors for each sentences and wraping to tensor of torch type\n",
        "tic = time.time()\n",
        "train_data = [Variable(make_bow_vector(instance, word_to_ix)).to('cuda:0') for instance in train_text_reviews]\n",
        "num_train_data = len(train_text_reviews)\n",
        "\n",
        "val_data = [Variable(make_bow_vector(instance, word_to_ix)).to('cuda:0') for instance in val_text_reviews]\n",
        "num_val_data = len(val_text_reviews)\n",
        "toc = time.time()\n",
        "num_train_data, num_val_data, (toc-tic)"
      ],
      "execution_count": 295,
      "outputs": [
        {
          "output_type": "execute_result",
          "data": {
            "text/plain": [
              "(16198, 1801, 82.78127646446228)"
            ]
          },
          "metadata": {
            "tags": []
          },
          "execution_count": 295
        }
      ]
    },
    {
      "metadata": {
        "id": "deO_hz8vT19u",
        "colab_type": "text"
      },
      "cell_type": "markdown",
      "source": [
        "### Validation Accuracy Computation"
      ]
    },
    {
      "metadata": {
        "id": "cStQIVFfESWM",
        "colab_type": "code",
        "colab": {}
      },
      "cell_type": "code",
      "source": [
        "def evaluate_validation_accuracy(data, net, activation='sigmoid'):\n",
        "    sum_loss = 0\n",
        "    \n",
        "    true_positive = 0\n",
        "    true_negative = 0\n",
        "    false_positive = 0\n",
        "    false_negative = 0\n",
        "    \n",
        "    for i, instance in enumerate(data):\n",
        "        label = val_text_labels[i] # get the label of the corresponding instace\n",
        "        label = Variable(torch.FloatTensor([label])).resize_((1,1)).to('cuda:0') # wraps a tensor for label\n",
        "        \n",
        "#         vec = Variable(make_bow_vector(instance, word_to_ix)).to('cuda:0') # wrap to tensor of torch type for instance\n",
        "        \n",
        "#         prob = net.forward(vec) # forward pass\n",
        "\n",
        "        prob = net.forward(instance)\n",
        "    \n",
        "        if(activation == 'sigmoid'):\n",
        "            _class = 1 if prob.item() > 0.5 else 0 # sigmoid activated\n",
        "        \n",
        "        if(activation == 'tanh'):\n",
        "            _class = 1 if prob.item() > 0.0 else 0 # tanh activated\n",
        "        \n",
        "        if(activation == 'relu'):\n",
        "            _class = np.argmax(prob.item()) # relu activated\n",
        "        \n",
        "        loss = loss_function(prob, label) # compute the loss\n",
        "        \n",
        "        sum_loss += float(loss.item())\n",
        "        \n",
        "#         if(int(label) == _class and _class == 1):\n",
        "#             true_positive += 1\n",
        "            \n",
        "#         if(int(label) == _class and _class == 0):\n",
        "#             true_negative += 1\n",
        "        \n",
        "#         if(_class == 1 and int(label) == 0):\n",
        "#             false_positive += 1\n",
        "            \n",
        "#         if(_class == 0 and int(label) == 1):\n",
        "#             false_negative += 1\n",
        "    \n",
        "    \n",
        "#     precision = float(true_positive) / (true_positive + false_positive)\n",
        "#     recall = float(true_positive) / (true_positive + false_negative)\n",
        "#     f_score = float(2)*precision*recall / (precision + recall)\n",
        "#     accuracy = float(1)*(true_positive+true_negative)/(true_positive+true_negative+false_positive+false_negative)\n",
        "    \n",
        "    return float(sum_loss)/len(data)#, float(100)*accuracy, precision, recall, f_score"
      ],
      "execution_count": 0,
      "outputs": []
    },
    {
      "metadata": {
        "id": "SaSwXEBh6565",
        "colab_type": "text"
      },
      "cell_type": "markdown",
      "source": [
        "##Task-1"
      ]
    },
    {
      "metadata": {
        "id": "aCYGwbP7zy8i",
        "colab_type": "code",
        "colab": {}
      },
      "cell_type": "code",
      "source": [
        "task1 = [(50, 'Task1A.mdl'), (100, 'Task1B.mdl'), (200, 'Task1C.mdl'), (500, 'Task1D.mdl')]"
      ],
      "execution_count": 0,
      "outputs": []
    },
    {
      "metadata": {
        "id": "PM5I4GP6lFGu",
        "colab_type": "code",
        "outputId": "61221f56-a8b1-48a0-cc11-cf4076385d03",
        "colab": {
          "base_uri": "https://localhost:8080/",
          "height": 7092
        }
      },
      "cell_type": "code",
      "source": [
        "for num_of_hidden, task_name in task1:\n",
        "    class BOWClassifier(nn.Module):\n",
        "        def __init__(self, input_size, hidden_size, output_size):\n",
        "            super(BOWClassifier, self).__init__()\n",
        "            SEED = 42\n",
        "            torch.manual_seed(SEED)\n",
        "            torch.cuda.manual_seed(SEED)\n",
        "            self.hidden_size = hidden_size\n",
        "            self.i2h = nn.Linear(input_size, hidden_size) # initialises weights and biases i2h\n",
        "            self.h2o = nn.Linear(hidden_size, output_size) # initialises weights and biases h2o\n",
        "\n",
        "        def forward(self, x):\n",
        "            x = torch.relu(self.i2h(x)) # relu activation @ hidden layer\n",
        "            x = torch.sigmoid(self.h2o(x)) # sigmoid activation @ output layer\n",
        "            return x\n",
        "\n",
        "    num_of_input = VOCAB_SIZE # Bag word restriction has to be equal to vocabulary\n",
        "    num_of_output = 1 # binary sentiment classes (+ve, -ve)\n",
        "\n",
        "    bow = BOWClassifier(num_of_input, num_of_hidden, num_of_output).to('cuda:0') # initialises weights and biases\n",
        "    \n",
        "    # define a loss function and an optimizer\n",
        "    loss_function = nn.BCELoss()\n",
        "    opt = torch.optim.SGD(bow.parameters(), lr = 0.0001)\n",
        "    \n",
        "    gc.collect()\n",
        "\n",
        "    # Train The Model\n",
        "    epochs = 100\n",
        "    # the training loop\n",
        "    total_time = 0.0\n",
        "    prev_val_loss = float('inf')\n",
        "    val_loss = 0\n",
        "    early_stop_bow = 0\n",
        "\n",
        "    for e in range(epochs):\n",
        "        tic = time.time() # start the timer\n",
        "        correct = 0\n",
        "        cumulative_loss = 0\n",
        "        incorrect = 0\n",
        "\n",
        "        for i, instance in enumerate(train_data): # train_text_reviews \n",
        "            # get the training data\n",
        "            label = train_text_labels[i] # get the label of the corresponding instace\n",
        "            label = Variable(torch.FloatTensor([label])).resize_((1,1)).to('cuda:0') # wraps a tensor for label\n",
        "\n",
        "            bow.zero_grad() # reset the gradient for each instance\n",
        "\n",
        "            pred = bow.forward(instance)\n",
        "\n",
        "            loss = loss_function(pred, label) # compute the loss\n",
        "            loss.backward() # backprop the loss\n",
        "            opt.step() # performs parameter updation based on the current gradient\n",
        "\n",
        "            cumulative_loss += float(loss.item()) # accumulate the loss over whole training sample\n",
        "\n",
        "            pred_class = 1 if pred.item() > 0.5 else 0 # as sigmoid activated\n",
        "            if(int(label) == pred_class): # counting correct prediction in each epoch\n",
        "                correct += 1\n",
        "\n",
        "        train_loss = float(cumulative_loss)/num_train_data\n",
        "        train_accuracy = correct*float(100)/num_train_data\n",
        "\n",
        "#         val_loss, val_accuracy, p, r, f = evaluate_validation_accuracy(val_data, bow) # test val-data-set on currently trained model\n",
        "        val_loss = evaluate_validation_accuracy(val_data, bow) # test val-data-set on currently trained model\n",
        "        \n",
        "        if(prev_val_loss-val_loss < 0.0): # early stop if nearly no change\n",
        "            bow = copy.deepcopy(early_stop_bow)\n",
        "            break\n",
        "\n",
        "        early_stop_bow = copy.deepcopy(bow)\n",
        "        \n",
        "        prev_val_loss = val_loss\n",
        "\n",
        "        toc = time.time() # final time\n",
        "        total_time += (toc-tic)\n",
        "\n",
        "        print(\"Epoch {}/{}\\n[On Training] ==> Time: {:.2f}s, Train Loss: {:.9f}, Train Accuracy: {:.2f}%\".format(e+1, epochs, (toc-tic), train_loss, train_accuracy))\n",
        "#         print(\"[On Validation] ==> Precision: {:.3f}, Recall: {:.3f}, F-Score: {:.3f}, Val loss: {:.9f}, Val Accuracy: {:.2f}% Total Time: {:.2f}s\".format(p, r, f, val_loss, val_accuracy, total_time))\n",
        "        print(\"[On Validation] ==> Val loss: {:.9f}, Total Time: {:.2f}s\".format(val_loss, total_time))\n",
        "    torch.save(bow, task_name)\n",
        "    \n",
        "    print ('\\n')"
      ],
      "execution_count": 302,
      "outputs": [
        {
          "output_type": "stream",
          "text": [
            "Epoch 1/100\n",
            "[On Training] ==> Time: 23.06s, Train Loss: 0.681705095, Train Accuracy: 59.83%\n",
            "[On Validation] ==> Val loss: 0.666637056, Total Time: 23.06s\n",
            "Epoch 2/100\n",
            "[On Training] ==> Time: 23.06s, Train Loss: 0.649834897, Train Accuracy: 71.06%\n",
            "[On Validation] ==> Val loss: 0.630639151, Total Time: 46.12s\n",
            "Epoch 3/100\n",
            "[On Training] ==> Time: 23.07s, Train Loss: 0.610761846, Train Accuracy: 74.96%\n",
            "[On Validation] ==> Val loss: 0.589656338, Total Time: 69.18s\n",
            "Epoch 4/100\n",
            "[On Training] ==> Time: 23.29s, Train Loss: 0.567034283, Train Accuracy: 77.96%\n",
            "[On Validation] ==> Val loss: 0.547316584, Total Time: 92.47s\n",
            "Epoch 5/100\n",
            "[On Training] ==> Time: 23.46s, Train Loss: 0.523517547, Train Accuracy: 80.12%\n",
            "[On Validation] ==> Val loss: 0.508655596, Total Time: 115.93s\n",
            "Epoch 6/100\n",
            "[On Training] ==> Time: 23.07s, Train Loss: 0.484684351, Train Accuracy: 81.76%\n",
            "[On Validation] ==> Val loss: 0.476580857, Total Time: 139.00s\n",
            "Epoch 7/100\n",
            "[On Training] ==> Time: 23.01s, Train Loss: 0.452042349, Train Accuracy: 82.96%\n",
            "[On Validation] ==> Val loss: 0.451059309, Total Time: 162.01s\n",
            "Epoch 8/100\n",
            "[On Training] ==> Time: 23.05s, Train Loss: 0.424890700, Train Accuracy: 84.04%\n",
            "[On Validation] ==> Val loss: 0.430740765, Total Time: 185.06s\n",
            "Epoch 9/100\n",
            "[On Training] ==> Time: 22.91s, Train Loss: 0.401949426, Train Accuracy: 84.89%\n",
            "[On Validation] ==> Val loss: 0.414232479, Total Time: 207.96s\n",
            "Epoch 10/100\n",
            "[On Training] ==> Time: 22.96s, Train Loss: 0.382149114, Train Accuracy: 85.59%\n",
            "[On Validation] ==> Val loss: 0.400554505, Total Time: 230.92s\n",
            "Epoch 11/100\n",
            "[On Training] ==> Time: 22.98s, Train Loss: 0.364734929, Train Accuracy: 86.26%\n",
            "[On Validation] ==> Val loss: 0.389032839, Total Time: 253.90s\n",
            "Epoch 12/100\n",
            "[On Training] ==> Time: 23.05s, Train Loss: 0.349214595, Train Accuracy: 87.05%\n",
            "[On Validation] ==> Val loss: 0.379227757, Total Time: 276.95s\n",
            "Epoch 13/100\n",
            "[On Training] ==> Time: 23.09s, Train Loss: 0.335251543, Train Accuracy: 87.62%\n",
            "[On Validation] ==> Val loss: 0.370829720, Total Time: 300.03s\n",
            "Epoch 14/100\n",
            "[On Training] ==> Time: 22.99s, Train Loss: 0.322610657, Train Accuracy: 88.17%\n",
            "[On Validation] ==> Val loss: 0.363629171, Total Time: 323.02s\n",
            "Epoch 15/100\n",
            "[On Training] ==> Time: 22.99s, Train Loss: 0.311110765, Train Accuracy: 88.69%\n",
            "[On Validation] ==> Val loss: 0.357449959, Total Time: 346.01s\n",
            "Epoch 16/100\n",
            "[On Training] ==> Time: 23.04s, Train Loss: 0.300601529, Train Accuracy: 88.95%\n",
            "[On Validation] ==> Val loss: 0.352136252, Total Time: 369.05s\n",
            "Epoch 17/100\n",
            "[On Training] ==> Time: 23.34s, Train Loss: 0.290954471, Train Accuracy: 89.42%\n",
            "[On Validation] ==> Val loss: 0.347570202, Total Time: 392.39s\n",
            "Epoch 18/100\n",
            "[On Training] ==> Time: 22.98s, Train Loss: 0.282060537, Train Accuracy: 89.78%\n",
            "[On Validation] ==> Val loss: 0.343643173, Total Time: 415.37s\n",
            "Epoch 19/100\n",
            "[On Training] ==> Time: 23.36s, Train Loss: 0.273827891, Train Accuracy: 90.15%\n",
            "[On Validation] ==> Val loss: 0.340262304, Total Time: 438.73s\n",
            "Epoch 20/100\n",
            "[On Training] ==> Time: 22.90s, Train Loss: 0.266174693, Train Accuracy: 90.50%\n",
            "[On Validation] ==> Val loss: 0.337354283, Total Time: 461.63s\n",
            "Epoch 21/100\n",
            "[On Training] ==> Time: 23.05s, Train Loss: 0.259033906, Train Accuracy: 90.83%\n",
            "[On Validation] ==> Val loss: 0.334848357, Total Time: 484.68s\n",
            "Epoch 22/100\n",
            "[On Training] ==> Time: 23.02s, Train Loss: 0.252346325, Train Accuracy: 91.09%\n",
            "[On Validation] ==> Val loss: 0.332691275, Total Time: 507.70s\n",
            "Epoch 23/100\n",
            "[On Training] ==> Time: 23.07s, Train Loss: 0.246057648, Train Accuracy: 91.32%\n",
            "[On Validation] ==> Val loss: 0.330843446, Total Time: 530.77s\n",
            "Epoch 24/100\n",
            "[On Training] ==> Time: 23.04s, Train Loss: 0.240124208, Train Accuracy: 91.50%\n",
            "[On Validation] ==> Val loss: 0.329258181, Total Time: 553.81s\n",
            "Epoch 25/100\n",
            "[On Training] ==> Time: 23.02s, Train Loss: 0.234509083, Train Accuracy: 91.74%\n",
            "[On Validation] ==> Val loss: 0.327911623, Total Time: 576.83s\n",
            "Epoch 26/100\n",
            "[On Training] ==> Time: 23.04s, Train Loss: 0.229178639, Train Accuracy: 91.96%\n",
            "[On Validation] ==> Val loss: 0.326771351, Total Time: 599.87s\n",
            "Epoch 27/100\n",
            "[On Training] ==> Time: 22.99s, Train Loss: 0.224104119, Train Accuracy: 92.15%\n",
            "[On Validation] ==> Val loss: 0.325820935, Total Time: 622.86s\n",
            "Epoch 28/100\n",
            "[On Training] ==> Time: 23.03s, Train Loss: 0.219262013, Train Accuracy: 92.41%\n",
            "[On Validation] ==> Val loss: 0.325040913, Total Time: 645.89s\n",
            "Epoch 29/100\n",
            "[On Training] ==> Time: 23.08s, Train Loss: 0.214632127, Train Accuracy: 92.61%\n",
            "[On Validation] ==> Val loss: 0.324416180, Total Time: 668.96s\n",
            "Epoch 30/100\n",
            "[On Training] ==> Time: 23.30s, Train Loss: 0.210196805, Train Accuracy: 92.78%\n",
            "[On Validation] ==> Val loss: 0.323935933, Total Time: 692.26s\n",
            "Epoch 31/100\n",
            "[On Training] ==> Time: 23.02s, Train Loss: 0.205939991, Train Accuracy: 92.93%\n",
            "[On Validation] ==> Val loss: 0.323584122, Total Time: 715.28s\n",
            "Epoch 32/100\n",
            "[On Training] ==> Time: 23.49s, Train Loss: 0.201847583, Train Accuracy: 93.11%\n",
            "[On Validation] ==> Val loss: 0.323348896, Total Time: 738.77s\n",
            "Epoch 33/100\n",
            "[On Training] ==> Time: 23.00s, Train Loss: 0.197906682, Train Accuracy: 93.27%\n",
            "[On Validation] ==> Val loss: 0.323222940, Total Time: 761.76s\n",
            "Epoch 34/100\n",
            "[On Training] ==> Time: 22.98s, Train Loss: 0.194106340, Train Accuracy: 93.46%\n",
            "[On Validation] ==> Val loss: 0.323196629, Total Time: 784.75s\n"
          ],
          "name": "stdout"
        },
        {
          "output_type": "stream",
          "text": [
            "/usr/local/lib/python3.6/dist-packages/torch/serialization.py:251: UserWarning: Couldn't retrieve source code for container of type BOWClassifier. It won't be checked for correctness upon loading.\n",
            "  \"type \" + obj.__name__ + \". It won't be checked \"\n"
          ],
          "name": "stderr"
        },
        {
          "output_type": "stream",
          "text": [
            "\n",
            "\n",
            "Epoch 1/100\n",
            "[On Training] ==> Time: 26.59s, Train Loss: 0.682899648, Train Accuracy: 56.80%\n",
            "[On Validation] ==> Val loss: 0.667911785, Total Time: 26.59s\n",
            "Epoch 2/100\n",
            "[On Training] ==> Time: 26.65s, Train Loss: 0.651006659, Train Accuracy: 70.45%\n",
            "[On Validation] ==> Val loss: 0.630717264, Total Time: 53.25s\n",
            "Epoch 3/100\n",
            "[On Training] ==> Time: 26.63s, Train Loss: 0.610105854, Train Accuracy: 75.27%\n",
            "[On Validation] ==> Val loss: 0.588337909, Total Time: 79.88s\n",
            "Epoch 4/100\n",
            "[On Training] ==> Time: 26.63s, Train Loss: 0.565057077, Train Accuracy: 78.45%\n",
            "[On Validation] ==> Val loss: 0.545340420, Total Time: 106.51s\n",
            "Epoch 5/100\n",
            "[On Training] ==> Time: 26.60s, Train Loss: 0.521185253, Train Accuracy: 80.49%\n",
            "[On Validation] ==> Val loss: 0.506718940, Total Time: 133.11s\n",
            "Epoch 6/100\n",
            "[On Training] ==> Time: 26.64s, Train Loss: 0.482653855, Train Accuracy: 82.04%\n",
            "[On Validation] ==> Val loss: 0.474995293, Total Time: 159.75s\n",
            "Epoch 7/100\n",
            "[On Training] ==> Time: 26.76s, Train Loss: 0.450499358, Train Accuracy: 83.21%\n",
            "[On Validation] ==> Val loss: 0.449845155, Total Time: 186.51s\n",
            "Epoch 8/100\n",
            "[On Training] ==> Time: 26.53s, Train Loss: 0.423774791, Train Accuracy: 84.20%\n",
            "[On Validation] ==> Val loss: 0.429812936, Total Time: 213.04s\n",
            "Epoch 9/100\n",
            "[On Training] ==> Time: 26.85s, Train Loss: 0.401147593, Train Accuracy: 85.04%\n",
            "[On Validation] ==> Val loss: 0.413535266, Total Time: 239.89s\n",
            "Epoch 10/100\n",
            "[On Training] ==> Time: 26.60s, Train Loss: 0.381556442, Train Accuracy: 85.80%\n",
            "[On Validation] ==> Val loss: 0.400026059, Total Time: 266.49s\n",
            "Epoch 11/100\n",
            "[On Training] ==> Time: 26.60s, Train Loss: 0.364274001, Train Accuracy: 86.42%\n",
            "[On Validation] ==> Val loss: 0.388627116, Total Time: 293.10s\n",
            "Epoch 12/100\n",
            "[On Training] ==> Time: 26.59s, Train Loss: 0.348829922, Train Accuracy: 86.98%\n",
            "[On Validation] ==> Val loss: 0.378920804, Total Time: 319.69s\n",
            "Epoch 13/100\n",
            "[On Training] ==> Time: 26.59s, Train Loss: 0.334909365, Train Accuracy: 87.60%\n",
            "[On Validation] ==> Val loss: 0.370612546, Total Time: 346.28s\n",
            "Epoch 14/100\n",
            "[On Training] ==> Time: 26.56s, Train Loss: 0.322288166, Train Accuracy: 88.14%\n",
            "[On Validation] ==> Val loss: 0.363495547, Total Time: 372.84s\n",
            "Epoch 15/100\n",
            "[On Training] ==> Time: 26.60s, Train Loss: 0.310794484, Train Accuracy: 88.60%\n",
            "[On Validation] ==> Val loss: 0.357388993, Total Time: 399.44s\n",
            "Epoch 16/100\n",
            "[On Training] ==> Time: 26.62s, Train Loss: 0.300284192, Train Accuracy: 89.07%\n",
            "[On Validation] ==> Val loss: 0.352148550, Total Time: 426.06s\n",
            "Epoch 17/100\n",
            "[On Training] ==> Time: 26.60s, Train Loss: 0.290638839, Train Accuracy: 89.44%\n",
            "[On Validation] ==> Val loss: 0.347652298, Total Time: 452.66s\n",
            "Epoch 18/100\n",
            "[On Training] ==> Time: 26.57s, Train Loss: 0.281748234, Train Accuracy: 89.89%\n",
            "[On Validation] ==> Val loss: 0.343787264, Total Time: 479.23s\n",
            "Epoch 19/100\n",
            "[On Training] ==> Time: 26.76s, Train Loss: 0.273521514, Train Accuracy: 90.15%\n",
            "[On Validation] ==> Val loss: 0.340464893, Total Time: 505.99s\n",
            "Epoch 20/100\n",
            "[On Training] ==> Time: 26.65s, Train Loss: 0.265876848, Train Accuracy: 90.48%\n",
            "[On Validation] ==> Val loss: 0.337605076, Total Time: 532.63s\n",
            "Epoch 21/100\n",
            "[On Training] ==> Time: 26.88s, Train Loss: 0.258743349, Train Accuracy: 90.84%\n",
            "[On Validation] ==> Val loss: 0.335144273, Total Time: 559.51s\n",
            "Epoch 22/100\n",
            "[On Training] ==> Time: 26.61s, Train Loss: 0.252061058, Train Accuracy: 91.13%\n",
            "[On Validation] ==> Val loss: 0.333031024, Total Time: 586.12s\n",
            "Epoch 23/100\n",
            "[On Training] ==> Time: 26.56s, Train Loss: 0.245777580, Train Accuracy: 91.29%\n",
            "[On Validation] ==> Val loss: 0.331216401, Total Time: 612.68s\n",
            "Epoch 24/100\n",
            "[On Training] ==> Time: 26.62s, Train Loss: 0.239847226, Train Accuracy: 91.56%\n",
            "[On Validation] ==> Val loss: 0.329668282, Total Time: 639.30s\n",
            "Epoch 25/100\n",
            "[On Training] ==> Time: 26.61s, Train Loss: 0.234234402, Train Accuracy: 91.81%\n",
            "[On Validation] ==> Val loss: 0.328354061, Total Time: 665.91s\n",
            "Epoch 26/100\n",
            "[On Training] ==> Time: 26.63s, Train Loss: 0.228906399, Train Accuracy: 91.99%\n",
            "[On Validation] ==> Val loss: 0.327251136, Total Time: 692.54s\n",
            "Epoch 27/100\n",
            "[On Training] ==> Time: 26.42s, Train Loss: 0.223835175, Train Accuracy: 92.17%\n",
            "[On Validation] ==> Val loss: 0.326336317, Total Time: 718.95s\n",
            "Epoch 28/100\n",
            "[On Training] ==> Time: 26.61s, Train Loss: 0.218997411, Train Accuracy: 92.33%\n",
            "[On Validation] ==> Val loss: 0.325593385, Total Time: 745.56s\n",
            "Epoch 29/100\n",
            "[On Training] ==> Time: 26.65s, Train Loss: 0.214372382, Train Accuracy: 92.57%\n",
            "[On Validation] ==> Val loss: 0.325004277, Total Time: 772.21s\n",
            "Epoch 30/100\n",
            "[On Training] ==> Time: 26.76s, Train Loss: 0.209941635, Train Accuracy: 92.77%\n",
            "[On Validation] ==> Val loss: 0.324555185, Total Time: 798.97s\n",
            "Epoch 31/100\n",
            "[On Training] ==> Time: 26.61s, Train Loss: 0.205689046, Train Accuracy: 92.95%\n",
            "[On Validation] ==> Val loss: 0.324234524, Total Time: 825.58s\n",
            "Epoch 32/100\n",
            "[On Training] ==> Time: 26.59s, Train Loss: 0.201600494, Train Accuracy: 93.12%\n",
            "[On Validation] ==> Val loss: 0.324031535, Total Time: 852.17s\n",
            "Epoch 33/100\n",
            "[On Training] ==> Time: 26.79s, Train Loss: 0.197663776, Train Accuracy: 93.28%\n",
            "[On Validation] ==> Val loss: 0.323935602, Total Time: 878.96s\n",
            "\n",
            "\n",
            "Epoch 1/100\n",
            "[On Training] ==> Time: 29.14s, Train Loss: 0.684136365, Train Accuracy: 54.82%\n",
            "[On Validation] ==> Val loss: 0.671581390, Total Time: 29.14s\n",
            "Epoch 2/100\n",
            "[On Training] ==> Time: 29.13s, Train Loss: 0.655830315, Train Accuracy: 69.30%\n",
            "[On Validation] ==> Val loss: 0.637428028, Total Time: 58.27s\n",
            "Epoch 3/100\n",
            "[On Training] ==> Time: 29.09s, Train Loss: 0.617346347, Train Accuracy: 74.22%\n",
            "[On Validation] ==> Val loss: 0.596497116, Total Time: 87.37s\n",
            "Epoch 4/100\n",
            "[On Training] ==> Time: 29.14s, Train Loss: 0.573111680, Train Accuracy: 77.57%\n",
            "[On Validation] ==> Val loss: 0.553405911, Total Time: 116.51s\n",
            "Epoch 5/100\n",
            "[On Training] ==> Time: 29.15s, Train Loss: 0.528789045, Train Accuracy: 79.90%\n",
            "[On Validation] ==> Val loss: 0.513785726, Total Time: 145.66s\n",
            "Epoch 6/100\n",
            "[On Training] ==> Time: 29.13s, Train Loss: 0.489233097, Train Accuracy: 81.69%\n",
            "[On Validation] ==> Val loss: 0.480826069, Total Time: 174.79s\n",
            "Epoch 7/100\n",
            "[On Training] ==> Time: 29.35s, Train Loss: 0.456061409, Train Accuracy: 82.71%\n",
            "[On Validation] ==> Val loss: 0.454650018, Total Time: 204.14s\n",
            "Epoch 8/100\n",
            "[On Training] ==> Time: 29.20s, Train Loss: 0.428537606, Train Accuracy: 83.79%\n",
            "[On Validation] ==> Val loss: 0.433860014, Total Time: 233.34s\n",
            "Epoch 9/100\n",
            "[On Training] ==> Time: 29.37s, Train Loss: 0.405319883, Train Accuracy: 84.64%\n",
            "[On Validation] ==> Val loss: 0.417020082, Total Time: 262.71s\n",
            "Epoch 10/100\n",
            "[On Training] ==> Time: 29.14s, Train Loss: 0.385284947, Train Accuracy: 85.52%\n",
            "[On Validation] ==> Val loss: 0.403071554, Total Time: 291.84s\n",
            "Epoch 11/100\n",
            "[On Training] ==> Time: 29.17s, Train Loss: 0.367659489, Train Accuracy: 86.20%\n",
            "[On Validation] ==> Val loss: 0.391324375, Total Time: 321.01s\n",
            "Epoch 12/100\n",
            "[On Training] ==> Time: 29.23s, Train Loss: 0.351936177, Train Accuracy: 86.89%\n",
            "[On Validation] ==> Val loss: 0.381318773, Total Time: 350.24s\n",
            "Epoch 13/100\n",
            "[On Training] ==> Time: 29.18s, Train Loss: 0.337776760, Train Accuracy: 87.59%\n",
            "[On Validation] ==> Val loss: 0.372739008, Total Time: 379.43s\n",
            "Epoch 14/100\n",
            "[On Training] ==> Time: 29.17s, Train Loss: 0.324940252, Train Accuracy: 88.11%\n",
            "[On Validation] ==> Val loss: 0.365362599, Total Time: 408.60s\n",
            "Epoch 15/100\n",
            "[On Training] ==> Time: 29.17s, Train Loss: 0.313250437, Train Accuracy: 88.48%\n",
            "[On Validation] ==> Val loss: 0.359020904, Total Time: 437.77s\n",
            "Epoch 16/100\n",
            "[On Training] ==> Time: 29.24s, Train Loss: 0.302563478, Train Accuracy: 88.89%\n",
            "[On Validation] ==> Val loss: 0.353565587, Total Time: 467.01s\n",
            "Epoch 17/100\n",
            "[On Training] ==> Time: 29.13s, Train Loss: 0.292755544, Train Accuracy: 89.29%\n",
            "[On Validation] ==> Val loss: 0.348871678, Total Time: 496.14s\n",
            "Epoch 18/100\n",
            "[On Training] ==> Time: 29.31s, Train Loss: 0.283717585, Train Accuracy: 89.72%\n",
            "[On Validation] ==> Val loss: 0.344832755, Total Time: 525.44s\n",
            "Epoch 19/100\n",
            "[On Training] ==> Time: 29.15s, Train Loss: 0.275355918, Train Accuracy: 90.13%\n",
            "[On Validation] ==> Val loss: 0.341355016, Total Time: 554.60s\n",
            "Epoch 20/100\n",
            "[On Training] ==> Time: 29.46s, Train Loss: 0.267587763, Train Accuracy: 90.44%\n",
            "[On Validation] ==> Val loss: 0.338356650, Total Time: 584.06s\n",
            "Epoch 21/100\n",
            "[On Training] ==> Time: 29.17s, Train Loss: 0.260342468, Train Accuracy: 90.75%\n",
            "[On Validation] ==> Val loss: 0.335772791, Total Time: 613.23s\n",
            "Epoch 22/100\n",
            "[On Training] ==> Time: 29.22s, Train Loss: 0.253558596, Train Accuracy: 91.01%\n",
            "[On Validation] ==> Val loss: 0.333548638, Total Time: 642.45s\n",
            "Epoch 23/100\n",
            "[On Training] ==> Time: 29.19s, Train Loss: 0.247183099, Train Accuracy: 91.20%\n",
            "[On Validation] ==> Val loss: 0.331636653, Total Time: 671.64s\n",
            "Epoch 24/100\n",
            "[On Training] ==> Time: 29.23s, Train Loss: 0.241170453, Train Accuracy: 91.47%\n",
            "[On Validation] ==> Val loss: 0.329997870, Total Time: 700.87s\n",
            "Epoch 25/100\n",
            "[On Training] ==> Time: 29.19s, Train Loss: 0.235482395, Train Accuracy: 91.73%\n",
            "[On Validation] ==> Val loss: 0.328599487, Total Time: 730.07s\n",
            "Epoch 26/100\n",
            "[On Training] ==> Time: 29.17s, Train Loss: 0.230085478, Train Accuracy: 91.92%\n",
            "[On Validation] ==> Val loss: 0.327417096, Total Time: 759.23s\n",
            "Epoch 27/100\n",
            "[On Training] ==> Time: 29.17s, Train Loss: 0.224950983, Train Accuracy: 92.15%\n",
            "[On Validation] ==> Val loss: 0.326427803, Total Time: 788.40s\n",
            "Epoch 28/100\n",
            "[On Training] ==> Time: 29.37s, Train Loss: 0.220054106, Train Accuracy: 92.35%\n",
            "[On Validation] ==> Val loss: 0.325612216, Total Time: 817.77s\n",
            "Epoch 29/100\n",
            "[On Training] ==> Time: 29.19s, Train Loss: 0.215373615, Train Accuracy: 92.58%\n",
            "[On Validation] ==> Val loss: 0.324955247, Total Time: 846.96s\n",
            "Epoch 30/100\n",
            "[On Training] ==> Time: 29.15s, Train Loss: 0.210890642, Train Accuracy: 92.74%\n",
            "[On Validation] ==> Val loss: 0.324441438, Total Time: 876.11s\n",
            "Epoch 31/100\n",
            "[On Training] ==> Time: 29.36s, Train Loss: 0.206589250, Train Accuracy: 92.99%\n",
            "[On Validation] ==> Val loss: 0.324057952, Total Time: 905.46s\n",
            "Epoch 32/100\n",
            "[On Training] ==> Time: 29.18s, Train Loss: 0.202454885, Train Accuracy: 93.16%\n",
            "[On Validation] ==> Val loss: 0.323794335, Total Time: 934.64s\n",
            "Epoch 33/100\n",
            "[On Training] ==> Time: 29.15s, Train Loss: 0.198474713, Train Accuracy: 93.27%\n",
            "[On Validation] ==> Val loss: 0.323640336, Total Time: 963.80s\n",
            "Epoch 34/100\n",
            "[On Training] ==> Time: 29.21s, Train Loss: 0.194637563, Train Accuracy: 93.47%\n",
            "[On Validation] ==> Val loss: 0.323584518, Total Time: 993.01s\n",
            "\n",
            "\n",
            "Epoch 1/100\n",
            "[On Training] ==> Time: 49.67s, Train Loss: 0.683404957, Train Accuracy: 63.92%\n",
            "[On Validation] ==> Val loss: 0.671943526, Total Time: 49.67s\n",
            "Epoch 2/100\n",
            "[On Training] ==> Time: 49.71s, Train Loss: 0.658174460, Train Accuracy: 70.34%\n",
            "[On Validation] ==> Val loss: 0.641364627, Total Time: 99.38s\n",
            "Epoch 3/100\n",
            "[On Training] ==> Time: 49.67s, Train Loss: 0.622567369, Train Accuracy: 73.69%\n",
            "[On Validation] ==> Val loss: 0.602271243, Total Time: 149.05s\n",
            "Epoch 4/100\n",
            "[On Training] ==> Time: 49.73s, Train Loss: 0.579667740, Train Accuracy: 76.94%\n",
            "[On Validation] ==> Val loss: 0.559626417, Total Time: 198.77s\n",
            "Epoch 5/100\n",
            "[On Training] ==> Time: 49.68s, Train Loss: 0.535385378, Train Accuracy: 79.34%\n",
            "[On Validation] ==> Val loss: 0.519441324, Total Time: 248.46s\n",
            "Epoch 6/100\n",
            "[On Training] ==> Time: 49.70s, Train Loss: 0.495185356, Train Accuracy: 81.24%\n",
            "[On Validation] ==> Val loss: 0.485643489, Total Time: 298.16s\n",
            "Epoch 7/100\n",
            "[On Training] ==> Time: 49.60s, Train Loss: 0.461253751, Train Accuracy: 82.54%\n",
            "[On Validation] ==> Val loss: 0.458707905, Total Time: 347.76s\n",
            "Epoch 8/100\n",
            "[On Training] ==> Time: 49.68s, Train Loss: 0.433096484, Train Accuracy: 83.65%\n",
            "[On Validation] ==> Val loss: 0.437357414, Total Time: 397.44s\n",
            "Epoch 9/100\n",
            "[On Training] ==> Time: 49.61s, Train Loss: 0.409395259, Train Accuracy: 84.44%\n",
            "[On Validation] ==> Val loss: 0.420117094, Total Time: 447.05s\n",
            "Epoch 10/100\n",
            "[On Training] ==> Time: 49.61s, Train Loss: 0.388980248, Train Accuracy: 85.21%\n",
            "[On Validation] ==> Val loss: 0.405881058, Total Time: 496.66s\n",
            "Epoch 11/100\n",
            "[On Training] ==> Time: 49.62s, Train Loss: 0.371036533, Train Accuracy: 85.94%\n",
            "[On Validation] ==> Val loss: 0.393917711, Total Time: 546.28s\n",
            "Epoch 12/100\n",
            "[On Training] ==> Time: 49.61s, Train Loss: 0.355035153, Train Accuracy: 86.64%\n",
            "[On Validation] ==> Val loss: 0.383733253, Total Time: 595.90s\n",
            "Epoch 13/100\n",
            "[On Training] ==> Time: 49.63s, Train Loss: 0.340626611, Train Accuracy: 87.31%\n",
            "[On Validation] ==> Val loss: 0.375004442, Total Time: 645.53s\n",
            "Epoch 14/100\n",
            "[On Training] ==> Time: 49.60s, Train Loss: 0.327565578, Train Accuracy: 87.94%\n",
            "[On Validation] ==> Val loss: 0.367499193, Total Time: 695.13s\n",
            "Epoch 15/100\n",
            "[On Training] ==> Time: 49.60s, Train Loss: 0.315670670, Train Accuracy: 88.34%\n",
            "[On Validation] ==> Val loss: 0.361035378, Total Time: 744.73s\n",
            "Epoch 16/100\n",
            "[On Training] ==> Time: 49.64s, Train Loss: 0.304798003, Train Accuracy: 88.85%\n",
            "[On Validation] ==> Val loss: 0.355468643, Total Time: 794.38s\n",
            "Epoch 17/100\n",
            "[On Training] ==> Time: 49.63s, Train Loss: 0.294821491, Train Accuracy: 89.22%\n",
            "[On Validation] ==> Val loss: 0.350678157, Total Time: 844.00s\n",
            "Epoch 18/100\n",
            "[On Training] ==> Time: 49.69s, Train Loss: 0.285635613, Train Accuracy: 89.73%\n",
            "[On Validation] ==> Val loss: 0.346556021, Total Time: 893.69s\n",
            "Epoch 19/100\n",
            "[On Training] ==> Time: 49.64s, Train Loss: 0.277143586, Train Accuracy: 90.10%\n",
            "[On Validation] ==> Val loss: 0.343006237, Total Time: 943.33s\n",
            "Epoch 20/100\n",
            "[On Training] ==> Time: 49.65s, Train Loss: 0.269261316, Train Accuracy: 90.43%\n",
            "[On Validation] ==> Val loss: 0.339947157, Total Time: 992.98s\n",
            "Epoch 21/100\n",
            "[On Training] ==> Time: 49.67s, Train Loss: 0.261914686, Train Accuracy: 90.77%\n",
            "[On Validation] ==> Val loss: 0.337310735, Total Time: 1042.65s\n",
            "Epoch 22/100\n",
            "[On Training] ==> Time: 49.59s, Train Loss: 0.255040123, Train Accuracy: 90.94%\n",
            "[On Validation] ==> Val loss: 0.335039689, Total Time: 1092.24s\n",
            "Epoch 23/100\n",
            "[On Training] ==> Time: 49.66s, Train Loss: 0.248582706, Train Accuracy: 91.22%\n",
            "[On Validation] ==> Val loss: 0.333085401, Total Time: 1141.90s\n",
            "Epoch 24/100\n",
            "[On Training] ==> Time: 49.57s, Train Loss: 0.242496099, Train Accuracy: 91.52%\n",
            "[On Validation] ==> Val loss: 0.331407599, Total Time: 1191.47s\n",
            "Epoch 25/100\n",
            "[On Training] ==> Time: 49.71s, Train Loss: 0.236740120, Train Accuracy: 91.71%\n",
            "[On Validation] ==> Val loss: 0.329974528, Total Time: 1241.18s\n",
            "Epoch 26/100\n",
            "[On Training] ==> Time: 49.64s, Train Loss: 0.231280695, Train Accuracy: 91.89%\n",
            "[On Validation] ==> Val loss: 0.328759158, Total Time: 1290.82s\n",
            "Epoch 27/100\n",
            "[On Training] ==> Time: 49.60s, Train Loss: 0.226088694, Train Accuracy: 92.09%\n",
            "[On Validation] ==> Val loss: 0.327737424, Total Time: 1340.42s\n",
            "Epoch 28/100\n",
            "[On Training] ==> Time: 49.65s, Train Loss: 0.221138230, Train Accuracy: 92.33%\n",
            "[On Validation] ==> Val loss: 0.326890568, Total Time: 1390.07s\n",
            "Epoch 29/100\n",
            "[On Training] ==> Time: 49.62s, Train Loss: 0.216407462, Train Accuracy: 92.55%\n",
            "[On Validation] ==> Val loss: 0.326202153, Total Time: 1439.68s\n",
            "Epoch 30/100\n",
            "[On Training] ==> Time: 49.63s, Train Loss: 0.211877323, Train Accuracy: 92.72%\n",
            "[On Validation] ==> Val loss: 0.325657484, Total Time: 1489.31s\n",
            "Epoch 31/100\n",
            "[On Training] ==> Time: 49.60s, Train Loss: 0.207531356, Train Accuracy: 92.84%\n",
            "[On Validation] ==> Val loss: 0.325242962, Total Time: 1538.91s\n",
            "Epoch 32/100\n",
            "[On Training] ==> Time: 49.61s, Train Loss: 0.203354317, Train Accuracy: 93.05%\n",
            "[On Validation] ==> Val loss: 0.324948401, Total Time: 1588.52s\n",
            "Epoch 33/100\n",
            "[On Training] ==> Time: 49.63s, Train Loss: 0.199333637, Train Accuracy: 93.22%\n",
            "[On Validation] ==> Val loss: 0.324763801, Total Time: 1638.15s\n",
            "Epoch 34/100\n",
            "[On Training] ==> Time: 49.56s, Train Loss: 0.195457169, Train Accuracy: 93.39%\n",
            "[On Validation] ==> Val loss: 0.324679850, Total Time: 1687.72s\n",
            "\n",
            "\n"
          ],
          "name": "stdout"
        }
      ]
    },
    {
      "metadata": {
        "id": "4XoHF1M8IVdf",
        "colab_type": "code",
        "colab": {}
      },
      "cell_type": "code",
      "source": [
        "files.download('Task1A.mdl')\n",
        "files.download('Task1B.mdl')\n",
        "files.download('Task1C.mdl')\n",
        "files.download('Task1D.mdl')"
      ],
      "execution_count": 0,
      "outputs": []
    },
    {
      "metadata": {
        "id": "FxO_e5P1mX3I",
        "colab_type": "text"
      },
      "cell_type": "markdown",
      "source": [
        "##Task-2"
      ]
    },
    {
      "metadata": {
        "id": "lpUB7Obs197T",
        "colab_type": "code",
        "colab": {}
      },
      "cell_type": "code",
      "source": [
        "task2 = [(10, 10, 'Task2A.mdl'), (20, 10, 'Task2B.mdl'), (30, 30, 'Task2C.mdl'), (50, 50, 'Task2D.mdl'), (100, 50, 'Task2E.mdl')]"
      ],
      "execution_count": 0,
      "outputs": []
    },
    {
      "metadata": {
        "id": "UiqcS_4XmXbd",
        "colab_type": "code",
        "outputId": "75f8d7e3-11db-40e7-e143-a55f3ebb20e3",
        "colab": {
          "base_uri": "https://localhost:8080/",
          "height": 119
        }
      },
      "cell_type": "code",
      "source": [
        "for num_of_hidden1, num_of_hidden2, task_name in task2:\n",
        "    class BOWClassifier(nn.Module):\n",
        "        def __init__(self, input_size, hidden_size1, hidden_size2, output_size):\n",
        "            super(BOWClassifier, self).__init__()\n",
        "            SEED = 42\n",
        "            torch.manual_seed(SEED)\n",
        "            torch.cuda.manual_seed(SEED)\n",
        "            self.i2h = nn.Linear(input_size, hidden_size1) # initialises weights and biases i2h\n",
        "            self.h2h = nn.Linear(hidden_size1, hidden_size2) # initialises weights and biases h2h\n",
        "            self.h2o = nn.Linear(hidden_size2, output_size) # initialises weights and biases h2o\n",
        "\n",
        "        def forward(self, x):\n",
        "            x = torch.relu(self.i2h(x)) # relu activation @ hidden layer\n",
        "            x = torch.relu(self.h2h(x)) # relu activation @ hidden layer\n",
        "            x = torch.sigmoid(self.h2o(x)) # sigmoid activation @ output layer\n",
        "            return x\n",
        "\n",
        "    num_of_input = VOCAB_SIZE # Bag word restriction has to be equal to vocabulary\n",
        "    num_of_output = 1 # binary sentiment classes (+ve, -ve)\n",
        "\n",
        "    bow = BOWClassifier(num_of_input, num_of_hidden1, num_of_hidden2, num_of_output).to('cuda:0') # initialises weights and biases\n",
        "\n",
        "    # define a loss function and an optimizer\n",
        "    loss_function = nn.BCELoss()\n",
        "    opt = torch.optim.SGD(bow.parameters(), lr = 0.0001)\n",
        "\n",
        "    gc.collect()\n",
        "\n",
        "    # Train The Model\n",
        "    epochs = 100\n",
        "    # the training loop\n",
        "    total_time = 0.0\n",
        "    prev_val_loss = float('inf')\n",
        "    val_loss = 0\n",
        "    early_stop_bow = 0\n",
        "\n",
        "    for e in range(epochs):\n",
        "        tic = time.time() # start the timer\n",
        "        correct = 0\n",
        "        cumulative_loss = 0\n",
        "        incorrect = 0\n",
        "\n",
        "        for i, instance in enumerate(train_data): # train_text_reviews \n",
        "            # get the training data\n",
        "            label = train_text_labels[i] # get the label of the corresponding instace\n",
        "            label = Variable(torch.FloatTensor([label])).resize_((1,1)).to('cuda:0') # wraps a tensor for label\n",
        "\n",
        "            bow.zero_grad() # reset the gradient for each instance\n",
        "\n",
        "            pred = bow.forward(instance)\n",
        "\n",
        "            loss = loss_function(pred, label) # compute the loss\n",
        "            loss.backward() # backprop the loss\n",
        "            opt.step() # performs parameter updation based on the current gradient\n",
        "\n",
        "            cumulative_loss += float(loss.item()) # accumulate the loss over whole training sample\n",
        "\n",
        "            pred_class = 1 if pred.item() > 0.5 else 0 # as sigmoid activated\n",
        "            if(int(label) == pred_class): # counting correct prediction in each epoch\n",
        "                correct += 1\n",
        "\n",
        "        train_loss = float(cumulative_loss)/num_train_data\n",
        "        train_accuracy = correct*float(100)/num_train_data\n",
        "\n",
        "#         val_loss, val_accuracy, p, r, f = evaluate_validation_accuracy(val_data, bow) # test val-data-set on currently trained model\n",
        "        val_loss = evaluate_validation_accuracy(val_data, bow) # test val-data-set on currently trained model\n",
        "        \n",
        "        if(prev_val_loss-val_loss < 0.0): # early stop if nearly no change\n",
        "            bow = copy.deepcopy(early_stop_bow)\n",
        "            break\n",
        "\n",
        "        early_stop_bow = copy.deepcopy(bow)\n",
        "\n",
        "        prev_val_loss = val_loss\n",
        "\n",
        "        toc = time.time() # final time\n",
        "        total_time += (toc-tic)\n",
        "\n",
        "        print(\"Epoch {}/{}\\n[On Training] ==> Time: {:.2f}s, Train Loss: {:.9f}, Train Accuracy: {:.2f}%\".format(e+1, epochs, (toc-tic), train_loss, train_accuracy))\n",
        "#         print(\"[On Validation] ==> Precision: {:.3f}, Recall: {:.3f}, F-Score: {:.3f}, Val loss: {:.9f}, Val Accuracy: {:.2f}% Total Time: {:.2f}s\".format(p, r, f, val_loss, val_accuracy, total_time))\n",
        "        print(\"[On Validation] ==> Val loss: {:.9f}, Total Time: {:.2f}s\".format(val_loss, total_time))\n",
        "\n",
        "    torch.save(bow, task_name)\n",
        "\n",
        "    print(\"\\n\")"
      ],
      "execution_count": 0,
      "outputs": [
        {
          "output_type": "stream",
          "text": [
            "Epoch 1/100\n",
            "[On Training] ==> Time: 24.51s, Train Loss: 0.689421182, Train Accuracy: 58.04%\n",
            "[On Validation] ==> Val loss: 0.684426882, Total Time: 24.51s\n",
            "Epoch 2/100\n",
            "[On Training] ==> Time: 24.51s, Train Loss: 0.679394369, Train Accuracy: 65.96%\n",
            "[On Validation] ==> Val loss: 0.673251196, Total Time: 49.02s\n"
          ],
          "name": "stdout"
        }
      ]
    },
    {
      "metadata": {
        "id": "eMMAv_S1WLNF",
        "colab_type": "code",
        "colab": {}
      },
      "cell_type": "code",
      "source": [
        "files.download('Task2A.mdl')\n",
        "files.download('Task2B.mdl')\n",
        "files.download('Task2C.mdl')\n",
        "files.download('Task2D.mdl')\n",
        "files.download('Task2E.mdl')"
      ],
      "execution_count": 0,
      "outputs": []
    },
    {
      "metadata": {
        "id": "n2JByG_xnrr1",
        "colab_type": "text"
      },
      "cell_type": "markdown",
      "source": [
        "##Task-3"
      ]
    },
    {
      "metadata": {
        "id": "vtAGGeuU2ect",
        "colab_type": "code",
        "colab": {}
      },
      "cell_type": "code",
      "source": [
        "task3 = [(100, 50, 10, 'Task3A.mdl'), (200, 100, 10, 'Task3B.mdl')]"
      ],
      "execution_count": 0,
      "outputs": []
    },
    {
      "metadata": {
        "id": "rz1rm-runrPt",
        "colab_type": "code",
        "colab": {}
      },
      "cell_type": "code",
      "source": [
        "for num_of_hidden1, num_of_hidden2, num_of_hidden3, task_name in task3:\n",
        "    class BOWClassifier(nn.Module):\n",
        "        def __init__(self, input_size, hidden_size1, hidden_size2, hidden_size3, output_size):\n",
        "            super(BOWClassifier, self).__init__()\n",
        "            SEED = 42\n",
        "            torch.manual_seed(SEED)\n",
        "            torch.cuda.manual_seed(SEED)\n",
        "            self.i2h1 = nn.Linear(input_size, hidden_size1) # initialises weights and biases i2h1\n",
        "            self.h12h2 = nn.Linear(hidden_size1, hidden_size2) # initialises weights and biases h12h2\n",
        "            self.h22h3 = nn.Linear(hidden_size2, hidden_size3) # initialises weights and biases h22h3\n",
        "            self.h32o = nn.Linear(hidden_size3, output_size) # initialises weights and biases h32o\n",
        "\n",
        "        def forward(self, x):\n",
        "            x = torch.relu(self.i2h1(x)) # relu activation @ hidden layer\n",
        "            x = torch.relu(self.h12h2(x)) # relu activation @ hidden layer\n",
        "            x = torch.relu(self.h22h3(x)) # relu activation @ hidden layer\n",
        "            x = torch.sigmoid(self.h32o(x)) # sigmoid activation @ output layer\n",
        "            return x\n",
        "\n",
        "    num_of_input = VOCAB_SIZE # Bag word restriction has to be equal to vocabulary\n",
        "    num_of_output = 1 # binary sentiment classes (+ve, -ve)\n",
        "\n",
        "    bow = BOWClassifier(num_of_input, num_of_hidden1, num_of_hidden2, num_of_hidden3, num_of_output).to('cuda:0') # initialises weights and biases\n",
        "\n",
        "    # define a loss function and an optimizer\n",
        "    loss_function = nn.BCELoss()\n",
        "    opt = torch.optim.SGD(bow.parameters(), lr = 0.0001)\n",
        "\n",
        "    gc.collect()\n",
        "\n",
        "    # Train The Model\n",
        "    epochs = 100\n",
        "    # the training loop\n",
        "    total_time = 0.0\n",
        "    prev_val_loss = float('inf')\n",
        "    val_loss = 0\n",
        "    early_stop_bow = 0\n",
        "\n",
        "    for e in range(epochs):\n",
        "        tic = time.time() # start the timer\n",
        "        correct = 0\n",
        "        cumulative_loss = 0\n",
        "        incorrect = 0\n",
        "\n",
        "        for i, instance in enumerate(train_data): # train_text_reviews \n",
        "            # get the training data\n",
        "            label = train_text_labels[i] # get the label of the corresponding instace\n",
        "            label = Variable(torch.FloatTensor([label])).resize_((1,1)).to('cuda:0') # wraps a tensor for label\n",
        "\n",
        "            bow.zero_grad() # reset the gradient for each instance\n",
        "\n",
        "            pred = bow.forward(instance)\n",
        "\n",
        "            loss = loss_function(pred, label) # compute the loss\n",
        "            loss.backward() # backprop the loss\n",
        "            opt.step() # performs parameter updation based on the current gradient\n",
        "\n",
        "            cumulative_loss += float(loss.item()) # accumulate the loss over whole training sample\n",
        "\n",
        "            pred_class = 1 if pred.item() > 0.5 else 0 # as sigmoid activated\n",
        "            if(int(label) == pred_class): # counting correct prediction in each epoch\n",
        "                correct += 1\n",
        "\n",
        "        train_loss = float(cumulative_loss)/num_train_data\n",
        "        train_accuracy = correct*float(100)/num_train_data\n",
        "\n",
        "#         val_loss, val_accuracy, p, r, f = evaluate_validation_accuracy(val_data, bow) # test val-data-set on currently trained model\n",
        "        val_loss = evaluate_validation_accuracy(val_data, bow) # test val-data-set on currently trained model\n",
        "\n",
        "        if(prev_val_loss-val_loss < 0.0): # early stop if nearly no change\n",
        "            bow = copy.deepcopy(early_stop_bow)\n",
        "            break\n",
        "\n",
        "        early_stop_bow = copy.deepcopy(bow)\n",
        "\n",
        "        prev_val_loss = val_loss\n",
        "\n",
        "        toc = time.time() # final time\n",
        "        total_time += (toc-tic)\n",
        "\n",
        "        print(\"Epoch {}/{}\\n[On Training] ==> Time: {:.2f}s, Train Loss: {:.9f}, Train Accuracy: {:.2f}%\".format(e+1, epochs, (toc-tic), train_loss, train_accuracy))\n",
        "#         print(\"[On Validation] ==> Precision: {:.3f}, Recall: {:.3f}, F-Score: {:.3f}, Val loss: {:.9f}, Val Accuracy: {:.2f}% Total Time: {:.2f}s\".format(p, r, f, val_loss, val_accuracy, total_time))\n",
        "        print(\"[On Validation] ==> Val loss: {:.9f}, Total Time: {:.2f}s\".format(val_loss, total_time))\n",
        "    \n",
        "    torch.save(bow, task_name)\n",
        "    print(\"\\n\")"
      ],
      "execution_count": 0,
      "outputs": []
    },
    {
      "metadata": {
        "id": "vGf7IdbRdbk7",
        "colab_type": "code",
        "colab": {}
      },
      "cell_type": "code",
      "source": [
        "files.download('Task3A.mdl')\n",
        "files.download('Task3B.mdl')"
      ],
      "execution_count": 0,
      "outputs": []
    },
    {
      "metadata": {
        "id": "-MYVmtv9jn7n",
        "colab_type": "code",
        "colab": {}
      },
      "cell_type": "code",
      "source": [
        ""
      ],
      "execution_count": 0,
      "outputs": []
    },
    {
      "metadata": {
        "id": "quMcuqqyjqP2",
        "colab_type": "text"
      },
      "cell_type": "markdown",
      "source": [
        "## TASK-4"
      ]
    },
    {
      "metadata": {
        "id": "FznXcSrri_l6",
        "colab_type": "code",
        "colab": {}
      },
      "cell_type": "code",
      "source": [
        "task4 = [(30, 20, 10, 'Task4A.mdl'), (100, 100, 0, 'Task4B.mdl'), (100, 10, 0, 'Task4C.mdl')]"
      ],
      "execution_count": 0,
      "outputs": []
    },
    {
      "metadata": {
        "id": "TMTr6ZqQjoZA",
        "colab_type": "code",
        "colab": {}
      },
      "cell_type": "code",
      "source": [
        "k = 1\n",
        "for num_of_hidden1, num_of_hidden2, num_of_hidden3, task_name in task4:\n",
        "    if(k == 1):\n",
        "        k = 2\n",
        "        class BOWClassifier(nn.Module):\n",
        "            def __init__(self, input_size, hidden_size1, hidden_size2, hidden_size3, output_size):\n",
        "                super(BOWClassifier, self).__init__()\n",
        "                SEED = 42\n",
        "                torch.manual_seed(SEED)\n",
        "                torch.cuda.manual_seed(SEED)\n",
        "                self.i2h1 = nn.Linear(input_size, hidden_size1) # initialises weights and biases i2h1\n",
        "                self.drop1 = nn.Dropout(0.5) # Adding dropout layer\n",
        "                \n",
        "                self.h12h2 = nn.Linear(hidden_size1, hidden_size2) # initialises weights and biases h12h2\n",
        "                self.drop2 = nn.Dropout(0.5) # Adding dropout layer\n",
        "                \n",
        "                self.h22h3 = nn.Linear(hidden_size2, hidden_size3) # initialises weights and biases h22h3\n",
        "                self.drop3 = nn.Dropout(0.5) # Adding dropout layer\n",
        "                \n",
        "                self.h32o = nn.Linear(hidden_size3, output_size) # initialises weights and biases h32o\n",
        "\n",
        "            def forward(self, x):\n",
        "                x = torch.relu(self.i2h1(x)) # relu activation @ hidden layer\n",
        "                x = torch.relu(self.h12h2(x)) # relu activation @ hidden layer\n",
        "                x = torch.relu(self.h22h3(x)) # relu activation @ hidden layer\n",
        "                x = torch.sigmoid(self.h32o(x)) # sigmoid activation @ output layer\n",
        "                return x\n",
        "\n",
        "        num_of_input = VOCAB_SIZE # Bag word restriction has to be equal to vocabulary\n",
        "        num_of_output = 1 # binary sentiment classes (+ve, -ve)\n",
        "\n",
        "        bow = BOWClassifier(num_of_input, num_of_hidden1, num_of_hidden2, num_of_hidden3, num_of_output).to('cuda:0') # initialises weights and biases\n",
        "    elif(k == 2):\n",
        "        k = 2\n",
        "        class BOWClassifier(nn.Module):\n",
        "            def __init__(self, input_size, hidden_size1, hidden_size2, output_size):\n",
        "                super(BOWClassifier, self).__init__()\n",
        "                SEED = 42\n",
        "                torch.manual_seed(SEED)\n",
        "                torch.cuda.manual_seed(SEED)\n",
        "                self.i2h = nn.Linear(input_size, hidden_size1) # initialises weights and biases i2h\n",
        "                self.drop1 = nn.Dropout(0.5) # Adding dropout layer\n",
        "                \n",
        "                self.h2h = nn.Linear(hidden_size1, hidden_size2) # initialises weights and biases i2h\n",
        "                self.drop2 = nn.Dropout(0.5) # Adding dropout layer\n",
        "                \n",
        "                self.h2o = nn.Linear(hidden_size2, output_size) # initialises weights and biases h2o\n",
        "\n",
        "            def forward(self, x):\n",
        "                x = torch.relu(self.i2h(x)) # relu activation @ hidden layer\n",
        "                x = torch.relu(self.h2h(x)) # relu activation @ hidden layer\n",
        "                x = torch.sigmoid(self.h2o(x)) # sigmoid activation @ output layer\n",
        "                return x\n",
        "\n",
        "        num_of_input = VOCAB_SIZE # Bag word restriction has to be equal to vocabulary\n",
        "        num_of_output = 1 # binary sentiment classes (+ve, -ve)\n",
        "\n",
        "        bow = BOWClassifier(num_of_input, num_of_hidden1, num_of_hidden2, num_of_output).to('cuda:0') # initialises weights and biases\n",
        "\n",
        "    # define a loss function and an optimizer\n",
        "    loss_function = nn.BCELoss()\n",
        "    opt = torch.optim.SGD(bow.parameters(), lr = 0.0001)\n",
        "\n",
        "    gc.collect()\n",
        "\n",
        "    # Train The Model\n",
        "    epochs = 100\n",
        "    # the training loop\n",
        "    total_time = 0.0\n",
        "    prev_val_loss = float('inf')\n",
        "    val_loss = 0\n",
        "    early_stop_bow = 0\n",
        "\n",
        "    for e in range(epochs):\n",
        "        tic = time.time() # start the timer\n",
        "        correct = 0\n",
        "        cumulative_loss = 0\n",
        "        incorrect = 0\n",
        "\n",
        "        for i, instance in enumerate(train_data): # train_text_reviews \n",
        "            # get the training data\n",
        "            label = train_text_labels[i] # get the label of the corresponding instace\n",
        "            label = Variable(torch.FloatTensor([label])).resize_((1,1)).to('cuda:0') # wraps a tensor for label\n",
        "\n",
        "            bow.zero_grad() # reset the gradient for each instance\n",
        "\n",
        "            pred = bow.forward(instance)\n",
        "\n",
        "            loss = loss_function(pred, label) # compute the loss\n",
        "            loss.backward() # backprop the loss\n",
        "            opt.step() # performs parameter updation based on the current gradient\n",
        "\n",
        "            cumulative_loss += float(loss.item()) # accumulate the loss over whole training sample\n",
        "\n",
        "            pred_class = 1 if pred.item() > 0.5 else 0 # as sigmoid activated\n",
        "            if(int(label) == pred_class): # counting correct prediction in each epoch\n",
        "                correct += 1\n",
        "\n",
        "        train_loss = float(cumulative_loss)/num_train_data\n",
        "        train_accuracy = correct*float(100)/num_train_data\n",
        "\n",
        "#         val_loss, val_accuracy, p, r, f = evaluate_validation_accuracy(val_data, bow) # test val-data-set on currently trained model\n",
        "        val_loss = evaluate_validation_accuracy(val_data, bow) # test val-data-set on currently trained model\n",
        "    \n",
        "        if(prev_val_loss-val_loss < 0.0): # early stop if nearly no change\n",
        "            bow = copy.deepcopy(early_stop_bow)\n",
        "            break\n",
        "\n",
        "        early_stop_bow = copy.deepcopy(bow)\n",
        "\n",
        "        prev_val_loss = val_loss\n",
        "\n",
        "        toc = time.time() # final time\n",
        "        total_time += (toc-tic)\n",
        "\n",
        "        print(\"Epoch {}/{}\\n[On Training] ==> Time: {:.2f}s, Train Loss: {:.9f}, Train Accuracy: {:.2f}%\".format(e+1, epochs, (toc-tic), train_loss, train_accuracy))\n",
        "#         print(\"[On Validation] ==> Precision: {:.3f}, Recall: {:.3f}, F-Score: {:.3f}, Val loss: {:.9f}, Val Accuracy: {:.2f}% Total Time: {:.2f}s\".format(p, r, f, val_loss, val_accuracy, total_time))\n",
        "        print(\"[On Validation] ==> Val loss: {:.9f}, Total Time: {:.2f}s\".format(val_loss, total_time))\n",
        "\n",
        "    torch.save(bow, task_name)\n",
        "    print(\"\\n\")"
      ],
      "execution_count": 0,
      "outputs": []
    },
    {
      "metadata": {
        "id": "qD-kkwEKW0iM",
        "colab_type": "code",
        "colab": {}
      },
      "cell_type": "code",
      "source": [
        "files.download('Task4A.mdl')\n",
        "files.download('Task4B.mdl')\n",
        "files.download('Task4C.mdl')"
      ],
      "execution_count": 0,
      "outputs": []
    },
    {
      "metadata": {
        "id": "12KQYM1RYuiH",
        "colab_type": "text"
      },
      "cell_type": "markdown",
      "source": [
        "## Task-5"
      ]
    },
    {
      "metadata": {
        "id": "cd6rex2FYwmp",
        "colab_type": "code",
        "colab": {}
      },
      "cell_type": "code",
      "source": [
        "task5 = [('relu', 'Task5A.mdl'), ('tanh', 'Task5B.mdl'), ('sigmoid', 'Task5C.mdl')]"
      ],
      "execution_count": 0,
      "outputs": []
    },
    {
      "metadata": {
        "id": "-lCj7dx6ZB-Y",
        "colab_type": "code",
        "colab": {}
      },
      "cell_type": "code",
      "source": [
        "for activation, task_name in task5:\n",
        "    if(activation == 'relu'):\n",
        "        class BOWClassifier(nn.Module):\n",
        "            def __init__(self, input_size, hidden_size1, hidden_size2, hidden_size3, output_size):\n",
        "                super(BOWClassifier, self).__init__()\n",
        "                SEED = 42\n",
        "                torch.manual_seed(SEED)\n",
        "                torch.cuda.manual_seed(SEED)\n",
        "                self.i2h1 = nn.Linear(input_size, hidden_size1) # initialises weights and biases i2h1\n",
        "                self.drop1 = nn.Dropout(0.5) # Adding dropout layer\n",
        "\n",
        "                self.h12h2 = nn.Linear(hidden_size1, hidden_size2) # initialises weights and biases h12h2\n",
        "                self.drop2 = nn.Dropout(0.5) # Adding dropout layer\n",
        "\n",
        "                self.h22h3 = nn.Linear(hidden_size2, hidden_size3) # initialises weights and biases h22h3\n",
        "                self.drop3 = nn.Dropout(0.5) # Adding dropout layer\n",
        "\n",
        "                self.h32o = nn.Linear(hidden_size3, output_size) # initialises weights and biases h32o\n",
        "\n",
        "            def forward(self, x):\n",
        "                x = torch.relu(self.i2h1(x)) # relu activation @ hidden layer\n",
        "                x = torch.relu(self.h12h2(x)) # relu activation @ hidden layer\n",
        "                x = torch.relu(self.h22h3(x)) # relu activation @ hidden layer\n",
        "                x = torch.relu(self.h32o(x)) # sigmoid activation @ output layer\n",
        "                return x\n",
        "\n",
        "        num_of_input = VOCAB_SIZE # Bag word restriction has to be equal to vocabulary\n",
        "        num_of_hidden1 = 30\n",
        "        num_of_hidden2 = 20\n",
        "        num_of_hidden1 = 10\n",
        "        num_of_output = 2 # binary sentiment classes (+ve, -ve) only for relu activation\n",
        "\n",
        "        bow = BOWClassifier(num_of_input, num_of_hidden1, num_of_hidden2, num_of_hidden3, num_of_output).to('cuda:0') # initialises weights and biases\n",
        "        \n",
        "    if(activation == 'tanh'):\n",
        "        class BOWClassifier(nn.Module):\n",
        "            def __init__(self, input_size, hidden_size1, hidden_size2, hidden_size3, output_size):\n",
        "                super(BOWClassifier, self).__init__()\n",
        "                SEED = 42\n",
        "                torch.manual_seed(SEED)\n",
        "                torch.cuda.manual_seed(SEED)\n",
        "                self.i2h1 = nn.Linear(input_size, hidden_size1) # initialises weights and biases i2h1\n",
        "                self.drop1 = nn.Dropout(0.5) # Adding dropout layer\n",
        "\n",
        "                self.h12h2 = nn.Linear(hidden_size1, hidden_size2) # initialises weights and biases h12h2\n",
        "                self.drop2 = nn.Dropout(0.5) # Adding dropout layer\n",
        "\n",
        "                self.h22h3 = nn.Linear(hidden_size2, hidden_size3) # initialises weights and biases h22h3\n",
        "                self.drop3 = nn.Dropout(0.5) # Adding dropout layer\n",
        "\n",
        "                self.h32o = nn.Linear(hidden_size3, output_size) # initialises weights and biases h32o\n",
        "\n",
        "            def forward(self, x):\n",
        "                x = torch.tanh(self.i2h1(x)) # relu activation @ hidden layer\n",
        "                x = torch.tanh(self.h12h2(x)) # relu activation @ hidden layer\n",
        "                x = torch.tanh(self.h22h3(x)) # relu activation @ hidden layer\n",
        "                x = torch.tanh(self.h32o(x)) # sigmoid activation @ output layer\n",
        "                return x\n",
        "\n",
        "        num_of_input = VOCAB_SIZE # Bag word restriction has to be equal to vocabulary\n",
        "        num_of_hidden1 = 30\n",
        "        num_of_hidden2 = 20\n",
        "        num_of_hidden1 = 10\n",
        "        num_of_output = 1 # binary sentiment classes (+ve, -ve)\n",
        "\n",
        "        bow = BOWClassifier(num_of_input, num_of_hidden1, num_of_hidden2, num_of_hidden3, num_of_output).to('cuda:0') # initialises weights and biases\n",
        "\n",
        "    if(activation == 'sigmoid'):\n",
        "        class BOWClassifier(nn.Module):\n",
        "            def __init__(self, input_size, hidden_size1, hidden_size2, hidden_size3, output_size):\n",
        "                super(BOWClassifier, self).__init__()\n",
        "                SEED = 42\n",
        "                torch.manual_seed(SEED)\n",
        "                torch.cuda.manual_seed(SEED)\n",
        "                self.i2h1 = nn.Linear(input_size, hidden_size1) # initialises weights and biases i2h1\n",
        "                self.drop1 = nn.Dropout(0.5) # Adding dropout layer\n",
        "\n",
        "                self.h12h2 = nn.Linear(hidden_size1, hidden_size2) # initialises weights and biases h12h2\n",
        "                self.drop2 = nn.Dropout(0.5) # Adding dropout layer\n",
        "\n",
        "                self.h22h3 = nn.Linear(hidden_size2, hidden_size3) # initialises weights and biases h22h3\n",
        "                self.drop3 = nn.Dropout(0.5) # Adding dropout layer\n",
        "\n",
        "                self.h32o = nn.Linear(hidden_size3, output_size) # initialises weights and biases h32o\n",
        "\n",
        "            def forward(self, x):\n",
        "                x = torch.sigmoid(self.i2h1(x)) # relu activation @ hidden layer\n",
        "                x = torch.sigmoid(self.h12h2(x)) # relu activation @ hidden layer\n",
        "                x = torch.sigmoid(self.h22h3(x)) # relu activation @ hidden layer\n",
        "                x = torch.sigmoid(self.h32o(x)) # sigmoid activation @ output layer\n",
        "                return x\n",
        "\n",
        "        num_of_input = VOCAB_SIZE # Bag word restriction has to be equal to vocabulary\n",
        "        num_of_hidden1 = 30\n",
        "        num_of_hidden2 = 20\n",
        "        num_of_hidden1 = 10\n",
        "        num_of_output = 1 # binary sentiment classes (+ve, -ve)\n",
        "\n",
        "        bow = BOWClassifier(num_of_input, num_of_hidden1, num_of_hidden2, num_of_hidden3, num_of_output).to('cuda:0') # initialises weights and biases\n",
        "    \n",
        "    # define a loss function and an optimizer\n",
        "    loss_function = nn.BCELoss()\n",
        "    opt = torch.optim.SGD(bow.parameters(), lr = 0.0001)\n",
        "\n",
        "    gc.collect()\n",
        "\n",
        "    # Train The Model\n",
        "    epochs = 100\n",
        "    # the training loop\n",
        "    total_time = 0.0\n",
        "    prev_val_loss = float('inf')\n",
        "    val_loss = 0\n",
        "    early_stop_bow = 0\n",
        "\n",
        "    for e in range(epochs):\n",
        "        tic = time.time() # start the timer\n",
        "        correct = 0\n",
        "        cumulative_loss = 0\n",
        "        incorrect = 0\n",
        "\n",
        "        for i, instance in enumerate(train_data): # train_text_reviews \n",
        "            # get the training data\n",
        "            label = train_text_labels[i] # get the label of the corresponding instace\n",
        "            label = Variable(torch.FloatTensor([label])).resize_((1,1)).to('cuda:0') # wraps a tensor for label\n",
        "\n",
        "            bow.zero_grad() # reset the gradient for each instance\n",
        "\n",
        "            pred = bow.forward(instance, activation)\n",
        "\n",
        "            loss = loss_function(pred, label) # compute the loss\n",
        "            loss.backward() # backprop the loss\n",
        "            opt.step() # performs parameter updation based on the current gradient\n",
        "\n",
        "            cumulative_loss += float(loss.item()) # accumulate the loss over whole training sample\n",
        "\n",
        "            if(activation == 'sigmoid'):\n",
        "                pred_class = 1 if pred.item() > 0.5 else 0 # as sigmoid activated\n",
        "            if(activation == 'tanh'):\n",
        "                pred_class = 1 if pred.item() > 0.0 else 0 # as tanh activated\n",
        "            if(activation == 'relu'):\n",
        "                pred_class = np.argmax(pred.item())\n",
        "                print (pred.item(), pred_class)\n",
        "                \n",
        "            if(int(label) == pred_class): # counting correct prediction in each epoch\n",
        "                correct += 1\n",
        "\n",
        "        train_loss = float(cumulative_loss)/num_train_data\n",
        "        train_accuracy = correct*float(100)/num_train_data\n",
        "\n",
        "    #         val_loss, val_accuracy, p, r, f = evaluate_validation_accuracy(val_data, bow) # test val-data-set on currently trained model\n",
        "        val_loss = evaluate_validation_accuracy(val_data, bow) # test val-data-set on currently trained model\n",
        "        \n",
        "        if(prev_val_loss-val_loss < 0.0): # early stop if nearly no change\n",
        "            bow = copy.deepcopy(early_stop_bow)\n",
        "            break\n",
        "\n",
        "        early_stop_bow = copy.deepcopy(bow)\n",
        "\n",
        "        prev_val_loss = val_loss\n",
        "\n",
        "        toc = time.time() # final time\n",
        "        total_time += (toc-tic)\n",
        "\n",
        "        print(\"Epoch {}/{}\\n[On Training] ==> Time: {:.2f}s, Train Loss: {:.9f}, Train Accuracy: {:.2f}%\".format(e+1, epochs, (toc-tic), train_loss, train_accuracy))\n",
        "    #         print(\"[On Validation] ==> Precision: {:.3f}, Recall: {:.3f}, F-Score: {:.3f}, Val loss: {:.9f}, Val Accuracy: {:.2f}% Total Time: {:.2f}s\".format(p, r, f, val_loss, val_accuracy, total_time))\n",
        "        print(\"[On Validation] ==> Val loss: {:.9f}, Total Time: {:.2f}s\".format(val_loss, total_time))\n",
        "\n",
        "    torch.save(bow, task_name)\n",
        "    print(\"\\n\")"
      ],
      "execution_count": 0,
      "outputs": []
    },
    {
      "metadata": {
        "id": "FDUyFfwmXSew",
        "colab_type": "code",
        "colab": {}
      },
      "cell_type": "code",
      "source": [
        "# import matplotlib.pyplot as plt\n",
        "# plt.figure(\"Image\")\n",
        "# plt.title(\"Loss vs Epoch\")\n",
        "# val_loss_history_plt =  [float(i)/sum(val_loss_history) for i in val_loss_history] # normalised between 0-1\n",
        "# train_loss_history_plt =  [float(i)/sum(train_loss_history) for i in train_loss_history] # normalised between 0-1\n",
        "# f_score_plt = [float(i)/sum(f_score) for i in f_score] # normalised between 0-1\n",
        "# plt.plot(val_loss_history_plt, c=\"red\", label=\"Validation Loss\")\n",
        "# plt.plot(train_loss_history_plt, c=\"blue\", label = \"Training Loss\")\n",
        "# plt.plot(f_score_plt, c=\"green\", label = \"F-Score\")\n",
        "# plt.legend()"
      ],
      "execution_count": 0,
      "outputs": []
    },
    {
      "metadata": {
        "id": "Zz5PwYjVudEk",
        "colab_type": "code",
        "colab": {
          "resources": {
            "http://localhost:8080/nbextensions/google.colab/files.js": {
              "data": "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",
              "ok": true,
              "headers": [
                [
                  "content-type",
                  "application/javascript"
                ]
              ],
              "status": 200,
              "status_text": ""
            }
          },
          "base_uri": "https://localhost:8080/",
          "height": 74
        },
        "outputId": "b827a586-3ef1-4a92-8a95-3bbf68dabc54"
      },
      "cell_type": "code",
      "source": [
        "from google.colab import files\n",
        "temp_test = files.upload()"
      ],
      "execution_count": 252,
      "outputs": [
        {
          "output_type": "display_data",
          "data": {
            "text/html": [
              "\n",
              "     <input type=\"file\" id=\"files-7063ed6b-ee9a-4382-bd21-300e434055d5\" name=\"files[]\" multiple disabled />\n",
              "     <output id=\"result-7063ed6b-ee9a-4382-bd21-300e434055d5\">\n",
              "      Upload widget is only available when the cell has been executed in the\n",
              "      current browser session. Please rerun this cell to enable.\n",
              "      </output>\n",
              "      <script src=\"/nbextensions/google.colab/files.js\"></script> "
            ],
            "text/plain": [
              "<IPython.core.display.HTML object>"
            ]
          },
          "metadata": {
            "tags": []
          }
        },
        {
          "output_type": "stream",
          "text": [
            "Saving Task3A.mdl to Task3A.mdl\n"
          ],
          "name": "stdout"
        }
      ]
    },
    {
      "metadata": {
        "id": "29twCfxpuc8r",
        "colab_type": "code",
        "colab": {}
      },
      "cell_type": "code",
      "source": [
        "# _model_ = torch.load(io.BytesIO(temp_test['Task2C.mdl']))\n",
        "_model_ = torch.load('Task1A.mdl')"
      ],
      "execution_count": 0,
      "outputs": []
    },
    {
      "metadata": {
        "id": "Ixy30WkrH3_-",
        "colab_type": "code",
        "outputId": "1307ff00-51e6-4eca-c999-cd44b94b71e0",
        "colab": {
          "base_uri": "https://localhost:8080/",
          "height": 476
        }
      },
      "cell_type": "code",
      "source": [
        "for params in _model_.parameters():\n",
        "    print (params)"
      ],
      "execution_count": 278,
      "outputs": [
        {
          "output_type": "stream",
          "text": [
            "Parameter containing:\n",
            "tensor([[ 0.0175,  0.0189,  0.0160,  ..., -0.0016,  0.0028, -0.0054],\n",
            "        [ 0.0377,  0.0271,  0.0252,  ...,  0.0071,  0.0051, -0.0010],\n",
            "        [ 0.0075,  0.0098,  0.0126,  ..., -0.0052, -0.0008, -0.0058],\n",
            "        ...,\n",
            "        [ 0.0418,  0.0337,  0.0295,  ...,  0.0024, -0.0035, -0.0009],\n",
            "        [ 0.0173,  0.0145,  0.0148,  ..., -0.0040,  0.0006,  0.0011],\n",
            "        [ 0.0063,  0.0068,  0.0023,  ..., -0.0066, -0.0028, -0.0050]],\n",
            "       device='cuda:0', requires_grad=True)\n",
            "Parameter containing:\n",
            "tensor([ 0.0167,  0.0579,  0.0082,  0.0147,  0.0065,  0.0141,  0.0202,  0.0433,\n",
            "         0.0784,  0.0452,  0.0315,  0.0112,  0.0664,  0.0172,  0.0119,  0.0263,\n",
            "         0.0244,  0.0749,  0.0116, -0.0008,  0.0538,  0.0011,  0.0765,  0.0214,\n",
            "         0.0159,  0.0460,  0.0440,  0.0043, -0.0030,  0.0515,  0.0225,  0.0185,\n",
            "        -0.0024,  0.0325,  0.0773,  0.0351,  0.0526,  0.0499,  0.0379,  0.0245,\n",
            "         0.0291,  0.0215,  0.0366,  0.0225,  0.0469, -0.0004,  0.0523,  0.0589,\n",
            "         0.0173, -0.0021], device='cuda:0', requires_grad=True)\n",
            "Parameter containing:\n",
            "tensor([[ 0.2334, -0.5917,  0.0944,  0.2517,  0.0771,  0.2050,  0.2979, -0.4253,\n",
            "         -0.9169,  0.6193,  0.4922, -0.0573, -0.7732, -0.0835, -0.1266,  0.3172,\n",
            "         -0.3227, -0.7934,  0.1959,  0.0726,  0.7135,  0.0263, -0.7707,  0.3199,\n",
            "         -0.2062,  0.6669,  0.5527,  0.0737,  0.0395,  0.7594,  0.2241,  0.2546,\n",
            "          0.0113,  0.4109, -0.8368, -0.4048, -0.5709,  0.7056,  0.6197,  0.3474,\n",
            "         -0.3372,  0.1972,  0.4518,  0.2794, -0.5228,  0.0328,  0.7508, -0.6010,\n",
            "         -0.2546, -0.0214]], device='cuda:0', requires_grad=True)\n",
            "Parameter containing:\n",
            "tensor([0.0895], device='cuda:0', requires_grad=True)\n"
          ],
          "name": "stdout"
        }
      ]
    },
    {
      "metadata": {
        "id": "fkYBaktsF-sm",
        "colab_type": "code",
        "colab": {}
      },
      "cell_type": "code",
      "source": [
        "data_test = []\n",
        "data_test = [Variable(make_bow_vector(instance, word_to_ix)).to('cuda:0') for instance in test_text_reviews]"
      ],
      "execution_count": 0,
      "outputs": []
    },
    {
      "metadata": {
        "id": "ffYv5PAmjyp-",
        "colab_type": "code",
        "outputId": "f53f10a9-dfa1-4d72-8725-d8dde3b4fb30",
        "colab": {
          "base_uri": "https://localhost:8080/",
          "height": 51
        }
      },
      "cell_type": "code",
      "source": [
        "print('--- AFTER TRAINING ---')\n",
        "correct = 0\n",
        "tic = time.time()\n",
        "for i, instance in enumerate(data_test):\n",
        "    label = test_text_labels[i] # get the label of the corresponding instace\n",
        "    label = Variable(torch.FloatTensor([label])).resize_((1,1)).to('cuda:0') # wraps a tensor for label\n",
        "    \n",
        "    pred = _model_.forward(instance)\n",
        "    pred_class = 1 if pred.item() > 0.5 else 0 # sigmoid activated\n",
        "    \n",
        "    if(int(label) == pred_class):\n",
        "        correct += 1\n",
        "toc = time.time()\n",
        "print(\"Time: {}, Test Accuracy: {:.2f}%\".format((toc-tic), correct*100/len(data_test)))"
      ],
      "execution_count": 280,
      "outputs": [
        {
          "output_type": "stream",
          "text": [
            "--- AFTER TRAINING ---\n",
            "Time: 2.2376139163970947, Test Accuracy: 88.44%\n"
          ],
          "name": "stdout"
        }
      ]
    },
    {
      "metadata": {
        "id": "hBL6jT8ReP6p",
        "colab_type": "code",
        "colab": {}
      },
      "cell_type": "code",
      "source": [
        "# predict on test dataset\n",
        "# with open(\"Task1A.csv\", \"wb\") as _f:\n",
        "#     writer = csv.writer(_f)\n",
        "#     writer.writerows(a)"
      ],
      "execution_count": 0,
      "outputs": []
    },
    {
      "metadata": {
        "id": "0VkVoMzMUdeh",
        "colab_type": "code",
        "colab": {}
      },
      "cell_type": "code",
      "source": [
        "np.save('vocab.npy', word_to_ix)\n",
        "\n",
        "from google.colab import files\n",
        "files.download(\"vocab.npy\")"
      ],
      "execution_count": 0,
      "outputs": []
    },
    {
      "metadata": {
        "id": "Ub0HKgL8H37z",
        "colab_type": "code",
        "colab": {}
      },
      "cell_type": "code",
      "source": [
        ""
      ],
      "execution_count": 0,
      "outputs": []
    },
    {
      "metadata": {
        "id": "lCraW41hH32S",
        "colab_type": "code",
        "colab": {}
      },
      "cell_type": "code",
      "source": [
        ""
      ],
      "execution_count": 0,
      "outputs": []
    },
    {
      "metadata": {
        "id": "mhftDt1DH3x6",
        "colab_type": "code",
        "colab": {}
      },
      "cell_type": "code",
      "source": [
        ""
      ],
      "execution_count": 0,
      "outputs": []
    },
    {
      "metadata": {
        "id": "kE_TcX1KH3tQ",
        "colab_type": "code",
        "colab": {}
      },
      "cell_type": "code",
      "source": [
        ""
      ],
      "execution_count": 0,
      "outputs": []
    },
    {
      "metadata": {
        "id": "T60wqxmoH3Zl",
        "colab_type": "code",
        "colab": {}
      },
      "cell_type": "code",
      "source": [
        ""
      ],
      "execution_count": 0,
      "outputs": []
    }
  ]
}
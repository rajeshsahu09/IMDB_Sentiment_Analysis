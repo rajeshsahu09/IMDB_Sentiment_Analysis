{
  "nbformat": 4,
  "nbformat_minor": 0,
  "metadata": {
    "colab": {
      "name": "DL_Assign.ipynb",
      "version": "0.3.2",
      "provenance": [],
      "collapsed_sections": [],
      "toc_visible": true,
      "include_colab_link": true
    },
    "kernelspec": {
      "name": "python3",
      "display_name": "Python 3"
    },
    "accelerator": "GPU"
  },
  "cells": [
    {
      "cell_type": "markdown",
      "metadata": {
        "id": "view-in-github",
        "colab_type": "text"
      },
      "source": [
        "<a href=\"https://colab.research.google.com/github/rajeshsahu09/CS69002_9A_18CS60R19/blob/master/DL_Assign.ipynb\" target=\"_parent\"><img src=\"https://colab.research.google.com/assets/colab-badge.svg\" alt=\"Open In Colab\"/></a>"
      ]
    },
    {
      "metadata": {
        "id": "wuB0HM37teAc",
        "colab_type": "text"
      },
      "cell_type": "markdown",
      "source": [
        "# Movie Review Sentiment Analysis"
      ]
    },
    {
      "metadata": {
        "id": "rKlXTA5zfx20",
        "colab_type": "text"
      },
      "cell_type": "markdown",
      "source": [
        "# Run on **GPU**\n",
        "\n"
      ]
    },
    {
      "metadata": {
        "id": "_NV6CE-qtvGO",
        "colab_type": "text"
      },
      "cell_type": "markdown",
      "source": [
        "### Import Header Files"
      ]
    },
    {
      "metadata": {
        "id": "WE7OEcPOtzJf",
        "colab_type": "code",
        "colab": {}
      },
      "cell_type": "code",
      "source": [
        "import torch\n",
        "import pandas as pd\n",
        "import numpy as np\n",
        "import io"
      ],
      "execution_count": 0,
      "outputs": []
    },
    {
      "metadata": {
        "id": "v4037ccUuFFp",
        "colab_type": "text"
      },
      "cell_type": "markdown",
      "source": [
        "### Load the Dataset and Visualise"
      ]
    },
    {
      "metadata": {
        "id": "EhWFepP2t3eA",
        "colab_type": "code",
        "colab": {}
      },
      "cell_type": "code",
      "source": [
        "# from google.colab import files\n",
        "# uploaded = files.upload()\n",
        "\n",
        "# import io\n",
        "# df_train = pd.read_csv(io.StringIO(uploaded['Train_20K.csv'].decode('utf-8')), sep='\\t')\n",
        "# df_train.head()\n",
        "url = \"https://raw.githubusercontent.com/binny-mathew/IITKGP_CS69002_Spring_2019/master/Dataset/Train_20K.csv\"\n",
        "df_train = pd.read_csv(url, sep='\\t')"
      ],
      "execution_count": 0,
      "outputs": []
    },
    {
      "metadata": {
        "id": "T9FBTqABuRlO",
        "colab_type": "code",
        "colab": {}
      },
      "cell_type": "code",
      "source": [
        "# from google.colab import files\n",
        "# uploaded = files.upload()\n",
        "\n",
        "# import io\n",
        "# df_val = pd.read_csv(io.StringIO(uploaded['check.csv'].decode('utf-8')), sep='\\t')\n",
        "# df_val.head()\n",
        "url = \"https://raw.githubusercontent.com/binny-mathew/IITKGP_CS69002_Spring_2019/master/Dataset/check.csv\"\n",
        "df_val = pd.read_csv(url, sep='\\t')"
      ],
      "execution_count": 0,
      "outputs": []
    },
    {
      "metadata": {
        "id": "uuZxOMpkQoka",
        "colab_type": "code",
        "colab": {}
      },
      "cell_type": "code",
      "source": [
        "# from google.colab import files\n",
        "# uploaded = files.upload()\n",
        "\n",
        "# import io\n",
        "# df_test = pd.read_csv(io.StringIO(uploaded['Test_5K.csv'].decode('utf-8')), sep='\\t')\n",
        "# df_test.head()\n",
        "url = \"https://raw.githubusercontent.com/binny-mathew/IITKGP_CS69002_Spring_2019/master/Dataset/Test_5K.csv\"\n",
        "df_test = pd.read_csv(url, sep='\\t')"
      ],
      "execution_count": 0,
      "outputs": []
    },
    {
      "metadata": {
        "id": "0WFB1TtsxD3F",
        "colab_type": "code",
        "outputId": "bc319b47-30ab-4e5b-cb8e-c143e8b92318",
        "colab": {
          "base_uri": "https://localhost:8080/",
          "height": 68
        }
      },
      "cell_type": "code",
      "source": [
        "print('Number of Negative movie reviews', len(df_train[df_train['label']==0]))\n",
        "print('Number of Positive movie reviews', len(df_train[df_train['label']==1]))\n",
        "print('Number of movie reviews', len(df_train['label']))"
      ],
      "execution_count": 5,
      "outputs": [
        {
          "output_type": "stream",
          "text": [
            "Number of Negative movie reviews 8994\n",
            "Number of Positive movie reviews 9005\n",
            "Number of movie reviews 17999\n"
          ],
          "name": "stdout"
        }
      ]
    },
    {
      "metadata": {
        "id": "TVzhPcGGxf2-",
        "colab_type": "text"
      },
      "cell_type": "markdown",
      "source": [
        "## Data pre-processing"
      ]
    },
    {
      "metadata": {
        "id": "u-8IR64TKH0F",
        "colab_type": "text"
      },
      "cell_type": "markdown",
      "source": [
        "### Get Train Data"
      ]
    },
    {
      "metadata": {
        "id": "JprKnOXgxXkE",
        "colab_type": "code",
        "outputId": "45cd2571-947c-4c33-9b8b-eedf554ccd3c",
        "colab": {
          "base_uri": "https://localhost:8080/",
          "height": 71
        }
      },
      "cell_type": "code",
      "source": [
        "train_raw_text_reviews = df_train['text'].astype(str).tolist()\n",
        "len(train_raw_text_reviews), train_raw_text_reviews[-2]"
      ],
      "execution_count": 6,
      "outputs": [
        {
          "output_type": "execute_result",
          "data": {
            "text/plain": [
              "(17999,\n",
              " 'Anyone notice that Tommy only has 3 facial expressions.<br /><br />1. The angry eyes look he gives every enemy. 2. The holding of the hands to face, mouth agape and frightened eyes. 3. The smiling Tommy Turnbull.<br /><br />I have to say that i pretty much hate this show, i don\\'t watch it but it\\'s like Code Lyoko, we\\'ve all watched at least one, i must say that this show is borderline racist, uninteresting and pointless.<br /><br />every episode ends with robotboy winning, except for one exception when robotboy basically let this overly geeky freakazoid fly away on a jetpack.<br /><br />The jokes are pretty crude too, i think it\\'s mostly people saying the word \"Suck\" or farting, i think the bullies of the show are quite shocking too.<br /><br />Isn\\'t there one that hides a bowling ball under his hate, and the other uses a chain, for god sake, what kind of school is he going to. Not to mention his older brother, who is borderline psychopathic and has no other character qualities.<br /><br />The whole show i feel is ripping off megas XLR and Fosters. Like you could say the trio of coop, jamie and Kiva, as well as Robotboy being similar to Megas where he beats everyone no matter what the odds and he\\'s free spirited despite being a robot.<br /><br />There is simply no appeal to this show, i\\'m surprised that it\\'s still running.')"
            ]
          },
          "metadata": {
            "tags": []
          },
          "execution_count": 6
        }
      ]
    },
    {
      "metadata": {
        "id": "6pyMLy0NyHVx",
        "colab_type": "code",
        "outputId": "64f1762f-56c3-47f0-a99a-01aadf3db98a",
        "colab": {
          "base_uri": "https://localhost:8080/",
          "height": 34
        }
      },
      "cell_type": "code",
      "source": [
        "train_text_labels = df_train['label'].astype(int)\n",
        "len(train_text_labels), train_text_labels[len(train_text_labels)-2]"
      ],
      "execution_count": 7,
      "outputs": [
        {
          "output_type": "execute_result",
          "data": {
            "text/plain": [
              "(17999, 0)"
            ]
          },
          "metadata": {
            "tags": []
          },
          "execution_count": 7
        }
      ]
    },
    {
      "metadata": {
        "id": "TwU4zROpKLdQ",
        "colab_type": "text"
      },
      "cell_type": "markdown",
      "source": [
        "###Get Validation Data"
      ]
    },
    {
      "metadata": {
        "id": "7TsL1ACWJ_3V",
        "colab_type": "code",
        "outputId": "a75d440b-616b-42c3-9796-b22b1603c294",
        "colab": {
          "base_uri": "https://localhost:8080/",
          "height": 71
        }
      },
      "cell_type": "code",
      "source": [
        "val_raw_text_reviews = df_val['text'].astype(str).tolist()\n",
        "len(val_raw_text_reviews), val_raw_text_reviews[-2]"
      ],
      "execution_count": 8,
      "outputs": [
        {
          "output_type": "execute_result",
          "data": {
            "text/plain": [
              "(499,\n",
              " \"This movie starts out brisk, has some slow moments in the middle, but generally moves along well, has a few very good moments, then peters out at the end of Act 3. I was able to get to see this in LA premieres 2 times (with 2 different endings). Jason Lee is a star, but he is not tomorrows leading man. He is humorous and holds his own, but he is better served as a supporting actor. Julia Stiles does 'ok' in a comedy role, new for her, but she doesn't 'steal' this movie, the way a star of her caliber should. For an actress who has so much potential(10 Things, Save the Last Dance, O), it is hard to watch her continue to do roles that are so 'average', and then not have her take the role and run away with the movie (like Daniel Day-Lewis did in 'Gangs'). Selma Blair is a good young actress as well, and does an 'ok' job. I didn't expect an academy award performance from her, and she didn't deliver one, but, her performance was adequate. Chris Koch delivers another film that is 'above average'. Perhaps the problem lies in the script more than anything else. I 'did' like this movie! But, it is not a movie where you walk away and say...'that was great!'...This 'story' has been done so many times before and there was just not much new here. The rehearsal dinner scene was probably the best in the movie, and Larry Miller gives an incredible performance in a supporting role (he could be the best surprise of the film). If you want to go see a movie that will make you laugh a few times, and have an enjoyable evening, I can still recommend this film, but unless they have changed the ending...again...leave during the church scene, or you will surely be disappointed.\")"
            ]
          },
          "metadata": {
            "tags": []
          },
          "execution_count": 8
        }
      ]
    },
    {
      "metadata": {
        "id": "nXcL1jBEJ-0w",
        "colab_type": "code",
        "outputId": "cb4804c8-72d8-4117-fb1d-9361d3621d60",
        "colab": {
          "base_uri": "https://localhost:8080/",
          "height": 34
        }
      },
      "cell_type": "code",
      "source": [
        "val_text_labels = df_val['label'].astype(int)\n",
        "len(val_text_labels), val_text_labels[len(val_text_labels)-2]"
      ],
      "execution_count": 9,
      "outputs": [
        {
          "output_type": "execute_result",
          "data": {
            "text/plain": [
              "(499, 1)"
            ]
          },
          "metadata": {
            "tags": []
          },
          "execution_count": 9
        }
      ]
    },
    {
      "metadata": {
        "id": "YixDzEnXLZN-",
        "colab_type": "text"
      },
      "cell_type": "markdown",
      "source": [
        "###Get Test Data"
      ]
    },
    {
      "metadata": {
        "id": "MQHaSpnJJ9eT",
        "colab_type": "code",
        "outputId": "29e5ba63-4ef4-4316-8167-4a9844242472",
        "colab": {
          "base_uri": "https://localhost:8080/",
          "height": 71
        }
      },
      "cell_type": "code",
      "source": [
        "test_raw_text_reviews = df_test['text'].astype(str).tolist()\n",
        "len(test_raw_text_reviews), test_raw_text_reviews[-2]"
      ],
      "execution_count": 10,
      "outputs": [
        {
          "output_type": "execute_result",
          "data": {
            "text/plain": [
              "(5000,\n",
              " 'The Shining, you know what\\'s weird about this movie? This is the movie that everyone, for people who claim to not like horror films, will always say that The Shining is a terrific film. This is Stanley Kubrick\\'s classic vision of Stephen King\\'s horror tale of madness and blood. This is just an incredible film and wither you have seen it or not, you have heard of it, know a few lines from it, and know some of the classic images. Who could forget Jack\\'s \"Here\\'s Johnny!\"? Who could forget \"All Work and No Play Make Jack a Dull Boy\"? Who could forget that chilling ending? This is the film that is unforgettable and honestly in my opinion is Kubrick\\'s best work. I know there is a lot of argument in that department, a lot of people say it\\'s 2001: A Space Odyssey or Clockwork Orange or even Dr. Strangelove, but if those film pioneered film making, then The Shining perfected it. This is the tale of isolation, madness, terrifying images, and the ultimate ghost story that will crawl underneath your skin. <br /><br />Jack Torrance, Jack\\'s son Danny, and Jack\\'s wife, Wendy arrive at the Overlook Hotel on closing day. The elderly African-American chef, Dick Hallorann, surprises Danny by speaking to him telepathically and offering him some ice cream. He explains to Danny that he and his grandmother shared the gift; they called the communication \"shining.\" Danny asks if there is anything to be afraid of in the hotel, particularly Room 237. Dick tells Danny that the hotel has a certain \"shine\" to it and many memories, not all of them good, and advises him to stay out of room 237 under all circumstances. Danny\\'s curiosity about Room 237 finally gets the better of him when he sees the room has been opened. Danny shows up injured and visibly traumatized after Jack tells Wendy that he loves his family. Seeing this, Wendy thinks Jack has been abusing Danny. Jack wanders into the hotel\\'s Gold Room where he meets a ghostly bartender named Lloyd. Danny starts calling out the word \"redrum\" frantically, and scribbling it on walls. He goes into a trance, and withdraws; he now says that he is Tony, his own \"imaginary friend.\" Jack sabotages the hotel radio, cutting off communication from the outside world, but Hallorann has received Danny\\'s telepathic cry for help and is on his way. Wendy discovers that Jack has been typing endless pages of manuscript repeating \"All work and no play makes Jack a dull boy\" formatted in various ways. Horrified, Jack threatens her and she knocks him unconscious with a baseball bat, locking him in a storage locker in the kitchen. Jack converses with Grady through the door of the locker, which then unlocks releasing him. Danny has written \"REDRUM\" in lipstick on the door of Wendy\\'s bedroom. When she looks in the mirror, she sees that it is \"Murder\" spelled backwards. Jack picks up an axe and begins to chop through the door leading to his family\\'s living quarters. \"Here\\'s Johnny!\", and Jack\\'s legendary image is born.<br /><br />The Shining is one of those films that you seriously have to make time to see, this is an incredible film and still gives me nightmares. Jack Nicholson\\'s performance is timeless and unforgettable. But one I also feel is extremely overlooked is Shelley Duvall, her scene of finding Jack\\'s rant All Work\\x85 is incredible, that\\'s a look of horror and you can see that fear in her face after realizing her husband is mad. Also another incredible scene is when Jack sees a ghost woman in the bathtub, it\\'s honestly one of the most terrifying scenes in horror cinema. The reason this film is so well known is because it\\'s a film of perfection, it\\'s been on The Simpsons, it\\'s been shown in other films and it\\'s a film that will forever stay with you when you see it, trust me.<br /><br />10/10')"
            ]
          },
          "metadata": {
            "tags": []
          },
          "execution_count": 10
        }
      ]
    },
    {
      "metadata": {
        "id": "xm_vDSe9J8jO",
        "colab_type": "code",
        "outputId": "95b1ec07-c29d-488d-a424-bbd6dc20395e",
        "colab": {
          "base_uri": "https://localhost:8080/",
          "height": 34
        }
      },
      "cell_type": "code",
      "source": [
        "test_text_labels = df_test['label'].astype(int)\n",
        "len(test_text_labels), test_text_labels[len(val_text_labels)-2]"
      ],
      "execution_count": 11,
      "outputs": [
        {
          "output_type": "execute_result",
          "data": {
            "text/plain": [
              "(5000, 1)"
            ]
          },
          "metadata": {
            "tags": []
          },
          "execution_count": 11
        }
      ]
    },
    {
      "metadata": {
        "id": "ui-q6WRqOrB4",
        "colab_type": "text"
      },
      "cell_type": "markdown",
      "source": [
        "#### Cleaning the raw input data"
      ]
    },
    {
      "metadata": {
        "id": "8_4b4FmShb0u",
        "colab_type": "code",
        "colab": {
          "base_uri": "https://localhost:8080/",
          "height": 51
        },
        "outputId": "1c4dbbf2-3bc0-4872-eaff-c6d39fbd5965"
      },
      "cell_type": "code",
      "source": [
        "import re\n",
        "import string\n",
        "import nltk\n",
        "nltk.download(\"stopwords\")\n",
        "from nltk.corpus import stopwords\n",
        "\n",
        "# Finding stop words\n",
        "stop_words = set(stopwords.words('english'))"
      ],
      "execution_count": 12,
      "outputs": [
        {
          "output_type": "stream",
          "text": [
            "[nltk_data] Downloading package stopwords to /root/nltk_data...\n",
            "[nltk_data]   Unzipping corpora/stopwords.zip.\n"
          ],
          "name": "stdout"
        }
      ]
    },
    {
      "metadata": {
        "id": "s3AxEhD_z1DM",
        "colab_type": "code",
        "colab": {}
      },
      "cell_type": "code",
      "source": [
        "def preprocess_document(doc):\n",
        "    # negative sense should not be eleminated + some short representation\n",
        "    CONTRACTIONS = {\"mayn't\":\"may not\", \"can't\":\"can not\", \"won't\":\"will not\", \"isn't\":\"is not\", \"amn't\":\"am not\",\\\n",
        "                  \"aren't\":\"are not\", \"wasn't\":\"was not\", \"weren't\":\"were not\", \"couldn't\":\"could not\", \\\n",
        "                  \"wouldn't\":\"would not\", \"don't\":\"do not\", \"doesn't\":\"does not\",\\\n",
        "                  \"i'll\":\"i will\", \"you'll\":\"you will\", \"they'll\":\"they will\",\\\n",
        "                  \"may've\":\"may have\", \"can've\":\"can have\", \"will've\":\"will have\", \"you've\":\"you have\", \\\n",
        "                  \"could've\":\"could have\", \"would've\":\"would have\", \"you've\":\"you have\", \"they\":\"they have\",\\\n",
        "                  \"i've\":\"i have\", \"you've\":\"you have\", \"we've\":\"we have\", \"there's\":\"there is\", \"i'm\":\"i am\",\\\n",
        "                  \"it's\":\"it is\", \"what's\":\"what is\", \"where's\":\"where is\", \"how's\":\"how is\", \"i'd\":\"i had\"}\n",
        "    punctuation = string.punctuation + \"\\n\\n\"\n",
        "    punc_replace = ''.join([' ' for s in punctuation]) # required for replacing punctuation with null ('')\n",
        "    doc_clean = doc.replace('-', ' ') # replace - with null str\n",
        "    doc_clean = (doc_clean.encode('ascii', 'ignore')).decode(\"utf-8\")\n",
        "    doc_clean = doc_clean.replace('<br />', '') # replace <br /> with ''\n",
        "    doc_clean = doc_clean.replace(\"’\", \"'\") # replace <br /> with null str\n",
        "    doc_clean = [CONTRACTIONS[word] if word in CONTRACTIONS else word for word in doc_clean.split(' ')] # replacing some common short forms\n",
        "    doc_clean = \" \".join(doc_clean) # list to sentence of strings\n",
        "    doc_clean = re.sub(r'\\W +', ' ', doc_clean) # except [a-zA-Z0-9_]\n",
        "    doc_clean = re.sub(r'\\d+', ' ', doc_clean) # remove numbers [0-9]\n",
        "    trans_table = str.maketrans(punctuation, punc_replace); # replace punctuations with ' '\n",
        "    doc_clean = ' '.join([word.translate(trans_table) for word in doc_clean.split(' ')])\n",
        "    doc_clean = doc_clean.split(' ');\n",
        "    doc_clean = [word for word in doc_clean if len(word) > 0];\n",
        "    # removing the stopwords from a sentence\n",
        "    doc_clean = [word for word in doc_clean if not word in stop_words and word != 'not' and word != 'no']\n",
        "    return doc_clean;"
      ],
      "execution_count": 0,
      "outputs": []
    },
    {
      "metadata": {
        "id": "rSNuXUopzavX",
        "colab_type": "code",
        "outputId": "2fdd7f45-d2ef-4811-ce7c-e53d580f6f72",
        "colab": {
          "base_uri": "https://localhost:8080/",
          "height": 71
        }
      },
      "cell_type": "code",
      "source": [
        "train_text_reviews = [preprocess_document(review.lower()) for review in train_raw_text_reviews]\n",
        "print (train_text_reviews[len(train_text_reviews)-2])\n",
        "print (train_text_labels[len(train_text_labels)-2])"
      ],
      "execution_count": 14,
      "outputs": [
        {
          "output_type": "stream",
          "text": [
            "['anyone', 'notice', 'tommy', 'facial', 'expressions', 'angry', 'eyes', 'look', 'gives', 'every', 'enemy', 'holding', 'hands', 'face', 'mouth', 'agape', 'frightened', 'eyes', 'smiling', 'tommy', 'turnbull', 'say', 'pretty', 'much', 'hate', 'show', 'watch', 'like', 'code', 'lyoko', 'watched', 'least', 'one', 'must', 'say', 'show', 'borderline', 'racist', 'uninteresting', 'pointless', 'every', 'episode', 'ends', 'robotboy', 'winning', 'except', 'one', 'exception', 'robotboy', 'basically', 'let', 'overly', 'geeky', 'freakazoid', 'fly', 'away', 'jetpack', 'jokes', 'pretty', 'crude', 'think', 'mostly', 'people', 'saying', 'word', 'suck', 'farting', 'think', 'bullies', 'show', 'quite', 'shocking', 'one', 'hides', 'bowling', 'ball', 'hate', 'uses', 'chain', 'god', 'sake', 'kind', 'school', 'going', 'mention', 'older', 'brother', 'borderline', 'psychopathic', 'character', 'qualities', 'whole', 'show', 'feel', 'ripping', 'megas', 'xlr', 'fosters', 'like', 'could', 'say', 'trio', 'coop', 'jamie', 'kiva', 'well', 'robotboy', 'similar', 'megas', 'beats', 'everyone', 'matter', 'odds', 'free', 'spirited', 'despite', 'robot', 'simply', 'appeal', 'show', 'surprised', 'still', 'running']\n",
            "0\n"
          ],
          "name": "stdout"
        }
      ]
    },
    {
      "metadata": {
        "id": "W6psZ2jxNOoP",
        "colab_type": "code",
        "outputId": "25747d54-1aa6-40ef-fc02-fb7834a8f005",
        "colab": {
          "base_uri": "https://localhost:8080/",
          "height": 71
        }
      },
      "cell_type": "code",
      "source": [
        "val_text_reviews = [preprocess_document(review.lower()) for review in val_raw_text_reviews]\n",
        "print (val_text_reviews[len(val_text_reviews)-2])\n",
        "print (val_text_labels[len(val_text_labels)-2])"
      ],
      "execution_count": 15,
      "outputs": [
        {
          "output_type": "stream",
          "text": [
            "['movie', 'starts', 'brisk', 'slow', 'moments', 'middle', 'generally', 'moves', 'along', 'well', 'good', 'moments', 'peters', 'end', 'act', 'able', 'get', 'see', 'la', 'premieres', 'times', 'different', 'endings', 'jason', 'lee', 'star', 'tomorrows', 'leading', 'man', 'humorous', 'holds', 'better', 'served', 'supporting', 'actor', 'julia', 'stiles', 'ok', 'comedy', 'role', 'new', 'steal', 'movie', 'way', 'star', 'caliber', 'actress', 'much', 'potential', 'things', 'save', 'last', 'dance', 'hard', 'watch', 'continue', 'roles', 'average', 'take', 'role', 'run', 'away', 'movie', 'like', 'daniel', 'day', 'lewis', 'gangs', 'selma', 'blair', 'good', 'young', 'actress', 'well', 'ok', 'job', 'expect', 'academy', 'award', 'performance', 'deliver', 'one', 'performance', 'adequate', 'chris', 'koch', 'delivers', 'another', 'film', 'average', 'perhaps', 'problem', 'lies', 'script', 'anything', 'else', 'like', 'movie', 'movie', 'walk', 'away', 'say', 'great', 'story', 'done', 'many', 'times', 'much', 'new', 'rehearsal', 'dinner', 'scene', 'probably', 'best', 'movie', 'larry', 'miller', 'gives', 'incredible', 'performance', 'supporting', 'role', 'could', 'best', 'surprise', 'film', 'want', 'go', 'see', 'movie', 'make', 'laugh', 'times', 'enjoyable', 'evening', 'still', 'recommend', 'film', 'unless', 'changed', 'ending', 'leave', 'church', 'scene', 'surely', 'disappointed']\n",
            "1\n"
          ],
          "name": "stdout"
        }
      ]
    },
    {
      "metadata": {
        "id": "REdaGj3VNOEX",
        "colab_type": "code",
        "outputId": "553301e0-f12f-487a-fdbe-a27a2d49b459",
        "colab": {
          "base_uri": "https://localhost:8080/",
          "height": 71
        }
      },
      "cell_type": "code",
      "source": [
        "test_text_reviews = [preprocess_document(review.lower()) for review in test_raw_text_reviews]\n",
        "print (test_text_reviews[len(test_text_reviews)-2])\n",
        "print (test_text_labels[len(test_text_labels)-2])"
      ],
      "execution_count": 16,
      "outputs": [
        {
          "output_type": "stream",
          "text": [
            "['shining', 'know', 'weird', 'movie', 'movie', 'everyone', 'people', 'claim', 'like', 'horror', 'films', 'always', 'say', 'shining', 'terrific', 'film', 'stanley', 'kubrick', 'classic', 'vision', 'stephen', 'king', 'horror', 'tale', 'madness', 'blood', 'incredible', 'film', 'wither', 'seen', 'heard', 'know', 'lines', 'know', 'classic', 'images', 'could', 'forget', 'jack', 'johnny', 'could', 'forget', 'work', 'play', 'make', 'jack', 'dull', 'boy', 'could', 'forget', 'chilling', 'ending', 'film', 'unforgettable', 'honestly', 'opinion', 'kubrick', 'best', 'work', 'know', 'lot', 'argument', 'department', 'lot', 'people', 'say', 'space', 'odyssey', 'clockwork', 'orange', 'even', 'dr', 'strangelove', 'film', 'pioneered', 'film', 'making', 'shining', 'perfected', 'tale', 'isolation', 'madness', 'terrifying', 'images', 'ultimate', 'ghost', 'story', 'crawl', 'underneath', 'skin', 'jack', 'torrance', 'jack', 'son', 'danny', 'jack', 'wife', 'wendy', 'arrive', 'overlook', 'hotel', 'closing', 'day', 'elderly', 'african', 'american', 'chef', 'dick', 'hallorann', 'surprises', 'danny', 'speaking', 'telepathically', 'offering', 'ice', 'cream', 'explains', 'danny', 'grandmother', 'shared', 'gift', 'called', 'communication', 'shining', 'danny', 'asks', 'anything', 'afraid', 'hotel', 'particularly', 'room', 'dick', 'tells', 'danny', 'hotel', 'certain', 'shine', 'many', 'memories', 'good', 'advises', 'stay', 'room', 'circumstances', 'danny', 'curiosity', 'room', 'finally', 'gets', 'better', 'sees', 'room', 'opened', 'danny', 'shows', 'injured', 'visibly', 'traumatized', 'jack', 'tells', 'wendy', 'loves', 'family', 'seeing', 'wendy', 'thinks', 'jack', 'abusing', 'danny', 'jack', 'wanders', 'hotel', 'gold', 'room', 'meets', 'ghostly', 'bartender', 'named', 'lloyd', 'danny', 'starts', 'calling', 'word', 'redrum', 'frantically', 'scribbling', 'walls', 'goes', 'trance', 'withdraws', 'says', 'tony', 'imaginary', 'friend', 'jack', 'sabotages', 'hotel', 'radio', 'cutting', 'communication', 'outside', 'world', 'hallorann', 'received', 'danny', 'telepathic', 'cry', 'help', 'way', 'wendy', 'discovers', 'jack', 'typing', 'endless', 'pages', 'manuscript', 'repeating', 'work', 'play', 'makes', 'jack', 'dull', 'boy', 'formatted', 'various', 'ways', 'horrified', 'jack', 'threatens', 'knocks', 'unconscious', 'baseball', 'bat', 'locking', 'storage', 'locker', 'kitchen', 'jack', 'converses', 'grady', 'door', 'locker', 'unlocks', 'releasing', 'danny', 'written', 'redrum', 'lipstick', 'door', 'wendy', 'bedroom', 'looks', 'mirror', 'sees', 'murder', 'spelled', 'backwards', 'jack', 'picks', 'axe', 'begins', 'chop', 'door', 'leading', 'family', 'living', 'quarters', 'johnny', 'jack', 'legendary', 'image', 'born', 'shining', 'one', 'films', 'seriously', 'make', 'time', 'see', 'incredible', 'film', 'still', 'gives', 'nightmares', 'jack', 'nicholson', 'performance', 'timeless', 'unforgettable', 'one', 'also', 'feel', 'extremely', 'overlooked', 'shelley', 'duvall', 'scene', 'finding', 'jack', 'rant', 'work', 'incredible', 'look', 'horror', 'see', 'fear', 'face', 'realizing', 'husband', 'mad', 'also', 'another', 'incredible', 'scene', 'jack', 'sees', 'ghost', 'woman', 'bathtub', 'honestly', 'one', 'terrifying', 'scenes', 'horror', 'cinema', 'reason', 'film', 'well', 'known', 'film', 'perfection', 'simpsons', 'shown', 'films', 'film', 'forever', 'stay', 'see', 'trust']\n",
            "1\n"
          ],
          "name": "stdout"
        }
      ]
    },
    {
      "metadata": {
        "id": "ydrqMX261kQ-",
        "colab_type": "code",
        "colab": {
          "base_uri": "https://localhost:8080/",
          "height": 34
        },
        "outputId": "125e84f4-1f44-4494-e19f-efe007bdf060"
      },
      "cell_type": "code",
      "source": [
        "import gc\n",
        "gc.collect()"
      ],
      "execution_count": 17,
      "outputs": [
        {
          "output_type": "execute_result",
          "data": {
            "text/plain": [
              "0"
            ]
          },
          "metadata": {
            "tags": []
          },
          "execution_count": 17
        }
      ]
    },
    {
      "metadata": {
        "id": "MKifaS85Dkap",
        "colab_type": "text"
      },
      "cell_type": "markdown",
      "source": [
        "###Creating Tokens and Types"
      ]
    },
    {
      "metadata": {
        "id": "dyQJIGVw4Dau",
        "colab_type": "code",
        "outputId": "6837a854-1a68-4508-e9f3-d380b4d9f59d",
        "colab": {
          "base_uri": "https://localhost:8080/",
          "height": 34
        }
      },
      "cell_type": "code",
      "source": [
        "# Fetching the tokens (all words in a doc) and types(unique words in a doc) in the document\n",
        "types = ()\n",
        "tokens = []\n",
        "for row in train_text_reviews+val_text_reviews+test_text_reviews:\n",
        "    tokens += [words for words in row]\n",
        "types = set(tokens)\n",
        "\n",
        "VOCAB_SIZE, TOKEN_SIZE = len(types), len(tokens)\n",
        "VOCAB_SIZE, TOKEN_SIZE"
      ],
      "execution_count": 18,
      "outputs": [
        {
          "output_type": "execute_result",
          "data": {
            "text/plain": [
              "(72098, 2809504)"
            ]
          },
          "metadata": {
            "tags": []
          },
          "execution_count": 18
        }
      ]
    },
    {
      "metadata": {
        "id": "B20xEKK-Hwn7",
        "colab_type": "code",
        "outputId": "ebd43404-56bc-44e7-e82c-1261e4032db4",
        "colab": {
          "base_uri": "https://localhost:8080/",
          "height": 34
        }
      },
      "cell_type": "code",
      "source": [
        "word_to_ix = {x:i for i, x in enumerate(types)}\n",
        "ix_to_word = [x for i, x in enumerate(types)]\n",
        "\n",
        "ix_to_word[word_to_ix['kick']]=='kick', word_to_ix['kick'], len(ix_to_word)"
      ],
      "execution_count": 19,
      "outputs": [
        {
          "output_type": "execute_result",
          "data": {
            "text/plain": [
              "(True, 6100, 72098)"
            ]
          },
          "metadata": {
            "tags": []
          },
          "execution_count": 19
        }
      ]
    },
    {
      "metadata": {
        "id": "GMbWbZdr1reC",
        "colab_type": "code",
        "colab": {
          "base_uri": "https://localhost:8080/",
          "height": 34
        },
        "outputId": "41710a1b-f8f1-4945-aff3-a6afba2fbb2d"
      },
      "cell_type": "code",
      "source": [
        "gc.collect()"
      ],
      "execution_count": 20,
      "outputs": [
        {
          "output_type": "execute_result",
          "data": {
            "text/plain": [
              "174"
            ]
          },
          "metadata": {
            "tags": []
          },
          "execution_count": 20
        }
      ]
    },
    {
      "metadata": {
        "id": "yNUlKuJeNJEu",
        "colab_type": "text"
      },
      "cell_type": "markdown",
      "source": [
        "## PyTorch"
      ]
    },
    {
      "metadata": {
        "id": "SqLOymKPLPug",
        "colab_type": "code",
        "outputId": "9a7bae87-a1cb-4bdb-9f1e-dcd41a822bd2",
        "colab": {
          "base_uri": "https://localhost:8080/",
          "height": 34
        }
      },
      "cell_type": "code",
      "source": [
        "import torch.nn as nn\n",
        "import torch.nn.functional as F\n",
        "from torch.autograd import Variable # Automatic gradients are calculated and back-propagated through the computational graph\n",
        "\n",
        "device = torch.device(\"cuda:0\" if torch.cuda.is_available() else \"cpu\")\n",
        "device"
      ],
      "execution_count": 21,
      "outputs": [
        {
          "output_type": "execute_result",
          "data": {
            "text/plain": [
              "device(type='cuda', index=0)"
            ]
          },
          "metadata": {
            "tags": []
          },
          "execution_count": 21
        }
      ]
    },
    {
      "metadata": {
        "id": "SaSwXEBh6565",
        "colab_type": "text"
      },
      "cell_type": "markdown",
      "source": [
        "##Model Definition for the BOWClassifier"
      ]
    },
    {
      "metadata": {
        "id": "PM5I4GP6lFGu",
        "colab_type": "code",
        "colab": {}
      },
      "cell_type": "code",
      "source": [
        "class BOWClassifier(nn.Module):\n",
        "    def __init__(self, input_size, hidden_size, output_size):\n",
        "        super(BOWClassifier, self).__init__()\n",
        "        SEED = 42\n",
        "        torch.manual_seed(SEED)\n",
        "        torch.cuda.manual_seed(SEED)\n",
        "        self.hidden_size = hidden_size\n",
        "        self.i2h = nn.Linear(input_size, hidden_size) # initialises weights and biases i2h\n",
        "        self.h2o = nn.Linear(hidden_size, output_size) # initialises weights and biases h2o\n",
        "#         self.i2o = nn.Linear(input_size, output_size) # initialises weights and biases i2o\n",
        "         \n",
        "    def forward(self, x):\n",
        "        x = torch.relu(self.i2h(x)) # relu activation @ hidden layer\n",
        "        x = torch.sigmoid(self.h2o(x)) # sigmoid activation @ output layer\n",
        "        return x"
      ],
      "execution_count": 0,
      "outputs": []
    },
    {
      "metadata": {
        "id": "a8MGEFG3Mmww",
        "colab_type": "text"
      },
      "cell_type": "markdown",
      "source": [
        "### Initialise Parameter and Model"
      ]
    },
    {
      "metadata": {
        "id": "MlMeX6577J9A",
        "colab_type": "code",
        "outputId": "75841191-330a-415f-df9e-7dd5b8ad760e",
        "colab": {
          "base_uri": "https://localhost:8080/",
          "height": 51
        }
      },
      "cell_type": "code",
      "source": [
        "num_of_input = VOCAB_SIZE # Bag word restriction has to be equal to vocabulary\n",
        "num_of_hidden = 50 # vary this for assignment\n",
        "num_of_output = 1 # binary sentiment classes (+ve, -ve)\n",
        "\n",
        "bow = BOWClassifier(num_of_input, num_of_hidden, num_of_output).to('cuda:0') # initialises weights and biases\n",
        "bow.i2h, bow.h2o # desc network\n",
        "\n",
        "# bow.i2o"
      ],
      "execution_count": 23,
      "outputs": [
        {
          "output_type": "execute_result",
          "data": {
            "text/plain": [
              "(Linear(in_features=72098, out_features=50, bias=True),\n",
              " Linear(in_features=50, out_features=1, bias=True))"
            ]
          },
          "metadata": {
            "tags": []
          },
          "execution_count": 23
        }
      ]
    },
    {
      "metadata": {
        "id": "8fMMShAzMDjW",
        "colab_type": "text"
      },
      "cell_type": "markdown",
      "source": [
        "#### visualise the parameter"
      ]
    },
    {
      "metadata": {
        "id": "PRhDPFx87Ptm",
        "colab_type": "code",
        "outputId": "258cd34d-aec7-425d-c121-44c2725d275d",
        "colab": {
          "base_uri": "https://localhost:8080/",
          "height": 476
        }
      },
      "cell_type": "code",
      "source": [
        "for param in bow.parameters(): # desc the parameter value\n",
        "    print(param,param.size())"
      ],
      "execution_count": 24,
      "outputs": [
        {
          "output_type": "stream",
          "text": [
            "Parameter containing:\n",
            "tensor([[ 0.0028,  0.0031, -0.0009,  ...,  0.0013,  0.0002,  0.0032],\n",
            "        [-0.0035, -0.0032, -0.0017,  ...,  0.0025, -0.0011, -0.0002],\n",
            "        [ 0.0010,  0.0022, -0.0014,  ...,  0.0005, -0.0004,  0.0025],\n",
            "        ...,\n",
            "        [ 0.0018,  0.0020,  0.0019,  ...,  0.0023, -0.0005, -0.0022],\n",
            "        [-0.0004, -0.0036, -0.0005,  ...,  0.0002,  0.0009,  0.0002],\n",
            "        [-0.0037,  0.0010, -0.0030,  ..., -0.0003, -0.0001, -0.0032]],\n",
            "       device='cuda:0', requires_grad=True) torch.Size([50, 72098])\n",
            "Parameter containing:\n",
            "tensor([ 0.0011,  0.0004,  0.0031, -0.0034, -0.0035, -0.0011, -0.0032,  0.0018,\n",
            "         0.0030,  0.0035,  0.0010, -0.0009, -0.0037,  0.0021,  0.0017,  0.0023,\n",
            "        -0.0003,  0.0017, -0.0013,  0.0020,  0.0022, -0.0023,  0.0021,  0.0006,\n",
            "         0.0027,  0.0002, -0.0031, -0.0016,  0.0030,  0.0012, -0.0007, -0.0016,\n",
            "         0.0007,  0.0009,  0.0024,  0.0037,  0.0026,  0.0007,  0.0032, -0.0031,\n",
            "        -0.0023, -0.0017, -0.0031, -0.0026,  0.0031, -0.0017, -0.0019, -0.0009,\n",
            "         0.0015, -0.0036], device='cuda:0', requires_grad=True) torch.Size([50])\n",
            "Parameter containing:\n",
            "tensor([[ 0.0199,  0.0149,  0.0489,  0.0216,  0.0003,  0.0826,  0.0151,  0.0862,\n",
            "          0.1347, -0.0403,  0.0093,  0.0200, -0.0589, -0.0107, -0.0764, -0.0322,\n",
            "         -0.0884, -0.0293, -0.0897, -0.0402,  0.0540, -0.0363,  0.1348, -0.1242,\n",
            "          0.0739, -0.0110, -0.0421, -0.0210, -0.0361,  0.0512, -0.1150,  0.0524,\n",
            "         -0.0134, -0.0586, -0.1376,  0.0937, -0.0825, -0.0457,  0.0855, -0.0786,\n",
            "         -0.0229,  0.0808, -0.0104, -0.0091,  0.0346, -0.0017, -0.0088,  0.0050,\n",
            "          0.0788,  0.0027]], device='cuda:0', requires_grad=True) torch.Size([1, 50])\n",
            "Parameter containing:\n",
            "tensor([-0.0448], device='cuda:0', requires_grad=True) torch.Size([1])\n"
          ],
          "name": "stdout"
        }
      ]
    },
    {
      "metadata": {
        "id": "sWqAwOAI7D54",
        "colab_type": "text"
      },
      "cell_type": "markdown",
      "source": [
        "## Generate the BOW Vectors"
      ]
    },
    {
      "metadata": {
        "id": "UZK9TAQI7Fbm",
        "colab_type": "code",
        "colab": {}
      },
      "cell_type": "code",
      "source": [
        "def make_bow_vector(sentence, word_to_ix):\n",
        "    # create a vector of zeros of vocab size = len(word_to_idx)\n",
        "    vec = torch.zeros(len(word_to_ix)).to('cuda:0') #, device=device) # make 1D vector of len = vocab size\n",
        "    for word in sentence:\n",
        "        if word not in word_to_ix:            \n",
        "#             raise ValueError('Word',word,' not present in the dictionary. Sorry!')\n",
        "            pass\n",
        "        else:\n",
        "            vec[word_to_ix[word]]+=1 # count the number of occurance of same word in a sentences\n",
        "            \n",
        "    return vec.view(1, -1)"
      ],
      "execution_count": 0,
      "outputs": []
    },
    {
      "metadata": {
        "id": "nw0OYbTzBwJ8",
        "colab_type": "text"
      },
      "cell_type": "markdown",
      "source": [
        "## Define Loss function"
      ]
    },
    {
      "metadata": {
        "id": "PbQcwSIb96V9",
        "colab_type": "code",
        "colab": {}
      },
      "cell_type": "code",
      "source": [
        "# define a loss function and an optimizer\n",
        "loss_function = nn.BCELoss()\n",
        "opt = torch.optim.SGD(bow.parameters(), lr = 0.1)#, momentum=0.9)"
      ],
      "execution_count": 0,
      "outputs": []
    },
    {
      "metadata": {
        "id": "dqYSLXcj11HJ",
        "colab_type": "code",
        "colab": {
          "base_uri": "https://localhost:8080/",
          "height": 34
        },
        "outputId": "7c8cb098-f620-4da5-ac07-bc937b8d71fb"
      },
      "cell_type": "code",
      "source": [
        "gc.collect()"
      ],
      "execution_count": 27,
      "outputs": [
        {
          "output_type": "execute_result",
          "data": {
            "text/plain": [
              "347"
            ]
          },
          "metadata": {
            "tags": []
          },
          "execution_count": 27
        }
      ]
    },
    {
      "metadata": {
        "id": "tuYAAQh2F6J8",
        "colab_type": "text"
      },
      "cell_type": "markdown",
      "source": [
        "## Train the model"
      ]
    },
    {
      "metadata": {
        "id": "g6Tw8pD5NW2S",
        "colab_type": "code",
        "colab": {}
      },
      "cell_type": "code",
      "source": [
        "import time"
      ],
      "execution_count": 0,
      "outputs": []
    },
    {
      "metadata": {
        "id": "W7xoiOiAyZN5",
        "colab_type": "code",
        "colab": {
          "base_uri": "https://localhost:8080/",
          "height": 34
        },
        "outputId": "5a1862d2-2196-42df-9615-5026460e4f66"
      },
      "cell_type": "code",
      "source": [
        "# store the bag of word vectors for each sentences and wraping to tensor of torch type\n",
        "tic = time.time()\n",
        "train_data = [Variable(make_bow_vector(instance, word_to_ix)).to('cuda:0') for instance in train_text_reviews]\n",
        "num_train_data = len(train_text_reviews)\n",
        "\n",
        "\n",
        "val_data = [Variable(make_bow_vector(instance, word_to_ix)).to('cuda:0') for instance in val_text_reviews]\n",
        "num_val_data = len(val_text_reviews)\n",
        "toc = time.time()\n",
        "num_train_data, num_val_data, (toc-tic)"
      ],
      "execution_count": 29,
      "outputs": [
        {
          "output_type": "execute_result",
          "data": {
            "text/plain": [
              "(17999, 499, 99.91364693641663)"
            ]
          },
          "metadata": {
            "tags": []
          },
          "execution_count": 29
        }
      ]
    },
    {
      "metadata": {
        "id": "cStQIVFfESWM",
        "colab_type": "code",
        "colab": {}
      },
      "cell_type": "code",
      "source": [
        "def evaluate_validation_accuracy(data, net):\n",
        "    sum_loss = 0\n",
        "    \n",
        "    true_positive = 0\n",
        "    true_negative = 0\n",
        "    false_positive = 0\n",
        "    false_negative = 0\n",
        "    \n",
        "    for i, instance in enumerate(data):\n",
        "        label = val_text_labels[i] # get the label of the corresponding instace\n",
        "        label = Variable(torch.FloatTensor([label])).resize_((1,1)).to('cuda:0') # wraps a tensor for label\n",
        "        \n",
        "#         vec = Variable(make_bow_vector(instance, word_to_ix)).to('cuda:0') # wrap to tensor of torch type for instance\n",
        "        \n",
        "#         prob = net.forward(vec) # forward pass\n",
        "\n",
        "        prob = net.forward(instance)\n",
        "    \n",
        "        _class = 1 if prob.item() > 0.5 else 0 # sigmoid activated\n",
        "        \n",
        "        loss = loss_function(prob, label) # compute the loss\n",
        "        \n",
        "        sum_loss += float(loss.item())\n",
        "        \n",
        "        if(int(label) == _class and _class == 1):\n",
        "            true_positive += 1\n",
        "            \n",
        "        if(int(label) == _class and _class == 0):\n",
        "            true_negative += 1\n",
        "        \n",
        "        if(_class == 1 and int(label) == 0):\n",
        "            false_positive += 1\n",
        "            \n",
        "        if(_class == 0 and int(label) == 1):\n",
        "            false_negative += 1\n",
        "\n",
        "    precision = float(true_positive) / (true_positive + false_positive)\n",
        "    recall = float(true_positive) / (true_positive + false_negative)\n",
        "    f_score = float(2)*true_positive / (2*true_positive + false_positive + false_negative)\n",
        "    \n",
        "    return float(sum_loss)/len(data), float(100)*(true_positive+true_negative)/(true_positive+true_negative+false_positive+false_negative), precision, recall, f_score"
      ],
      "execution_count": 0,
      "outputs": []
    },
    {
      "metadata": {
        "id": "ad6MFVt7F5X8",
        "colab_type": "code",
        "outputId": "48b374b5-ca6f-4a8b-a5ba-687470c44373",
        "colab": {
          "base_uri": "https://localhost:8080/",
          "height": 1832
        }
      },
      "cell_type": "code",
      "source": [
        "# the training loop\n",
        "epochs = 100\n",
        "total_time = 0.0\n",
        "train_epoch_history = []\n",
        "train_loss_history = []\n",
        "val_loss_history = []\n",
        "\n",
        "for e in range(epochs):\n",
        "    tic = time.time() # start the timer\n",
        "    correct = 0\n",
        "    cumulative_loss = 0\n",
        "    incorrect = 0\n",
        "    \n",
        "    for i, instance in enumerate(train_data): # train_text_reviews \n",
        "        # get the training data\n",
        "        label = train_text_labels[i] # get the label of the corresponding instace\n",
        "        label = Variable(torch.FloatTensor([label])).resize_((1,1)).to('cuda:0') # wraps a tensor for label\n",
        "        \n",
        "        bow.zero_grad() # reset the gradient for each instance\n",
        "        \n",
        "#         bow_vec = Variable(make_bow_vector(instance, word_to_ix)).to('cuda:0') # vector repesentation of input sentence\n",
        "        \n",
        "#         pred = bow.forward(bow_vec) # forward pass ==> computes predictied values (1 or 0)\n",
        "        pred = bow.forward(instance)\n",
        "    \n",
        "        loss = loss_function(pred, label) # compute the loss\n",
        "        loss.backward() # backprop the loss\n",
        "        opt.step() # performs parameter updation based on the current gradient\n",
        "        \n",
        "        cumulative_loss += float(loss.item()) # accumulate the loss over whole training sample\n",
        "        \n",
        "        pred_class = 1 if pred.item() > 0.5 else 0 # as sigmoid activated\n",
        "        if(int(label) == pred_class): # counting correct prediction in each epoch\n",
        "            correct += 1\n",
        "        \n",
        "    train_epoch_history.append(e+1)\n",
        "    train_loss_history.append(float(cumulative_loss)/num_train_data)\n",
        "    \n",
        "    val_loss, val_accuracy, p, r, f = evaluate_validation_accuracy(val_data, bow) # test val-data-set on currently trained model\n",
        "    val_loss_history.append(val_loss/num_val_data)\n",
        "    \n",
        "    toc = time.time() # final time\n",
        "    total_time += (toc-tic)\n",
        "    \n",
        "    print(\"Epoch {}/{}\\n[On Training] ==> Time: {:.2f}s, Train Loss: {:.9f}, Train Accuracy: {:.2f}%\".format(e+1, epochs, (toc-tic), float(cumulative_loss)/num_train_data, correct*float(100)/num_train_data))\n",
        "    print(\"[On Validation] ==> Precision: {:.3f}, Recall: {:.3f}, F-Score: {:.3f}, Val loss: {:.9f}, Val Accuracy: {:.2f}% Total Time: {:.2f}s\".format(p, r, f, val_loss, val_accuracy, total_time))"
      ],
      "execution_count": 32,
      "outputs": [
        {
          "output_type": "stream",
          "text": [
            "Epoch 1/100\n",
            "[On Training] ==> Time: 42.28s, Train Loss: 0.506750584, Train Accuracy: 75.86%\n",
            "[On Validation] ==> Precision: 0.817, Recall: 0.652, F-Score: 0.725, Val loss: 0.445044869, Val Accuracy: 74.95% Total Time: 42.28s\n",
            "Epoch 2/100\n",
            "[On Training] ==> Time: 42.17s, Train Loss: 0.370042650, Train Accuracy: 83.88%\n",
            "[On Validation] ==> Precision: 0.921, Recall: 0.783, F-Score: 0.846, Val loss: 0.332210588, Val Accuracy: 85.57% Total Time: 84.45s\n",
            "Epoch 3/100\n",
            "[On Training] ==> Time: 42.15s, Train Loss: 0.283944310, Train Accuracy: 87.90%\n",
            "[On Validation] ==> Precision: 0.906, Recall: 0.838, F-Score: 0.871, Val loss: 0.267906858, Val Accuracy: 87.37% Total Time: 126.60s\n",
            "Epoch 4/100\n",
            "[On Training] ==> Time: 42.40s, Train Loss: 0.242440434, Train Accuracy: 90.13%\n",
            "[On Validation] ==> Precision: 0.953, Recall: 0.719, F-Score: 0.820, Val loss: 0.314906432, Val Accuracy: 83.97% Total Time: 169.00s\n",
            "Epoch 5/100\n",
            "[On Training] ==> Time: 42.10s, Train Loss: 0.236083573, Train Accuracy: 91.19%\n",
            "[On Validation] ==> Precision: 0.924, Recall: 0.866, F-Score: 0.894, Val loss: 0.199171841, Val Accuracy: 89.58% Total Time: 211.10s\n",
            "Epoch 6/100\n",
            "[On Training] ==> Time: 42.14s, Train Loss: 0.226897116, Train Accuracy: 91.57%\n",
            "[On Validation] ==> Precision: 0.957, Recall: 0.885, F-Score: 0.920, Val loss: 0.225407909, Val Accuracy: 92.18% Total Time: 253.23s\n",
            "Epoch 7/100\n",
            "[On Training] ==> Time: 42.16s, Train Loss: 0.180670973, Train Accuracy: 93.46%\n",
            "[On Validation] ==> Precision: 0.967, Recall: 0.917, F-Score: 0.941, Val loss: 0.170707183, Val Accuracy: 94.19% Total Time: 295.39s\n",
            "Epoch 8/100\n",
            "[On Training] ==> Time: 42.15s, Train Loss: 0.159621651, Train Accuracy: 94.03%\n",
            "[On Validation] ==> Precision: 0.954, Recall: 0.909, F-Score: 0.931, Val loss: 0.214299094, Val Accuracy: 93.19% Total Time: 337.54s\n",
            "Epoch 9/100\n",
            "[On Training] ==> Time: 42.09s, Train Loss: 0.134080681, Train Accuracy: 95.02%\n",
            "[On Validation] ==> Precision: 0.944, Recall: 0.929, F-Score: 0.936, Val loss: 0.199026025, Val Accuracy: 93.59% Total Time: 379.63s\n",
            "Epoch 10/100\n",
            "[On Training] ==> Time: 42.04s, Train Loss: 0.121419628, Train Accuracy: 95.41%\n",
            "[On Validation] ==> Precision: 0.988, Recall: 0.941, F-Score: 0.964, Val loss: 0.085775140, Val Accuracy: 96.39% Total Time: 421.67s\n",
            "Epoch 11/100\n",
            "[On Training] ==> Time: 42.32s, Train Loss: 0.103947697, Train Accuracy: 96.14%\n",
            "[On Validation] ==> Precision: 0.972, Recall: 0.964, F-Score: 0.968, Val loss: 0.088419258, Val Accuracy: 96.79% Total Time: 463.99s\n",
            "Epoch 12/100\n",
            "[On Training] ==> Time: 42.17s, Train Loss: 0.089625553, Train Accuracy: 96.58%\n",
            "[On Validation] ==> Precision: 0.942, Recall: 0.964, F-Score: 0.953, Val loss: 0.125892656, Val Accuracy: 95.19% Total Time: 506.16s\n",
            "Epoch 13/100\n",
            "[On Training] ==> Time: 42.15s, Train Loss: 0.075553197, Train Accuracy: 97.03%\n",
            "[On Validation] ==> Precision: 0.992, Recall: 0.960, F-Score: 0.976, Val loss: 0.049150923, Val Accuracy: 97.60% Total Time: 548.31s\n",
            "Epoch 14/100\n",
            "[On Training] ==> Time: 42.33s, Train Loss: 0.075588842, Train Accuracy: 97.01%\n",
            "[On Validation] ==> Precision: 0.983, Recall: 0.937, F-Score: 0.960, Val loss: 0.088733582, Val Accuracy: 95.99% Total Time: 590.63s\n",
            "Epoch 15/100\n",
            "[On Training] ==> Time: 42.28s, Train Loss: 0.099059155, Train Accuracy: 97.03%\n",
            "[On Validation] ==> Precision: 1.000, Recall: 0.937, F-Score: 0.967, Val loss: 0.112198968, Val Accuracy: 96.79% Total Time: 632.91s\n",
            "Epoch 16/100\n",
            "[On Training] ==> Time: 42.23s, Train Loss: 0.113279562, Train Accuracy: 96.55%\n",
            "[On Validation] ==> Precision: 0.988, Recall: 0.937, F-Score: 0.961, Val loss: 0.112075527, Val Accuracy: 96.19% Total Time: 675.15s\n",
            "Epoch 17/100\n",
            "[On Training] ==> Time: 42.29s, Train Loss: 0.073407316, Train Accuracy: 97.41%\n",
            "[On Validation] ==> Precision: 1.000, Recall: 0.953, F-Score: 0.976, Val loss: 0.055142402, Val Accuracy: 97.60% Total Time: 717.44s\n",
            "Epoch 18/100\n",
            "[On Training] ==> Time: 42.58s, Train Loss: 0.067287292, Train Accuracy: 97.76%\n",
            "[On Validation] ==> Precision: 0.980, Recall: 0.980, F-Score: 0.980, Val loss: 0.037238335, Val Accuracy: 98.00% Total Time: 760.01s\n",
            "Epoch 19/100\n",
            "[On Training] ==> Time: 42.16s, Train Loss: 0.061079378, Train Accuracy: 97.73%\n",
            "[On Validation] ==> Precision: 0.992, Recall: 0.968, F-Score: 0.980, Val loss: 0.083352893, Val Accuracy: 98.00% Total Time: 802.18s\n",
            "Epoch 20/100\n",
            "[On Training] ==> Time: 42.25s, Train Loss: 0.073483860, Train Accuracy: 97.56%\n",
            "[On Validation] ==> Precision: 0.996, Recall: 0.960, F-Score: 0.978, Val loss: 0.048262388, Val Accuracy: 97.80% Total Time: 844.43s\n",
            "Epoch 21/100\n",
            "[On Training] ==> Time: 42.11s, Train Loss: 0.066405293, Train Accuracy: 97.82%\n",
            "[On Validation] ==> Precision: 1.000, Recall: 0.957, F-Score: 0.978, Val loss: 0.042880350, Val Accuracy: 97.80% Total Time: 886.54s\n",
            "Epoch 22/100\n",
            "[On Training] ==> Time: 41.74s, Train Loss: 0.054663215, Train Accuracy: 98.02%\n",
            "[On Validation] ==> Precision: 1.000, Recall: 0.960, F-Score: 0.980, Val loss: 0.037808161, Val Accuracy: 98.00% Total Time: 928.29s\n",
            "Epoch 23/100\n",
            "[On Training] ==> Time: 42.07s, Train Loss: 0.051981923, Train Accuracy: 98.08%\n",
            "[On Validation] ==> Precision: 1.000, Recall: 0.980, F-Score: 0.990, Val loss: 0.019245609, Val Accuracy: 99.00% Total Time: 970.36s\n",
            "Epoch 24/100\n",
            "[On Training] ==> Time: 41.98s, Train Loss: 0.050914025, Train Accuracy: 98.26%\n",
            "[On Validation] ==> Precision: 1.000, Recall: 0.984, F-Score: 0.992, Val loss: 0.024770875, Val Accuracy: 99.20% Total Time: 1012.34s\n",
            "Epoch 25/100\n",
            "[On Training] ==> Time: 42.12s, Train Loss: 0.045420475, Train Accuracy: 98.36%\n",
            "[On Validation] ==> Precision: 0.996, Recall: 0.980, F-Score: 0.988, Val loss: 0.022180953, Val Accuracy: 98.80% Total Time: 1054.46s\n",
            "Epoch 26/100\n",
            "[On Training] ==> Time: 42.14s, Train Loss: 0.051617193, Train Accuracy: 98.26%\n",
            "[On Validation] ==> Precision: 1.000, Recall: 0.953, F-Score: 0.976, Val loss: 0.065510727, Val Accuracy: 97.60% Total Time: 1096.60s\n",
            "Epoch 27/100\n",
            "[On Training] ==> Time: 42.07s, Train Loss: 0.054336769, Train Accuracy: 98.31%\n",
            "[On Validation] ==> Precision: 0.992, Recall: 0.980, F-Score: 0.986, Val loss: 0.046907749, Val Accuracy: 98.60% Total Time: 1138.67s\n",
            "Epoch 28/100\n",
            "[On Training] ==> Time: 42.19s, Train Loss: 0.077598441, Train Accuracy: 97.92%\n",
            "[On Validation] ==> Precision: 0.992, Recall: 0.976, F-Score: 0.984, Val loss: 0.054104274, Val Accuracy: 98.40% Total Time: 1180.86s\n",
            "Epoch 29/100\n",
            "[On Training] ==> Time: 42.19s, Train Loss: 0.064302572, Train Accuracy: 98.09%\n",
            "[On Validation] ==> Precision: 1.000, Recall: 0.960, F-Score: 0.980, Val loss: 0.044369417, Val Accuracy: 98.00% Total Time: 1223.05s\n",
            "Epoch 30/100\n",
            "[On Training] ==> Time: 42.02s, Train Loss: 0.055505003, Train Accuracy: 98.20%\n",
            "[On Validation] ==> Precision: 1.000, Recall: 0.964, F-Score: 0.982, Val loss: 0.034899550, Val Accuracy: 98.20% Total Time: 1265.07s\n",
            "Epoch 31/100\n",
            "[On Training] ==> Time: 42.11s, Train Loss: 0.036701307, Train Accuracy: 98.58%\n",
            "[On Validation] ==> Precision: 1.000, Recall: 0.976, F-Score: 0.988, Val loss: 0.022329594, Val Accuracy: 98.80% Total Time: 1307.18s\n"
          ],
          "name": "stdout"
        },
        {
          "output_type": "error",
          "ename": "KeyboardInterrupt",
          "evalue": "ignored",
          "traceback": [
            "\u001b[0;31m---------------------------------------------------------------------------\u001b[0m",
            "\u001b[0;31mKeyboardInterrupt\u001b[0m                         Traceback (most recent call last)",
            "\u001b[0;32m<ipython-input-32-f6542f43810d>\u001b[0m in \u001b[0;36m<module>\u001b[0;34m()\u001b[0m\n\u001b[1;32m     29\u001b[0m         \u001b[0mcumulative_loss\u001b[0m \u001b[0;34m+=\u001b[0m \u001b[0mfloat\u001b[0m\u001b[0;34m(\u001b[0m\u001b[0mloss\u001b[0m\u001b[0;34m.\u001b[0m\u001b[0mitem\u001b[0m\u001b[0;34m(\u001b[0m\u001b[0;34m)\u001b[0m\u001b[0;34m)\u001b[0m \u001b[0;31m# accumulate the loss over whole training sample\u001b[0m\u001b[0;34m\u001b[0m\u001b[0;34m\u001b[0m\u001b[0m\n\u001b[1;32m     30\u001b[0m \u001b[0;34m\u001b[0m\u001b[0m\n\u001b[0;32m---> 31\u001b[0;31m         \u001b[0mpred_class\u001b[0m \u001b[0;34m=\u001b[0m \u001b[0;36m1\u001b[0m \u001b[0;32mif\u001b[0m \u001b[0mpred\u001b[0m\u001b[0;34m.\u001b[0m\u001b[0mitem\u001b[0m\u001b[0;34m(\u001b[0m\u001b[0;34m)\u001b[0m \u001b[0;34m>\u001b[0m \u001b[0;36m0.5\u001b[0m \u001b[0;32melse\u001b[0m \u001b[0;36m0\u001b[0m \u001b[0;31m# as sigmoid activated\u001b[0m\u001b[0;34m\u001b[0m\u001b[0;34m\u001b[0m\u001b[0m\n\u001b[0m\u001b[1;32m     32\u001b[0m         \u001b[0;32mif\u001b[0m\u001b[0;34m(\u001b[0m\u001b[0mint\u001b[0m\u001b[0;34m(\u001b[0m\u001b[0mlabel\u001b[0m\u001b[0;34m)\u001b[0m \u001b[0;34m==\u001b[0m \u001b[0mpred_class\u001b[0m\u001b[0;34m)\u001b[0m\u001b[0;34m:\u001b[0m \u001b[0;31m# counting correct prediction in each epoch\u001b[0m\u001b[0;34m\u001b[0m\u001b[0;34m\u001b[0m\u001b[0m\n\u001b[1;32m     33\u001b[0m             \u001b[0mcorrect\u001b[0m \u001b[0;34m+=\u001b[0m \u001b[0;36m1\u001b[0m\u001b[0;34m\u001b[0m\u001b[0;34m\u001b[0m\u001b[0m\n",
            "\u001b[0;31mKeyboardInterrupt\u001b[0m: "
          ]
        }
      ]
    },
    {
      "metadata": {
        "id": "FDUyFfwmXSew",
        "colab_type": "code",
        "outputId": "f0fc8090-0908-4193-dde0-5e0107f395b4",
        "colab": {
          "base_uri": "https://localhost:8080/",
          "height": 379
        }
      },
      "cell_type": "code",
      "source": [
        "import matplotlib.pyplot as plt\n",
        "plt.figure(\"Image\")\n",
        "plt.title(\"Loss vs Epoch\")\n",
        "val_loss_history =  [float(i)/sum(val_loss_history) for i in val_loss_history] # normalised between 0-1\n",
        "train_loss_history =  [float(i)/sum(train_loss_history) for i in train_loss_history] # normalised between 0-1\n",
        "plt.plot(val_loss_history, c=\"blue\", label=\"Validation Loss\")\n",
        "plt.plot(train_loss_history, c=\"red\", label = \"Training Loss\")\n",
        "plt.legend()"
      ],
      "execution_count": 33,
      "outputs": [
        {
          "output_type": "execute_result",
          "data": {
            "text/plain": [
              "<matplotlib.legend.Legend at 0x7f635163aba8>"
            ]
          },
          "metadata": {
            "tags": []
          },
          "execution_count": 33
        },
        {
          "output_type": "display_data",
          "data": {
            "image/png": "[encoded data removed]",
            "text/plain": [
              "<Figure size 576x396 with 1 Axes>"
            ]
          },
          "metadata": {
            "tags": []
          }
        }
      ]
    },
    {
      "metadata": {
        "id": "gPf_k4VNuaDi",
        "colab_type": "code",
        "colab": {}
      },
      "cell_type": "code",
      "source": [
        ""
      ],
      "execution_count": 0,
      "outputs": []
    },
    {
      "metadata": {
        "id": "fkYBaktsF-sm",
        "colab_type": "code",
        "colab": {}
      },
      "cell_type": "code",
      "source": [
        "data = []\n",
        "data = [Variable(make_bow_vector(instance, word_to_ix)).to('cuda:0') for instance in test_text_reviews]"
      ],
      "execution_count": 0,
      "outputs": []
    },
    {
      "metadata": {
        "id": "ffYv5PAmjyp-",
        "colab_type": "code",
        "colab": {
          "base_uri": "https://localhost:8080/",
          "height": 51
        },
        "outputId": "0b84dd7b-35f2-4dd0-d70b-5ca3d41eb0d8"
      },
      "cell_type": "code",
      "source": [
        "print('--- AFTER TRAINING ---')\n",
        "correct = 0\n",
        "tic = time.time()\n",
        "for i, instance in enumerate(data):\n",
        "    label = test_text_labels[i]\n",
        "    pred = bow.forward(instance)\n",
        "    pred_class = 1 if pred.item() > 0.5 else 0 # sigmoid activated\n",
        "        \n",
        "    if(int(label) == pred_class):\n",
        "        correct += 1\n",
        "toc = time.time()\n",
        "print(\"Time: {}, Test Accuracy: {:.2f}%\".format((toc-tic), correct*100/len(data)))"
      ],
      "execution_count": 37,
      "outputs": [
        {
          "output_type": "stream",
          "text": [
            "--- AFTER TRAINING ---\n",
            "Time: 4.504140138626099, Test Accuracy: 84.40%\n"
          ],
          "name": "stdout"
        }
      ]
    },
    {
      "metadata": {
        "id": "uHAvtGWbudLN",
        "colab_type": "code",
        "colab": {}
      },
      "cell_type": "code",
      "source": [
        "torch.save(bow,'model.json')\n",
        "\n",
        "from google.colab import files\n",
        "files.download(\"model.json\")"
      ],
      "execution_count": 0,
      "outputs": []
    },
    {
      "metadata": {
        "id": "Zz5PwYjVudEk",
        "colab_type": "code",
        "colab": {}
      },
      "cell_type": "code",
      "source": [
        "from google.colab import files\n",
        "temp_test = files.upload()"
      ],
      "execution_count": 0,
      "outputs": []
    },
    {
      "metadata": {
        "id": "29twCfxpuc8r",
        "colab_type": "code",
        "colab": {}
      },
      "cell_type": "code",
      "source": [
        "torch.load(io.BytesIO(temp_test['model.json']))"
      ],
      "execution_count": 0,
      "outputs": []
    },
    {
      "metadata": {
        "id": "Ixy30WkrH3_-",
        "colab_type": "code",
        "colab": {}
      },
      "cell_type": "code",
      "source": [
        ""
      ],
      "execution_count": 0,
      "outputs": []
    },
    {
      "metadata": {
        "id": "Ub0HKgL8H37z",
        "colab_type": "code",
        "colab": {}
      },
      "cell_type": "code",
      "source": [
        ""
      ],
      "execution_count": 0,
      "outputs": []
    },
    {
      "metadata": {
        "id": "lCraW41hH32S",
        "colab_type": "code",
        "colab": {}
      },
      "cell_type": "code",
      "source": [
        ""
      ],
      "execution_count": 0,
      "outputs": []
    },
    {
      "metadata": {
        "id": "mhftDt1DH3x6",
        "colab_type": "code",
        "colab": {}
      },
      "cell_type": "code",
      "source": [
        ""
      ],
      "execution_count": 0,
      "outputs": []
    },
    {
      "metadata": {
        "id": "kE_TcX1KH3tQ",
        "colab_type": "code",
        "colab": {}
      },
      "cell_type": "code",
      "source": [
        ""
      ],
      "execution_count": 0,
      "outputs": []
    },
    {
      "metadata": {
        "id": "T60wqxmoH3Zl",
        "colab_type": "code",
        "colab": {}
      },
      "cell_type": "code",
      "source": [
        ""
      ],
      "execution_count": 0,
      "outputs": []
    }
  ]
}
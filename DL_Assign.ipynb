{
  "nbformat": 4,
  "nbformat_minor": 0,
  "metadata": {
    "colab": {
      "name": "DL_Assign.ipynb",
      "version": "0.3.2",
      "provenance": [],
      "collapsed_sections": [],
      "toc_visible": true,
      "include_colab_link": true
    },
    "kernelspec": {
      "name": "python3",
      "display_name": "Python 3"
    },
    "accelerator": "GPU"
  },
  "cells": [
    {
      "cell_type": "markdown",
      "metadata": {
        "id": "view-in-github",
        "colab_type": "text"
      },
      "source": [
        "<a href=\"https://colab.research.google.com/github/rajeshsahu09/CS69002_9A_18CS60R19/blob/master/DL_Assign.ipynb\" target=\"_parent\"><img src=\"https://colab.research.google.com/assets/colab-badge.svg\" alt=\"Open In Colab\"/></a>"
      ]
    },
    {
      "metadata": {
        "id": "wuB0HM37teAc",
        "colab_type": "text"
      },
      "cell_type": "markdown",
      "source": [
        "# Movie Review Sentiment Analysis"
      ]
    },
    {
      "metadata": {
        "id": "rKlXTA5zfx20",
        "colab_type": "text"
      },
      "cell_type": "markdown",
      "source": [
        "# Run on **GPU**\n",
        "\n"
      ]
    },
    {
      "metadata": {
        "id": "_NV6CE-qtvGO",
        "colab_type": "text"
      },
      "cell_type": "markdown",
      "source": [
        "### Import Header Files"
      ]
    },
    {
      "metadata": {
        "id": "WE7OEcPOtzJf",
        "colab_type": "code",
        "colab": {}
      },
      "cell_type": "code",
      "source": [
        "import torch\n",
        "import pandas as pd\n",
        "import numpy as np\n",
        "import io\n",
        "import time"
      ],
      "execution_count": 0,
      "outputs": []
    },
    {
      "metadata": {
        "id": "v4037ccUuFFp",
        "colab_type": "text"
      },
      "cell_type": "markdown",
      "source": [
        "### Load the Dataset and Visualise"
      ]
    },
    {
      "metadata": {
        "id": "EhWFepP2t3eA",
        "colab_type": "code",
        "colab": {}
      },
      "cell_type": "code",
      "source": [
        "# from google.colab import files\n",
        "# uploaded = files.upload()\n",
        "\n",
        "# import io\n",
        "# df_train = pd.read_csv(io.StringIO(uploaded['Train_20K.csv'].decode('utf-8')), sep='\\t')\n",
        "# df_train.head()\n",
        "url = \"https://raw.githubusercontent.com/binny-mathew/IITKGP_CS69002_Spring_2019/master/Dataset/Train_20K.csv\"\n",
        "df = pd.read_csv(url, sep='\\t')"
      ],
      "execution_count": 0,
      "outputs": []
    },
    {
      "metadata": {
        "id": "mvAXyCoDaR3b",
        "colab_type": "code",
        "outputId": "be90a03d-4d08-4c43-d8fc-9b003b8c9282",
        "colab": {
          "base_uri": "https://localhost:8080/",
          "height": 34
        }
      },
      "cell_type": "code",
      "source": [
        "df.shape"
      ],
      "execution_count": 3,
      "outputs": [
        {
          "output_type": "execute_result",
          "data": {
            "text/plain": [
              "(17999, 2)"
            ]
          },
          "metadata": {
            "tags": []
          },
          "execution_count": 3
        }
      ]
    },
    {
      "metadata": {
        "id": "44YtF48vX24a",
        "colab_type": "code",
        "colab": {}
      },
      "cell_type": "code",
      "source": [
        "df_1 = df[df['label']==1] # get only label == 1\n",
        "df_0 = df[df['label']==0] # get only label == 0\n",
        "\n",
        "range_1 = int(0.9*len(df_1))\n",
        "range_2 = int(0.9*len(df_0))\n",
        "\n",
        "np.random.seed(42) # fix the seed value\n",
        "df_1 = df_1.iloc[np.random.permutation(len(df_1))] # shuffled the data set of label==1\n",
        "df_0 = df_0.iloc[np.random.permutation(len(df_0))] # shuffled the data set of label==0\n",
        "\n",
        "temp_1_train = df_1.iloc[:range_1]\n",
        "temp_2_train = df_0.iloc[:range_2]\n",
        "df_train = pd.concat([temp_1_train, temp_2_train])\n",
        "\n",
        "temp_1_val = df_1.iloc[range_1:]\n",
        "temp_2_val = df_0.iloc[range_2:]\n",
        "df_val = pd.concat([temp_1_val, temp_2_val])"
      ],
      "execution_count": 0,
      "outputs": []
    },
    {
      "metadata": {
        "id": "T9FBTqABuRlO",
        "colab_type": "code",
        "outputId": "7dcaeacc-8e0d-4ccd-f30c-1c9c4ab5f466",
        "colab": {
          "base_uri": "https://localhost:8080/",
          "height": 34
        }
      },
      "cell_type": "code",
      "source": [
        "df_train = df_train.iloc[np.random.permutation(len(df_train))] # shuffled the data set of label==1\n",
        "df_val = df_val.iloc[np.random.permutation(len(df_val))] # shuffled the data set of label==1\n",
        "len(df_train), len(df_val)"
      ],
      "execution_count": 5,
      "outputs": [
        {
          "output_type": "execute_result",
          "data": {
            "text/plain": [
              "(16198, 1801)"
            ]
          },
          "metadata": {
            "tags": []
          },
          "execution_count": 5
        }
      ]
    },
    {
      "metadata": {
        "id": "0WFB1TtsxD3F",
        "colab_type": "code",
        "outputId": "e4acffa4-0dd0-46cf-af6d-55417ff05cbb",
        "colab": {
          "base_uri": "https://localhost:8080/",
          "height": 68
        }
      },
      "cell_type": "code",
      "source": [
        "print('Number of Negative movie reviews', len(df_train[df_train['label']==0]))\n",
        "print('Number of Positive movie reviews', len(df_train[df_train['label']==1]))\n",
        "print('Number of movie reviews', len(df_train['label']))"
      ],
      "execution_count": 6,
      "outputs": [
        {
          "output_type": "stream",
          "text": [
            "Number of Negative movie reviews 8094\n",
            "Number of Positive movie reviews 8104\n",
            "Number of movie reviews 16198\n"
          ],
          "name": "stdout"
        }
      ]
    },
    {
      "metadata": {
        "id": "sYtzJk8r3lm5",
        "colab_type": "code",
        "outputId": "d6a25a55-081c-4a47-9ada-62b57b6643a7",
        "colab": {
          "base_uri": "https://localhost:8080/",
          "height": 68
        }
      },
      "cell_type": "code",
      "source": [
        "print('Number of Negative movie reviews', len(df_val[df_val['label']==0]))\n",
        "print('Number of Positive movie reviews', len(df_val[df_val['label']==1]))\n",
        "print('Number of movie reviews', len(df_val['label']))"
      ],
      "execution_count": 7,
      "outputs": [
        {
          "output_type": "stream",
          "text": [
            "Number of Negative movie reviews 900\n",
            "Number of Positive movie reviews 901\n",
            "Number of movie reviews 1801\n"
          ],
          "name": "stdout"
        }
      ]
    },
    {
      "metadata": {
        "id": "uuZxOMpkQoka",
        "colab_type": "code",
        "colab": {}
      },
      "cell_type": "code",
      "source": [
        "url = \"https://raw.githubusercontent.com/binny-mathew/IITKGP_CS69002_Spring_2019/master/Dataset/Test_5K.csv\"\n",
        "df_test = pd.read_csv(url, sep='\\t')"
      ],
      "execution_count": 0,
      "outputs": []
    },
    {
      "metadata": {
        "id": "TVzhPcGGxf2-",
        "colab_type": "text"
      },
      "cell_type": "markdown",
      "source": [
        "## Data pre-processing"
      ]
    },
    {
      "metadata": {
        "id": "u-8IR64TKH0F",
        "colab_type": "text"
      },
      "cell_type": "markdown",
      "source": [
        "### Get Train Data"
      ]
    },
    {
      "metadata": {
        "id": "JprKnOXgxXkE",
        "colab_type": "code",
        "colab": {}
      },
      "cell_type": "code",
      "source": [
        "train_raw_text_reviews = df_train['text'].astype(str).tolist()\n",
        "train_text_labels = df_train['label'].astype(int).tolist()"
      ],
      "execution_count": 0,
      "outputs": []
    },
    {
      "metadata": {
        "id": "TwU4zROpKLdQ",
        "colab_type": "text"
      },
      "cell_type": "markdown",
      "source": [
        "###Get Validation Data"
      ]
    },
    {
      "metadata": {
        "id": "7TsL1ACWJ_3V",
        "colab_type": "code",
        "colab": {}
      },
      "cell_type": "code",
      "source": [
        "val_raw_text_reviews = df_val['text'].astype(str).tolist()\n",
        "val_text_labels = df_val['label'].astype(int).tolist()"
      ],
      "execution_count": 0,
      "outputs": []
    },
    {
      "metadata": {
        "id": "YixDzEnXLZN-",
        "colab_type": "text"
      },
      "cell_type": "markdown",
      "source": [
        "###Get Test Data"
      ]
    },
    {
      "metadata": {
        "id": "MQHaSpnJJ9eT",
        "colab_type": "code",
        "colab": {}
      },
      "cell_type": "code",
      "source": [
        "test_raw_text_reviews = df_test['text'].astype(str).tolist()\n",
        "test_text_labels = df_test['label'].astype(int).tolist()"
      ],
      "execution_count": 0,
      "outputs": []
    },
    {
      "metadata": {
        "id": "ui-q6WRqOrB4",
        "colab_type": "text"
      },
      "cell_type": "markdown",
      "source": [
        "#### Cleaning the raw input data"
      ]
    },
    {
      "metadata": {
        "id": "8_4b4FmShb0u",
        "colab_type": "code",
        "outputId": "8ec6f0e6-3b82-4516-92d7-ec1240a90ca4",
        "colab": {
          "base_uri": "https://localhost:8080/",
          "height": 34
        }
      },
      "cell_type": "code",
      "source": [
        "import re\n",
        "import string\n",
        "# import nltk\n",
        "# nltk.download(\"stopwords\")\n",
        "# from nltk.corpus import stopwords\n",
        "\n",
        "# # Finding stop words\n",
        "# stop_words = set(stopwords.words('english'))\n",
        "\n",
        "import spacy\n",
        "print('spaCy Version: %s' % (spacy.__version__))\n",
        "spacy_nlp = spacy.load('en_core_web_sm')\n",
        "# stop word list\n",
        "stop_words = set(spacy.lang.en.stop_words.STOP_WORDS)"
      ],
      "execution_count": 12,
      "outputs": [
        {
          "output_type": "stream",
          "text": [
            "spaCy Version: 2.0.18\n"
          ],
          "name": "stdout"
        }
      ]
    },
    {
      "metadata": {
        "id": "s3AxEhD_z1DM",
        "colab_type": "code",
        "colab": {}
      },
      "cell_type": "code",
      "source": [
        "def preprocess_document(doc):\n",
        "    # negative sense should not be eleminated + some short representation\n",
        "    CONTRACTIONS = {\"didn't\":\"did not\", \"mayn't\":\"may not\", \"can't\":\"can not\", \"won't\":\"will not\", \"isn't\":\"is not\", \"amn't\":\"am not\",\\\n",
        "                  \"aren't\":\"are not\", \"wasn't\":\"was not\", \"weren't\":\"were not\", \"couldn't\":\"could not\", \\\n",
        "                  \"wouldn't\":\"would not\", \"don't\":\"do not\", \"doesn't\":\"does not\",\\\n",
        "                  \"i'll\":\"i will\", \"you'll\":\"you will\", \"they'll\":\"they will\",\\\n",
        "                  \"may've\":\"may have\", \"can've\":\"can have\", \"will've\":\"will have\", \"you've\":\"you have\", \\\n",
        "                  \"could've\":\"could have\", \"would've\":\"would have\", \"you've\":\"you have\", \"they\":\"they have\",\\\n",
        "                  \"i've\":\"i have\", \"you've\":\"you have\", \"we've\":\"we have\", \"there's\":\"there is\", \"i'm\":\"i am\",\\\n",
        "                  \"it's\":\"it is\", \"what's\":\"what is\", \"where's\":\"where is\", \"how's\":\"how is\", \"i'd\":\"i had\"}\n",
        "    punctuation = string.punctuation + \"\\n\\n\"\n",
        "    punc_replace = ''.join([' ' for s in punctuation]) # required for replacing punctuation with null ('')\n",
        "    doc_clean = doc.replace('-', ' ') # replace - with null str\n",
        "    doc_clean = (doc_clean.encode('ascii', 'ignore')).decode(\"utf-8\")\n",
        "    doc_clean = doc_clean.replace('<br />', '') # replace <br /> with ''\n",
        "    doc_clean = doc_clean.replace(\"’\", \"'\") # replace <br /> with null str\n",
        "    doc_clean = [CONTRACTIONS[word] if word in CONTRACTIONS else word for word in doc_clean.split(' ')] # replacing some common short forms\n",
        "    doc_clean = \" \".join(doc_clean) # list to sentence of strings\n",
        "    doc_clean = re.sub(r'\\W +', ' ', doc_clean) # except [a-zA-Z0-9_]\n",
        "    doc_clean = re.sub(r'\\d+', ' ', doc_clean) # remove numbers [0-9]\n",
        "    trans_table = str.maketrans(punctuation, punc_replace); # replace punctuations with ' '\n",
        "    doc_clean = ' '.join([word.translate(trans_table) for word in doc_clean.split(' ')])\n",
        "    doc_clean = doc_clean.split(' ')\n",
        "    doc_clean = [word for word in doc_clean if len(word) > 0]\n",
        "    # removing the stopwords from a sentence\n",
        "    doc_clean = [word for word in doc_clean if not word.lower() in stop_words or word.lower() == 'not' or word.lower() == 'no']\n",
        "    return doc_clean"
      ],
      "execution_count": 0,
      "outputs": []
    },
    {
      "metadata": {
        "id": "rSNuXUopzavX",
        "colab_type": "code",
        "outputId": "55724f1d-4163-4f95-842a-7b691595c6f3",
        "colab": {
          "base_uri": "https://localhost:8080/",
          "height": 71
        }
      },
      "cell_type": "code",
      "source": [
        "train_text_reviews = [preprocess_document(review.lower()) for review in train_raw_text_reviews]\n",
        "print (train_text_reviews[len(train_text_reviews)-2])\n",
        "print (train_text_labels[len(train_text_labels)-2])"
      ],
      "execution_count": 14,
      "outputs": [
        {
          "output_type": "stream",
          "text": [
            "['tales', 'told', 'film', 'shot', 'knowledge', 'combined', 'vignette', 'film', 'makers', 'relate', 'vignettes', 'having', 'connected', 'shrink', 'martin', 'kove', 'leads', 'kove', 'vignette', 'sexy', 'vivian', 'schilling', 'woman', 'afraid', 'sun', 'makes', 'adrian', 'monk', 'look', 'brave', 'having', 'paranoia', 'laced', 'evening', 'home', 'literally', 'scream', 'vivian', 'ridiculous', 'things', 'spends', 'majority', 'time', 'nighty', 'shows', 'amazing', 'features', 'film', 'worst', 'not', 'nail', 'biting', 'second', 'vignette', 'owned', 'bill', 'paxton', 'portrays', 'roommate', 'hell', 'geeky', 'roommate', 'allows', 'complete', 'advantage', 'bill', 'vignette', 'funny', 'man', 'fears', 'death', 'moment', 'like', 'pal', 'choked', 'death', 'olive', 'not', 'interesting', 'movie', 'chopped', 'little', 'thought', 'involved', 'bill', 'paxton', 'fans']\n",
            "0\n"
          ],
          "name": "stdout"
        }
      ]
    },
    {
      "metadata": {
        "id": "W6psZ2jxNOoP",
        "colab_type": "code",
        "outputId": "e70c4aff-fe14-47e0-cf81-5cd2c40b3ea7",
        "colab": {
          "base_uri": "https://localhost:8080/",
          "height": 71
        }
      },
      "cell_type": "code",
      "source": [
        "val_text_reviews = [preprocess_document(review.lower()) for review in val_raw_text_reviews]\n",
        "print (val_text_reviews[len(val_text_reviews)-2])\n",
        "print (val_text_labels[len(val_text_labels)-2])"
      ],
      "execution_count": 15,
      "outputs": [
        {
          "output_type": "stream",
          "text": [
            "['not', 'realize', 'sellers', 'poor', 'health', 'time', 'filming', 'passed', 'away', 'film', 's', 'release', 'fiendish', 'plot', 'dr', 'fu', 'manchu', 'painful', 'viewing', 'supposedly', 'lampoon', 'sax', 'rohmer', 's', 'famous', 'oriental', 'villain', 'lacks', 'focus', 'potential', 'satirical', 'commentary', 'anti', 'oriental', 'overtones', 'rohmer', 's', 'concept', 'ignored', 'movie', 'employs', 'racist', 'insults', 'hardly', 'actual', 'jokes', 'gags', 'actors', 'behaving', 'idiotically', 'spouting', 'dreary', 'lines', 'especially', 'distressing', 'sid', 'caesar', 'forced', 'spout', 'curses', 'racial', 'slurs', 'attempted', 'laughs', 'actors', 'embarrass', 'peter', 'sellers', 'plays', 'dual', 'roles', 'sinister', 'fu', 'manchu', 'trying', 'concoct', 'formula', 'regain', 'youth', 'stalwart', 'british', 'foe', 'nayland', 'smith', 'sellers', 'not', 'cent', 'bad', 'conveys', 'quirky', 'warmth', 'smith', 'discusses', 'fetishistic', 'attachment', 'lawn', 'mower', 's', 'oddly', 'moving', 'manchu', 'expresses', 'love', 'english', 'music', 'hall', 'entertainment', 'time', 'plays', 'roles', 'weary', 'grimness', 'sabotaging', 'comical', 'possibilities', 'sellers', 'routines', 'revitalizes', 'fading', 'strength', 'electric', 'shocks', 'particularly', 'excruciating', 'convincingly', 'agonized', 'funny', 'genuinely', 'witty', 'lines', 'apt', 'slapstick', 'bit', 'burt', 'kwouk', 'cato', 'pink', 'panther', 'films', 'manchu', 's', 'minions', 'helen', 'mirren', 's', 'amusing', 'musical', 'numbers', 'salvage', 'mess', 'wants', 'understand', 'peter', 'sellers', 'considered', 'comedic', 'genius', 'not', 'learn', 'fiendish', 'plot', 'dr', 'fu', 'manchu']\n",
            "0\n"
          ],
          "name": "stdout"
        }
      ]
    },
    {
      "metadata": {
        "id": "REdaGj3VNOEX",
        "colab_type": "code",
        "outputId": "236167b1-d98c-4d62-f458-2fd89cbe7098",
        "colab": {
          "base_uri": "https://localhost:8080/",
          "height": 71
        }
      },
      "cell_type": "code",
      "source": [
        "test_text_reviews = [preprocess_document(review.lower()) for review in test_raw_text_reviews]\n",
        "print (test_text_reviews[len(test_text_reviews)-2])\n",
        "print (test_text_labels[len(test_text_labels)-2])"
      ],
      "execution_count": 16,
      "outputs": [
        {
          "output_type": "stream",
          "text": [
            "['shining', 'know', 'weird', 'movie', 'movie', 'people', 'claim', 'not', 'like', 'horror', 'films', 'shining', 'terrific', 'film', 'stanley', 'kubrick', 's', 'classic', 'vision', 'stephen', 'king', 's', 'horror', 'tale', 'madness', 'blood', 'incredible', 'film', 'wither', 'seen', 'not', 'heard', 'know', 'lines', 'know', 'classic', 'images', 'forget', 'jack', 's', 's', 'johnny', 'forget', 'work', 'no', 'play', 'jack', 'dull', 'boy', 'forget', 'chilling', 'ending', 'film', 'unforgettable', 'honestly', 'opinion', 'kubrick', 's', 'best', 'work', 'know', 'lot', 'argument', 'department', 'lot', 'people', 'space', 'odyssey', 'clockwork', 'orange', 'dr', 'strangelove', 'film', 'pioneered', 'film', 'making', 'shining', 'perfected', 'tale', 'isolation', 'madness', 'terrifying', 'images', 'ultimate', 'ghost', 'story', 'crawl', 'underneath', 'skin', 'jack', 'torrance', 'jack', 's', 'son', 'danny', 'jack', 's', 'wife', 'wendy', 'arrive', 'overlook', 'hotel', 'closing', 'day', 'elderly', 'african', 'american', 'chef', 'dick', 'hallorann', 'surprises', 'danny', 'speaking', 'telepathically', 'offering', 'ice', 'cream', 'explains', 'danny', 'grandmother', 'shared', 'gift', 'called', 'communication', 'shining', 'danny', 'asks', 'afraid', 'hotel', 'particularly', 'room', 'dick', 'tells', 'danny', 'hotel', 'certain', 'shine', 'memories', 'not', 'good', 'advises', 'stay', 'room', 'circumstances', 'danny', 's', 'curiosity', 'room', 'finally', 'gets', 'better', 'sees', 'room', 'opened', 'danny', 'shows', 'injured', 'visibly', 'traumatized', 'jack', 'tells', 'wendy', 'loves', 'family', 'seeing', 'wendy', 'thinks', 'jack', 'abusing', 'danny', 'jack', 'wanders', 'hotel', 's', 'gold', 'room', 'meets', 'ghostly', 'bartender', 'named', 'lloyd', 'danny', 'starts', 'calling', 'word', 'redrum', 'frantically', 'scribbling', 'walls', 'goes', 'trance', 'withdraws', 'says', 'tony', 'imaginary', 'friend', 'jack', 'sabotages', 'hotel', 'radio', 'cutting', 'communication', 'outside', 'world', 'hallorann', 'received', 'danny', 's', 'telepathic', 'cry', 'help', 'way', 'wendy', 'discovers', 'jack', 'typing', 'endless', 'pages', 'manuscript', 'repeating', 'work', 'no', 'play', 'makes', 'jack', 'dull', 'boy', 'formatted', 'ways', 'horrified', 'jack', 'threatens', 'knocks', 'unconscious', 'baseball', 'bat', 'locking', 'storage', 'locker', 'kitchen', 'jack', 'converses', 'grady', 'door', 'locker', 'unlocks', 'releasing', 'danny', 'written', 'redrum', 'lipstick', 'door', 'wendy', 's', 'bedroom', 'looks', 'mirror', 'sees', 'murder', 'spelled', 'backwards', 'jack', 'picks', 'axe', 'begins', 'chop', 'door', 'leading', 'family', 's', 'living', 'quarters', 's', 'johnny', 'jack', 's', 'legendary', 'image', 'born', 'shining', 'films', 'seriously', 'time', 'incredible', 'film', 'gives', 'nightmares', 'jack', 'nicholson', 's', 'performance', 'timeless', 'unforgettable', 'feel', 'extremely', 'overlooked', 'shelley', 'duvall', 'scene', 'finding', 'jack', 's', 'rant', 'work', 'incredible', 's', 'look', 'horror', 'fear', 'face', 'realizing', 'husband', 'mad', 'incredible', 'scene', 'jack', 'sees', 'ghost', 'woman', 'bathtub', 'honestly', 'terrifying', 'scenes', 'horror', 'cinema', 'reason', 'film', 'known', 'film', 'perfection', 'simpsons', 'shown', 'films', 'film', 'forever', 'stay', 'trust']\n",
            "1\n"
          ],
          "name": "stdout"
        }
      ]
    },
    {
      "metadata": {
        "id": "ydrqMX261kQ-",
        "colab_type": "code",
        "outputId": "9624ddaf-e94b-428c-c21e-059b46e41916",
        "colab": {
          "base_uri": "https://localhost:8080/",
          "height": 34
        }
      },
      "cell_type": "code",
      "source": [
        "import gc\n",
        "gc.collect()"
      ],
      "execution_count": 17,
      "outputs": [
        {
          "output_type": "execute_result",
          "data": {
            "text/plain": [
              "0"
            ]
          },
          "metadata": {
            "tags": []
          },
          "execution_count": 17
        }
      ]
    },
    {
      "metadata": {
        "id": "xWfJK2HvwwQn",
        "colab_type": "code",
        "colab": {}
      },
      "cell_type": "code",
      "source": [
        "def build_vocabulary(sentences):\n",
        "    # Build vocabulary\n",
        "    dictWordCount = {}\n",
        "    for sent in sentences:\n",
        "        for word in sent:\n",
        "            dictWordCount[word] = 0 # initialising the dict value to zero\n",
        "    for sent in sentences:\n",
        "        for word in sent:\n",
        "            dictWordCount[word] += 1 # updating the dictionary count\n",
        "    \n",
        "    temp = dictWordCount.copy()\n",
        "    for key, val in temp.items():\n",
        "        if(dictWordCount[key] <= 10):\n",
        "            del dictWordCount[key]\n",
        "    \n",
        "    # Mapping from index to word\n",
        "    vocabulary_inv = sorted(dictWordCount, key=dictWordCount.__getitem__, reverse=True)\n",
        "    \n",
        "    # Mapping from word to index\n",
        "    vocabulary = {x: i for i, x in enumerate(vocabulary_inv)}\n",
        "    return vocabulary, vocabulary_inv"
      ],
      "execution_count": 0,
      "outputs": []
    },
    {
      "metadata": {
        "id": "MKifaS85Dkap",
        "colab_type": "text"
      },
      "cell_type": "markdown",
      "source": [
        "###Creating Tokens and Types"
      ]
    },
    {
      "metadata": {
        "id": "9cpQlJ3TytgZ",
        "colab_type": "code",
        "colab": {}
      },
      "cell_type": "code",
      "source": [
        "word_to_ix, ix_to_word = build_vocabulary(train_text_reviews+val_text_reviews+test_text_reviews)"
      ],
      "execution_count": 0,
      "outputs": []
    },
    {
      "metadata": {
        "id": "PLBgxuf0xDB9",
        "colab_type": "code",
        "outputId": "56f5e287-c53f-40f2-f7a2-c1838a15973d",
        "colab": {
          "base_uri": "https://localhost:8080/",
          "height": 34
        }
      },
      "cell_type": "code",
      "source": [
        "VOCAB_SIZE = len(word_to_ix)\n",
        "ix_to_word[word_to_ix['kick']]=='kick', word_to_ix['kick'], VOCAB_SIZE"
      ],
      "execution_count": 20,
      "outputs": [
        {
          "output_type": "execute_result",
          "data": {
            "text/plain": [
              "(True, 1710, 17746)"
            ]
          },
          "metadata": {
            "tags": []
          },
          "execution_count": 20
        }
      ]
    },
    {
      "metadata": {
        "id": "GMbWbZdr1reC",
        "colab_type": "code",
        "outputId": "ef0bbf2e-757b-4812-db87-ad76402b31fd",
        "colab": {
          "base_uri": "https://localhost:8080/",
          "height": 34
        }
      },
      "cell_type": "code",
      "source": [
        "gc.collect()"
      ],
      "execution_count": 21,
      "outputs": [
        {
          "output_type": "execute_result",
          "data": {
            "text/plain": [
              "393"
            ]
          },
          "metadata": {
            "tags": []
          },
          "execution_count": 21
        }
      ]
    },
    {
      "metadata": {
        "id": "yNUlKuJeNJEu",
        "colab_type": "text"
      },
      "cell_type": "markdown",
      "source": [
        "## PyTorch"
      ]
    },
    {
      "metadata": {
        "id": "SqLOymKPLPug",
        "colab_type": "code",
        "colab": {}
      },
      "cell_type": "code",
      "source": [
        "import torch.nn as nn\n",
        "import torch.nn.functional as F\n",
        "from torch.autograd import Variable # Automatic gradients are calculated and back-propagated through the computational graph\n",
        "import copy\n",
        "import csv\n",
        "import time\n",
        "from google.colab import files"
      ],
      "execution_count": 0,
      "outputs": []
    },
    {
      "metadata": {
        "id": "sWqAwOAI7D54",
        "colab_type": "text"
      },
      "cell_type": "markdown",
      "source": [
        "## Generate the BOW Vectors"
      ]
    },
    {
      "metadata": {
        "id": "UZK9TAQI7Fbm",
        "colab_type": "code",
        "colab": {}
      },
      "cell_type": "code",
      "source": [
        "def make_bow_vector(sentence, word_to_ix):\n",
        "    # create a vector of zeros of vocab size = len(word_to_idx)\n",
        "    vec = torch.zeros(len(word_to_ix)).to('cuda:0') #, device=device) # make 1D vector of len = vocab size\n",
        "    for word in sentence:\n",
        "        if word not in word_to_ix:\n",
        "#             raise ValueError('Word',word,' not present in the dictionary. Sorry!')\n",
        "            pass\n",
        "        else:\n",
        "            vec[word_to_ix[word]]+=1 # count the number of occurance of same word in a sentences\n",
        "            \n",
        "    return vec.view(1, -1)"
      ],
      "execution_count": 0,
      "outputs": []
    },
    {
      "metadata": {
        "id": "6p3T6oo_T99z",
        "colab_type": "text"
      },
      "cell_type": "markdown",
      "source": [
        "### Prepare Input Train and Validation torch vector"
      ]
    },
    {
      "metadata": {
        "id": "W7xoiOiAyZN5",
        "colab_type": "code",
        "outputId": "7917fe20-302b-4737-b6b9-2dd5e9bbc75c",
        "colab": {
          "base_uri": "https://localhost:8080/",
          "height": 34
        }
      },
      "cell_type": "code",
      "source": [
        "# store the bag of word vectors for each sentences and wraping to tensor of torch type\n",
        "tic = time.time()\n",
        "train_data = [Variable(make_bow_vector(instance, word_to_ix)).to('cuda:0') for instance in train_text_reviews]\n",
        "num_train_data = len(train_text_reviews)\n",
        "\n",
        "val_data = [Variable(make_bow_vector(instance, word_to_ix)).to('cuda:0') for instance in val_text_reviews]\n",
        "num_val_data = len(val_text_reviews)\n",
        "toc = time.time()\n",
        "num_train_data, num_val_data, (toc-tic)"
      ],
      "execution_count": 24,
      "outputs": [
        {
          "output_type": "execute_result",
          "data": {
            "text/plain": [
              "(16198, 1801, 107.66447496414185)"
            ]
          },
          "metadata": {
            "tags": []
          },
          "execution_count": 24
        }
      ]
    },
    {
      "metadata": {
        "id": "HAi56d_fmMwI",
        "colab_type": "text"
      },
      "cell_type": "markdown",
      "source": [
        "### Prepare Test Instance"
      ]
    },
    {
      "metadata": {
        "id": "fkYBaktsF-sm",
        "colab_type": "code",
        "colab": {}
      },
      "cell_type": "code",
      "source": [
        "data_test = []\n",
        "data_test = [Variable(make_bow_vector(instance, word_to_ix)).to('cuda:0') for instance in test_text_reviews]"
      ],
      "execution_count": 0,
      "outputs": []
    },
    {
      "metadata": {
        "id": "deO_hz8vT19u",
        "colab_type": "text"
      },
      "cell_type": "markdown",
      "source": [
        "### Validation Accuracy Computation"
      ]
    },
    {
      "metadata": {
        "id": "cStQIVFfESWM",
        "colab_type": "code",
        "colab": {}
      },
      "cell_type": "code",
      "source": [
        "def evaluate_validation_accuracy(data, net):\n",
        "    sum_loss = 0\n",
        "    \n",
        "    true_positive = 0\n",
        "    true_negative = 0\n",
        "    false_positive = 0\n",
        "    false_negative = 0\n",
        "    \n",
        "    for i, instance in enumerate(data):\n",
        "        label = val_text_labels[i] # get the label of the corresponding instace\n",
        "        label = Variable(torch.FloatTensor([label])).resize_((1,1)).to('cuda:0') # wraps a tensor for label\n",
        "        \n",
        "#         vec = Variable(make_bow_vector(instance, word_to_ix)).to('cuda:0') # wrap to tensor of torch type for instance\n",
        "        \n",
        "#         prob = net.forward(vec) # forward pass\n",
        "\n",
        "        prob = net.forward(instance)\n",
        "    \n",
        "        _class = 1 if prob.item() > 0.5 else 0 # sigmoid activated\n",
        "        \n",
        "        loss = loss_function(prob, label) # compute the loss\n",
        "        \n",
        "        sum_loss += float(loss.item())\n",
        "        \n",
        "#         if(int(label) == _class and _class == 1):\n",
        "#             true_positive += 1\n",
        "            \n",
        "#         if(int(label) == _class and _class == 0):\n",
        "#             true_negative += 1\n",
        "        \n",
        "#         if(_class == 1 and int(label) == 0):\n",
        "#             false_positive += 1\n",
        "            \n",
        "#         if(_class == 0 and int(label) == 1):\n",
        "#             false_negative += 1\n",
        "    \n",
        "    \n",
        "#     precision = float(true_positive) / (true_positive + false_positive)\n",
        "#     recall = float(true_positive) / (true_positive + false_negative)\n",
        "#     f_score = float(2)*precision*recall / (precision + recall)\n",
        "#     accuracy = float(1)*(true_positive+true_negative)/(true_positive+true_negative+false_positive+false_negative)\n",
        "    \n",
        "    return float(sum_loss)/len(data)#, float(100)*accuracy, precision, recall, f_score"
      ],
      "execution_count": 0,
      "outputs": []
    },
    {
      "metadata": {
        "id": "SaSwXEBh6565",
        "colab_type": "text"
      },
      "cell_type": "markdown",
      "source": [
        "##Task-1"
      ]
    },
    {
      "metadata": {
        "id": "aCYGwbP7zy8i",
        "colab_type": "code",
        "colab": {}
      },
      "cell_type": "code",
      "source": [
        "task1 = [(50, 'Task1A.mdl'), (100, 'Task1B.mdl'), (200, 'Task1C.mdl'), (500, 'Task1D.mdl')]"
      ],
      "execution_count": 0,
      "outputs": []
    },
    {
      "metadata": {
        "id": "PM5I4GP6lFGu",
        "colab_type": "code",
        "outputId": "4a81fde7-eaec-4494-f5d3-988c0f440aa8",
        "colab": {
          "base_uri": "https://localhost:8080/",
          "height": 7228
        }
      },
      "cell_type": "code",
      "source": [
        "for num_of_hidden, task_name in task1:\n",
        "    class BOWClassifier(nn.Module):\n",
        "        def __init__(self, input_size, hidden_size, output_size):\n",
        "            super(BOWClassifier, self).__init__()\n",
        "            SEED = 42\n",
        "            torch.manual_seed(SEED)\n",
        "            torch.cuda.manual_seed(SEED)\n",
        "            self.hidden_size = hidden_size\n",
        "            self.i2h = nn.Linear(input_size, hidden_size) # initialises weights and biases i2h\n",
        "            self.h2o = nn.Linear(hidden_size, output_size) # initialises weights and biases h2o\n",
        "\n",
        "        def forward(self, x):\n",
        "            x = torch.relu(self.i2h(x)) # relu activation @ hidden layer\n",
        "            x = torch.sigmoid(self.h2o(x)) # sigmoid activation @ output layer\n",
        "            return x\n",
        "\n",
        "    num_of_input = VOCAB_SIZE # Bag word restriction has to be equal to vocabulary\n",
        "    num_of_output = 1 # binary sentiment classes (+ve, -ve)\n",
        "\n",
        "    bow = BOWClassifier(num_of_input, num_of_hidden, num_of_output).to('cuda:0') # initialises weights and biases\n",
        "    \n",
        "    # define a loss function and an optimizer\n",
        "    loss_function = nn.BCELoss()\n",
        "    opt = torch.optim.SGD(bow.parameters(), lr = 0.0001)\n",
        "    \n",
        "    gc.collect()\n",
        "\n",
        "    # Train The Model\n",
        "    epochs = 100\n",
        "    # the training loop\n",
        "    total_time = 0.0\n",
        "    prev_val_loss = float('inf')\n",
        "    val_loss = 0\n",
        "    early_stop_bow = 0\n",
        "\n",
        "    for e in range(epochs):\n",
        "        tic = time.time() # start the timer\n",
        "        correct = 0\n",
        "        cumulative_loss = 0\n",
        "        incorrect = 0\n",
        "\n",
        "        for i, instance in enumerate(train_data): # train_text_reviews \n",
        "            # get the training data\n",
        "            label = train_text_labels[i] # get the label of the corresponding instace\n",
        "            label = Variable(torch.FloatTensor([label])).resize_((1,1)).to('cuda:0') # wraps a tensor for label\n",
        "\n",
        "            bow.zero_grad() # reset the gradient for each instance\n",
        "\n",
        "            pred = bow.forward(instance)\n",
        "\n",
        "            loss = loss_function(pred, label) # compute the loss\n",
        "            loss.backward() # backprop the loss\n",
        "            opt.step() # performs parameter updation based on the current gradient\n",
        "\n",
        "            cumulative_loss += float(loss.item()) # accumulate the loss over whole training sample\n",
        "\n",
        "            pred_class = 1 if pred.item() > 0.5 else 0 # as sigmoid activated\n",
        "            if(int(label) == pred_class): # counting correct prediction in each epoch\n",
        "                correct += 1\n",
        "\n",
        "        train_loss = float(cumulative_loss)/num_train_data\n",
        "        train_accuracy = correct*float(100)/num_train_data\n",
        "\n",
        "#         val_loss, val_accuracy, p, r, f = evaluate_validation_accuracy(val_data, bow) # test val-data-set on currently trained model\n",
        "        val_loss = evaluate_validation_accuracy(val_data, bow) # test val-data-set on currently trained model\n",
        "        \n",
        "        if(prev_val_loss-val_loss < 0.0): # early stop if nearly no change\n",
        "            bow = copy.deepcopy(early_stop_bow)\n",
        "            break\n",
        "\n",
        "        early_stop_bow = copy.deepcopy(bow)\n",
        "        \n",
        "        prev_val_loss = val_loss\n",
        "\n",
        "        toc = time.time() # final time\n",
        "        total_time += (toc-tic)\n",
        "\n",
        "        print(\"Epoch {}/{}\\n[On Training] ==> Time: {:.2f}s, Train Loss: {:.9f}, Train Accuracy: {:.2f}%\".format(e+1, epochs, (toc-tic), train_loss, train_accuracy))\n",
        "#         print(\"[On Validation] ==> Precision: {:.3f}, Recall: {:.3f}, F-Score: {:.3f}, Val loss: {:.9f}, Val Accuracy: {:.2f}% Total Time: {:.2f}s\".format(p, r, f, val_loss, val_accuracy, total_time))\n",
        "        print(\"[On Validation] ==> Val loss: {:.9f}, Total Time: {:.2f}s\".format(val_loss, total_time))\n",
        "    \n",
        "    torch.save(bow, task_name) ## Save the model\n",
        "    \n",
        "    print('--- AFTER TRAINING ---\\tModel: {}'.format(task_name))\n",
        "    correct = 0\n",
        "    tic = time.time()\n",
        "    for i, instance in enumerate(data_test):\n",
        "        label = test_text_labels[i] # get the label of the corresponding instace\n",
        "        label = Variable(torch.FloatTensor([label])).resize_((1,1)).to('cuda:0') # wraps a tensor for label\n",
        "\n",
        "        pred = bow.forward(instance)\n",
        "        pred_class = 1 if pred.item() > 0.5 else 0 # sigmoid activated\n",
        "\n",
        "        if(int(label) == pred_class):\n",
        "            correct += 1\n",
        "    toc = time.time()\n",
        "    print(\"[On Testing] Time: {}, Test Accuracy: {:.2f}%\".format((toc-tic), correct*100/len(data_test)))\n",
        "    \n",
        "    print ('\\n')"
      ],
      "execution_count": 28,
      "outputs": [
        {
          "output_type": "stream",
          "text": [
            "Epoch 1/100\n",
            "[On Training] ==> Time: 23.92s, Train Loss: 0.681506928, Train Accuracy: 60.14%\n",
            "[On Validation] ==> Val loss: 0.666210379, Total Time: 23.92s\n",
            "Epoch 2/100\n",
            "[On Training] ==> Time: 24.28s, Train Loss: 0.650062438, Train Accuracy: 70.73%\n",
            "[On Validation] ==> Val loss: 0.630566867, Total Time: 48.20s\n",
            "Epoch 3/100\n",
            "[On Training] ==> Time: 24.59s, Train Loss: 0.611577513, Train Accuracy: 74.47%\n",
            "[On Validation] ==> Val loss: 0.590137132, Total Time: 72.79s\n",
            "Epoch 4/100\n",
            "[On Training] ==> Time: 23.74s, Train Loss: 0.568415287, Train Accuracy: 77.61%\n",
            "[On Validation] ==> Val loss: 0.548192693, Total Time: 96.53s\n",
            "Epoch 5/100\n",
            "[On Training] ==> Time: 23.59s, Train Loss: 0.525151165, Train Accuracy: 80.02%\n",
            "[On Validation] ==> Val loss: 0.509592303, Total Time: 120.12s\n",
            "Epoch 6/100\n",
            "[On Training] ==> Time: 23.96s, Train Loss: 0.486261342, Train Accuracy: 81.88%\n",
            "[On Validation] ==> Val loss: 0.477335682, Total Time: 144.09s\n",
            "Epoch 7/100\n",
            "[On Training] ==> Time: 23.91s, Train Loss: 0.453430340, Train Accuracy: 83.12%\n",
            "[On Validation] ==> Val loss: 0.451558806, Total Time: 167.99s\n",
            "Epoch 8/100\n",
            "[On Training] ==> Time: 23.92s, Train Loss: 0.426088758, Train Accuracy: 83.95%\n",
            "[On Validation] ==> Val loss: 0.430994930, Total Time: 191.91s\n",
            "Epoch 9/100\n",
            "[On Training] ==> Time: 23.96s, Train Loss: 0.403005897, Train Accuracy: 84.81%\n",
            "[On Validation] ==> Val loss: 0.414303547, Total Time: 215.86s\n",
            "Epoch 10/100\n",
            "[On Training] ==> Time: 23.85s, Train Loss: 0.383097886, Train Accuracy: 85.53%\n",
            "[On Validation] ==> Val loss: 0.400465772, Total Time: 239.72s\n",
            "Epoch 11/100\n",
            "[On Training] ==> Time: 23.87s, Train Loss: 0.365602011, Train Accuracy: 86.28%\n",
            "[On Validation] ==> Val loss: 0.388808603, Total Time: 263.59s\n",
            "Epoch 12/100\n",
            "[On Training] ==> Time: 23.90s, Train Loss: 0.350015529, Train Accuracy: 87.05%\n",
            "[On Validation] ==> Val loss: 0.378886678, Total Time: 287.49s\n",
            "Epoch 13/100\n",
            "[On Training] ==> Time: 23.92s, Train Loss: 0.335996537, Train Accuracy: 87.66%\n",
            "[On Validation] ==> Val loss: 0.370398928, Total Time: 311.41s\n",
            "Epoch 14/100\n",
            "[On Training] ==> Time: 24.00s, Train Loss: 0.323303335, Train Accuracy: 88.21%\n",
            "[On Validation] ==> Val loss: 0.363116557, Total Time: 335.41s\n",
            "Epoch 15/100\n",
            "[On Training] ==> Time: 25.02s, Train Loss: 0.311752643, Train Accuracy: 88.67%\n",
            "[On Validation] ==> Val loss: 0.356867087, Total Time: 360.43s\n",
            "Epoch 16/100\n",
            "[On Training] ==> Time: 25.21s, Train Loss: 0.301198694, Train Accuracy: 88.98%\n",
            "[On Validation] ==> Val loss: 0.351498146, Total Time: 385.64s\n",
            "Epoch 17/100\n",
            "[On Training] ==> Time: 24.29s, Train Loss: 0.291512951, Train Accuracy: 89.53%\n",
            "[On Validation] ==> Val loss: 0.346889639, Total Time: 409.93s\n",
            "Epoch 18/100\n",
            "[On Training] ==> Time: 24.74s, Train Loss: 0.282587982, Train Accuracy: 89.88%\n",
            "[On Validation] ==> Val loss: 0.342926136, Total Time: 434.67s\n",
            "Epoch 19/100\n",
            "[On Training] ==> Time: 24.47s, Train Loss: 0.274327331, Train Accuracy: 90.22%\n",
            "[On Validation] ==> Val loss: 0.339518834, Total Time: 459.14s\n",
            "Epoch 20/100\n",
            "[On Training] ==> Time: 24.56s, Train Loss: 0.266649286, Train Accuracy: 90.54%\n",
            "[On Validation] ==> Val loss: 0.336587417, Total Time: 483.70s\n",
            "Epoch 21/100\n",
            "[On Training] ==> Time: 24.34s, Train Loss: 0.259483702, Train Accuracy: 90.78%\n",
            "[On Validation] ==> Val loss: 0.334064022, Total Time: 508.04s\n",
            "Epoch 22/100\n",
            "[On Training] ==> Time: 24.38s, Train Loss: 0.252771134, Train Accuracy: 91.05%\n",
            "[On Validation] ==> Val loss: 0.331894540, Total Time: 532.43s\n",
            "Epoch 23/100\n",
            "[On Training] ==> Time: 24.20s, Train Loss: 0.246461087, Train Accuracy: 91.28%\n",
            "[On Validation] ==> Val loss: 0.330033941, Total Time: 556.63s\n",
            "Epoch 24/100\n",
            "[On Training] ==> Time: 24.10s, Train Loss: 0.240508478, Train Accuracy: 91.52%\n",
            "[On Validation] ==> Val loss: 0.328443121, Total Time: 580.73s\n",
            "Epoch 25/100\n",
            "[On Training] ==> Time: 23.97s, Train Loss: 0.234874740, Train Accuracy: 91.72%\n",
            "[On Validation] ==> Val loss: 0.327090138, Total Time: 604.70s\n",
            "Epoch 26/100\n",
            "[On Training] ==> Time: 23.96s, Train Loss: 0.229527650, Train Accuracy: 91.94%\n",
            "[On Validation] ==> Val loss: 0.325952057, Total Time: 628.66s\n",
            "Epoch 27/100\n",
            "[On Training] ==> Time: 24.42s, Train Loss: 0.224438960, Train Accuracy: 92.17%\n",
            "[On Validation] ==> Val loss: 0.325005224, Total Time: 653.08s\n",
            "Epoch 28/100\n",
            "[On Training] ==> Time: 24.04s, Train Loss: 0.219583645, Train Accuracy: 92.37%\n",
            "[On Validation] ==> Val loss: 0.324232950, Total Time: 677.11s\n",
            "Epoch 29/100\n",
            "[On Training] ==> Time: 24.59s, Train Loss: 0.214942418, Train Accuracy: 92.56%\n",
            "[On Validation] ==> Val loss: 0.323616776, Total Time: 701.71s\n",
            "Epoch 30/100\n",
            "[On Training] ==> Time: 24.01s, Train Loss: 0.210496231, Train Accuracy: 92.79%\n",
            "[On Validation] ==> Val loss: 0.323145193, Total Time: 725.72s\n",
            "Epoch 31/100\n",
            "[On Training] ==> Time: 23.98s, Train Loss: 0.206228551, Train Accuracy: 92.94%\n",
            "[On Validation] ==> Val loss: 0.322803108, Total Time: 749.69s\n",
            "Epoch 32/100\n",
            "[On Training] ==> Time: 24.12s, Train Loss: 0.202125751, Train Accuracy: 93.14%\n",
            "[On Validation] ==> Val loss: 0.322581234, Total Time: 773.81s\n",
            "Epoch 33/100\n",
            "[On Training] ==> Time: 24.11s, Train Loss: 0.198175171, Train Accuracy: 93.30%\n",
            "[On Validation] ==> Val loss: 0.322466136, Total Time: 797.92s\n",
            "Epoch 34/100\n",
            "[On Training] ==> Time: 24.07s, Train Loss: 0.194365822, Train Accuracy: 93.41%\n",
            "[On Validation] ==> Val loss: 0.322452669, Total Time: 821.99s\n"
          ],
          "name": "stdout"
        },
        {
          "output_type": "stream",
          "text": [
            "/usr/local/lib/python3.6/dist-packages/torch/serialization.py:251: UserWarning: Couldn't retrieve source code for container of type BOWClassifier. It won't be checked for correctness upon loading.\n",
            "  \"type \" + obj.__name__ + \". It won't be checked \"\n"
          ],
          "name": "stderr"
        },
        {
          "output_type": "stream",
          "text": [
            "--- AFTER TRAINING ---\tModel: Task1A.mdl\n",
            "[On Testing] Time: 2.395127296447754, Test Accuracy: 87.38%\n",
            "\n",
            "\n",
            "Epoch 1/100\n",
            "[On Training] ==> Time: 26.19s, Train Loss: 0.681662652, Train Accuracy: 56.80%\n",
            "[On Validation] ==> Val loss: 0.665698624, Total Time: 26.19s\n",
            "Epoch 2/100\n",
            "[On Training] ==> Time: 26.29s, Train Loss: 0.648235821, Train Accuracy: 70.39%\n",
            "[On Validation] ==> Val loss: 0.627552664, Total Time: 52.48s\n",
            "Epoch 3/100\n",
            "[On Training] ==> Time: 26.17s, Train Loss: 0.606963007, Train Accuracy: 75.35%\n",
            "[On Validation] ==> Val loss: 0.585346470, Total Time: 78.65s\n",
            "Epoch 4/100\n",
            "[On Training] ==> Time: 26.30s, Train Loss: 0.562110687, Train Accuracy: 78.37%\n",
            "[On Validation] ==> Val loss: 0.542950579, Total Time: 104.94s\n",
            "Epoch 5/100\n",
            "[On Training] ==> Time: 27.93s, Train Loss: 0.518668633, Train Accuracy: 80.39%\n",
            "[On Validation] ==> Val loss: 0.504989100, Total Time: 132.87s\n",
            "Epoch 6/100\n",
            "[On Training] ==> Time: 28.08s, Train Loss: 0.480584246, Train Accuracy: 82.00%\n",
            "[On Validation] ==> Val loss: 0.473803180, Total Time: 160.95s\n",
            "Epoch 7/100\n",
            "[On Training] ==> Time: 27.88s, Train Loss: 0.448781527, Train Accuracy: 83.19%\n",
            "[On Validation] ==> Val loss: 0.448997129, Total Time: 188.82s\n",
            "Epoch 8/100\n",
            "[On Training] ==> Time: 28.08s, Train Loss: 0.422315639, Train Accuracy: 84.21%\n",
            "[On Validation] ==> Val loss: 0.429170797, Total Time: 216.90s\n",
            "Epoch 9/100\n",
            "[On Training] ==> Time: 28.18s, Train Loss: 0.399878873, Train Accuracy: 85.00%\n",
            "[On Validation] ==> Val loss: 0.412995659, Total Time: 245.08s\n",
            "Epoch 10/100\n",
            "[On Training] ==> Time: 28.11s, Train Loss: 0.380433728, Train Accuracy: 85.65%\n",
            "[On Validation] ==> Val loss: 0.399527351, Total Time: 273.20s\n",
            "Epoch 11/100\n",
            "[On Training] ==> Time: 28.12s, Train Loss: 0.363276105, Train Accuracy: 86.35%\n",
            "[On Validation] ==> Val loss: 0.388139966, Total Time: 301.32s\n",
            "Epoch 12/100\n",
            "[On Training] ==> Time: 28.10s, Train Loss: 0.347940151, Train Accuracy: 87.13%\n",
            "[On Validation] ==> Val loss: 0.378426249, Total Time: 329.42s\n",
            "Epoch 13/100\n",
            "[On Training] ==> Time: 28.26s, Train Loss: 0.334115201, Train Accuracy: 87.67%\n",
            "[On Validation] ==> Val loss: 0.370096635, Total Time: 357.68s\n",
            "Epoch 14/100\n",
            "[On Training] ==> Time: 28.24s, Train Loss: 0.321578068, Train Accuracy: 88.21%\n",
            "[On Validation] ==> Val loss: 0.362947420, Total Time: 385.92s\n",
            "Epoch 15/100\n",
            "[On Training] ==> Time: 28.17s, Train Loss: 0.310156160, Train Accuracy: 88.66%\n",
            "[On Validation] ==> Val loss: 0.356804996, Total Time: 414.08s\n",
            "Epoch 16/100\n",
            "[On Training] ==> Time: 27.47s, Train Loss: 0.299709402, Train Accuracy: 89.14%\n",
            "[On Validation] ==> Val loss: 0.351530599, Total Time: 441.55s\n",
            "Epoch 17/100\n",
            "[On Training] ==> Time: 27.89s, Train Loss: 0.290118027, Train Accuracy: 89.47%\n",
            "[On Validation] ==> Val loss: 0.346998376, Total Time: 469.44s\n",
            "Epoch 18/100\n",
            "[On Training] ==> Time: 27.37s, Train Loss: 0.281275611, Train Accuracy: 89.88%\n",
            "[On Validation] ==> Val loss: 0.343101831, Total Time: 496.81s\n",
            "Epoch 19/100\n",
            "[On Training] ==> Time: 27.39s, Train Loss: 0.273088832, Train Accuracy: 90.28%\n",
            "[On Validation] ==> Val loss: 0.339749167, Total Time: 524.20s\n",
            "Epoch 20/100\n",
            "[On Training] ==> Time: 27.44s, Train Loss: 0.265476382, Train Accuracy: 90.54%\n",
            "[On Validation] ==> Val loss: 0.336863031, Total Time: 551.64s\n",
            "Epoch 21/100\n",
            "[On Training] ==> Time: 27.47s, Train Loss: 0.258368665, Train Accuracy: 90.84%\n",
            "[On Validation] ==> Val loss: 0.334376152, Total Time: 579.11s\n",
            "Epoch 22/100\n",
            "[On Training] ==> Time: 27.51s, Train Loss: 0.251707074, Train Accuracy: 91.12%\n",
            "[On Validation] ==> Val loss: 0.332240145, Total Time: 606.62s\n",
            "Epoch 23/100\n",
            "[On Training] ==> Time: 27.40s, Train Loss: 0.245440790, Train Accuracy: 91.33%\n",
            "[On Validation] ==> Val loss: 0.330409623, Total Time: 634.01s\n",
            "Epoch 24/100\n",
            "[On Training] ==> Time: 27.39s, Train Loss: 0.239526925, Train Accuracy: 91.57%\n",
            "[On Validation] ==> Val loss: 0.328847373, Total Time: 661.40s\n",
            "Epoch 25/100\n",
            "[On Training] ==> Time: 27.54s, Train Loss: 0.233927982, Train Accuracy: 91.78%\n",
            "[On Validation] ==> Val loss: 0.327522772, Total Time: 688.94s\n",
            "Epoch 26/100\n",
            "[On Training] ==> Time: 27.68s, Train Loss: 0.228612066, Train Accuracy: 91.98%\n",
            "[On Validation] ==> Val loss: 0.326409765, Total Time: 716.63s\n",
            "Epoch 27/100\n",
            "[On Training] ==> Time: 27.48s, Train Loss: 0.223552043, Train Accuracy: 92.14%\n",
            "[On Validation] ==> Val loss: 0.325487590, Total Time: 744.11s\n",
            "Epoch 28/100\n",
            "[On Training] ==> Time: 28.07s, Train Loss: 0.218723471, Train Accuracy: 92.37%\n",
            "[On Validation] ==> Val loss: 0.324735932, Total Time: 772.18s\n",
            "Epoch 29/100\n",
            "[On Training] ==> Time: 27.38s, Train Loss: 0.214106333, Train Accuracy: 92.56%\n",
            "[On Validation] ==> Val loss: 0.324141253, Total Time: 799.56s\n",
            "Epoch 30/100\n",
            "[On Training] ==> Time: 27.69s, Train Loss: 0.209682374, Train Accuracy: 92.72%\n",
            "[On Validation] ==> Val loss: 0.323688532, Total Time: 827.25s\n",
            "Epoch 31/100\n",
            "[On Training] ==> Time: 28.23s, Train Loss: 0.205435677, Train Accuracy: 92.88%\n",
            "[On Validation] ==> Val loss: 0.323364210, Total Time: 855.48s\n",
            "Epoch 32/100\n",
            "[On Training] ==> Time: 27.89s, Train Loss: 0.201352657, Train Accuracy: 93.05%\n",
            "[On Validation] ==> Val loss: 0.323160061, Total Time: 883.37s\n",
            "Epoch 33/100\n",
            "[On Training] ==> Time: 27.81s, Train Loss: 0.197420077, Train Accuracy: 93.34%\n",
            "[On Validation] ==> Val loss: 0.323064358, Total Time: 911.18s\n",
            "--- AFTER TRAINING ---\tModel: Task1B.mdl\n",
            "[On Testing] Time: 2.3973772525787354, Test Accuracy: 87.46%\n",
            "\n",
            "\n",
            "Epoch 1/100\n",
            "[On Training] ==> Time: 30.64s, Train Loss: 0.683597120, Train Accuracy: 54.48%\n",
            "[On Validation] ==> Val loss: 0.670351001, Total Time: 30.64s\n",
            "Epoch 2/100\n",
            "[On Training] ==> Time: 30.62s, Train Loss: 0.654218420, Train Accuracy: 69.07%\n",
            "[On Validation] ==> Val loss: 0.635055829, Total Time: 61.26s\n",
            "Epoch 3/100\n",
            "[On Training] ==> Time: 30.96s, Train Loss: 0.615297153, Train Accuracy: 74.06%\n",
            "[On Validation] ==> Val loss: 0.594019257, Total Time: 92.23s\n",
            "Epoch 4/100\n",
            "[On Training] ==> Time: 30.72s, Train Loss: 0.571294052, Train Accuracy: 77.50%\n",
            "[On Validation] ==> Val loss: 0.551362922, Total Time: 122.95s\n",
            "Epoch 5/100\n",
            "[On Training] ==> Time: 31.23s, Train Loss: 0.527341516, Train Accuracy: 79.86%\n",
            "[On Validation] ==> Val loss: 0.512196657, Total Time: 154.18s\n",
            "Epoch 6/100\n",
            "[On Training] ==> Time: 30.38s, Train Loss: 0.488052110, Train Accuracy: 81.66%\n",
            "[On Validation] ==> Val loss: 0.479592130, Total Time: 184.57s\n",
            "Epoch 7/100\n",
            "[On Training] ==> Time: 29.84s, Train Loss: 0.455030181, Train Accuracy: 82.89%\n",
            "[On Validation] ==> Val loss: 0.453634016, Total Time: 214.41s\n",
            "Epoch 8/100\n",
            "[On Training] ==> Time: 29.87s, Train Loss: 0.427588944, Train Accuracy: 83.83%\n",
            "[On Validation] ==> Val loss: 0.432971163, Total Time: 244.28s\n",
            "Epoch 9/100\n",
            "[On Training] ==> Time: 29.83s, Train Loss: 0.404430683, Train Accuracy: 84.74%\n",
            "[On Validation] ==> Val loss: 0.416219469, Total Time: 274.11s\n",
            "Epoch 10/100\n",
            "[On Training] ==> Time: 29.91s, Train Loss: 0.384449170, Train Accuracy: 85.60%\n",
            "[On Validation] ==> Val loss: 0.402342023, Total Time: 304.02s\n",
            "Epoch 11/100\n",
            "[On Training] ==> Time: 30.00s, Train Loss: 0.366873074, Train Accuracy: 86.26%\n",
            "[On Validation] ==> Val loss: 0.390648605, Total Time: 334.02s\n",
            "Epoch 12/100\n",
            "[On Training] ==> Time: 30.01s, Train Loss: 0.351194167, Train Accuracy: 87.00%\n",
            "[On Validation] ==> Val loss: 0.380700751, Total Time: 364.03s\n",
            "Epoch 13/100\n",
            "[On Training] ==> Time: 30.21s, Train Loss: 0.337079826, Train Accuracy: 87.59%\n",
            "[On Validation] ==> Val loss: 0.372183530, Total Time: 394.24s\n",
            "Epoch 14/100\n",
            "[On Training] ==> Time: 29.86s, Train Loss: 0.324289393, Train Accuracy: 88.08%\n",
            "[On Validation] ==> Val loss: 0.364864518, Total Time: 424.10s\n",
            "Epoch 15/100\n",
            "[On Training] ==> Time: 30.40s, Train Loss: 0.312643822, Train Accuracy: 88.60%\n",
            "[On Validation] ==> Val loss: 0.358575348, Total Time: 454.50s\n",
            "Epoch 16/100\n",
            "[On Training] ==> Time: 29.92s, Train Loss: 0.301997446, Train Accuracy: 89.04%\n",
            "[On Validation] ==> Val loss: 0.353169759, Total Time: 484.42s\n",
            "Epoch 17/100\n",
            "[On Training] ==> Time: 29.87s, Train Loss: 0.292228997, Train Accuracy: 89.37%\n",
            "[On Validation] ==> Val loss: 0.348523785, Total Time: 514.29s\n",
            "Epoch 18/100\n",
            "[On Training] ==> Time: 29.91s, Train Loss: 0.283230009, Train Accuracy: 89.75%\n",
            "[On Validation] ==> Val loss: 0.344527993, Total Time: 544.20s\n",
            "Epoch 19/100\n",
            "[On Training] ==> Time: 29.96s, Train Loss: 0.274904876, Train Accuracy: 90.18%\n",
            "[On Validation] ==> Val loss: 0.341090380, Total Time: 574.16s\n",
            "Epoch 20/100\n",
            "[On Training] ==> Time: 30.71s, Train Loss: 0.267171542, Train Accuracy: 90.47%\n",
            "[On Validation] ==> Val loss: 0.338129366, Total Time: 604.87s\n",
            "Epoch 21/100\n",
            "[On Training] ==> Time: 30.60s, Train Loss: 0.259957606, Train Accuracy: 90.80%\n",
            "[On Validation] ==> Val loss: 0.335578460, Total Time: 635.47s\n",
            "Epoch 22/100\n",
            "[On Training] ==> Time: 30.65s, Train Loss: 0.253202920, Train Accuracy: 91.02%\n",
            "[On Validation] ==> Val loss: 0.333383480, Total Time: 666.12s\n",
            "Epoch 23/100\n",
            "[On Training] ==> Time: 31.12s, Train Loss: 0.246855547, Train Accuracy: 91.26%\n",
            "[On Validation] ==> Val loss: 0.331496255, Total Time: 697.24s\n",
            "Epoch 24/100\n",
            "[On Training] ==> Time: 30.64s, Train Loss: 0.240868804, Train Accuracy: 91.54%\n",
            "[On Validation] ==> Val loss: 0.329879663, Total Time: 727.88s\n",
            "Epoch 25/100\n",
            "[On Training] ==> Time: 31.26s, Train Loss: 0.235204011, Train Accuracy: 91.72%\n",
            "[On Validation] ==> Val loss: 0.328500364, Total Time: 759.13s\n",
            "Epoch 26/100\n",
            "[On Training] ==> Time: 30.58s, Train Loss: 0.229827996, Train Accuracy: 91.91%\n",
            "[On Validation] ==> Val loss: 0.327334308, Total Time: 789.71s\n",
            "Epoch 27/100\n",
            "[On Training] ==> Time: 30.66s, Train Loss: 0.224712206, Train Accuracy: 92.10%\n",
            "[On Validation] ==> Val loss: 0.326360521, Total Time: 820.37s\n",
            "Epoch 28/100\n",
            "[On Training] ==> Time: 30.71s, Train Loss: 0.219832303, Train Accuracy: 92.35%\n",
            "[On Validation] ==> Val loss: 0.325556958, Total Time: 851.08s\n",
            "Epoch 29/100\n",
            "[On Training] ==> Time: 30.62s, Train Loss: 0.215166956, Train Accuracy: 92.54%\n",
            "[On Validation] ==> Val loss: 0.324909905, Total Time: 881.70s\n",
            "Epoch 30/100\n",
            "[On Training] ==> Time: 30.10s, Train Loss: 0.210698230, Train Accuracy: 92.81%\n",
            "[On Validation] ==> Val loss: 0.324403964, Total Time: 911.79s\n",
            "Epoch 31/100\n",
            "[On Training] ==> Time: 29.90s, Train Loss: 0.206409168, Train Accuracy: 93.07%\n",
            "[On Validation] ==> Val loss: 0.324028401, Total Time: 941.69s\n",
            "Epoch 32/100\n",
            "[On Training] ==> Time: 29.86s, Train Loss: 0.202285971, Train Accuracy: 93.20%\n",
            "[On Validation] ==> Val loss: 0.323771002, Total Time: 971.56s\n",
            "Epoch 33/100\n",
            "[On Training] ==> Time: 30.16s, Train Loss: 0.198315634, Train Accuracy: 93.34%\n",
            "[On Validation] ==> Val loss: 0.323622603, Total Time: 1001.72s\n",
            "Epoch 34/100\n",
            "[On Training] ==> Time: 29.66s, Train Loss: 0.194487073, Train Accuracy: 93.50%\n",
            "[On Validation] ==> Val loss: 0.323574158, Total Time: 1031.38s\n",
            "--- AFTER TRAINING ---\tModel: Task1C.mdl\n",
            "[On Testing] Time: 2.141007661819458, Test Accuracy: 87.44%\n",
            "\n",
            "\n",
            "Epoch 1/100\n",
            "[On Training] ==> Time: 50.15s, Train Loss: 0.682295337, Train Accuracy: 64.78%\n",
            "[On Validation] ==> Val loss: 0.669982962, Total Time: 50.15s\n",
            "Epoch 2/100\n",
            "[On Training] ==> Time: 50.04s, Train Loss: 0.655772567, Train Accuracy: 70.38%\n",
            "[On Validation] ==> Val loss: 0.638024409, Total Time: 100.20s\n",
            "Epoch 3/100\n",
            "[On Training] ==> Time: 50.10s, Train Loss: 0.619334371, Train Accuracy: 73.68%\n",
            "[On Validation] ==> Val loss: 0.598488264, Total Time: 150.29s\n",
            "Epoch 4/100\n",
            "[On Training] ==> Time: 50.19s, Train Loss: 0.576346129, Train Accuracy: 76.97%\n",
            "[On Validation] ==> Val loss: 0.556202917, Total Time: 200.48s\n",
            "Epoch 5/100\n",
            "[On Training] ==> Time: 50.83s, Train Loss: 0.532349359, Train Accuracy: 79.52%\n",
            "[On Validation] ==> Val loss: 0.516552868, Total Time: 251.32s\n",
            "Epoch 6/100\n",
            "[On Training] ==> Time: 50.40s, Train Loss: 0.492510989, Train Accuracy: 81.34%\n",
            "[On Validation] ==> Val loss: 0.483194167, Total Time: 301.71s\n",
            "Epoch 7/100\n",
            "[On Training] ==> Time: 52.25s, Train Loss: 0.458887006, Train Accuracy: 82.52%\n",
            "[On Validation] ==> Val loss: 0.456546855, Total Time: 353.96s\n",
            "Epoch 8/100\n",
            "[On Training] ==> Time: 52.03s, Train Loss: 0.430964184, Train Accuracy: 83.65%\n",
            "[On Validation] ==> Val loss: 0.435343225, Total Time: 405.99s\n",
            "Epoch 9/100\n",
            "[On Training] ==> Time: 52.04s, Train Loss: 0.407440259, Train Accuracy: 84.44%\n",
            "[On Validation] ==> Val loss: 0.418170969, Total Time: 458.03s\n",
            "Epoch 10/100\n",
            "[On Training] ==> Time: 52.09s, Train Loss: 0.387177843, Train Accuracy: 85.41%\n",
            "[On Validation] ==> Val loss: 0.403969685, Total Time: 510.12s\n",
            "Epoch 11/100\n",
            "[On Training] ==> Time: 50.37s, Train Loss: 0.369375076, Train Accuracy: 86.05%\n",
            "[On Validation] ==> Val loss: 0.392009318, Total Time: 560.49s\n",
            "Epoch 12/100\n",
            "[On Training] ==> Time: 49.88s, Train Loss: 0.353499737, Train Accuracy: 86.78%\n",
            "[On Validation] ==> Val loss: 0.381824917, Total Time: 610.37s\n",
            "Epoch 13/100\n",
            "[On Training] ==> Time: 50.18s, Train Loss: 0.339203134, Train Accuracy: 87.41%\n",
            "[On Validation] ==> Val loss: 0.373093951, Total Time: 660.55s\n",
            "Epoch 14/100\n",
            "[On Training] ==> Time: 50.03s, Train Loss: 0.326244969, Train Accuracy: 87.94%\n",
            "[On Validation] ==> Val loss: 0.365598748, Total Time: 710.58s\n",
            "Epoch 15/100\n",
            "[On Training] ==> Time: 50.00s, Train Loss: 0.314444969, Train Accuracy: 88.41%\n",
            "[On Validation] ==> Val loss: 0.359164421, Total Time: 760.58s\n",
            "Epoch 16/100\n",
            "[On Training] ==> Time: 50.02s, Train Loss: 0.303659023, Train Accuracy: 88.81%\n",
            "[On Validation] ==> Val loss: 0.353640577, Total Time: 810.60s\n",
            "Epoch 17/100\n",
            "[On Training] ==> Time: 50.34s, Train Loss: 0.293761763, Train Accuracy: 89.26%\n",
            "[On Validation] ==> Val loss: 0.348897120, Total Time: 860.94s\n",
            "Epoch 18/100\n",
            "[On Training] ==> Time: 51.37s, Train Loss: 0.284643780, Train Accuracy: 89.73%\n",
            "[On Validation] ==> Val loss: 0.344827674, Total Time: 912.32s\n",
            "Epoch 19/100\n",
            "[On Training] ==> Time: 52.18s, Train Loss: 0.276211266, Train Accuracy: 90.17%\n",
            "[On Validation] ==> Val loss: 0.341336225, Total Time: 964.50s\n",
            "Epoch 20/100\n",
            "[On Training] ==> Time: 51.88s, Train Loss: 0.268381293, Train Accuracy: 90.42%\n",
            "[On Validation] ==> Val loss: 0.338340394, Total Time: 1016.37s\n",
            "Epoch 21/100\n",
            "[On Training] ==> Time: 51.00s, Train Loss: 0.261081024, Train Accuracy: 90.74%\n",
            "[On Validation] ==> Val loss: 0.335770357, Total Time: 1067.38s\n",
            "Epoch 22/100\n",
            "[On Training] ==> Time: 49.91s, Train Loss: 0.254247355, Train Accuracy: 90.99%\n",
            "[On Validation] ==> Val loss: 0.333566487, Total Time: 1117.29s\n",
            "Epoch 23/100\n",
            "[On Training] ==> Time: 49.99s, Train Loss: 0.247827193, Train Accuracy: 91.23%\n",
            "[On Validation] ==> Val loss: 0.331683252, Total Time: 1167.27s\n",
            "Epoch 24/100\n",
            "[On Training] ==> Time: 49.92s, Train Loss: 0.241774429, Train Accuracy: 91.51%\n",
            "[On Validation] ==> Val loss: 0.330077923, Total Time: 1217.20s\n",
            "Epoch 25/100\n",
            "[On Training] ==> Time: 50.46s, Train Loss: 0.236048921, Train Accuracy: 91.76%\n",
            "[On Validation] ==> Val loss: 0.328718622, Total Time: 1267.65s\n",
            "Epoch 26/100\n",
            "[On Training] ==> Time: 50.21s, Train Loss: 0.230616750, Train Accuracy: 91.92%\n",
            "[On Validation] ==> Val loss: 0.327578547, Total Time: 1317.87s\n",
            "Epoch 27/100\n",
            "[On Training] ==> Time: 50.01s, Train Loss: 0.225449653, Train Accuracy: 92.09%\n",
            "[On Validation] ==> Val loss: 0.326634323, Total Time: 1367.88s\n",
            "Epoch 28/100\n",
            "[On Training] ==> Time: 50.06s, Train Loss: 0.220522126, Train Accuracy: 92.31%\n",
            "[On Validation] ==> Val loss: 0.325864744, Total Time: 1417.93s\n",
            "Epoch 29/100\n",
            "[On Training] ==> Time: 50.65s, Train Loss: 0.215812758, Train Accuracy: 92.51%\n",
            "[On Validation] ==> Val loss: 0.325253658, Total Time: 1468.58s\n",
            "Epoch 30/100\n",
            "[On Training] ==> Time: 50.17s, Train Loss: 0.211302546, Train Accuracy: 92.75%\n",
            "[On Validation] ==> Val loss: 0.324786413, Total Time: 1518.75s\n",
            "Epoch 31/100\n",
            "[On Training] ==> Time: 51.99s, Train Loss: 0.206975202, Train Accuracy: 92.88%\n",
            "[On Validation] ==> Val loss: 0.324450623, Total Time: 1570.74s\n",
            "Epoch 32/100\n",
            "[On Training] ==> Time: 51.80s, Train Loss: 0.202815676, Train Accuracy: 93.09%\n",
            "[On Validation] ==> Val loss: 0.324233028, Total Time: 1622.54s\n",
            "Epoch 33/100\n",
            "[On Training] ==> Time: 51.91s, Train Loss: 0.198811058, Train Accuracy: 93.25%\n",
            "[On Validation] ==> Val loss: 0.324125169, Total Time: 1674.45s\n",
            "Epoch 34/100\n",
            "[On Training] ==> Time: 52.80s, Train Loss: 0.194950174, Train Accuracy: 93.40%\n",
            "[On Validation] ==> Val loss: 0.324116959, Total Time: 1727.25s\n",
            "--- AFTER TRAINING ---\tModel: Task1D.mdl\n",
            "[On Testing] Time: 2.514296293258667, Test Accuracy: 87.46%\n",
            "\n",
            "\n"
          ],
          "name": "stdout"
        }
      ]
    },
    {
      "metadata": {
        "id": "4XoHF1M8IVdf",
        "colab_type": "code",
        "colab": {}
      },
      "cell_type": "code",
      "source": [
        "files.download('Task1A.mdl')\n",
        "files.download('Task1B.mdl')\n",
        "files.download('Task1C.mdl')\n",
        "files.download('Task1D.mdl')"
      ],
      "execution_count": 0,
      "outputs": []
    },
    {
      "metadata": {
        "id": "FxO_e5P1mX3I",
        "colab_type": "text"
      },
      "cell_type": "markdown",
      "source": [
        "##Task-2"
      ]
    },
    {
      "metadata": {
        "id": "lpUB7Obs197T",
        "colab_type": "code",
        "colab": {}
      },
      "cell_type": "code",
      "source": [
        "task2 = [(10, 10, 'Task2A.mdl'), (20, 10, 'Task2B.mdl'), (30, 30, 'Task2C.mdl'), (50, 50, 'Task2D.mdl'), (100, 50, 'Task2E.mdl')]"
      ],
      "execution_count": 0,
      "outputs": []
    },
    {
      "metadata": {
        "id": "UiqcS_4XmXbd",
        "colab_type": "code",
        "colab": {}
      },
      "cell_type": "code",
      "source": [
        "for num_of_hidden1, num_of_hidden2, task_name in task2:\n",
        "    class BOWClassifier(nn.Module):\n",
        "        def __init__(self, input_size, hidden_size1, hidden_size2, output_size):\n",
        "            super(BOWClassifier, self).__init__()\n",
        "            SEED = 42\n",
        "            torch.manual_seed(SEED)\n",
        "            torch.cuda.manual_seed(SEED)\n",
        "            self.i2h = nn.Linear(input_size, hidden_size1) # initialises weights and biases i2h\n",
        "            self.h2h = nn.Linear(hidden_size1, hidden_size2) # initialises weights and biases h2h\n",
        "            self.h2o = nn.Linear(hidden_size2, output_size) # initialises weights and biases h2o\n",
        "\n",
        "        def forward(self, x):\n",
        "            x = torch.relu(self.i2h(x)) # relu activation @ hidden layer\n",
        "            x = torch.relu(self.h2h(x)) # relu activation @ hidden layer\n",
        "            x = torch.sigmoid(self.h2o(x)) # sigmoid activation @ output layer\n",
        "            return x\n",
        "\n",
        "    num_of_input = VOCAB_SIZE # Bag word restriction has to be equal to vocabulary\n",
        "    num_of_output = 1 # binary sentiment classes (+ve, -ve)\n",
        "\n",
        "    bow = BOWClassifier(num_of_input, num_of_hidden1, num_of_hidden2, num_of_output).to('cuda:0') # initialises weights and biases\n",
        "\n",
        "    # define a loss function and an optimizer\n",
        "    loss_function = nn.BCELoss()\n",
        "    opt = torch.optim.SGD(bow.parameters(), lr = 0.0001)\n",
        "\n",
        "    gc.collect()\n",
        "\n",
        "    # Train The Model\n",
        "    epochs = 100\n",
        "    # the training loop\n",
        "    total_time = 0.0\n",
        "    prev_val_loss = float('inf')\n",
        "    val_loss = 0\n",
        "    early_stop_bow = 0\n",
        "\n",
        "    for e in range(epochs):\n",
        "        tic = time.time() # start the timer\n",
        "        correct = 0\n",
        "        cumulative_loss = 0\n",
        "        incorrect = 0\n",
        "\n",
        "        for i, instance in enumerate(train_data): # train_text_reviews \n",
        "            # get the training data\n",
        "            label = train_text_labels[i] # get the label of the corresponding instace\n",
        "            label = Variable(torch.FloatTensor([label])).resize_((1,1)).to('cuda:0') # wraps a tensor for label\n",
        "\n",
        "            bow.zero_grad() # reset the gradient for each instance\n",
        "\n",
        "            pred = bow.forward(instance)\n",
        "\n",
        "            loss = loss_function(pred, label) # compute the loss\n",
        "            loss.backward() # backprop the loss\n",
        "            opt.step() # performs parameter updation based on the current gradient\n",
        "\n",
        "            cumulative_loss += float(loss.item()) # accumulate the loss over whole training sample\n",
        "\n",
        "            pred_class = 1 if pred.item() > 0.5 else 0 # as sigmoid activated\n",
        "            if(int(label) == pred_class): # counting correct prediction in each epoch\n",
        "                correct += 1\n",
        "\n",
        "        train_loss = float(cumulative_loss)/num_train_data\n",
        "        train_accuracy = correct*float(100)/num_train_data\n",
        "\n",
        "#         val_loss, val_accuracy, p, r, f = evaluate_validation_accuracy(val_data, bow) # test val-data-set on currently trained model\n",
        "        val_loss = evaluate_validation_accuracy(val_data, bow) # test val-data-set on currently trained model\n",
        "        \n",
        "        if(prev_val_loss-val_loss < 0.0): # early stop if nearly no change\n",
        "            bow = copy.deepcopy(early_stop_bow)\n",
        "            break\n",
        "\n",
        "        early_stop_bow = copy.deepcopy(bow)\n",
        "\n",
        "        prev_val_loss = val_loss\n",
        "\n",
        "        toc = time.time() # final time\n",
        "        total_time += (toc-tic)\n",
        "\n",
        "        print(\"Epoch {}/{}\\n[On Training] ==> Time: {:.2f}s, Train Loss: {:.9f}, Train Accuracy: {:.2f}%\".format(e+1, epochs, (toc-tic), train_loss, train_accuracy))\n",
        "#         print(\"[On Validation] ==> Precision: {:.3f}, Recall: {:.3f}, F-Score: {:.3f}, Val loss: {:.9f}, Val Accuracy: {:.2f}% Total Time: {:.2f}s\".format(p, r, f, val_loss, val_accuracy, total_time))\n",
        "        print(\"[On Validation] ==> Val loss: {:.9f}, Total Time: {:.2f}s\".format(val_loss, total_time))\n",
        "\n",
        "    torch.save(bow, task_name)\n",
        "\n",
        "    print('--- AFTER TRAINING ---\\tModel: {}'.format(task_name))\n",
        "    correct = 0\n",
        "    tic = time.time()\n",
        "    for i, instance in enumerate(data_test):\n",
        "        label = test_text_labels[i] # get the label of the corresponding instace\n",
        "        label = Variable(torch.FloatTensor([label])).resize_((1,1)).to('cuda:0') # wraps a tensor for label\n",
        "\n",
        "        pred = bow.forward(instance)\n",
        "        pred_class = 1 if pred.item() > 0.5 else 0 # sigmoid activated\n",
        "\n",
        "        if(int(label) == pred_class):\n",
        "            correct += 1\n",
        "    toc = time.time()\n",
        "    print(\"[On Testing] Time: {}, Test Accuracy: {:.2f}%\".format((toc-tic), correct*100/len(data_test)))\n",
        "    \n",
        "    print(\"\\n\")"
      ],
      "execution_count": 0,
      "outputs": []
    },
    {
      "metadata": {
        "id": "eMMAv_S1WLNF",
        "colab_type": "code",
        "colab": {}
      },
      "cell_type": "code",
      "source": [
        "files.download('Task2A.mdl')\n",
        "files.download('Task2B.mdl')\n",
        "files.download('Task2C.mdl')\n",
        "files.download('Task2D.mdl')\n",
        "files.download('Task2E.mdl')"
      ],
      "execution_count": 0,
      "outputs": []
    },
    {
      "metadata": {
        "id": "n2JByG_xnrr1",
        "colab_type": "text"
      },
      "cell_type": "markdown",
      "source": [
        "##Task-3"
      ]
    },
    {
      "metadata": {
        "id": "vtAGGeuU2ect",
        "colab_type": "code",
        "colab": {}
      },
      "cell_type": "code",
      "source": [
        "task3 = [(100, 50, 10, 'Task3A.mdl'), (200, 100, 10, 'Task3B.mdl')]"
      ],
      "execution_count": 0,
      "outputs": []
    },
    {
      "metadata": {
        "id": "rz1rm-runrPt",
        "colab_type": "code",
        "colab": {}
      },
      "cell_type": "code",
      "source": [
        "for num_of_hidden1, num_of_hidden2, num_of_hidden3, task_name in task3:\n",
        "    class BOWClassifier(nn.Module):\n",
        "        def __init__(self, input_size, hidden_size1, hidden_size2, hidden_size3, output_size):\n",
        "            super(BOWClassifier, self).__init__()\n",
        "            SEED = 42\n",
        "            torch.manual_seed(SEED)\n",
        "            torch.cuda.manual_seed(SEED)\n",
        "            self.i2h1 = nn.Linear(input_size, hidden_size1) # initialises weights and biases i2h1\n",
        "            self.h12h2 = nn.Linear(hidden_size1, hidden_size2) # initialises weights and biases h12h2\n",
        "            self.h22h3 = nn.Linear(hidden_size2, hidden_size3) # initialises weights and biases h22h3\n",
        "            self.h32o = nn.Linear(hidden_size3, output_size) # initialises weights and biases h32o\n",
        "\n",
        "        def forward(self, x):\n",
        "            x = torch.relu(self.i2h1(x)) # relu activation @ hidden layer\n",
        "            x = torch.relu(self.h12h2(x)) # relu activation @ hidden layer\n",
        "            x = torch.relu(self.h22h3(x)) # relu activation @ hidden layer\n",
        "            x = torch.sigmoid(self.h32o(x)) # sigmoid activation @ output layer\n",
        "            return x\n",
        "\n",
        "    num_of_input = VOCAB_SIZE # Bag word restriction has to be equal to vocabulary\n",
        "    num_of_output = 1 # binary sentiment classes (+ve, -ve)\n",
        "\n",
        "    bow = BOWClassifier(num_of_input, num_of_hidden1, num_of_hidden2, num_of_hidden3, num_of_output).to('cuda:0') # initialises weights and biases\n",
        "\n",
        "    # define a loss function and an optimizer\n",
        "    loss_function = nn.BCELoss()\n",
        "    opt = torch.optim.SGD(bow.parameters(), lr = 0.0001)\n",
        "\n",
        "    gc.collect()\n",
        "\n",
        "    # Train The Model\n",
        "    epochs = 100\n",
        "    # the training loop\n",
        "    total_time = 0.0\n",
        "    prev_val_loss = float('inf')\n",
        "    val_loss = 0\n",
        "    early_stop_bow = 0\n",
        "\n",
        "    for e in range(epochs):\n",
        "        tic = time.time() # start the timer\n",
        "        correct = 0\n",
        "        cumulative_loss = 0\n",
        "        incorrect = 0\n",
        "\n",
        "        for i, instance in enumerate(train_data): # train_text_reviews \n",
        "            # get the training data\n",
        "            label = train_text_labels[i] # get the label of the corresponding instace\n",
        "            label = Variable(torch.FloatTensor([label])).resize_((1,1)).to('cuda:0') # wraps a tensor for label\n",
        "\n",
        "            bow.zero_grad() # reset the gradient for each instance\n",
        "\n",
        "            pred = bow.forward(instance)\n",
        "\n",
        "            loss = loss_function(pred, label) # compute the loss\n",
        "            loss.backward() # backprop the loss\n",
        "            opt.step() # performs parameter updation based on the current gradient\n",
        "\n",
        "            cumulative_loss += float(loss.item()) # accumulate the loss over whole training sample\n",
        "\n",
        "            pred_class = 1 if pred.item() > 0.5 else 0 # as sigmoid activated\n",
        "            if(int(label) == pred_class): # counting correct prediction in each epoch\n",
        "                correct += 1\n",
        "\n",
        "        train_loss = float(cumulative_loss)/num_train_data\n",
        "        train_accuracy = correct*float(100)/num_train_data\n",
        "\n",
        "#         val_loss, val_accuracy, p, r, f = evaluate_validation_accuracy(val_data, bow) # test val-data-set on currently trained model\n",
        "        val_loss = evaluate_validation_accuracy(val_data, bow) # test val-data-set on currently trained model\n",
        "\n",
        "        if(prev_val_loss-val_loss < 0.0): # early stop if nearly no change\n",
        "            bow = copy.deepcopy(early_stop_bow)\n",
        "            break\n",
        "\n",
        "        early_stop_bow = copy.deepcopy(bow)\n",
        "\n",
        "        prev_val_loss = val_loss\n",
        "\n",
        "        toc = time.time() # final time\n",
        "        total_time += (toc-tic)\n",
        "\n",
        "        print(\"Epoch {}/{}\\n[On Training] ==> Time: {:.2f}s, Train Loss: {:.9f}, Train Accuracy: {:.2f}%\".format(e+1, epochs, (toc-tic), train_loss, train_accuracy))\n",
        "#         print(\"[On Validation] ==> Precision: {:.3f}, Recall: {:.3f}, F-Score: {:.3f}, Val loss: {:.9f}, Val Accuracy: {:.2f}% Total Time: {:.2f}s\".format(p, r, f, val_loss, val_accuracy, total_time))\n",
        "        print(\"[On Validation] ==> Val loss: {:.9f}, Total Time: {:.2f}s\".format(val_loss, total_time))\n",
        "    \n",
        "    torch.save(bow, task_name)\n",
        "    \n",
        "    print('--- AFTER TRAINING ---\\tModel: {}'.format(task_name))\n",
        "    correct = 0\n",
        "    tic = time.time()\n",
        "    for i, instance in enumerate(data_test):\n",
        "        label = test_text_labels[i] # get the label of the corresponding instace\n",
        "        label = Variable(torch.FloatTensor([label])).resize_((1,1)).to('cuda:0') # wraps a tensor for label\n",
        "\n",
        "        pred = bow.forward(instance)\n",
        "        pred_class = 1 if pred.item() > 0.5 else 0 # sigmoid activated\n",
        "\n",
        "        if(int(label) == pred_class):\n",
        "            correct += 1\n",
        "    toc = time.time()\n",
        "    print(\"[On Testing] Time: {}, Test Accuracy: {:.2f}%\".format((toc-tic), correct*100/len(data_test)))\n",
        "\n",
        "    print(\"\\n\")"
      ],
      "execution_count": 0,
      "outputs": []
    },
    {
      "metadata": {
        "id": "vGf7IdbRdbk7",
        "colab_type": "code",
        "colab": {}
      },
      "cell_type": "code",
      "source": [
        "files.download('Task3A.mdl')\n",
        "files.download('Task3B.mdl')"
      ],
      "execution_count": 0,
      "outputs": []
    },
    {
      "metadata": {
        "id": "-MYVmtv9jn7n",
        "colab_type": "code",
        "colab": {}
      },
      "cell_type": "code",
      "source": [
        ""
      ],
      "execution_count": 0,
      "outputs": []
    },
    {
      "metadata": {
        "id": "quMcuqqyjqP2",
        "colab_type": "text"
      },
      "cell_type": "markdown",
      "source": [
        "## TASK-4"
      ]
    },
    {
      "metadata": {
        "id": "FznXcSrri_l6",
        "colab_type": "code",
        "colab": {}
      },
      "cell_type": "code",
      "source": [
        "task4 = [(30, 20, 10, 'Task4A.mdl'), (100, 100, 0, 'Task4B.mdl'), (100, 10, 0, 'Task4C.mdl')]"
      ],
      "execution_count": 0,
      "outputs": []
    },
    {
      "metadata": {
        "id": "TMTr6ZqQjoZA",
        "colab_type": "code",
        "colab": {}
      },
      "cell_type": "code",
      "source": [
        "k = 1\n",
        "for num_of_hidden1, num_of_hidden2, num_of_hidden3, task_name in task4:\n",
        "    if(k == 1):\n",
        "        k = 2\n",
        "        class BOWClassifier(nn.Module):\n",
        "            def __init__(self, input_size, hidden_size1, hidden_size2, hidden_size3, output_size):\n",
        "                super(BOWClassifier, self).__init__()\n",
        "                SEED = 42\n",
        "                torch.manual_seed(SEED)\n",
        "                torch.cuda.manual_seed(SEED)\n",
        "                self.i2h1 = nn.Linear(input_size, hidden_size1) # initialises weights and biases i2h1\n",
        "                self.drop1 = nn.Dropout(0.5) # Adding dropout layer\n",
        "                \n",
        "                self.h12h2 = nn.Linear(hidden_size1, hidden_size2) # initialises weights and biases h12h2\n",
        "                self.drop2 = nn.Dropout(0.5) # Adding dropout layer\n",
        "                \n",
        "                self.h22h3 = nn.Linear(hidden_size2, hidden_size3) # initialises weights and biases h22h3\n",
        "                self.drop3 = nn.Dropout(0.5) # Adding dropout layer\n",
        "                \n",
        "                self.h32o = nn.Linear(hidden_size3, output_size) # initialises weights and biases h32o\n",
        "\n",
        "            def forward(self, x):\n",
        "                x = torch.relu(self.i2h1(x)) # relu activation @ hidden layer\n",
        "                x = torch.relu(self.h12h2(x)) # relu activation @ hidden layer\n",
        "                x = torch.relu(self.h22h3(x)) # relu activation @ hidden layer\n",
        "                x = torch.sigmoid(self.h32o(x)) # sigmoid activation @ output layer\n",
        "                return x\n",
        "\n",
        "        num_of_input = VOCAB_SIZE # Bag word restriction has to be equal to vocabulary\n",
        "        num_of_output = 1 # binary sentiment classes (+ve, -ve)\n",
        "\n",
        "        bow = BOWClassifier(num_of_input, num_of_hidden1, num_of_hidden2, num_of_hidden3, num_of_output).to('cuda:0') # initialises weights and biases\n",
        "    elif(k == 2):\n",
        "        k = 2\n",
        "        class BOWClassifier(nn.Module):\n",
        "            def __init__(self, input_size, hidden_size1, hidden_size2, output_size):\n",
        "                super(BOWClassifier, self).__init__()\n",
        "                SEED = 42\n",
        "                torch.manual_seed(SEED)\n",
        "                torch.cuda.manual_seed(SEED)\n",
        "                self.i2h = nn.Linear(input_size, hidden_size1) # initialises weights and biases i2h\n",
        "                self.drop1 = nn.Dropout(0.5) # Adding dropout layer\n",
        "                \n",
        "                self.h2h = nn.Linear(hidden_size1, hidden_size2) # initialises weights and biases i2h\n",
        "                self.drop2 = nn.Dropout(0.5) # Adding dropout layer\n",
        "                \n",
        "                self.h2o = nn.Linear(hidden_size2, output_size) # initialises weights and biases h2o\n",
        "\n",
        "            def forward(self, x):\n",
        "                x = torch.relu(self.i2h(x)) # relu activation @ hidden layer\n",
        "                x = torch.relu(self.h2h(x)) # relu activation @ hidden layer\n",
        "                x = torch.sigmoid(self.h2o(x)) # sigmoid activation @ output layer\n",
        "                return x\n",
        "\n",
        "        num_of_input = VOCAB_SIZE # Bag word restriction has to be equal to vocabulary\n",
        "        num_of_output = 1 # binary sentiment classes (+ve, -ve)\n",
        "\n",
        "        bow = BOWClassifier(num_of_input, num_of_hidden1, num_of_hidden2, num_of_output).to('cuda:0') # initialises weights and biases\n",
        "\n",
        "    # define a loss function and an optimizer\n",
        "    loss_function = nn.BCELoss()\n",
        "    opt = torch.optim.SGD(bow.parameters(), lr = 0.0001)\n",
        "\n",
        "    gc.collect()\n",
        "\n",
        "    # Train The Model\n",
        "    epochs = 100\n",
        "    # the training loop\n",
        "    total_time = 0.0\n",
        "    prev_val_loss = float('inf')\n",
        "    val_loss = 0\n",
        "    early_stop_bow = 0\n",
        "\n",
        "    for e in range(epochs):\n",
        "        tic = time.time() # start the timer\n",
        "        correct = 0\n",
        "        cumulative_loss = 0\n",
        "        incorrect = 0\n",
        "\n",
        "        for i, instance in enumerate(train_data): # train_text_reviews \n",
        "            # get the training data\n",
        "            label = train_text_labels[i] # get the label of the corresponding instace\n",
        "            label = Variable(torch.FloatTensor([label])).resize_((1,1)).to('cuda:0') # wraps a tensor for label\n",
        "\n",
        "            bow.zero_grad() # reset the gradient for each instance\n",
        "\n",
        "            pred = bow.forward(instance)\n",
        "\n",
        "            loss = loss_function(pred, label) # compute the loss\n",
        "            loss.backward() # backprop the loss\n",
        "            opt.step() # performs parameter updation based on the current gradient\n",
        "\n",
        "            cumulative_loss += float(loss.item()) # accumulate the loss over whole training sample\n",
        "\n",
        "            pred_class = 1 if pred.item() > 0.5 else 0 # as sigmoid activated\n",
        "            if(int(label) == pred_class): # counting correct prediction in each epoch\n",
        "                correct += 1\n",
        "\n",
        "        train_loss = float(cumulative_loss)/num_train_data\n",
        "        train_accuracy = correct*float(100)/num_train_data\n",
        "\n",
        "#         val_loss, val_accuracy, p, r, f = evaluate_validation_accuracy(val_data, bow) # test val-data-set on currently trained model\n",
        "        val_loss = evaluate_validation_accuracy(val_data, bow) # test val-data-set on currently trained model\n",
        "    \n",
        "        if(prev_val_loss-val_loss < 0.0): # early stop if nearly no change\n",
        "            bow = copy.deepcopy(early_stop_bow)\n",
        "            break\n",
        "\n",
        "        early_stop_bow = copy.deepcopy(bow)\n",
        "\n",
        "        prev_val_loss = val_loss\n",
        "\n",
        "        toc = time.time() # final time\n",
        "        total_time += (toc-tic)\n",
        "\n",
        "        print(\"Epoch {}/{}\\n[On Training] ==> Time: {:.2f}s, Train Loss: {:.9f}, Train Accuracy: {:.2f}%\".format(e+1, epochs, (toc-tic), train_loss, train_accuracy))\n",
        "#         print(\"[On Validation] ==> Precision: {:.3f}, Recall: {:.3f}, F-Score: {:.3f}, Val loss: {:.9f}, Val Accuracy: {:.2f}% Total Time: {:.2f}s\".format(p, r, f, val_loss, val_accuracy, total_time))\n",
        "        print(\"[On Validation] ==> Val loss: {:.9f}, Total Time: {:.2f}s\".format(val_loss, total_time))\n",
        "\n",
        "    torch.save(bow, task_name)\n",
        "    \n",
        "    print('--- AFTER TRAINING ---\\tModel: {}'.format(task_name))\n",
        "    correct = 0\n",
        "    tic = time.time()\n",
        "    for i, instance in enumerate(data_test):\n",
        "        label = test_text_labels[i] # get the label of the corresponding instace\n",
        "        label = Variable(torch.FloatTensor([label])).resize_((1,1)).to('cuda:0') # wraps a tensor for label\n",
        "\n",
        "        pred = bow.forward(instance)\n",
        "        pred_class = 1 if pred.item() > 0.5 else 0 # sigmoid activated\n",
        "\n",
        "        if(int(label) == pred_class):\n",
        "            correct += 1\n",
        "    toc = time.time()\n",
        "    print(\"[On Testing] Time: {}, Test Accuracy: {:.2f}%\".format((toc-tic), correct*100/len(data_test)))\n",
        "\n",
        "    print(\"\\n\")"
      ],
      "execution_count": 0,
      "outputs": []
    },
    {
      "metadata": {
        "id": "qD-kkwEKW0iM",
        "colab_type": "code",
        "colab": {}
      },
      "cell_type": "code",
      "source": [
        "files.download('Task4A.mdl')\n",
        "files.download('Task4B.mdl')\n",
        "files.download('Task4C.mdl')"
      ],
      "execution_count": 0,
      "outputs": []
    },
    {
      "metadata": {
        "id": "12KQYM1RYuiH",
        "colab_type": "text"
      },
      "cell_type": "markdown",
      "source": [
        "## Task-5"
      ]
    },
    {
      "metadata": {
        "id": "cd6rex2FYwmp",
        "colab_type": "code",
        "colab": {}
      },
      "cell_type": "code",
      "source": [
        "task5 = [('relu', 'Task5A.mdl'), ('tanh', 'Task5B.mdl'), ('sigmoid', 'Task5C.mdl')]"
      ],
      "execution_count": 0,
      "outputs": []
    },
    {
      "metadata": {
        "id": "-lCj7dx6ZB-Y",
        "colab_type": "code",
        "colab": {}
      },
      "cell_type": "code",
      "source": [
        "for activation, task_name in task5:\n",
        "    if(activation == 'relu'):\n",
        "        class BOWClassifier(nn.Module):\n",
        "            def __init__(self, input_size, hidden_size1, hidden_size2, hidden_size3, output_size):\n",
        "                super(BOWClassifier, self).__init__()\n",
        "                SEED = 42\n",
        "                torch.manual_seed(SEED)\n",
        "                torch.cuda.manual_seed(SEED)\n",
        "                self.i2h1 = nn.Linear(input_size, hidden_size1) # initialises weights and biases i2h1\n",
        "                self.drop1 = nn.Dropout(0.5) # Adding dropout layer\n",
        "                \n",
        "                self.h12h2 = nn.Linear(hidden_size1, hidden_size2) # initialises weights and biases h12h2\n",
        "                self.drop2 = nn.Dropout(0.5) # Adding dropout layer\n",
        "                \n",
        "                self.h22h3 = nn.Linear(hidden_size2, hidden_size3) # initialises weights and biases h22h3\n",
        "                self.drop3 = nn.Dropout(0.5) # Adding dropout layer\n",
        "                \n",
        "                self.h32o = nn.Linear(hidden_size3, output_size) # initialises weights and biases h32o\n",
        "\n",
        "            def forward(self, x):\n",
        "                x = torch.relu(self.i2h1(x)) # relu activation @ hidden layer\n",
        "                x = torch.relu(self.h12h2(x)) # relu activation @ hidden layer\n",
        "                x = torch.relu(self.h22h3(x)) # relu activation @ hidden layer\n",
        "                x = torch.sigmoid(self.h32o(x)) # sigmoid activation @ output layer\n",
        "                return x\n",
        "\n",
        "        num_of_input = VOCAB_SIZE # Bag word restriction has to be equal to vocabulary\n",
        "        num_of_hidden1 = 30\n",
        "        num_of_hidden2 = 20\n",
        "        num_of_hidden3 = 10\n",
        "        num_of_output = 1 # binary sentiment classes (+ve, -ve)\n",
        "\n",
        "        bow = BOWClassifier(num_of_input, num_of_hidden1, num_of_hidden2, num_of_hidden3, num_of_output).to('cuda:0') # initialises weights and biases\n",
        "        \n",
        "    if(activation == 'tanh'):\n",
        "        class BOWClassifier(nn.Module):\n",
        "            def __init__(self, input_size, hidden_size1, hidden_size2, hidden_size3, output_size):\n",
        "                super(BOWClassifier, self).__init__()\n",
        "                SEED = 42\n",
        "                torch.manual_seed(SEED)\n",
        "                torch.cuda.manual_seed(SEED)\n",
        "                self.i2h1 = nn.Linear(input_size, hidden_size1) # initialises weights and biases i2h1\n",
        "                self.drop1 = nn.Dropout(0.5) # Adding dropout layer\n",
        "                \n",
        "                self.h12h2 = nn.Linear(hidden_size1, hidden_size2) # initialises weights and biases h12h2\n",
        "                self.drop2 = nn.Dropout(0.5) # Adding dropout layer\n",
        "                \n",
        "                self.h22h3 = nn.Linear(hidden_size2, hidden_size3) # initialises weights and biases h22h3\n",
        "                self.drop3 = nn.Dropout(0.5) # Adding dropout layer\n",
        "                \n",
        "                self.h32o = nn.Linear(hidden_size3, output_size) # initialises weights and biases h32o\n",
        "\n",
        "            def forward(self, x):\n",
        "                x = torch.tanh(self.i2h1(x)) # tanh activation @ hidden layer\n",
        "                x = torch.tanh(self.h12h2(x)) # tanh activation @ hidden layer\n",
        "                x = torch.tanh(self.h22h3(x)) # tanh activation @ hidden layer\n",
        "                x = torch.sigmoid(self.h32o(x)) # sigmoid activation @ output layer\n",
        "                return x\n",
        "\n",
        "        num_of_input = VOCAB_SIZE # Bag word restriction has to be equal to vocabulary\n",
        "        num_of_hidden1 = 30\n",
        "        num_of_hidden2 = 20\n",
        "        num_of_hidden3 = 10\n",
        "        num_of_output = 1 # binary sentiment classes (+ve, -ve)\n",
        "\n",
        "        bow = BOWClassifier(num_of_input, num_of_hidden1, num_of_hidden2, num_of_hidden3, num_of_output).to('cuda:0') # initialises weights and biases\n",
        "        \n",
        "    if(activation == 'sigmoid'):\n",
        "        class BOWClassifier(nn.Module):\n",
        "            def __init__(self, input_size, hidden_size1, hidden_size2, hidden_size3, output_size):\n",
        "                super(BOWClassifier, self).__init__()\n",
        "                SEED = 42\n",
        "                torch.manual_seed(SEED)\n",
        "                torch.cuda.manual_seed(SEED)\n",
        "                self.i2h1 = nn.Linear(input_size, hidden_size1) # initialises weights and biases i2h1\n",
        "                self.drop1 = nn.Dropout(0.5) # Adding dropout layer\n",
        "                \n",
        "                self.h12h2 = nn.Linear(hidden_size1, hidden_size2) # initialises weights and biases h12h2\n",
        "                self.drop2 = nn.Dropout(0.5) # Adding dropout layer\n",
        "                \n",
        "                self.h22h3 = nn.Linear(hidden_size2, hidden_size3) # initialises weights and biases h22h3\n",
        "                self.drop3 = nn.Dropout(0.5) # Adding dropout layer\n",
        "                \n",
        "                self.h32o = nn.Linear(hidden_size3, output_size) # initialises weights and biases h32o\n",
        "\n",
        "            def forward(self, x):\n",
        "                x = torch.sigmoid(self.i2h1(x)) # sigmoid activation @ hidden layer\n",
        "                x = torch.sigmoid(self.h12h2(x)) # sigmoid activation @ hidden layer\n",
        "                x = torch.sigmoid(self.h22h3(x)) # sigmoid activation @ hidden layer\n",
        "                x = torch.sigmoid(self.h32o(x)) # sigmoid activation @ output layer\n",
        "                return x\n",
        "\n",
        "        num_of_input = VOCAB_SIZE # Bag word restriction has to be equal to vocabulary\n",
        "        num_of_hidden1 = 30\n",
        "        num_of_hidden2 = 20\n",
        "        num_of_hidden3 = 10\n",
        "        num_of_output = 1 # binary sentiment classes (+ve, -ve)\n",
        "\n",
        "        bow = BOWClassifier(num_of_input, num_of_hidden1, num_of_hidden2, num_of_hidden3, num_of_output).to('cuda:0') # initialises weights and biases\n",
        "        \n",
        "    # define a loss function and an optimizer\n",
        "    loss_function = nn.BCELoss()\n",
        "    if(activation == 'sigmoid'):\n",
        "        opt = torch.optim.SGD(bow.parameters(), lr = 0.001) ## sigmoid activation converges slowly\n",
        "    else:\n",
        "        opt = torch.optim.SGD(bow.parameters(), lr = 0.0001)\n",
        "\n",
        "    gc.collect()\n",
        "\n",
        "    # Train The Model\n",
        "    epochs = 100\n",
        "    # the training loop\n",
        "    total_time = 0.0\n",
        "    prev_val_loss = float('inf')\n",
        "    val_loss = 0\n",
        "    early_stop_bow = 0\n",
        "\n",
        "    for e in range(epochs):\n",
        "        tic = time.time() # start the timer\n",
        "        correct = 0\n",
        "        cumulative_loss = 0\n",
        "        incorrect = 0\n",
        "\n",
        "        for i, instance in enumerate(train_data): # train_text_reviews \n",
        "            # get the training data\n",
        "            label = train_text_labels[i] # get the label of the corresponding instace\n",
        "            label = Variable(torch.FloatTensor([label])).resize_((1,1)).to('cuda:0') # wraps a tensor for label\n",
        "\n",
        "            bow.zero_grad() # reset the gradient for each instance\n",
        "\n",
        "            pred = bow.forward(instance)\n",
        "\n",
        "            loss = loss_function(pred, label) # compute the loss\n",
        "            loss.backward() # backprop the loss\n",
        "            opt.step() # performs parameter updation based on the current gradient\n",
        "\n",
        "            cumulative_loss += float(loss.item()) # accumulate the loss over whole training sample\n",
        "\n",
        "            pred_class = 1 if pred.item() > 0.5 else 0 # as sigmoid activated\n",
        "            if(int(label) == pred_class): # counting correct prediction in each epoch\n",
        "                correct += 1\n",
        "\n",
        "        train_loss = float(cumulative_loss)/num_train_data\n",
        "        train_accuracy = correct*float(100)/num_train_data\n",
        "\n",
        "#         val_loss, val_accuracy, p, r, f = evaluate_validation_accuracy(val_data, bow) # test val-data-set on currently trained model\n",
        "        val_loss = evaluate_validation_accuracy(val_data, bow) # test val-data-set on currently trained model\n",
        "\n",
        "        if(prev_val_loss-val_loss < 0.0): # early stop if nearly no change\n",
        "            bow = copy.deepcopy(early_stop_bow)\n",
        "            break\n",
        "\n",
        "        early_stop_bow = copy.deepcopy(bow)\n",
        "\n",
        "        prev_val_loss = val_loss\n",
        "\n",
        "        toc = time.time() # final time\n",
        "        total_time += (toc-tic)\n",
        "\n",
        "        print(\"Epoch {}/{}\\n[On Training] ==> Time: {:.2f}s, Train Loss: {:.9f}, Train Accuracy: {:.2f}%\".format(e+1, epochs, (toc-tic), train_loss, train_accuracy))\n",
        "#         print(\"[On Validation] ==> Precision: {:.3f}, Recall: {:.3f}, F-Score: {:.3f}, Val loss: {:.9f}, Val Accuracy: {:.2f}% Total Time: {:.2f}s\".format(p, r, f, val_loss, val_accuracy, total_time))\n",
        "        print(\"[On Validation] ==> Val loss: {:.9f}, Total Time: {:.2f}s\".format(val_loss, total_time))\n",
        "\n",
        "    torch.save(bow, task_name)\n",
        "    \n",
        "    print('--- AFTER TRAINING ---\\tModel: {}'.format(task_name))\n",
        "    correct = 0\n",
        "    tic = time.time()\n",
        "    for i, instance in enumerate(data_test):\n",
        "        label = test_text_labels[i] # get the label of the corresponding instace\n",
        "        label = Variable(torch.FloatTensor([label])).resize_((1,1)).to('cuda:0') # wraps a tensor for label\n",
        "\n",
        "        pred = bow.forward(instance)\n",
        "        pred_class = 1 if pred.item() > 0.5 else 0 # sigmoid activated\n",
        "\n",
        "        if(int(label) == pred_class):\n",
        "            correct += 1\n",
        "    toc = time.time()\n",
        "    print(\"[On Testing] Time: {}, Test Accuracy: {:.2f}%\".format((toc-tic), correct*100/len(data_test)))\n",
        "\n",
        "    print(\"\\n\")"
      ],
      "execution_count": 0,
      "outputs": []
    },
    {
      "metadata": {
        "id": "-gTTJ8yE1o9F",
        "colab_type": "text"
      },
      "cell_type": "markdown",
      "source": [
        "##Task-6"
      ]
    },
    {
      "metadata": {
        "id": "hmF5hYmn1ome",
        "colab_type": "code",
        "colab": {}
      },
      "cell_type": "code",
      "source": [
        ""
      ],
      "execution_count": 0,
      "outputs": []
    },
    {
      "metadata": {
        "id": "3b0G-yVN1sGe",
        "colab_type": "text"
      },
      "cell_type": "markdown",
      "source": [
        "##Task-7"
      ]
    },
    {
      "metadata": {
        "id": "aZ-uxYYw1t8z",
        "colab_type": "code",
        "colab": {}
      },
      "cell_type": "code",
      "source": [
        "task7 = [('ce', 'Task7A.mdl'), ('mse', 'Task7B.mdl'), ('hinge', 'Task7C.mdl')]"
      ],
      "execution_count": 0,
      "outputs": []
    },
    {
      "metadata": {
        "id": "jWoJ_I333ACf",
        "colab_type": "code",
        "colab": {}
      },
      "cell_type": "code",
      "source": [
        "for loss_fun, task_name in task7:\n",
        "    if(loss_fun == 'ce'):\n",
        "        class BOWClassifier(nn.Module):\n",
        "            def __init__(self, input_size, hidden_size1, hidden_size2, hidden_size3, output_size):\n",
        "                super(BOWClassifier, self).__init__()\n",
        "                SEED = 42\n",
        "                torch.manual_seed(SEED)\n",
        "                torch.cuda.manual_seed(SEED)\n",
        "                self.i2h1 = nn.Linear(input_size, hidden_size1) # initialises weights and biases i2h1\n",
        "                self.drop1 = nn.Dropout(0.5) # Adding dropout layer\n",
        "                \n",
        "                self.h12h2 = nn.Linear(hidden_size1, hidden_size2) # initialises weights and biases h12h2\n",
        "                self.drop2 = nn.Dropout(0.5) # Adding dropout layer\n",
        "                \n",
        "                self.h22h3 = nn.Linear(hidden_size2, hidden_size3) # initialises weights and biases h22h3\n",
        "                self.drop3 = nn.Dropout(0.5) # Adding dropout layer\n",
        "                \n",
        "                self.h32o = nn.Linear(hidden_size3, output_size) # initialises weights and biases h32o\n",
        "\n",
        "            def forward(self, x):\n",
        "                x = torch.relu(self.i2h1(x)) # relu activation @ hidden layer\n",
        "                x = torch.relu(self.h12h2(x)) # relu activation @ hidden layer\n",
        "                x = torch.relu(self.h22h3(x)) # relu activation @ hidden layer\n",
        "                x = torch.sigmoid(self.h32o(x)) # sigmoid activation @ output layer\n",
        "                return x\n",
        "\n",
        "        num_of_input = VOCAB_SIZE # Bag word restriction has to be equal to vocabulary\n",
        "        num_of_hidden1 = 30\n",
        "        num_of_hidden2 = 20\n",
        "        num_of_hidden3 = 10\n",
        "        num_of_output = 1 # binary sentiment classes (+ve, -ve)\n",
        "\n",
        "        bow = BOWClassifier(num_of_input, num_of_hidden1, num_of_hidden2, num_of_hidden3, num_of_output).to('cuda:0') # initialises weights and biases\n",
        "        \n",
        "        # define a loss function and \n",
        "        loss_function = nn.BCELoss()\n",
        "        \n",
        "    if(loss_fun == 'mse'):\n",
        "        class BOWClassifier(nn.Module):\n",
        "            def __init__(self, input_size, hidden_size1, hidden_size2, hidden_size3, output_size):\n",
        "                super(BOWClassifier, self).__init__()\n",
        "                SEED = 42\n",
        "                torch.manual_seed(SEED)\n",
        "                torch.cuda.manual_seed(SEED)\n",
        "                self.i2h1 = nn.Linear(input_size, hidden_size1) # initialises weights and biases i2h1\n",
        "                self.drop1 = nn.Dropout(0.5) # Adding dropout layer\n",
        "                \n",
        "                self.h12h2 = nn.Linear(hidden_size1, hidden_size2) # initialises weights and biases h12h2\n",
        "                self.drop2 = nn.Dropout(0.5) # Adding dropout layer\n",
        "                \n",
        "                self.h22h3 = nn.Linear(hidden_size2, hidden_size3) # initialises weights and biases h22h3\n",
        "                self.drop3 = nn.Dropout(0.5) # Adding dropout layer\n",
        "                \n",
        "                self.h32o = nn.Linear(hidden_size3, output_size) # initialises weights and biases h32o\n",
        "\n",
        "            def forward(self, x):\n",
        "                x = torch.relu(self.i2h1(x)) # relu activation @ hidden layer\n",
        "                x = torch.relu(self.h12h2(x)) # relu activation @ hidden layer\n",
        "                x = torch.relu(self.h22h3(x)) # relu activation @ hidden layer\n",
        "                x = torch.sigmoid(self.h32o(x)) # sigmoid activation @ output layer\n",
        "                return x\n",
        "\n",
        "        num_of_input = VOCAB_SIZE # Bag word restriction has to be equal to vocabulary\n",
        "        num_of_hidden1 = 30\n",
        "        num_of_hidden2 = 20\n",
        "        num_of_hidden3 = 10\n",
        "        num_of_output = 1 # binary sentiment classes (+ve, -ve)\n",
        "\n",
        "        bow = BOWClassifier(num_of_input, num_of_hidden1, num_of_hidden2, num_of_hidden3, num_of_output).to('cuda:0') # initialises weights and biases\n",
        "        \n",
        "        # define a loss function and \n",
        "        loss_function = nn.MSELoss()\n",
        "        \n",
        "    if(loss_fun == 'hinge'):\n",
        "        class BOWClassifier(nn.Module):\n",
        "            def __init__(self, input_size, hidden_size1, hidden_size2, hidden_size3, output_size):\n",
        "                super(BOWClassifier, self).__init__()\n",
        "                SEED = 42\n",
        "                torch.manual_seed(SEED)\n",
        "                torch.cuda.manual_seed(SEED)\n",
        "                self.i2h1 = nn.Linear(input_size, hidden_size1) # initialises weights and biases i2h1\n",
        "                self.drop1 = nn.Dropout(0.5) # Adding dropout layer\n",
        "                \n",
        "                self.h12h2 = nn.Linear(hidden_size1, hidden_size2) # initialises weights and biases h12h2\n",
        "                self.drop2 = nn.Dropout(0.5) # Adding dropout layer\n",
        "                \n",
        "                self.h22h3 = nn.Linear(hidden_size2, hidden_size3) # initialises weights and biases h22h3\n",
        "                self.drop3 = nn.Dropout(0.5) # Adding dropout layer\n",
        "                \n",
        "                self.h32o = nn.Linear(hidden_size3, output_size) # initialises weights and biases h32o\n",
        "\n",
        "            def forward(self, x):\n",
        "                x = torch.relu(self.i2h1(x)) # relu activation @ hidden layer\n",
        "                x = torch.relu(self.h12h2(x)) # relu activation @ hidden layer\n",
        "                x = torch.relu(self.h22h3(x)) # relu activation @ hidden layer\n",
        "                x = torch.sigmoid(self.h32o(x)) # sigmoid activation @ output layer\n",
        "                return x\n",
        "\n",
        "        num_of_input = VOCAB_SIZE # Bag word restriction has to be equal to vocabulary\n",
        "        num_of_hidden1 = 30\n",
        "        num_of_hidden2 = 20\n",
        "        num_of_hidden3 = 10\n",
        "        num_of_output = 1 # binary sentiment classes (+ve, -ve)\n",
        "\n",
        "        bow = BOWClassifier(num_of_input, num_of_hidden1, num_of_hidden2, num_of_hidden3, num_of_output).to('cuda:0') # initialises weights and biases\n",
        "        \n",
        "        # define a loss function and \n",
        "        loss_function = nn.HingeEmbeddingLoss()\n",
        "        \n",
        "    # define an optimizer\n",
        "    if(loss_fun == 'ce'):\n",
        "        opt = torch.optim.SGD(bow.parameters(), lr = 0.0001)\n",
        "    elif(loss_fun == 'mse'):\n",
        "        opt = torch.optim.SGD(bow.parameters(), lr = 0.0003)\n",
        "    elif(loss_fun == 'hinge'):\n",
        "        opt = torch.optim.SGD(bow.parameters(), lr = 0.01)\n",
        "    gc.collect()\n",
        "\n",
        "    # Train The Model\n",
        "    epochs = 100\n",
        "    # the training loop\n",
        "    total_time = 0.0\n",
        "    prev_val_loss = float('inf')\n",
        "    val_loss = 0\n",
        "    early_stop_bow = 0\n",
        "\n",
        "    for e in range(epochs):\n",
        "        tic = time.time() # start the timer\n",
        "        correct = 0\n",
        "        cumulative_loss = 0\n",
        "        incorrect = 0\n",
        "\n",
        "        for i, instance in enumerate(train_data): # train_text_reviews \n",
        "            # get the training data\n",
        "            label = train_text_labels[i] # get the label of the corresponding instace\n",
        "            label = Variable(torch.FloatTensor([label])).resize_((1,1)).to('cuda:0') # wraps a tensor for label\n",
        "\n",
        "            bow.zero_grad() # reset the gradient for each instance\n",
        "\n",
        "            pred = bow.forward(instance)\n",
        "\n",
        "            loss = loss_function(pred, label) # compute the loss\n",
        "            loss.backward() # backprop the loss\n",
        "            opt.step() # performs parameter updation based on the current gradient\n",
        "\n",
        "            cumulative_loss += float(loss.item()) # accumulate the loss over whole training sample\n",
        "\n",
        "            pred_class = 1 if pred.item() > 0.5 else 0 # as sigmoid activated\n",
        "            if(int(label) == pred_class): # counting correct prediction in each epoch\n",
        "                correct += 1\n",
        "\n",
        "        train_loss = float(cumulative_loss)/num_train_data\n",
        "        train_accuracy = correct*float(100)/num_train_data\n",
        "\n",
        "#         val_loss, val_accuracy, p, r, f = evaluate_validation_accuracy(val_data, bow) # test val-data-set on currently trained model\n",
        "        val_loss = evaluate_validation_accuracy(val_data, bow) # test val-data-set on currently trained model\n",
        "\n",
        "        if(prev_val_loss-val_loss < 0.0): # early stop if nearly no change\n",
        "            bow = copy.deepcopy(early_stop_bow)\n",
        "            break\n",
        "\n",
        "        early_stop_bow = copy.deepcopy(bow)\n",
        "\n",
        "        prev_val_loss = val_loss\n",
        "\n",
        "        toc = time.time() # final time\n",
        "        total_time += (toc-tic)\n",
        "\n",
        "        print(\"Epoch {}/{}\\n[On Training] ==> Time: {:.2f}s, Train Loss: {:.9f}, Train Accuracy: {:.2f}%\".format(e+1, epochs, (toc-tic), train_loss, train_accuracy))\n",
        "#         print(\"[On Validation] ==> Precision: {:.3f}, Recall: {:.3f}, F-Score: {:.3f}, Val loss: {:.9f}, Val Accuracy: {:.2f}% Total Time: {:.2f}s\".format(p, r, f, val_loss, val_accuracy, total_time))\n",
        "        print(\"[On Validation] ==> Val loss: {:.9f}, Total Time: {:.2f}s\".format(val_loss, total_time))\n",
        "\n",
        "    torch.save(bow, task_name)\n",
        "    \n",
        "    print('--- AFTER TRAINING ---\\tModel: {}'.format(task_name))\n",
        "    correct = 0\n",
        "    tic = time.time()\n",
        "    for i, instance in enumerate(data_test):\n",
        "        label = test_text_labels[i] # get the label of the corresponding instace\n",
        "        label = Variable(torch.FloatTensor([label])).resize_((1,1)).to('cuda:0') # wraps a tensor for label\n",
        "\n",
        "        pred = bow.forward(instance)\n",
        "        pred_class = 1 if pred.item() > 0.5 else 0 # sigmoid activated\n",
        "\n",
        "        if(int(label) == pred_class):\n",
        "            correct += 1\n",
        "    toc = time.time()\n",
        "    print(\"[On Testing] Time: {}, Test Accuracy: {:.2f}%\".format((toc-tic), correct*100/len(data_test)))\n",
        "\n",
        "    print(\"\\n\")"
      ],
      "execution_count": 0,
      "outputs": []
    },
    {
      "metadata": {
        "id": "FDUyFfwmXSew",
        "colab_type": "code",
        "colab": {}
      },
      "cell_type": "code",
      "source": [
        "# import matplotlib.pyplot as plt\n",
        "# plt.figure(\"Image\")\n",
        "# plt.title(\"Loss vs Epoch\")\n",
        "# val_loss_history_plt =  [float(i)/sum(val_loss_history) for i in val_loss_history] # normalised between 0-1\n",
        "# train_loss_history_plt =  [float(i)/sum(train_loss_history) for i in train_loss_history] # normalised between 0-1\n",
        "# f_score_plt = [float(i)/sum(f_score) for i in f_score] # normalised between 0-1\n",
        "# plt.plot(val_loss_history_plt, c=\"red\", label=\"Validation Loss\")\n",
        "# plt.plot(train_loss_history_plt, c=\"blue\", label = \"Training Loss\")\n",
        "# plt.plot(f_score_plt, c=\"green\", label = \"F-Score\")\n",
        "# plt.legend()"
      ],
      "execution_count": 0,
      "outputs": []
    },
    {
      "metadata": {
        "id": "Zz5PwYjVudEk",
        "colab_type": "code",
        "outputId": "b827a586-3ef1-4a92-8a95-3bbf68dabc54",
        "colab": {
          "resources": {
            "http://localhost:8080/nbextensions/google.colab/files.js": {
              "data": "Ly8gQ29weXJpZ2h0IDIwMTcgR29vZ2xlIExMQwovLwovLyBMaWNlbnNlZCB1bmRlciB0aGUgQXBhY2hlIExpY2Vuc2UsIFZlcnNpb24gMi4wICh0aGUgIkxpY2Vuc2UiKTsKLy8geW91IG1heSBub3QgdXNlIHRoaXMgZmlsZSBleGNlcHQgaW4gY29tcGxpYW5jZSB3aXRoIHRoZSBMaWNlbnNlLgovLyBZb3UgbWF5IG9idGFpbiBhIGNvcHkgb2YgdGhlIExpY2Vuc2UgYXQKLy8KLy8gICAgICBodHRwOi8vd3d3LmFwYWNoZS5vcmcvbGljZW5zZXMvTElDRU5TRS0yLjAKLy8KLy8gVW5sZXNzIHJlcXVpcmVkIGJ5IGFwcGxpY2FibGUgbGF3IG9yIGFncmVlZCB0byBpbiB3cml0aW5nLCBzb2Z0d2FyZQovLyBkaXN0cmlidXRlZCB1bmRlciB0aGUgTGljZW5zZSBpcyBkaXN0cmlidXRlZCBvbiBhbiAiQVMgSVMiIEJBU0lTLAovLyBXSVRIT1VUIFdBUlJBTlRJRVMgT1IgQ09ORElUSU9OUyBPRiBBTlkgS0lORCwgZWl0aGVyIGV4cHJlc3Mgb3IgaW1wbGllZC4KLy8gU2VlIHRoZSBMaWNlbnNlIGZvciB0aGUgc3BlY2lmaWMgbGFuZ3VhZ2UgZ292ZXJuaW5nIHBlcm1pc3Npb25zIGFuZAovLyBsaW1pdGF0aW9ucyB1bmRlciB0aGUgTGljZW5zZS4KCi8qKgogKiBAZmlsZW92ZXJ2aWV3IEhlbHBlcnMgZm9yIGdvb2dsZS5jb2xhYiBQeXRob24gbW9kdWxlLgogKi8KKGZ1bmN0aW9uKHNjb3BlKSB7CmZ1bmN0aW9uIHNwYW4odGV4dCwgc3R5bGVBdHRyaWJ1dGVzID0ge30pIHsKICBjb25zdCBlbGVtZW50ID0gZG9jdW1lbnQuY3JlYXRlRWxlbWVudCgnc3BhbicpOwogIGVsZW1lbnQudGV4dENvbnRlbnQgPSB0ZXh0OwogIGZvciAoY29uc3Qga2V5IG9mIE9iamVjdC5rZXlzKHN0eWxlQXR0cmlidXRlcykpIHsKICAgIGVsZW1lbnQuc3R5bGVba2V5XSA9IHN0eWxlQXR0cmlidXRlc1trZXldOwogIH0KICByZXR1cm4gZWxlbWVudDsKfQoKLy8gTWF4IG51bWJlciBvZiBieXRlcyB3aGljaCB3aWxsIGJlIHVwbG9hZGVkIGF0IGEgdGltZS4KY29uc3QgTUFYX1BBWUxPQURfU0laRSA9IDEwMCAqIDEwMjQ7Ci8vIE1heCBhbW91bnQgb2YgdGltZSB0byBibG9jayB3YWl0aW5nIGZvciB0aGUgdXNlci4KY29uc3QgRklMRV9DSEFOR0VfVElNRU9VVF9NUyA9IDMwICogMTAwMDsKCmZ1bmN0aW9uIF91cGxvYWRGaWxlcyhpbnB1dElkLCBvdXRwdXRJZCkgewogIGNvbnN0IHN0ZXBzID0gdXBsb2FkRmlsZXNTdGVwKGlucHV0SWQsIG91dHB1dElkKTsKICBjb25zdCBvdXRwdXRFbGVtZW50ID0gZG9jdW1lbnQuZ2V0RWxlbWVudEJ5SWQob3V0cHV0SWQpOwogIC8vIENhY2hlIHN0ZXBzIG9uIHRoZSBvdXRwdXRFbGVtZW50IHRvIG1ha2UgaXQgYXZhaWxhYmxlIGZvciB0aGUgbmV4dCBjYWxsCiAgLy8gdG8gdXBsb2FkRmlsZXNDb250aW51ZSBmcm9tIFB5dGhvbi4KICBvdXRwdXRFbGVtZW50LnN0ZXBzID0gc3RlcHM7CgogIHJldHVybiBfdXBsb2FkRmlsZXNDb250aW51ZShvdXRwdXRJZCk7Cn0KCi8vIFRoaXMgaXMgcm91Z2hseSBhbiBhc3luYyBnZW5lcmF0b3IgKG5vdCBzdXBwb3J0ZWQgaW4gdGhlIGJyb3dzZXIgeWV0KSwKLy8gd2hlcmUgdGhlcmUgYXJlIG11bHRpcGxlIGFzeW5jaHJvbm91cyBzdGVwcyBhbmQgdGhlIFB5dGhvbiBzaWRlIGlzIGdvaW5nCi8vIHRvIHBvbGwgZm9yIGNvbXBsZXRpb24gb2YgZWFjaCBzdGVwLgovLyBUaGlzIHVzZXMgYSBQcm9taXNlIHRvIGJsb2NrIHRoZSBweXRob24gc2lkZSBvbiBjb21wbGV0aW9uIG9mIGVhY2ggc3RlcCwKLy8gdGhlbiBwYXNzZXMgdGhlIHJlc3VsdCBvZiB0aGUgcHJldmlvdXMgc3RlcCBhcyB0aGUgaW5wdXQgdG8gdGhlIG5leHQgc3RlcC4KZnVuY3Rpb24gX3VwbG9hZEZpbGVzQ29udGludWUob3V0cHV0SWQpIHsKICBjb25zdCBvdXRwdXRFbGVtZW50ID0gZG9jdW1lbnQuZ2V0RWxlbWVudEJ5SWQob3V0cHV0SWQpOwogIGNvbnN0IHN0ZXBzID0gb3V0cHV0RWxlbWVudC5zdGVwczsKCiAgY29uc3QgbmV4dCA9IHN0ZXBzLm5leHQob3V0cHV0RWxlbWVudC5sYXN0UHJvbWlzZVZhbHVlKTsKICByZXR1cm4gUHJvbWlzZS5yZXNvbHZlKG5leHQudmFsdWUucHJvbWlzZSkudGhlbigodmFsdWUpID0+IHsKICAgIC8vIENhY2hlIHRoZSBsYXN0IHByb21pc2UgdmFsdWUgdG8gbWFrZSBpdCBhdmFpbGFibGUgdG8gdGhlIG5leHQKICAgIC8vIHN0ZXAgb2YgdGhlIGdlbmVyYXRvci4KICAgIG91dHB1dEVsZW1lbnQubGFzdFByb21pc2VWYWx1ZSA9IHZhbHVlOwogICAgcmV0dXJuIG5leHQudmFsdWUucmVzcG9uc2U7CiAgfSk7Cn0KCi8qKgogKiBHZW5lcmF0b3IgZnVuY3Rpb24gd2hpY2ggaXMgY2FsbGVkIGJldHdlZW4gZWFjaCBhc3luYyBzdGVwIG9mIHRoZSB1cGxvYWQKICogcHJvY2Vzcy4KICogQHBhcmFtIHtzdHJpbmd9IGlucHV0SWQgRWxlbWVudCBJRCBvZiB0aGUgaW5wdXQgZmlsZSBwaWNrZXIgZWxlbWVudC4KICogQHBhcmFtIHtzdHJpbmd9IG91dHB1dElkIEVsZW1lbnQgSUQgb2YgdGhlIG91dHB1dCBkaXNwbGF5LgogKiBAcmV0dXJuIHshSXRlcmFibGU8IU9iamVjdD59IEl0ZXJhYmxlIG9mIG5leHQgc3RlcHMuCiAqLwpmdW5jdGlvbiogdXBsb2FkRmlsZXNTdGVwKGlucHV0SWQsIG91dHB1dElkKSB7CiAgY29uc3QgaW5wdXRFbGVtZW50ID0gZG9jdW1lbnQuZ2V0RWxlbWVudEJ5SWQoaW5wdXRJZCk7CiAgaW5wdXRFbGVtZW50LmRpc2FibGVkID0gZmFsc2U7CgogIGNvbnN0IG91dHB1dEVsZW1lbnQgPSBkb2N1bWVudC5nZXRFbGVtZW50QnlJZChvdXRwdXRJZCk7CiAgb3V0cHV0RWxlbWVudC5pbm5lckhUTUwgPSAnJzsKCiAgY29uc3QgcGlja2VkUHJvbWlzZSA9IG5ldyBQcm9taXNlKChyZXNvbHZlKSA9PiB7CiAgICBpbnB1dEVsZW1lbnQuYWRkRXZlbnRMaXN0ZW5lcignY2hhbmdlJywgKGUpID0+IHsKICAgICAgcmVzb2x2ZShlLnRhcmdldC5maWxlcyk7CiAgICB9KTsKICB9KTsKCiAgY29uc3QgY2FuY2VsID0gZG9jdW1lbnQuY3JlYXRlRWxlbWVudCgnYnV0dG9uJyk7CiAgaW5wdXRFbGVtZW50LnBhcmVudEVsZW1lbnQuYXBwZW5kQ2hpbGQoY2FuY2VsKTsKICBjYW5jZWwudGV4dENvbnRlbnQgPSAnQ2FuY2VsIHVwbG9hZCc7CiAgY29uc3QgY2FuY2VsUHJvbWlzZSA9IG5ldyBQcm9taXNlKChyZXNvbHZlKSA9PiB7CiAgICBjYW5jZWwub25jbGljayA9ICgpID0+IHsKICAgICAgcmVzb2x2ZShudWxsKTsKICAgIH07CiAgfSk7CgogIC8vIENhbmNlbCB1cGxvYWQgaWYgdXNlciBoYXNuJ3QgcGlja2VkIGFueXRoaW5nIGluIHRpbWVvdXQuCiAgY29uc3QgdGltZW91dFByb21pc2UgPSBuZXcgUHJvbWlzZSgocmVzb2x2ZSkgPT4gewogICAgc2V0VGltZW91dCgoKSA9PiB7CiAgICAgIHJlc29sdmUobnVsbCk7CiAgICB9LCBGSUxFX0NIQU5HRV9USU1FT1VUX01TKTsKICB9KTsKCiAgLy8gV2FpdCBmb3IgdGhlIHVzZXIgdG8gcGljayB0aGUgZmlsZXMuCiAgY29uc3QgZmlsZXMgPSB5aWVsZCB7CiAgICBwcm9taXNlOiBQcm9taXNlLnJhY2UoW3BpY2tlZFByb21pc2UsIHRpbWVvdXRQcm9taXNlLCBjYW5jZWxQcm9taXNlXSksCiAgICByZXNwb25zZTogewogICAgICBhY3Rpb246ICdzdGFydGluZycsCiAgICB9CiAgfTsKCiAgaWYgKCFmaWxlcykgewogICAgcmV0dXJuIHsKICAgICAgcmVzcG9uc2U6IHsKICAgICAgICBhY3Rpb246ICdjb21wbGV0ZScsCiAgICAgIH0KICAgIH07CiAgfQoKICBjYW5jZWwucmVtb3ZlKCk7CgogIC8vIERpc2FibGUgdGhlIGlucHV0IGVsZW1lbnQgc2luY2UgZnVydGhlciBwaWNrcyBhcmUgbm90IGFsbG93ZWQuCiAgaW5wdXRFbGVtZW50LmRpc2FibGVkID0gdHJ1ZTsKCiAgZm9yIChjb25zdCBmaWxlIG9mIGZpbGVzKSB7CiAgICBjb25zdCBsaSA9IGRvY3VtZW50LmNyZWF0ZUVsZW1lbnQoJ2xpJyk7CiAgICBsaS5hcHBlbmQoc3BhbihmaWxlLm5hbWUsIHtmb250V2VpZ2h0OiAnYm9sZCd9KSk7CiAgICBsaS5hcHBlbmQoc3BhbigKICAgICAgICBgKCR7ZmlsZS50eXBlIHx8ICduL2EnfSkgLSAke2ZpbGUuc2l6ZX0gYnl0ZXMsIGAgKwogICAgICAgIGBsYXN0IG1vZGlmaWVkOiAkewogICAgICAgICAgICBmaWxlLmxhc3RNb2RpZmllZERhdGUgPyBmaWxlLmxhc3RNb2RpZmllZERhdGUudG9Mb2NhbGVEYXRlU3RyaW5nKCkgOgogICAgICAgICAgICAgICAgICAgICAgICAgICAgICAgICAgICAnbi9hJ30gLSBgKSk7CiAgICBjb25zdCBwZXJjZW50ID0gc3BhbignMCUgZG9uZScpOwogICAgbGkuYXBwZW5kQ2hpbGQocGVyY2VudCk7CgogICAgb3V0cHV0RWxlbWVudC5hcHBlbmRDaGlsZChsaSk7CgogICAgY29uc3QgZmlsZURhdGFQcm9taXNlID0gbmV3IFByb21pc2UoKHJlc29sdmUpID0+IHsKICAgICAgY29uc3QgcmVhZGVyID0gbmV3IEZpbGVSZWFkZXIoKTsKICAgICAgcmVhZGVyLm9ubG9hZCA9IChlKSA9PiB7CiAgICAgICAgcmVzb2x2ZShlLnRhcmdldC5yZXN1bHQpOwogICAgICB9OwogICAgICByZWFkZXIucmVhZEFzQXJyYXlCdWZmZXIoZmlsZSk7CiAgICB9KTsKICAgIC8vIFdhaXQgZm9yIHRoZSBkYXRhIHRvIGJlIHJlYWR5LgogICAgbGV0IGZpbGVEYXRhID0geWllbGQgewogICAgICBwcm9taXNlOiBmaWxlRGF0YVByb21pc2UsCiAgICAgIHJlc3BvbnNlOiB7CiAgICAgICAgYWN0aW9uOiAnY29udGludWUnLAogICAgICB9CiAgICB9OwoKICAgIC8vIFVzZSBhIGNodW5rZWQgc2VuZGluZyB0byBhdm9pZCBtZXNzYWdlIHNpemUgbGltaXRzLiBTZWUgYi82MjExNTY2MC4KICAgIGxldCBwb3NpdGlvbiA9IDA7CiAgICB3aGlsZSAocG9zaXRpb24gPCBmaWxlRGF0YS5ieXRlTGVuZ3RoKSB7CiAgICAgIGNvbnN0IGxlbmd0aCA9IE1hdGgubWluKGZpbGVEYXRhLmJ5dGVMZW5ndGggLSBwb3NpdGlvbiwgTUFYX1BBWUxPQURfU0laRSk7CiAgICAgIGNvbnN0IGNodW5rID0gbmV3IFVpbnQ4QXJyYXkoZmlsZURhdGEsIHBvc2l0aW9uLCBsZW5ndGgpOwogICAgICBwb3NpdGlvbiArPSBsZW5ndGg7CgogICAgICBjb25zdCBiYXNlNjQgPSBidG9hKFN0cmluZy5mcm9tQ2hhckNvZGUuYXBwbHkobnVsbCwgY2h1bmspKTsKICAgICAgeWllbGQgewogICAgICAgIHJlc3BvbnNlOiB7CiAgICAgICAgICBhY3Rpb246ICdhcHBlbmQnLAogICAgICAgICAgZmlsZTogZmlsZS5uYW1lLAogICAgICAgICAgZGF0YTogYmFzZTY0LAogICAgICAgIH0sCiAgICAgIH07CiAgICAgIHBlcmNlbnQudGV4dENvbnRlbnQgPQogICAgICAgICAgYCR7TWF0aC5yb3VuZCgocG9zaXRpb24gLyBmaWxlRGF0YS5ieXRlTGVuZ3RoKSAqIDEwMCl9JSBkb25lYDsKICAgIH0KICB9CgogIC8vIEFsbCBkb25lLgogIHlpZWxkIHsKICAgIHJlc3BvbnNlOiB7CiAgICAgIGFjdGlvbjogJ2NvbXBsZXRlJywKICAgIH0KICB9Owp9CgpzY29wZS5nb29nbGUgPSBzY29wZS5nb29nbGUgfHwge307CnNjb3BlLmdvb2dsZS5jb2xhYiA9IHNjb3BlLmdvb2dsZS5jb2xhYiB8fCB7fTsKc2NvcGUuZ29vZ2xlLmNvbGFiLl9maWxlcyA9IHsKICBfdXBsb2FkRmlsZXMsCiAgX3VwbG9hZEZpbGVzQ29udGludWUsCn07Cn0pKHNlbGYpOwo=",
              "ok": true,
              "headers": [
                [
                  "content-type",
                  "application/javascript"
                ]
              ],
              "status": 200,
              "status_text": ""
            }
          },
          "base_uri": "https://localhost:8080/",
          "height": 74
        }
      },
      "cell_type": "code",
      "source": [
        "from google.colab import files\n",
        "temp_test = files.upload()"
      ],
      "execution_count": 0,
      "outputs": [
        {
          "output_type": "display_data",
          "data": {
            "text/html": [
              "\n",
              "     <input type=\"file\" id=\"files-7063ed6b-ee9a-4382-bd21-300e434055d5\" name=\"files[]\" multiple disabled />\n",
              "     <output id=\"result-7063ed6b-ee9a-4382-bd21-300e434055d5\">\n",
              "      Upload widget is only available when the cell has been executed in the\n",
              "      current browser session. Please rerun this cell to enable.\n",
              "      </output>\n",
              "      <script src=\"/nbextensions/google.colab/files.js\"></script> "
            ],
            "text/plain": [
              "<IPython.core.display.HTML object>"
            ]
          },
          "metadata": {
            "tags": []
          }
        },
        {
          "output_type": "stream",
          "text": [
            "Saving Task3A.mdl to Task3A.mdl\n"
          ],
          "name": "stdout"
        }
      ]
    },
    {
      "metadata": {
        "id": "29twCfxpuc8r",
        "colab_type": "code",
        "colab": {}
      },
      "cell_type": "code",
      "source": [
        "# _model_ = torch.load(io.BytesIO(temp_test['Task2C.mdl']))\n",
        "_model_ = torch.load('Task5C.mdl')"
      ],
      "execution_count": 0,
      "outputs": []
    },
    {
      "metadata": {
        "id": "Ixy30WkrH3_-",
        "colab_type": "code",
        "colab": {}
      },
      "cell_type": "code",
      "source": [
        "# for params in _model_.parameters():\n",
        "#     print (params)"
      ],
      "execution_count": 0,
      "outputs": []
    },
    {
      "metadata": {
        "id": "ffYv5PAmjyp-",
        "colab_type": "code",
        "outputId": "12c75d6c-19bc-40e1-b61c-751576ec467b",
        "colab": {
          "base_uri": "https://localhost:8080/",
          "height": 51
        }
      },
      "cell_type": "code",
      "source": [
        "print('--- AFTER TRAINING ---')\n",
        "correct = 0\n",
        "tic = time.time()\n",
        "for i, instance in enumerate(data_test):\n",
        "    label = test_text_labels[i] # get the label of the corresponding instace\n",
        "    label = Variable(torch.FloatTensor([label])).resize_((1,1)).to('cuda:0') # wraps a tensor for label\n",
        "    \n",
        "    pred = _model_.forward(instance)\n",
        "    pred_class = 1 if pred.item() > 0.5 else 0 # sigmoid activated\n",
        "    \n",
        "    if(int(label) == pred_class):\n",
        "        correct += 1\n",
        "toc = time.time()\n",
        "print(\"Time: {}, Test Accuracy: {:.2f}%\".format((toc-tic), correct*100/len(data_test)))"
      ],
      "execution_count": 59,
      "outputs": [
        {
          "output_type": "stream",
          "text": [
            "--- AFTER TRAINING ---\n",
            "Time: 2.400538921356201, Test Accuracy: 87.58%\n"
          ],
          "name": "stdout"
        }
      ]
    },
    {
      "metadata": {
        "id": "hBL6jT8ReP6p",
        "colab_type": "code",
        "colab": {}
      },
      "cell_type": "code",
      "source": [
        "# predict on test dataset\n",
        "# with open(\"Task1A.csv\", \"wb\") as _f:\n",
        "#     writer = csv.writer(_f)\n",
        "#     writer.writerows(a)"
      ],
      "execution_count": 0,
      "outputs": []
    },
    {
      "metadata": {
        "id": "0VkVoMzMUdeh",
        "colab_type": "code",
        "colab": {}
      },
      "cell_type": "code",
      "source": [
        "np.save('vocab.npy', word_to_ix)\n",
        "\n",
        "from google.colab import files\n",
        "files.download(\"vocab.npy\")"
      ],
      "execution_count": 0,
      "outputs": []
    },
    {
      "metadata": {
        "id": "Ub0HKgL8H37z",
        "colab_type": "code",
        "colab": {}
      },
      "cell_type": "code",
      "source": [
        ""
      ],
      "execution_count": 0,
      "outputs": []
    },
    {
      "metadata": {
        "id": "lCraW41hH32S",
        "colab_type": "code",
        "colab": {}
      },
      "cell_type": "code",
      "source": [
        ""
      ],
      "execution_count": 0,
      "outputs": []
    },
    {
      "metadata": {
        "id": "mhftDt1DH3x6",
        "colab_type": "code",
        "colab": {}
      },
      "cell_type": "code",
      "source": [
        ""
      ],
      "execution_count": 0,
      "outputs": []
    },
    {
      "metadata": {
        "id": "kE_TcX1KH3tQ",
        "colab_type": "code",
        "colab": {}
      },
      "cell_type": "code",
      "source": [
        ""
      ],
      "execution_count": 0,
      "outputs": []
    },
    {
      "metadata": {
        "id": "T60wqxmoH3Zl",
        "colab_type": "code",
        "colab": {}
      },
      "cell_type": "code",
      "source": [
        ""
      ],
      "execution_count": 0,
      "outputs": []
    }
  ]
}
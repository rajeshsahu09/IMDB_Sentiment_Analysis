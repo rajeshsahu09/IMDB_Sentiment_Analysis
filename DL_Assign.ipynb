{
  "nbformat": 4,
  "nbformat_minor": 0,
  "metadata": {
    "colab": {
      "name": "DL_Assign.ipynb",
      "version": "0.3.2",
      "provenance": [],
      "collapsed_sections": [],
      "toc_visible": true,
      "include_colab_link": true
    },
    "kernelspec": {
      "name": "python3",
      "display_name": "Python 3"
    },
    "accelerator": "GPU"
  },
  "cells": [
    {
      "cell_type": "markdown",
      "metadata": {
        "id": "view-in-github",
        "colab_type": "text"
      },
      "source": [
        "<a href=\"https://colab.research.google.com/github/rajeshsahu09/CS69002_9A_18CS60R19/blob/master/DL_Assign.ipynb\" target=\"_parent\"><img src=\"https://colab.research.google.com/assets/colab-badge.svg\" alt=\"Open In Colab\"/></a>"
      ]
    },
    {
      "metadata": {
        "id": "wuB0HM37teAc",
        "colab_type": "text"
      },
      "cell_type": "markdown",
      "source": [
        "# Movie Review Sentiment Analysis"
      ]
    },
    {
      "metadata": {
        "id": "rKlXTA5zfx20",
        "colab_type": "text"
      },
      "cell_type": "markdown",
      "source": [
        "# Run on **GPU**\n",
        "\n"
      ]
    },
    {
      "metadata": {
        "id": "_NV6CE-qtvGO",
        "colab_type": "text"
      },
      "cell_type": "markdown",
      "source": [
        "### Import Header Files"
      ]
    },
    {
      "metadata": {
        "id": "WE7OEcPOtzJf",
        "colab_type": "code",
        "colab": {}
      },
      "cell_type": "code",
      "source": [
        "import torch\n",
        "import pandas as pd\n",
        "import numpy as np\n",
        "import io"
      ],
      "execution_count": 0,
      "outputs": []
    },
    {
      "metadata": {
        "id": "v4037ccUuFFp",
        "colab_type": "text"
      },
      "cell_type": "markdown",
      "source": [
        "### Load the Dataset and Visualise"
      ]
    },
    {
      "metadata": {
        "id": "EhWFepP2t3eA",
        "colab_type": "code",
        "colab": {}
      },
      "cell_type": "code",
      "source": [
        "# from google.colab import files\n",
        "# uploaded = files.upload()\n",
        "\n",
        "# import io\n",
        "# df_train = pd.read_csv(io.StringIO(uploaded['Train_20K.csv'].decode('utf-8')), sep='\\t')\n",
        "# df_train.head()\n",
        "url = \"https://raw.githubusercontent.com/binny-mathew/IITKGP_CS69002_Spring_2019/master/Dataset/Train_20K.csv\"\n",
        "df = pd.read_csv(url, sep='\\t')"
      ],
      "execution_count": 0,
      "outputs": []
    },
    {
      "metadata": {
        "id": "mvAXyCoDaR3b",
        "colab_type": "code",
        "colab": {
          "base_uri": "https://localhost:8080/",
          "height": 34
        },
        "outputId": "054a6205-4ae1-499e-a9f7-1a417ca2cf0a"
      },
      "cell_type": "code",
      "source": [
        "df.shape"
      ],
      "execution_count": 304,
      "outputs": [
        {
          "output_type": "execute_result",
          "data": {
            "text/plain": [
              "(17999, 2)"
            ]
          },
          "metadata": {
            "tags": []
          },
          "execution_count": 304
        }
      ]
    },
    {
      "metadata": {
        "id": "44YtF48vX24a",
        "colab_type": "code",
        "colab": {}
      },
      "cell_type": "code",
      "source": [
        "df_1 = df[df['label']==1] # get only label == 1\n",
        "df_0 = df[df['label']==0] # get only label == 0\n",
        "\n",
        "range_1 = int(0.8*len(df_1))\n",
        "range_2 = int(0.8*len(df_0))\n",
        "\n",
        "np.random.seed(42) # fix the seed value\n",
        "df_1 = df_1.iloc[np.random.permutation(len(df_1))] # shuffled the data set of label==1\n",
        "df_0 = df_0.iloc[np.random.permutation(len(df_0))] # shuffled the data set of label==0\n",
        "\n",
        "temp_1_train = df_1.iloc[:range_1]\n",
        "temp_2_train = df_0.iloc[:range_2]\n",
        "df_train = pd.concat([temp_1_train, temp_2_train])\n",
        "\n",
        "temp_1_val = df_1.iloc[range_1:]\n",
        "temp_2_val = df_0.iloc[range_2:]\n",
        "df_val = pd.concat([temp_1_val, temp_2_val])\n"
      ],
      "execution_count": 0,
      "outputs": []
    },
    {
      "metadata": {
        "id": "T9FBTqABuRlO",
        "colab_type": "code",
        "colab": {
          "base_uri": "https://localhost:8080/",
          "height": 34
        },
        "outputId": "0fccbcc1-6164-4dd8-c167-27e2e7c6293f"
      },
      "cell_type": "code",
      "source": [
        "df_train = df_train.iloc[np.random.permutation(len(df_train))] # shuffled the data set of label==1\n",
        "df_val = df_val.iloc[np.random.permutation(len(df_val))] # shuffled the data set of label==1\n",
        "len(df_train), len(df_val)"
      ],
      "execution_count": 306,
      "outputs": [
        {
          "output_type": "execute_result",
          "data": {
            "text/plain": [
              "(14399, 3600)"
            ]
          },
          "metadata": {
            "tags": []
          },
          "execution_count": 306
        }
      ]
    },
    {
      "metadata": {
        "id": "0WFB1TtsxD3F",
        "colab_type": "code",
        "outputId": "5de83ddb-1ae9-4737-e0e0-dc1658e01565",
        "colab": {
          "base_uri": "https://localhost:8080/",
          "height": 68
        }
      },
      "cell_type": "code",
      "source": [
        "print('Number of Negative movie reviews', len(df_train[df_train['label']==0]))\n",
        "print('Number of Positive movie reviews', len(df_train[df_train['label']==1]))\n",
        "print('Number of movie reviews', len(df_train['label']))"
      ],
      "execution_count": 307,
      "outputs": [
        {
          "output_type": "stream",
          "text": [
            "Number of Negative movie reviews 7195\n",
            "Number of Positive movie reviews 7204\n",
            "Number of movie reviews 14399\n"
          ],
          "name": "stdout"
        }
      ]
    },
    {
      "metadata": {
        "id": "sYtzJk8r3lm5",
        "colab_type": "code",
        "colab": {
          "base_uri": "https://localhost:8080/",
          "height": 68
        },
        "outputId": "0e26679c-cd85-4951-b505-2c86fa7166db"
      },
      "cell_type": "code",
      "source": [
        "print('Number of Negative movie reviews', len(df_val[df_val['label']==0]))\n",
        "print('Number of Positive movie reviews', len(df_val[df_val['label']==1]))\n",
        "print('Number of movie reviews', len(df_val['label']))"
      ],
      "execution_count": 308,
      "outputs": [
        {
          "output_type": "stream",
          "text": [
            "Number of Negative movie reviews 1799\n",
            "Number of Positive movie reviews 1801\n",
            "Number of movie reviews 3600\n"
          ],
          "name": "stdout"
        }
      ]
    },
    {
      "metadata": {
        "id": "uuZxOMpkQoka",
        "colab_type": "code",
        "colab": {}
      },
      "cell_type": "code",
      "source": [
        "url = \"https://raw.githubusercontent.com/binny-mathew/IITKGP_CS69002_Spring_2019/master/Dataset/Test_5K.csv\"\n",
        "df_test = pd.read_csv(url, sep='\\t')"
      ],
      "execution_count": 0,
      "outputs": []
    },
    {
      "metadata": {
        "id": "TVzhPcGGxf2-",
        "colab_type": "text"
      },
      "cell_type": "markdown",
      "source": [
        "## Data pre-processing"
      ]
    },
    {
      "metadata": {
        "id": "u-8IR64TKH0F",
        "colab_type": "text"
      },
      "cell_type": "markdown",
      "source": [
        "### Get Train Data"
      ]
    },
    {
      "metadata": {
        "id": "JprKnOXgxXkE",
        "colab_type": "code",
        "colab": {}
      },
      "cell_type": "code",
      "source": [
        "train_raw_text_reviews = df_train['text'].astype(str).tolist()\n",
        "train_text_labels = df_train['label'].astype(int).tolist()"
      ],
      "execution_count": 0,
      "outputs": []
    },
    {
      "metadata": {
        "id": "TwU4zROpKLdQ",
        "colab_type": "text"
      },
      "cell_type": "markdown",
      "source": [
        "###Get Validation Data"
      ]
    },
    {
      "metadata": {
        "id": "7TsL1ACWJ_3V",
        "colab_type": "code",
        "colab": {}
      },
      "cell_type": "code",
      "source": [
        "val_raw_text_reviews = df_val['text'].astype(str).tolist()\n",
        "val_text_labels = df_val['label'].astype(int).tolist()"
      ],
      "execution_count": 0,
      "outputs": []
    },
    {
      "metadata": {
        "id": "YixDzEnXLZN-",
        "colab_type": "text"
      },
      "cell_type": "markdown",
      "source": [
        "###Get Test Data"
      ]
    },
    {
      "metadata": {
        "id": "MQHaSpnJJ9eT",
        "colab_type": "code",
        "colab": {}
      },
      "cell_type": "code",
      "source": [
        "test_raw_text_reviews = df_test['text'].astype(str).tolist()\n",
        "test_text_labels = df_test['label'].astype(int).tolist()"
      ],
      "execution_count": 0,
      "outputs": []
    },
    {
      "metadata": {
        "id": "ui-q6WRqOrB4",
        "colab_type": "text"
      },
      "cell_type": "markdown",
      "source": [
        "#### Cleaning the raw input data"
      ]
    },
    {
      "metadata": {
        "id": "8_4b4FmShb0u",
        "colab_type": "code",
        "outputId": "7befca1b-c662-48fe-c99c-df9c91e31c49",
        "colab": {
          "base_uri": "https://localhost:8080/",
          "height": 51
        }
      },
      "cell_type": "code",
      "source": [
        "import re\n",
        "import string\n",
        "import nltk\n",
        "nltk.download(\"stopwords\")\n",
        "from nltk.corpus import stopwords\n",
        "\n",
        "# Finding stop words\n",
        "stop_words = set(stopwords.words('english'))"
      ],
      "execution_count": 313,
      "outputs": [
        {
          "output_type": "stream",
          "text": [
            "[nltk_data] Downloading package stopwords to /root/nltk_data...\n",
            "[nltk_data]   Package stopwords is already up-to-date!\n"
          ],
          "name": "stdout"
        }
      ]
    },
    {
      "metadata": {
        "id": "s3AxEhD_z1DM",
        "colab_type": "code",
        "colab": {}
      },
      "cell_type": "code",
      "source": [
        "def preprocess_document(doc):\n",
        "    # negative sense should not be eleminated + some short representation\n",
        "    CONTRACTIONS = {\"mayn't\":\"may not\", \"can't\":\"can not\", \"won't\":\"will not\", \"isn't\":\"is not\", \"amn't\":\"am not\",\\\n",
        "                  \"aren't\":\"are not\", \"wasn't\":\"was not\", \"weren't\":\"were not\", \"couldn't\":\"could not\", \\\n",
        "                  \"wouldn't\":\"would not\", \"don't\":\"do not\", \"doesn't\":\"does not\",\\\n",
        "                  \"i'll\":\"i will\", \"you'll\":\"you will\", \"they'll\":\"they will\",\\\n",
        "                  \"may've\":\"may have\", \"can've\":\"can have\", \"will've\":\"will have\", \"you've\":\"you have\", \\\n",
        "                  \"could've\":\"could have\", \"would've\":\"would have\", \"you've\":\"you have\", \"they\":\"they have\",\\\n",
        "                  \"i've\":\"i have\", \"you've\":\"you have\", \"we've\":\"we have\", \"there's\":\"there is\", \"i'm\":\"i am\",\\\n",
        "                  \"it's\":\"it is\", \"what's\":\"what is\", \"where's\":\"where is\", \"how's\":\"how is\", \"i'd\":\"i had\"}\n",
        "    punctuation = string.punctuation + \"\\n\\n\"\n",
        "    punc_replace = ''.join([' ' for s in punctuation]) # required for replacing punctuation with null ('')\n",
        "    doc_clean = doc.replace('-', ' ') # replace - with null str\n",
        "    doc_clean = (doc_clean.encode('ascii', 'ignore')).decode(\"utf-8\")\n",
        "    doc_clean = doc_clean.replace('<br />', '') # replace <br /> with ''\n",
        "    doc_clean = doc_clean.replace(\"’\", \"'\") # replace <br /> with null str\n",
        "    doc_clean = [CONTRACTIONS[word] if word in CONTRACTIONS else word for word in doc_clean.split(' ')] # replacing some common short forms\n",
        "    doc_clean = \" \".join(doc_clean) # list to sentence of strings\n",
        "    doc_clean = re.sub(r'\\W +', ' ', doc_clean) # except [a-zA-Z0-9_]\n",
        "    doc_clean = re.sub(r'\\d+', ' ', doc_clean) # remove numbers [0-9]\n",
        "    trans_table = str.maketrans(punctuation, punc_replace); # replace punctuations with ' '\n",
        "    doc_clean = ' '.join([word.translate(trans_table) for word in doc_clean.split(' ')])\n",
        "    doc_clean = doc_clean.split(' ');\n",
        "    doc_clean = [word for word in doc_clean if len(word) > 0];\n",
        "    # removing the stopwords from a sentence\n",
        "    doc_clean = [word for word in doc_clean if not word in stop_words and word != 'not' and word != 'no']\n",
        "    return doc_clean;"
      ],
      "execution_count": 0,
      "outputs": []
    },
    {
      "metadata": {
        "id": "rSNuXUopzavX",
        "colab_type": "code",
        "outputId": "9c7a66c2-eb42-4a8f-a05a-0e223b197567",
        "colab": {
          "base_uri": "https://localhost:8080/",
          "height": 71
        }
      },
      "cell_type": "code",
      "source": [
        "train_text_reviews = [preprocess_document(review.lower()) for review in train_raw_text_reviews]\n",
        "print (train_text_reviews[len(train_text_reviews)-2])\n",
        "print (train_text_labels[len(train_text_labels)-2])"
      ],
      "execution_count": 315,
      "outputs": [
        {
          "output_type": "stream",
          "text": [
            "['film', 'made', 'cast', 'home', 'town', 'remember', 'fuss', 'whole', 'hullabaloo', 'fact', 'molly', 'ringwald', 'town', 'storyline', 'essentially', 'years', 'film', 'laid', 'rest', 'without', 'finished', 'group', 'film', 'students', 'set', 'complete', 'dire', 'consequences', 'would', 'seem', 'someone', 'want', 'film', 'completed', 'storyline', 'flimsy', 'one', 'remember', 'comedy', 'therefore', 'taken', 'little', 'tounge', 'cheek', 'real', 'oomph', 'characters', 'mostly', 'transperant', 'little', 'info', 'recieve', 'care', 'seems', 'irrelevant', 'weird', 'hearing', 'kylie', 'accent', 'australian', 'nice', 'see', 'kid', 'went', 'school', 'starring', 'role', 'redeem', 'film', 'goodness', 'knows', 'makers', 'thought', 'would', 'get', 'molly', 'ringwald', 'perhaps', 'due', 'nature', 'film', 'sort', 'pays', 'homage', 'films', 'bad', 'horror', 'films', 'really', 'aussie', 'actor', 'would', 'done', 'fine', 'far', 'casting', 'concerned', 'lot', 'acting', 'seemed', 'constipated', 'kids', 'especially', 'two', 'main', 'chics', 'played', 'director', 'producer', 'looked', 'like', 'trying', 'act', 'never', 'good', 'look', 'also', 'shots', 'rough', 'feel', 'lit', 'perhaps', 'smooth', 'one', 'used', 'killer', 'lord', 'could', 'less', 'frightening', 'shock', 'factors', 'though', 'couple', 'gross', 'scenes', 'like', 'film', 'great', 'went', 'minutes', 'could', 'gone', 'less', 'perhaps', 'tightened', 'script', 'would', 'better', 'lot', 'characters', 'get', 'killed', 'real', 'build', 'getting', 'slayed', 'maybe', 'killed', 'less', 'people', 'actually', 'concentrated', 'scary', 'atmosphere', 'would', 'better', 'know', 'comedy', 'elements', 'funny', 'unbelieveable', 'funny', 'convinced', 'lm']\n",
            "0\n"
          ],
          "name": "stdout"
        }
      ]
    },
    {
      "metadata": {
        "id": "W6psZ2jxNOoP",
        "colab_type": "code",
        "outputId": "23388605-b6c4-469e-9434-9c6c3d248fce",
        "colab": {
          "base_uri": "https://localhost:8080/",
          "height": 71
        }
      },
      "cell_type": "code",
      "source": [
        "val_text_reviews = [preprocess_document(review.lower()) for review in val_raw_text_reviews]\n",
        "print (val_text_reviews[len(val_text_reviews)-2])\n",
        "print (val_text_labels[len(val_text_labels)-2])"
      ],
      "execution_count": 316,
      "outputs": [
        {
          "output_type": "stream",
          "text": [
            "['like', 'streetcar', 'named', 'desire', 'also', 'directed', 'gadg', 'stage', 'screen', 'panic', 'streets', 'depicts', 'new', 'orleans', 'major', 'claim', 'fame', 'birthplace', 'jazz', 'even', 'rate', 'mention', 'richard', 'widmark', 'seventh', 'film', 'arguably', 'went', 'long', 'way', 'establishing', 'fine', 'actor', 'really', 'rather', 'merely', 'psychotic', 'killer', 'gadg', 'appears', 'uncredited', 'small', 'role', 'morgue', 'attendant', 'film', 'rich', 'talent', 'beginning', 'jack', 'palance', 'still', 'billed', 'walter', 'jack', 'palance', 'local', 'mr', 'big', 'followed', 'side', 'kick', 'zero', 'mostel', 'barbara', 'bel', 'geddes', 'emile', 'meyer', 'tommy', 'rettig', 'plus', 'rock', 'solid', 'ever', 'reliable', 'paul', 'douglas', 'cop', 'comes', 'round', 'doc', 'widmark', 'point', 'view', 'rewarding', 'movie', 'little', 'seen', 'catch']\n",
            "1\n"
          ],
          "name": "stdout"
        }
      ]
    },
    {
      "metadata": {
        "id": "REdaGj3VNOEX",
        "colab_type": "code",
        "outputId": "a9aa0617-7587-4fe1-cc15-3aa267c1afc1",
        "colab": {
          "base_uri": "https://localhost:8080/",
          "height": 71
        }
      },
      "cell_type": "code",
      "source": [
        "test_text_reviews = [preprocess_document(review.lower()) for review in test_raw_text_reviews]\n",
        "print (test_text_reviews[len(test_text_reviews)-2])\n",
        "print (test_text_labels[len(test_text_labels)-2])"
      ],
      "execution_count": 317,
      "outputs": [
        {
          "output_type": "stream",
          "text": [
            "['shining', 'know', 'weird', 'movie', 'movie', 'everyone', 'people', 'claim', 'like', 'horror', 'films', 'always', 'say', 'shining', 'terrific', 'film', 'stanley', 'kubrick', 'classic', 'vision', 'stephen', 'king', 'horror', 'tale', 'madness', 'blood', 'incredible', 'film', 'wither', 'seen', 'heard', 'know', 'lines', 'know', 'classic', 'images', 'could', 'forget', 'jack', 'johnny', 'could', 'forget', 'work', 'play', 'make', 'jack', 'dull', 'boy', 'could', 'forget', 'chilling', 'ending', 'film', 'unforgettable', 'honestly', 'opinion', 'kubrick', 'best', 'work', 'know', 'lot', 'argument', 'department', 'lot', 'people', 'say', 'space', 'odyssey', 'clockwork', 'orange', 'even', 'dr', 'strangelove', 'film', 'pioneered', 'film', 'making', 'shining', 'perfected', 'tale', 'isolation', 'madness', 'terrifying', 'images', 'ultimate', 'ghost', 'story', 'crawl', 'underneath', 'skin', 'jack', 'torrance', 'jack', 'son', 'danny', 'jack', 'wife', 'wendy', 'arrive', 'overlook', 'hotel', 'closing', 'day', 'elderly', 'african', 'american', 'chef', 'dick', 'hallorann', 'surprises', 'danny', 'speaking', 'telepathically', 'offering', 'ice', 'cream', 'explains', 'danny', 'grandmother', 'shared', 'gift', 'called', 'communication', 'shining', 'danny', 'asks', 'anything', 'afraid', 'hotel', 'particularly', 'room', 'dick', 'tells', 'danny', 'hotel', 'certain', 'shine', 'many', 'memories', 'good', 'advises', 'stay', 'room', 'circumstances', 'danny', 'curiosity', 'room', 'finally', 'gets', 'better', 'sees', 'room', 'opened', 'danny', 'shows', 'injured', 'visibly', 'traumatized', 'jack', 'tells', 'wendy', 'loves', 'family', 'seeing', 'wendy', 'thinks', 'jack', 'abusing', 'danny', 'jack', 'wanders', 'hotel', 'gold', 'room', 'meets', 'ghostly', 'bartender', 'named', 'lloyd', 'danny', 'starts', 'calling', 'word', 'redrum', 'frantically', 'scribbling', 'walls', 'goes', 'trance', 'withdraws', 'says', 'tony', 'imaginary', 'friend', 'jack', 'sabotages', 'hotel', 'radio', 'cutting', 'communication', 'outside', 'world', 'hallorann', 'received', 'danny', 'telepathic', 'cry', 'help', 'way', 'wendy', 'discovers', 'jack', 'typing', 'endless', 'pages', 'manuscript', 'repeating', 'work', 'play', 'makes', 'jack', 'dull', 'boy', 'formatted', 'various', 'ways', 'horrified', 'jack', 'threatens', 'knocks', 'unconscious', 'baseball', 'bat', 'locking', 'storage', 'locker', 'kitchen', 'jack', 'converses', 'grady', 'door', 'locker', 'unlocks', 'releasing', 'danny', 'written', 'redrum', 'lipstick', 'door', 'wendy', 'bedroom', 'looks', 'mirror', 'sees', 'murder', 'spelled', 'backwards', 'jack', 'picks', 'axe', 'begins', 'chop', 'door', 'leading', 'family', 'living', 'quarters', 'johnny', 'jack', 'legendary', 'image', 'born', 'shining', 'one', 'films', 'seriously', 'make', 'time', 'see', 'incredible', 'film', 'still', 'gives', 'nightmares', 'jack', 'nicholson', 'performance', 'timeless', 'unforgettable', 'one', 'also', 'feel', 'extremely', 'overlooked', 'shelley', 'duvall', 'scene', 'finding', 'jack', 'rant', 'work', 'incredible', 'look', 'horror', 'see', 'fear', 'face', 'realizing', 'husband', 'mad', 'also', 'another', 'incredible', 'scene', 'jack', 'sees', 'ghost', 'woman', 'bathtub', 'honestly', 'one', 'terrifying', 'scenes', 'horror', 'cinema', 'reason', 'film', 'well', 'known', 'film', 'perfection', 'simpsons', 'shown', 'films', 'film', 'forever', 'stay', 'see', 'trust']\n",
            "1\n"
          ],
          "name": "stdout"
        }
      ]
    },
    {
      "metadata": {
        "id": "ydrqMX261kQ-",
        "colab_type": "code",
        "outputId": "7dc531c8-7ee0-45f5-e397-1f2a31f24817",
        "colab": {
          "base_uri": "https://localhost:8080/",
          "height": 34
        }
      },
      "cell_type": "code",
      "source": [
        "import gc\n",
        "gc.collect()"
      ],
      "execution_count": 318,
      "outputs": [
        {
          "output_type": "execute_result",
          "data": {
            "text/plain": [
              "572"
            ]
          },
          "metadata": {
            "tags": []
          },
          "execution_count": 318
        }
      ]
    },
    {
      "metadata": {
        "id": "xWfJK2HvwwQn",
        "colab_type": "code",
        "colab": {}
      },
      "cell_type": "code",
      "source": [
        "def build_vocabulary(sentences):\n",
        "    # Build vocabulary\n",
        "    dictWordCount = {}\n",
        "    for sent in sentences:\n",
        "        for word in sent:\n",
        "            dictWordCount[word] = 0 # initialising the dict value to zero\n",
        "    for sent in sentences:\n",
        "        for word in sent:\n",
        "            dictWordCount[word] += 1 # updating the dictionary count\n",
        "    \n",
        "    temp = dictWordCount.copy()\n",
        "    for key, val in temp.items():\n",
        "        if(dictWordCount[key] <= 3):\n",
        "            del dictWordCount[key]\n",
        "    \n",
        "    # Mapping from index to word\n",
        "    vocabulary_inv = sorted(dictWordCount, key=dictWordCount.__getitem__, reverse=True)\n",
        "    \n",
        "    # Mapping from word to index\n",
        "    vocabulary = {x: i for i, x in enumerate(vocabulary_inv)}\n",
        "    return vocabulary, vocabulary_inv"
      ],
      "execution_count": 0,
      "outputs": []
    },
    {
      "metadata": {
        "id": "MKifaS85Dkap",
        "colab_type": "text"
      },
      "cell_type": "markdown",
      "source": [
        "###Creating Tokens and Types"
      ]
    },
    {
      "metadata": {
        "id": "9cpQlJ3TytgZ",
        "colab_type": "code",
        "colab": {}
      },
      "cell_type": "code",
      "source": [
        "word_to_ix, ix_to_word = build_vocabulary(train_text_reviews+val_text_reviews+test_text_reviews)"
      ],
      "execution_count": 0,
      "outputs": []
    },
    {
      "metadata": {
        "id": "PLBgxuf0xDB9",
        "colab_type": "code",
        "colab": {
          "base_uri": "https://localhost:8080/",
          "height": 34
        },
        "outputId": "a0163fde-7095-4bd5-ce10-faa8dbbce652"
      },
      "cell_type": "code",
      "source": [
        "VOCAB_SIZE = len(word_to_ix)\n",
        "ix_to_word[word_to_ix['kick']]=='kick', word_to_ix['kick'], VOCAB_SIZE"
      ],
      "execution_count": 358,
      "outputs": [
        {
          "output_type": "execute_result",
          "data": {
            "text/plain": [
              "(True, 1829, 30941)"
            ]
          },
          "metadata": {
            "tags": []
          },
          "execution_count": 358
        }
      ]
    },
    {
      "metadata": {
        "id": "GMbWbZdr1reC",
        "colab_type": "code",
        "outputId": "9100dd20-c995-4a76-8288-64ca2491a66f",
        "colab": {
          "base_uri": "https://localhost:8080/",
          "height": 34
        }
      },
      "cell_type": "code",
      "source": [
        "gc.collect()"
      ],
      "execution_count": 324,
      "outputs": [
        {
          "output_type": "execute_result",
          "data": {
            "text/plain": [
              "403"
            ]
          },
          "metadata": {
            "tags": []
          },
          "execution_count": 324
        }
      ]
    },
    {
      "metadata": {
        "id": "yNUlKuJeNJEu",
        "colab_type": "text"
      },
      "cell_type": "markdown",
      "source": [
        "## PyTorch"
      ]
    },
    {
      "metadata": {
        "id": "SqLOymKPLPug",
        "colab_type": "code",
        "outputId": "8f4d23f7-77ab-41b3-815c-7ee78c0cf194",
        "colab": {
          "base_uri": "https://localhost:8080/",
          "height": 34
        }
      },
      "cell_type": "code",
      "source": [
        "import torch.nn as nn\n",
        "import torch.nn.functional as F\n",
        "from torch.autograd import Variable # Automatic gradients are calculated and back-propagated through the computational graph\n",
        "\n",
        "device = torch.device(\"cuda:0\" if torch.cuda.is_available() else \"cpu\")\n",
        "device"
      ],
      "execution_count": 359,
      "outputs": [
        {
          "output_type": "execute_result",
          "data": {
            "text/plain": [
              "device(type='cuda', index=0)"
            ]
          },
          "metadata": {
            "tags": []
          },
          "execution_count": 359
        }
      ]
    },
    {
      "metadata": {
        "id": "SaSwXEBh6565",
        "colab_type": "text"
      },
      "cell_type": "markdown",
      "source": [
        "##Model Definition for the BOWClassifier"
      ]
    },
    {
      "metadata": {
        "id": "PM5I4GP6lFGu",
        "colab_type": "code",
        "colab": {}
      },
      "cell_type": "code",
      "source": [
        "class BOWClassifier(nn.Module):\n",
        "    def __init__(self, input_size, hidden_size, output_size):\n",
        "        super(BOWClassifier, self).__init__()\n",
        "        SEED = 42\n",
        "        torch.manual_seed(SEED)\n",
        "        torch.cuda.manual_seed(SEED)\n",
        "        self.hidden_size = hidden_size\n",
        "        self.i2h = nn.Linear(input_size, hidden_size) # initialises weights and biases i2h\n",
        "        self.h2o = nn.Linear(hidden_size, output_size) # initialises weights and biases h2o\n",
        "#         self.i2o = nn.Linear(input_size, output_size) # initialises weights and biases i2o\n",
        "         \n",
        "    def forward(self, x):\n",
        "        x = torch.relu(self.i2h(x)) # relu activation @ hidden layer\n",
        "        x = torch.sigmoid(self.h2o(x)) # sigmoid activation @ output layer\n",
        "        return x"
      ],
      "execution_count": 0,
      "outputs": []
    },
    {
      "metadata": {
        "id": "a8MGEFG3Mmww",
        "colab_type": "text"
      },
      "cell_type": "markdown",
      "source": [
        "### Initialise Parameter and Model"
      ]
    },
    {
      "metadata": {
        "id": "MlMeX6577J9A",
        "colab_type": "code",
        "outputId": "258dba2e-7691-45d9-f79a-cd448d960c3c",
        "colab": {
          "base_uri": "https://localhost:8080/",
          "height": 51
        }
      },
      "cell_type": "code",
      "source": [
        "num_of_input = VOCAB_SIZE # Bag word restriction has to be equal to vocabulary\n",
        "num_of_hidden = 50 # vary this for assignment\n",
        "num_of_output = 1 # binary sentiment classes (+ve, -ve)\n",
        "\n",
        "bow = BOWClassifier(num_of_input, num_of_hidden, num_of_output).to('cuda:0') # initialises weights and biases\n",
        "bow.i2h, bow.h2o # desc network\n",
        "\n",
        "# bow.i2o"
      ],
      "execution_count": 405,
      "outputs": [
        {
          "output_type": "execute_result",
          "data": {
            "text/plain": [
              "(Linear(in_features=30941, out_features=50, bias=True),\n",
              " Linear(in_features=50, out_features=1, bias=True))"
            ]
          },
          "metadata": {
            "tags": []
          },
          "execution_count": 405
        }
      ]
    },
    {
      "metadata": {
        "id": "8fMMShAzMDjW",
        "colab_type": "text"
      },
      "cell_type": "markdown",
      "source": [
        "#### visualise the parameter"
      ]
    },
    {
      "metadata": {
        "id": "PRhDPFx87Ptm",
        "colab_type": "code",
        "outputId": "c998e0f6-894e-4b51-90af-795dc0db31da",
        "colab": {
          "base_uri": "https://localhost:8080/",
          "height": 476
        }
      },
      "cell_type": "code",
      "source": [
        "for param in bow.parameters(): # desc the parameter value\n",
        "    print(param,param.size())"
      ],
      "execution_count": 406,
      "outputs": [
        {
          "output_type": "stream",
          "text": [
            "Parameter containing:\n",
            "tensor([[ 0.0043,  0.0047, -0.0013,  ..., -0.0042, -0.0004, -0.0055],\n",
            "        [-0.0031,  0.0019,  0.0001,  ..., -0.0006, -0.0056,  0.0031],\n",
            "        [-0.0038, -0.0053, -0.0017,  ..., -0.0007,  0.0044,  0.0056],\n",
            "        ...,\n",
            "        [ 0.0009, -0.0011, -0.0037,  ...,  0.0040,  0.0004, -0.0002],\n",
            "        [ 0.0020,  0.0033,  0.0048,  ..., -0.0038, -0.0009,  0.0004],\n",
            "        [ 0.0004, -0.0015, -0.0051,  ...,  0.0023, -0.0001,  0.0027]],\n",
            "       device='cuda:0', requires_grad=True) torch.Size([50, 30941])\n",
            "Parameter containing:\n",
            "tensor([-0.0050,  0.0047, -0.0024,  0.0015,  0.0033,  0.0050, -0.0008, -0.0021,\n",
            "         0.0017, -0.0021,  0.0005, -0.0007, -0.0007,  0.0035, -0.0002, -0.0056,\n",
            "         0.0037,  0.0045,  0.0033, -0.0004, -0.0002,  0.0042,  0.0002, -0.0034,\n",
            "        -0.0050, -0.0027, -0.0024,  0.0010,  0.0005,  0.0055, -0.0042,  0.0007,\n",
            "        -0.0037,  0.0035, -0.0021,  0.0048,  0.0030,  0.0056, -0.0033, -0.0032,\n",
            "        -0.0050,  0.0024,  0.0027,  0.0042,  0.0056,  0.0053,  0.0031, -0.0009,\n",
            "        -0.0027,  0.0048], device='cuda:0', requires_grad=True) torch.Size([50])\n",
            "Parameter containing:\n",
            "tensor([[-0.0671,  0.0960, -0.0546,  0.1031,  0.0380,  0.0649, -0.0699, -0.0720,\n",
            "          0.1183, -0.1274,  0.0683,  0.0941, -0.1075,  0.1206,  0.1356, -0.1353,\n",
            "          0.0842, -0.1374,  0.0661, -0.0550, -0.0093, -0.1378, -0.0247,  0.0893,\n",
            "          0.0678,  0.0441,  0.1351, -0.1242,  0.0515,  0.0817,  0.0325, -0.1093,\n",
            "         -0.1132, -0.0610, -0.0209,  0.1063,  0.0614,  0.1316,  0.1052, -0.0124,\n",
            "         -0.0939, -0.1136,  0.0548,  0.0545, -0.0190, -0.1386,  0.1056,  0.1076,\n",
            "         -0.1033,  0.0996]], device='cuda:0', requires_grad=True) torch.Size([1, 50])\n",
            "Parameter containing:\n",
            "tensor([0.0331], device='cuda:0', requires_grad=True) torch.Size([1])\n"
          ],
          "name": "stdout"
        }
      ]
    },
    {
      "metadata": {
        "id": "sWqAwOAI7D54",
        "colab_type": "text"
      },
      "cell_type": "markdown",
      "source": [
        "## Generate the BOW Vectors"
      ]
    },
    {
      "metadata": {
        "id": "UZK9TAQI7Fbm",
        "colab_type": "code",
        "colab": {}
      },
      "cell_type": "code",
      "source": [
        "def make_bow_vector(sentence, word_to_ix):\n",
        "    # create a vector of zeros of vocab size = len(word_to_idx)\n",
        "    vec = torch.zeros(len(word_to_ix)).to('cuda:0') #, device=device) # make 1D vector of len = vocab size\n",
        "    for word in sentence:\n",
        "        if word not in word_to_ix:            \n",
        "#             raise ValueError('Word',word,' not present in the dictionary. Sorry!')\n",
        "            pass\n",
        "        else:\n",
        "            vec[word_to_ix[word]]+=1 # count the number of occurance of same word in a sentences\n",
        "            \n",
        "    return vec.view(1, -1)"
      ],
      "execution_count": 0,
      "outputs": []
    },
    {
      "metadata": {
        "id": "6p3T6oo_T99z",
        "colab_type": "text"
      },
      "cell_type": "markdown",
      "source": [
        "### Store in input sentences torch vector"
      ]
    },
    {
      "metadata": {
        "id": "g6Tw8pD5NW2S",
        "colab_type": "code",
        "colab": {}
      },
      "cell_type": "code",
      "source": [
        "import time"
      ],
      "execution_count": 0,
      "outputs": []
    },
    {
      "metadata": {
        "id": "W7xoiOiAyZN5",
        "colab_type": "code",
        "outputId": "875ac936-ba47-4de9-9ea9-b4e0cb96cc5a",
        "colab": {
          "base_uri": "https://localhost:8080/",
          "height": 34
        }
      },
      "cell_type": "code",
      "source": [
        "# store the bag of word vectors for each sentences and wraping to tensor of torch type\n",
        "tic = time.time()\n",
        "train_data = [Variable(make_bow_vector(instance, word_to_ix)).to('cuda:0') for instance in train_text_reviews]\n",
        "num_train_data = len(train_text_reviews)\n",
        "\n",
        "val_data = [Variable(make_bow_vector(instance, word_to_ix)).to('cuda:0') for instance in val_text_reviews]\n",
        "num_val_data = len(val_text_reviews)\n",
        "toc = time.time()\n",
        "num_train_data, num_val_data, (toc-tic)"
      ],
      "execution_count": 344,
      "outputs": [
        {
          "output_type": "execute_result",
          "data": {
            "text/plain": [
              "(14399, 3600, 89.1782169342041)"
            ]
          },
          "metadata": {
            "tags": []
          },
          "execution_count": 344
        }
      ]
    },
    {
      "metadata": {
        "id": "deO_hz8vT19u",
        "colab_type": "text"
      },
      "cell_type": "markdown",
      "source": [
        "### Validation Accuracy Computation"
      ]
    },
    {
      "metadata": {
        "id": "cStQIVFfESWM",
        "colab_type": "code",
        "colab": {}
      },
      "cell_type": "code",
      "source": [
        "def evaluate_validation_accuracy(data, net):\n",
        "    sum_loss = 0\n",
        "    \n",
        "    true_positive = 0\n",
        "    true_negative = 0\n",
        "    false_positive = 0\n",
        "    false_negative = 0\n",
        "    \n",
        "    for i, instance in enumerate(data):\n",
        "        label = val_text_labels[i] # get the label of the corresponding instace\n",
        "        label = Variable(torch.FloatTensor([label])).resize_((1,1)).to('cuda:0') # wraps a tensor for label\n",
        "        \n",
        "#         vec = Variable(make_bow_vector(instance, word_to_ix)).to('cuda:0') # wrap to tensor of torch type for instance\n",
        "        \n",
        "#         prob = net.forward(vec) # forward pass\n",
        "\n",
        "        prob = net.forward(instance)\n",
        "    \n",
        "        _class = 1 if prob.item() > 0.5 else 0 # sigmoid activated\n",
        "        \n",
        "        loss = loss_function(prob, label) # compute the loss\n",
        "        \n",
        "        sum_loss += float(loss.item())\n",
        "#         print (int(label), _class)        \n",
        "        if(int(label) == _class and _class == 1):\n",
        "            true_positive += 1\n",
        "            \n",
        "        if(int(label) == _class and _class == 0):\n",
        "            true_negative += 1\n",
        "        \n",
        "        if(_class == 1 and int(label) == 0):\n",
        "            false_positive += 1\n",
        "            \n",
        "        if(_class == 0 and int(label) == 1):\n",
        "            false_negative += 1\n",
        "    \n",
        "    \n",
        "    precision = float(true_positive) / (true_positive + false_positive)\n",
        "    recall = float(true_positive) / (true_positive + false_negative)\n",
        "    f_score = float(2)*true_positive / (2*true_positive + false_positive + false_negative)\n",
        "    \n",
        "    return float(sum_loss)/len(data), float(100)*(true_positive+true_negative)/(true_positive+true_negative+false_positive+false_negative), precision, recall, f_score"
      ],
      "execution_count": 0,
      "outputs": []
    },
    {
      "metadata": {
        "id": "nw0OYbTzBwJ8",
        "colab_type": "text"
      },
      "cell_type": "markdown",
      "source": [
        "## Define Loss function"
      ]
    },
    {
      "metadata": {
        "id": "PbQcwSIb96V9",
        "colab_type": "code",
        "colab": {}
      },
      "cell_type": "code",
      "source": [
        "# define a loss function and an optimizer\n",
        "loss_function = nn.BCELoss()\n",
        "opt = torch.optim.SGD(bow.parameters(), lr = 0.0001)#float(1)/epochs)#, momentum=0.9)"
      ],
      "execution_count": 0,
      "outputs": []
    },
    {
      "metadata": {
        "id": "dqYSLXcj11HJ",
        "colab_type": "code",
        "outputId": "d8c22a51-997f-4002-a9aa-a4b8223a8c6f",
        "colab": {
          "base_uri": "https://localhost:8080/",
          "height": 34
        }
      },
      "cell_type": "code",
      "source": [
        "gc.collect()"
      ],
      "execution_count": 394,
      "outputs": [
        {
          "output_type": "execute_result",
          "data": {
            "text/plain": [
              "857"
            ]
          },
          "metadata": {
            "tags": []
          },
          "execution_count": 394
        }
      ]
    },
    {
      "metadata": {
        "id": "tuYAAQh2F6J8",
        "colab_type": "text"
      },
      "cell_type": "markdown",
      "source": [
        "## Train the model"
      ]
    },
    {
      "metadata": {
        "id": "ad6MFVt7F5X8",
        "colab_type": "code",
        "outputId": "0548fcb3-17b8-4742-f6ed-71398235be20",
        "colab": {
          "base_uri": "https://localhost:8080/",
          "height": 5137
        }
      },
      "cell_type": "code",
      "source": [
        "import copy\n",
        "epochs = 100\n",
        "# the training loop\n",
        "total_time = 0.0\n",
        "train_epoch_history = []\n",
        "train_loss_history = []\n",
        "val_loss_history = []\n",
        "precision = []\n",
        "recall = []\n",
        "f_score = []\n",
        "prev_val_loss = 0\n",
        "flag = 1\n",
        "for e in range(epochs):\n",
        "    tic = time.time() # start the timer\n",
        "    correct = 0\n",
        "    cumulative_loss = 0\n",
        "    incorrect = 0\n",
        "    \n",
        "    for i, instance in enumerate(train_data): # train_text_reviews \n",
        "        # get the training data\n",
        "        label = train_text_labels[i] # get the label of the corresponding instace\n",
        "        label = Variable(torch.FloatTensor([label])).resize_((1,1)).to('cuda:0') # wraps a tensor for label\n",
        "        \n",
        "        bow.zero_grad() # reset the gradient for each instance\n",
        "        \n",
        "#         bow_vec = Variable(make_bow_vector(instance, word_to_ix)).to('cuda:0') # vector repesentation of input sentence\n",
        "        \n",
        "#         pred = bow.forward(bow_vec) # forward pass ==> computes predictied values (1 or 0)\n",
        "        pred = bow.forward(instance)\n",
        "    \n",
        "        loss = loss_function(pred, label) # compute the loss\n",
        "        loss.backward() # backprop the loss\n",
        "        opt.step() # performs parameter updation based on the current gradient\n",
        "        \n",
        "        cumulative_loss += float(loss.item()) # accumulate the loss over whole training sample\n",
        "        \n",
        "        pred_class = 1 if pred.item() > 0.5 else 0 # as sigmoid activated\n",
        "        if(int(label) == pred_class): # counting correct prediction in each epoch\n",
        "            correct += 1\n",
        "    \n",
        "    train_loss = float(cumulative_loss)/num_train_data\n",
        "    train_accuracy = correct*float(100)/num_train_data\n",
        "    train_epoch_history.append(e+1)\n",
        "    train_loss_history.append(train_loss)\n",
        "    \n",
        "    val_loss, val_accuracy, p, r, f = evaluate_validation_accuracy(val_data, bow) # test val-data-set on currently trained model\n",
        "    val_loss_history.append(val_loss)\n",
        "    \n",
        "    precision.append(p)\n",
        "    recall.append(r)\n",
        "    f_score.append(f)\n",
        "    \n",
        "#     if(abs(prev_val_loss-val_loss) < 0.001): # early stop if nearly no change\n",
        "#         precision.append(p)\n",
        "#         recall.append(r)\n",
        "#         f_score.append(f)\n",
        "#         stop_bow = copy.deepcopy(bow)\n",
        "#         break\n",
        "    prev_val_loss = val_loss\n",
        "    \n",
        "    toc = time.time() # final time\n",
        "    total_time += (toc-tic)\n",
        "    \n",
        "    print(\"Epoch {}/{}\\n[On Training] ==> Time: {:.2f}s, Train Loss: {:.9f}, Train Accuracy: {:.2f}%\".format(e+1, epochs, (toc-tic), train_loss, train_accuracy))\n",
        "    print(\"[On Validation] ==> Precision: {:.3f}, Recall: {:.3f}, F-Score: {:.3f}, Val loss: {:.9f}, Val Accuracy: {:.2f}% Total Time: {:.2f}s\".format(p, r, f, val_loss, val_accuracy, total_time))\n",
        "#     if(val_loss > train_loss and flag == 1):\n",
        "#         more_bow = copy.deepcopy(bow)\n",
        "#         flag = 0"
      ],
      "execution_count": 411,
      "outputs": [
        {
          "output_type": "stream",
          "text": [
            "Epoch 1/100\n",
            "[On Training] ==> Time: 26.76s, Train Loss: 0.679297373, Train Accuracy: 65.50%\n",
            "[On Validation] ==> Precision: 0.712, Recall: 0.754, F-Score: 0.732, Val loss: 0.661329080, Val Accuracy: 72.42% Total Time: 26.76s\n",
            "Epoch 2/100\n",
            "[On Training] ==> Time: 26.21s, Train Loss: 0.638872922, Train Accuracy: 75.28%\n",
            "[On Validation] ==> Precision: 0.756, Recall: 0.795, F-Score: 0.775, Val loss: 0.618102632, Val Accuracy: 76.89% Total Time: 52.97s\n",
            "Epoch 3/100\n",
            "[On Training] ==> Time: 26.20s, Train Loss: 0.592058021, Train Accuracy: 78.58%\n",
            "[On Validation] ==> Precision: 0.779, Recall: 0.817, F-Score: 0.797, Val loss: 0.571868172, Val Accuracy: 79.22% Total Time: 79.17s\n",
            "Epoch 4/100\n",
            "[On Training] ==> Time: 26.22s, Train Loss: 0.544302700, Train Accuracy: 80.90%\n",
            "[On Validation] ==> Precision: 0.790, Recall: 0.830, F-Score: 0.810, Val loss: 0.527797175, Val Accuracy: 80.47% Total Time: 105.39s\n",
            "Epoch 5/100\n",
            "[On Training] ==> Time: 26.23s, Train Loss: 0.500748941, Train Accuracy: 82.33%\n",
            "[On Validation] ==> Precision: 0.799, Recall: 0.839, F-Score: 0.819, Val loss: 0.490272140, Val Accuracy: 81.39% Total Time: 131.62s\n",
            "Epoch 6/100\n",
            "[On Training] ==> Time: 26.33s, Train Loss: 0.464012645, Train Accuracy: 83.35%\n",
            "[On Validation] ==> Precision: 0.809, Recall: 0.846, F-Score: 0.827, Val loss: 0.460231487, Val Accuracy: 82.31% Total Time: 157.95s\n",
            "Epoch 7/100\n",
            "[On Training] ==> Time: 26.33s, Train Loss: 0.433817433, Train Accuracy: 84.24%\n",
            "[On Validation] ==> Precision: 0.813, Recall: 0.853, F-Score: 0.833, Val loss: 0.436520805, Val Accuracy: 82.83% Total Time: 184.28s\n",
            "Epoch 8/100\n",
            "[On Training] ==> Time: 26.40s, Train Loss: 0.408788017, Train Accuracy: 85.01%\n",
            "[On Validation] ==> Precision: 0.821, Recall: 0.859, F-Score: 0.839, Val loss: 0.417603191, Val Accuracy: 83.56% Total Time: 210.68s\n",
            "Epoch 9/100\n",
            "[On Training] ==> Time: 26.24s, Train Loss: 0.387576039, Train Accuracy: 85.74%\n",
            "[On Validation] ==> Precision: 0.824, Recall: 0.862, F-Score: 0.843, Val loss: 0.402198262, Val Accuracy: 83.89% Total Time: 236.92s\n",
            "Epoch 10/100\n",
            "[On Training] ==> Time: 26.25s, Train Loss: 0.369172648, Train Accuracy: 86.35%\n",
            "[On Validation] ==> Precision: 0.830, Recall: 0.868, F-Score: 0.849, Val loss: 0.389405566, Val Accuracy: 84.50% Total Time: 263.16s\n",
            "Epoch 11/100\n",
            "[On Training] ==> Time: 26.27s, Train Loss: 0.352903872, Train Accuracy: 86.99%\n",
            "[On Validation] ==> Precision: 0.834, Recall: 0.870, F-Score: 0.852, Val loss: 0.378602531, Val Accuracy: 84.83% Total Time: 289.43s\n",
            "Epoch 12/100\n",
            "[On Training] ==> Time: 26.22s, Train Loss: 0.338315722, Train Accuracy: 87.57%\n",
            "[On Validation] ==> Precision: 0.838, Recall: 0.869, F-Score: 0.853, Val loss: 0.369344465, Val Accuracy: 85.06% Total Time: 315.65s\n",
            "Epoch 13/100\n",
            "[On Training] ==> Time: 26.25s, Train Loss: 0.325094583, Train Accuracy: 88.03%\n",
            "[On Validation] ==> Precision: 0.843, Recall: 0.871, F-Score: 0.857, Val loss: 0.361347500, Val Accuracy: 85.42% Total Time: 341.91s\n",
            "Epoch 14/100\n",
            "[On Training] ==> Time: 26.22s, Train Loss: 0.313028213, Train Accuracy: 88.55%\n",
            "[On Validation] ==> Precision: 0.845, Recall: 0.872, F-Score: 0.858, Val loss: 0.354399026, Val Accuracy: 85.61% Total Time: 368.13s\n",
            "Epoch 15/100\n",
            "[On Training] ==> Time: 26.24s, Train Loss: 0.301956442, Train Accuracy: 89.07%\n",
            "[On Validation] ==> Precision: 0.849, Recall: 0.873, F-Score: 0.861, Val loss: 0.348330619, Val Accuracy: 85.86% Total Time: 394.37s\n",
            "Epoch 16/100\n",
            "[On Training] ==> Time: 26.24s, Train Loss: 0.291752214, Train Accuracy: 89.43%\n",
            "[On Validation] ==> Precision: 0.855, Recall: 0.874, F-Score: 0.864, Val loss: 0.343014338, Val Accuracy: 86.25% Total Time: 420.61s\n",
            "Epoch 17/100\n",
            "[On Training] ==> Time: 26.20s, Train Loss: 0.282309884, Train Accuracy: 89.77%\n",
            "[On Validation] ==> Precision: 0.855, Recall: 0.875, F-Score: 0.865, Val loss: 0.338351696, Val Accuracy: 86.31% Total Time: 446.81s\n",
            "Epoch 18/100\n",
            "[On Training] ==> Time: 26.51s, Train Loss: 0.273542484, Train Accuracy: 90.19%\n",
            "[On Validation] ==> Precision: 0.856, Recall: 0.875, F-Score: 0.865, Val loss: 0.334255563, Val Accuracy: 86.33% Total Time: 473.32s\n",
            "Epoch 19/100\n",
            "[On Training] ==> Time: 26.23s, Train Loss: 0.265376198, Train Accuracy: 90.64%\n",
            "[On Validation] ==> Precision: 0.858, Recall: 0.876, F-Score: 0.867, Val loss: 0.330651568, Val Accuracy: 86.53% Total Time: 499.55s\n",
            "Epoch 20/100\n",
            "[On Training] ==> Time: 26.42s, Train Loss: 0.257742912, Train Accuracy: 91.02%\n",
            "[On Validation] ==> Precision: 0.861, Recall: 0.877, F-Score: 0.869, Val loss: 0.327480370, Val Accuracy: 86.75% Total Time: 525.97s\n",
            "Epoch 21/100\n",
            "[On Training] ==> Time: 26.26s, Train Loss: 0.250585763, Train Accuracy: 91.33%\n",
            "[On Validation] ==> Precision: 0.862, Recall: 0.878, F-Score: 0.870, Val loss: 0.324691086, Val Accuracy: 86.86% Total Time: 552.23s\n",
            "Epoch 22/100\n",
            "[On Training] ==> Time: 26.22s, Train Loss: 0.243853380, Train Accuracy: 91.61%\n",
            "[On Validation] ==> Precision: 0.863, Recall: 0.879, F-Score: 0.871, Val loss: 0.322234508, Val Accuracy: 86.97% Total Time: 578.46s\n",
            "Epoch 23/100\n",
            "[On Training] ==> Time: 26.22s, Train Loss: 0.237501082, Train Accuracy: 91.84%\n",
            "[On Validation] ==> Precision: 0.866, Recall: 0.880, F-Score: 0.873, Val loss: 0.320069896, Val Accuracy: 87.17% Total Time: 604.68s\n",
            "Epoch 24/100\n",
            "[On Training] ==> Time: 26.22s, Train Loss: 0.231489886, Train Accuracy: 92.10%\n",
            "[On Validation] ==> Precision: 0.865, Recall: 0.882, F-Score: 0.873, Val loss: 0.318167040, Val Accuracy: 87.22% Total Time: 630.89s\n",
            "Epoch 25/100\n",
            "[On Training] ==> Time: 26.23s, Train Loss: 0.225786321, Train Accuracy: 92.33%\n",
            "[On Validation] ==> Precision: 0.866, Recall: 0.882, F-Score: 0.874, Val loss: 0.316497965, Val Accuracy: 87.31% Total Time: 657.13s\n",
            "Epoch 26/100\n",
            "[On Training] ==> Time: 26.26s, Train Loss: 0.220361219, Train Accuracy: 92.56%\n",
            "[On Validation] ==> Precision: 0.867, Recall: 0.884, F-Score: 0.875, Val loss: 0.315039517, Val Accuracy: 87.42% Total Time: 683.38s\n",
            "Epoch 27/100\n",
            "[On Training] ==> Time: 26.25s, Train Loss: 0.215188355, Train Accuracy: 92.78%\n",
            "[On Validation] ==> Precision: 0.868, Recall: 0.885, F-Score: 0.876, Val loss: 0.313767145, Val Accuracy: 87.47% Total Time: 709.63s\n",
            "Epoch 28/100\n",
            "[On Training] ==> Time: 26.22s, Train Loss: 0.210245365, Train Accuracy: 92.98%\n",
            "[On Validation] ==> Precision: 0.872, Recall: 0.885, F-Score: 0.878, Val loss: 0.312663417, Val Accuracy: 87.72% Total Time: 735.85s\n",
            "Epoch 29/100\n",
            "[On Training] ==> Time: 26.22s, Train Loss: 0.205512924, Train Accuracy: 93.17%\n",
            "[On Validation] ==> Precision: 0.872, Recall: 0.886, F-Score: 0.879, Val loss: 0.311712320, Val Accuracy: 87.81% Total Time: 762.07s\n",
            "Epoch 30/100\n",
            "[On Training] ==> Time: 26.52s, Train Loss: 0.200973498, Train Accuracy: 93.31%\n",
            "[On Validation] ==> Precision: 0.873, Recall: 0.887, F-Score: 0.880, Val loss: 0.310899788, Val Accuracy: 87.89% Total Time: 788.59s\n",
            "Epoch 31/100\n",
            "[On Training] ==> Time: 26.21s, Train Loss: 0.196612053, Train Accuracy: 93.52%\n",
            "[On Validation] ==> Precision: 0.873, Recall: 0.888, F-Score: 0.881, Val loss: 0.310212344, Val Accuracy: 87.94% Total Time: 814.81s\n",
            "Epoch 32/100\n",
            "[On Training] ==> Time: 26.41s, Train Loss: 0.192415325, Train Accuracy: 93.69%\n",
            "[On Validation] ==> Precision: 0.874, Recall: 0.890, F-Score: 0.882, Val loss: 0.309642284, Val Accuracy: 88.08% Total Time: 841.22s\n",
            "Epoch 33/100\n",
            "[On Training] ==> Time: 26.19s, Train Loss: 0.188372243, Train Accuracy: 93.91%\n",
            "[On Validation] ==> Precision: 0.875, Recall: 0.888, F-Score: 0.882, Val loss: 0.309180433, Val Accuracy: 88.06% Total Time: 867.41s\n",
            "Epoch 34/100\n",
            "[On Training] ==> Time: 26.21s, Train Loss: 0.184472276, Train Accuracy: 94.03%\n",
            "[On Validation] ==> Precision: 0.875, Recall: 0.890, F-Score: 0.883, Val loss: 0.308819540, Val Accuracy: 88.17% Total Time: 893.63s\n",
            "Epoch 35/100\n",
            "[On Training] ==> Time: 26.19s, Train Loss: 0.180706151, Train Accuracy: 94.17%\n",
            "[On Validation] ==> Precision: 0.877, Recall: 0.891, F-Score: 0.884, Val loss: 0.308551417, Val Accuracy: 88.28% Total Time: 919.81s\n",
            "Epoch 36/100\n",
            "[On Training] ==> Time: 26.21s, Train Loss: 0.177065644, Train Accuracy: 94.34%\n",
            "[On Validation] ==> Precision: 0.875, Recall: 0.891, F-Score: 0.883, Val loss: 0.308368647, Val Accuracy: 88.17% Total Time: 946.02s\n",
            "Epoch 37/100\n",
            "[On Training] ==> Time: 26.19s, Train Loss: 0.173542993, Train Accuracy: 94.48%\n",
            "[On Validation] ==> Precision: 0.874, Recall: 0.890, F-Score: 0.882, Val loss: 0.308267432, Val Accuracy: 88.08% Total Time: 972.21s\n",
            "Epoch 38/100\n",
            "[On Training] ==> Time: 26.20s, Train Loss: 0.170131476, Train Accuracy: 94.63%\n",
            "[On Validation] ==> Precision: 0.874, Recall: 0.890, F-Score: 0.882, Val loss: 0.308240262, Val Accuracy: 88.08% Total Time: 998.41s\n",
            "Epoch 39/100\n",
            "[On Training] ==> Time: 26.21s, Train Loss: 0.166825024, Train Accuracy: 94.83%\n",
            "[On Validation] ==> Precision: 0.874, Recall: 0.889, F-Score: 0.882, Val loss: 0.308284789, Val Accuracy: 88.06% Total Time: 1024.62s\n",
            "Epoch 40/100\n",
            "[On Training] ==> Time: 26.20s, Train Loss: 0.163618183, Train Accuracy: 94.96%\n",
            "[On Validation] ==> Precision: 0.874, Recall: 0.889, F-Score: 0.882, Val loss: 0.308394902, Val Accuracy: 88.06% Total Time: 1050.82s\n",
            "Epoch 41/100\n",
            "[On Training] ==> Time: 26.24s, Train Loss: 0.160505985, Train Accuracy: 95.06%\n",
            "[On Validation] ==> Precision: 0.875, Recall: 0.889, F-Score: 0.882, Val loss: 0.308566579, Val Accuracy: 88.08% Total Time: 1077.06s\n",
            "Epoch 42/100\n",
            "[On Training] ==> Time: 26.51s, Train Loss: 0.157483689, Train Accuracy: 95.21%\n",
            "[On Validation] ==> Precision: 0.874, Recall: 0.890, F-Score: 0.882, Val loss: 0.308796396, Val Accuracy: 88.08% Total Time: 1103.57s\n",
            "Epoch 43/100\n",
            "[On Training] ==> Time: 26.41s, Train Loss: 0.154547107, Train Accuracy: 95.37%\n",
            "[On Validation] ==> Precision: 0.875, Recall: 0.890, F-Score: 0.882, Val loss: 0.309080255, Val Accuracy: 88.14% Total Time: 1129.98s\n",
            "Epoch 44/100\n",
            "[On Training] ==> Time: 26.18s, Train Loss: 0.151692116, Train Accuracy: 95.49%\n",
            "[On Validation] ==> Precision: 0.875, Recall: 0.890, F-Score: 0.882, Val loss: 0.309414810, Val Accuracy: 88.11% Total Time: 1156.16s\n",
            "Epoch 45/100\n",
            "[On Training] ==> Time: 26.22s, Train Loss: 0.148915068, Train Accuracy: 95.63%\n",
            "[On Validation] ==> Precision: 0.874, Recall: 0.889, F-Score: 0.882, Val loss: 0.309796255, Val Accuracy: 88.06% Total Time: 1182.38s\n",
            "Epoch 46/100\n",
            "[On Training] ==> Time: 26.18s, Train Loss: 0.146212468, Train Accuracy: 95.71%\n",
            "[On Validation] ==> Precision: 0.874, Recall: 0.890, F-Score: 0.882, Val loss: 0.310221073, Val Accuracy: 88.08% Total Time: 1208.56s\n",
            "Epoch 47/100\n",
            "[On Training] ==> Time: 26.16s, Train Loss: 0.143581031, Train Accuracy: 95.78%\n",
            "[On Validation] ==> Precision: 0.873, Recall: 0.891, F-Score: 0.882, Val loss: 0.310686921, Val Accuracy: 88.06% Total Time: 1234.72s\n",
            "Epoch 48/100\n",
            "[On Training] ==> Time: 26.20s, Train Loss: 0.141017880, Train Accuracy: 95.87%\n",
            "[On Validation] ==> Precision: 0.875, Recall: 0.891, F-Score: 0.883, Val loss: 0.311190352, Val Accuracy: 88.14% Total Time: 1260.92s\n",
            "Epoch 49/100\n",
            "[On Training] ==> Time: 26.19s, Train Loss: 0.138520145, Train Accuracy: 96.00%\n",
            "[On Validation] ==> Precision: 0.874, Recall: 0.890, F-Score: 0.882, Val loss: 0.311729762, Val Accuracy: 88.06% Total Time: 1287.11s\n",
            "Epoch 50/100\n",
            "[On Training] ==> Time: 26.19s, Train Loss: 0.136085344, Train Accuracy: 96.11%\n",
            "[On Validation] ==> Precision: 0.875, Recall: 0.892, F-Score: 0.883, Val loss: 0.312302100, Val Accuracy: 88.19% Total Time: 1313.29s\n",
            "Epoch 51/100\n",
            "[On Training] ==> Time: 26.17s, Train Loss: 0.133710914, Train Accuracy: 96.26%\n",
            "[On Validation] ==> Precision: 0.875, Recall: 0.892, F-Score: 0.883, Val loss: 0.312904588, Val Accuracy: 88.22% Total Time: 1339.46s\n",
            "Epoch 52/100\n",
            "[On Training] ==> Time: 26.20s, Train Loss: 0.131394590, Train Accuracy: 96.36%\n",
            "[On Validation] ==> Precision: 0.874, Recall: 0.893, F-Score: 0.883, Val loss: 0.313536126, Val Accuracy: 88.19% Total Time: 1365.66s\n",
            "Epoch 53/100\n",
            "[On Training] ==> Time: 26.19s, Train Loss: 0.129134130, Train Accuracy: 96.49%\n",
            "[On Validation] ==> Precision: 0.874, Recall: 0.893, F-Score: 0.883, Val loss: 0.314195512, Val Accuracy: 88.19% Total Time: 1391.85s\n",
            "Epoch 54/100\n",
            "[On Training] ==> Time: 26.53s, Train Loss: 0.126927579, Train Accuracy: 96.57%\n",
            "[On Validation] ==> Precision: 0.875, Recall: 0.893, F-Score: 0.884, Val loss: 0.314879142, Val Accuracy: 88.28% Total Time: 1418.37s\n",
            "Epoch 55/100\n",
            "[On Training] ==> Time: 26.40s, Train Loss: 0.124773108, Train Accuracy: 96.62%\n",
            "[On Validation] ==> Precision: 0.874, Recall: 0.895, F-Score: 0.884, Val loss: 0.315587096, Val Accuracy: 88.28% Total Time: 1444.77s\n",
            "Epoch 56/100\n",
            "[On Training] ==> Time: 26.20s, Train Loss: 0.122668817, Train Accuracy: 96.72%\n",
            "[On Validation] ==> Precision: 0.874, Recall: 0.895, F-Score: 0.884, Val loss: 0.316317065, Val Accuracy: 88.28% Total Time: 1470.97s\n",
            "Epoch 57/100\n",
            "[On Training] ==> Time: 26.20s, Train Loss: 0.120613084, Train Accuracy: 96.81%\n",
            "[On Validation] ==> Precision: 0.875, Recall: 0.895, F-Score: 0.884, Val loss: 0.317067978, Val Accuracy: 88.31% Total Time: 1497.16s\n",
            "Epoch 58/100\n",
            "[On Training] ==> Time: 26.20s, Train Loss: 0.118604452, Train Accuracy: 96.90%\n",
            "[On Validation] ==> Precision: 0.874, Recall: 0.894, F-Score: 0.884, Val loss: 0.317838886, Val Accuracy: 88.22% Total Time: 1523.36s\n",
            "Epoch 59/100\n",
            "[On Training] ==> Time: 26.21s, Train Loss: 0.116641392, Train Accuracy: 96.98%\n",
            "[On Validation] ==> Precision: 0.874, Recall: 0.893, F-Score: 0.884, Val loss: 0.318628304, Val Accuracy: 88.22% Total Time: 1549.58s\n",
            "Epoch 60/100\n",
            "[On Training] ==> Time: 26.17s, Train Loss: 0.114722430, Train Accuracy: 97.07%\n",
            "[On Validation] ==> Precision: 0.874, Recall: 0.893, F-Score: 0.884, Val loss: 0.319436472, Val Accuracy: 88.25% Total Time: 1575.75s\n",
            "Epoch 61/100\n",
            "[On Training] ==> Time: 26.14s, Train Loss: 0.112846568, Train Accuracy: 97.21%\n",
            "[On Validation] ==> Precision: 0.874, Recall: 0.893, F-Score: 0.884, Val loss: 0.320260490, Val Accuracy: 88.25% Total Time: 1601.89s\n",
            "Epoch 62/100\n",
            "[On Training] ==> Time: 26.18s, Train Loss: 0.111012556, Train Accuracy: 97.26%\n",
            "[On Validation] ==> Precision: 0.874, Recall: 0.893, F-Score: 0.883, Val loss: 0.321100089, Val Accuracy: 88.19% Total Time: 1628.07s\n",
            "Epoch 63/100\n",
            "[On Training] ==> Time: 26.19s, Train Loss: 0.109219486, Train Accuracy: 97.32%\n",
            "[On Validation] ==> Precision: 0.874, Recall: 0.893, F-Score: 0.883, Val loss: 0.321956148, Val Accuracy: 88.19% Total Time: 1654.27s\n",
            "Epoch 64/100\n",
            "[On Training] ==> Time: 26.24s, Train Loss: 0.107466255, Train Accuracy: 97.40%\n",
            "[On Validation] ==> Precision: 0.874, Recall: 0.890, F-Score: 0.882, Val loss: 0.322825972, Val Accuracy: 88.06% Total Time: 1680.51s\n",
            "Epoch 65/100\n",
            "[On Training] ==> Time: 26.16s, Train Loss: 0.105751793, Train Accuracy: 97.49%\n",
            "[On Validation] ==> Precision: 0.874, Recall: 0.891, F-Score: 0.882, Val loss: 0.323710920, Val Accuracy: 88.08% Total Time: 1706.67s\n",
            "Epoch 66/100\n",
            "[On Training] ==> Time: 26.47s, Train Loss: 0.104075409, Train Accuracy: 97.58%\n",
            "[On Validation] ==> Precision: 0.873, Recall: 0.891, F-Score: 0.882, Val loss: 0.324609001, Val Accuracy: 88.03% Total Time: 1733.14s\n",
            "Epoch 67/100\n",
            "[On Training] ==> Time: 26.40s, Train Loss: 0.102435752, Train Accuracy: 97.62%\n",
            "[On Validation] ==> Precision: 0.873, Recall: 0.891, F-Score: 0.882, Val loss: 0.325516345, Val Accuracy: 88.06% Total Time: 1759.54s\n",
            "Epoch 68/100\n",
            "[On Training] ==> Time: 26.19s, Train Loss: 0.100831526, Train Accuracy: 97.67%\n",
            "[On Validation] ==> Precision: 0.873, Recall: 0.890, F-Score: 0.881, Val loss: 0.326436538, Val Accuracy: 88.00% Total Time: 1785.73s\n",
            "Epoch 69/100\n",
            "[On Training] ==> Time: 26.23s, Train Loss: 0.099261922, Train Accuracy: 97.70%\n",
            "[On Validation] ==> Precision: 0.873, Recall: 0.889, F-Score: 0.881, Val loss: 0.327367045, Val Accuracy: 87.97% Total Time: 1811.95s\n",
            "Epoch 70/100\n",
            "[On Training] ==> Time: 26.18s, Train Loss: 0.097725976, Train Accuracy: 97.78%\n",
            "[On Validation] ==> Precision: 0.873, Recall: 0.888, F-Score: 0.881, Val loss: 0.328301827, Val Accuracy: 87.97% Total Time: 1838.13s\n",
            "Epoch 71/100\n",
            "[On Training] ==> Time: 26.21s, Train Loss: 0.096222205, Train Accuracy: 97.83%\n",
            "[On Validation] ==> Precision: 0.873, Recall: 0.889, F-Score: 0.881, Val loss: 0.329249859, Val Accuracy: 87.97% Total Time: 1864.34s\n",
            "Epoch 72/100\n",
            "[On Training] ==> Time: 26.22s, Train Loss: 0.094750187, Train Accuracy: 97.88%\n",
            "[On Validation] ==> Precision: 0.873, Recall: 0.888, F-Score: 0.881, Val loss: 0.330205498, Val Accuracy: 87.94% Total Time: 1890.56s\n",
            "Epoch 73/100\n",
            "[On Training] ==> Time: 26.24s, Train Loss: 0.093308947, Train Accuracy: 97.91%\n",
            "[On Validation] ==> Precision: 0.873, Recall: 0.889, F-Score: 0.881, Val loss: 0.331164432, Val Accuracy: 87.97% Total Time: 1916.80s\n",
            "Epoch 74/100\n",
            "[On Training] ==> Time: 26.19s, Train Loss: 0.091897275, Train Accuracy: 98.01%\n",
            "[On Validation] ==> Precision: 0.873, Recall: 0.890, F-Score: 0.881, Val loss: 0.332132887, Val Accuracy: 88.00% Total Time: 1942.99s\n",
            "Epoch 75/100\n",
            "[On Training] ==> Time: 26.21s, Train Loss: 0.090514228, Train Accuracy: 98.03%\n",
            "[On Validation] ==> Precision: 0.873, Recall: 0.890, F-Score: 0.881, Val loss: 0.333107599, Val Accuracy: 88.03% Total Time: 1969.21s\n",
            "Epoch 76/100\n",
            "[On Training] ==> Time: 26.23s, Train Loss: 0.089159492, Train Accuracy: 98.09%\n",
            "[On Validation] ==> Precision: 0.873, Recall: 0.890, F-Score: 0.881, Val loss: 0.334085990, Val Accuracy: 88.03% Total Time: 1995.43s\n",
            "Epoch 77/100\n",
            "[On Training] ==> Time: 26.29s, Train Loss: 0.087831673, Train Accuracy: 98.15%\n",
            "[On Validation] ==> Precision: 0.873, Recall: 0.890, F-Score: 0.881, Val loss: 0.335069037, Val Accuracy: 88.03% Total Time: 2021.72s\n",
            "Epoch 78/100\n",
            "[On Training] ==> Time: 26.54s, Train Loss: 0.086529938, Train Accuracy: 98.17%\n",
            "[On Validation] ==> Precision: 0.872, Recall: 0.890, F-Score: 0.881, Val loss: 0.336058138, Val Accuracy: 87.97% Total Time: 2048.27s\n",
            "Epoch 79/100\n",
            "[On Training] ==> Time: 26.21s, Train Loss: 0.085254390, Train Accuracy: 98.21%\n",
            "[On Validation] ==> Precision: 0.873, Recall: 0.890, F-Score: 0.881, Val loss: 0.337053001, Val Accuracy: 87.97% Total Time: 2074.48s\n",
            "Epoch 80/100\n",
            "[On Training] ==> Time: 26.21s, Train Loss: 0.084003299, Train Accuracy: 98.24%\n",
            "[On Validation] ==> Precision: 0.873, Recall: 0.890, F-Score: 0.881, Val loss: 0.338050195, Val Accuracy: 88.00% Total Time: 2100.68s\n",
            "Epoch 81/100\n",
            "[On Training] ==> Time: 26.21s, Train Loss: 0.082776687, Train Accuracy: 98.29%\n",
            "[On Validation] ==> Precision: 0.873, Recall: 0.891, F-Score: 0.882, Val loss: 0.339053772, Val Accuracy: 88.03% Total Time: 2126.89s\n",
            "Epoch 82/100\n",
            "[On Training] ==> Time: 26.25s, Train Loss: 0.081573685, Train Accuracy: 98.33%\n",
            "[On Validation] ==> Precision: 0.873, Recall: 0.890, F-Score: 0.881, Val loss: 0.340057327, Val Accuracy: 88.00% Total Time: 2153.14s\n",
            "Epoch 83/100\n",
            "[On Training] ==> Time: 26.18s, Train Loss: 0.080393474, Train Accuracy: 98.38%\n",
            "[On Validation] ==> Precision: 0.873, Recall: 0.890, F-Score: 0.881, Val loss: 0.341066413, Val Accuracy: 88.00% Total Time: 2179.33s\n",
            "Epoch 84/100\n",
            "[On Training] ==> Time: 26.20s, Train Loss: 0.079235320, Train Accuracy: 98.41%\n",
            "[On Validation] ==> Precision: 0.872, Recall: 0.890, F-Score: 0.881, Val loss: 0.342081223, Val Accuracy: 87.94% Total Time: 2205.52s\n",
            "Epoch 85/100\n",
            "[On Training] ==> Time: 26.27s, Train Loss: 0.078099612, Train Accuracy: 98.44%\n",
            "[On Validation] ==> Precision: 0.871, Recall: 0.890, F-Score: 0.880, Val loss: 0.343093368, Val Accuracy: 87.89% Total Time: 2231.79s\n",
            "Epoch 86/100\n",
            "[On Training] ==> Time: 26.25s, Train Loss: 0.076984337, Train Accuracy: 98.47%\n",
            "[On Validation] ==> Precision: 0.872, Recall: 0.891, F-Score: 0.882, Val loss: 0.344113503, Val Accuracy: 88.03% Total Time: 2258.03s\n",
            "Epoch 87/100\n",
            "[On Training] ==> Time: 26.23s, Train Loss: 0.075890145, Train Accuracy: 98.50%\n",
            "[On Validation] ==> Precision: 0.872, Recall: 0.891, F-Score: 0.882, Val loss: 0.345134929, Val Accuracy: 88.03% Total Time: 2284.27s\n",
            "Epoch 88/100\n",
            "[On Training] ==> Time: 26.20s, Train Loss: 0.074816057, Train Accuracy: 98.53%\n",
            "[On Validation] ==> Precision: 0.872, Recall: 0.891, F-Score: 0.882, Val loss: 0.346159078, Val Accuracy: 88.03% Total Time: 2310.47s\n",
            "Epoch 89/100\n",
            "[On Training] ==> Time: 26.38s, Train Loss: 0.073761446, Train Accuracy: 98.55%\n",
            "[On Validation] ==> Precision: 0.872, Recall: 0.891, F-Score: 0.882, Val loss: 0.347186013, Val Accuracy: 88.03% Total Time: 2336.85s\n",
            "Epoch 90/100\n",
            "[On Training] ==> Time: 26.44s, Train Loss: 0.072726029, Train Accuracy: 98.57%\n",
            "[On Validation] ==> Precision: 0.872, Recall: 0.890, F-Score: 0.881, Val loss: 0.348216161, Val Accuracy: 87.97% Total Time: 2363.30s\n",
            "Epoch 91/100\n",
            "[On Training] ==> Time: 26.24s, Train Loss: 0.071709603, Train Accuracy: 98.62%\n",
            "[On Validation] ==> Precision: 0.873, Recall: 0.890, F-Score: 0.881, Val loss: 0.349248491, Val Accuracy: 88.00% Total Time: 2389.54s\n",
            "Epoch 92/100\n",
            "[On Training] ==> Time: 26.20s, Train Loss: 0.070711397, Train Accuracy: 98.66%\n",
            "[On Validation] ==> Precision: 0.872, Recall: 0.889, F-Score: 0.881, Val loss: 0.350285411, Val Accuracy: 87.94% Total Time: 2415.73s\n",
            "Epoch 93/100\n",
            "[On Training] ==> Time: 26.18s, Train Loss: 0.069731427, Train Accuracy: 98.69%\n",
            "[On Validation] ==> Precision: 0.872, Recall: 0.889, F-Score: 0.881, Val loss: 0.351320800, Val Accuracy: 87.94% Total Time: 2441.91s\n",
            "Epoch 94/100\n",
            "[On Training] ==> Time: 26.21s, Train Loss: 0.068768684, Train Accuracy: 98.75%\n",
            "[On Validation] ==> Precision: 0.872, Recall: 0.888, F-Score: 0.880, Val loss: 0.352363629, Val Accuracy: 87.89% Total Time: 2468.13s\n",
            "Epoch 95/100\n",
            "[On Training] ==> Time: 26.19s, Train Loss: 0.067824077, Train Accuracy: 98.76%\n",
            "[On Validation] ==> Precision: 0.872, Recall: 0.888, F-Score: 0.880, Val loss: 0.353403394, Val Accuracy: 87.89% Total Time: 2494.31s\n",
            "Epoch 96/100\n",
            "[On Training] ==> Time: 26.24s, Train Loss: 0.066895709, Train Accuracy: 98.80%\n",
            "[On Validation] ==> Precision: 0.872, Recall: 0.888, F-Score: 0.880, Val loss: 0.354449597, Val Accuracy: 87.86% Total Time: 2520.55s\n",
            "Epoch 97/100\n",
            "[On Training] ==> Time: 26.20s, Train Loss: 0.065984506, Train Accuracy: 98.83%\n",
            "[On Validation] ==> Precision: 0.872, Recall: 0.888, F-Score: 0.880, Val loss: 0.355497148, Val Accuracy: 87.89% Total Time: 2546.75s\n",
            "Epoch 98/100\n",
            "[On Training] ==> Time: 26.19s, Train Loss: 0.065089669, Train Accuracy: 98.86%\n",
            "[On Validation] ==> Precision: 0.872, Recall: 0.889, F-Score: 0.880, Val loss: 0.356547937, Val Accuracy: 87.92% Total Time: 2572.94s\n",
            "Epoch 99/100\n",
            "[On Training] ==> Time: 26.18s, Train Loss: 0.064210602, Train Accuracy: 98.90%\n",
            "[On Validation] ==> Precision: 0.872, Recall: 0.888, F-Score: 0.880, Val loss: 0.357605798, Val Accuracy: 87.92% Total Time: 2599.12s\n",
            "Epoch 100/100\n",
            "[On Training] ==> Time: 26.24s, Train Loss: 0.063348536, Train Accuracy: 98.92%\n",
            "[On Validation] ==> Precision: 0.872, Recall: 0.888, F-Score: 0.880, Val loss: 0.358660772, Val Accuracy: 87.92% Total Time: 2625.35s\n"
          ],
          "name": "stdout"
        }
      ]
    },
    {
      "metadata": {
        "id": "RsIuCobJmOel",
        "colab_type": "code",
        "colab": {
          "base_uri": "https://localhost:8080/",
          "height": 34
        },
        "outputId": "28da51a8-e262-490b-f7a0-d0f971dd7586"
      },
      "cell_type": "code",
      "source": [
        "gc.collect()"
      ],
      "execution_count": 412,
      "outputs": [
        {
          "output_type": "execute_result",
          "data": {
            "text/plain": [
              "682"
            ]
          },
          "metadata": {
            "tags": []
          },
          "execution_count": 412
        }
      ]
    },
    {
      "metadata": {
        "id": "FDUyFfwmXSew",
        "colab_type": "code",
        "outputId": "ae520915-6918-45bd-fd8f-fffa5e100455",
        "colab": {
          "base_uri": "https://localhost:8080/",
          "height": 379
        }
      },
      "cell_type": "code",
      "source": [
        "import matplotlib.pyplot as plt\n",
        "plt.figure(\"Image\")\n",
        "plt.title(\"Loss vs Epoch\")\n",
        "val_loss_history_plt =  [float(i)/sum(val_loss_history) for i in val_loss_history] # normalised between 0-1\n",
        "train_loss_history_plt =  [float(i)/sum(train_loss_history) for i in train_loss_history] # normalised between 0-1\n",
        "f_score_plt = [float(i)/sum(f_score) for i in f_score] # normalised between 0-1\n",
        "plt.plot(val_loss_history_plt, c=\"red\", label=\"Validation Loss\")\n",
        "plt.plot(train_loss_history_plt, c=\"blue\", label = \"Training Loss\")\n",
        "plt.plot(f_score_plt, c=\"green\", label = \"F-Score\")\n",
        "plt.legend()"
      ],
      "execution_count": 424,
      "outputs": [
        {
          "output_type": "execute_result",
          "data": {
            "text/plain": [
              "<matplotlib.legend.Legend at 0x7f29bfc39278>"
            ]
          },
          "metadata": {
            "tags": []
          },
          "execution_count": 424
        },
        {
          "output_type": "display_data",
          "data": {
            "image/png": "[encoded data removed]",
            "text/plain": [
              "<Figure size 576x396 with 1 Axes>"
            ]
          },
          "metadata": {
            "tags": []
          }
        }
      ]
    },
    {
      "metadata": {
        "id": "gPf_k4VNuaDi",
        "colab_type": "code",
        "colab": {
          "base_uri": "https://localhost:8080/",
          "height": 1428
        },
        "outputId": "3e42aef5-61c0-48f3-b750-d9683cb166b6"
      },
      "cell_type": "code",
      "source": [
        "# for param in bow.parameters(): # desc the parameter value\n",
        "#     print(param,param.size())\n",
        "# print ()\n",
        "# for param in stop_bow.parameters(): # desc the parameter value\n",
        "#     print(param,param.size())\n",
        "# print()\n",
        "# for param in more_bow.parameters(): # desc the parameter value\n",
        "#     print(param,param.size())    "
      ],
      "execution_count": 398,
      "outputs": [
        {
          "output_type": "stream",
          "text": [
            "Parameter containing:\n",
            "tensor([[ 0.0251,  0.0234,  0.0139,  ..., -0.0042, -0.0004, -0.0055],\n",
            "        [ 0.0283,  0.0236,  0.0196,  ..., -0.0006, -0.0056,  0.0031],\n",
            "        [ 0.0124,  0.0111,  0.0069,  ..., -0.0007,  0.0044,  0.0056],\n",
            "        ...,\n",
            "        [ 0.0349,  0.0284,  0.0231,  ...,  0.0040,  0.0004, -0.0002],\n",
            "        [ 0.0321,  0.0285,  0.0222,  ..., -0.0038, -0.0009,  0.0004],\n",
            "        [ 0.0331,  0.0223,  0.0154,  ...,  0.0023, -0.0001,  0.0027]],\n",
            "       device='cuda:0', requires_grad=True) torch.Size([50, 30941])\n",
            "Parameter containing:\n",
            "tensor([ 0.0297,  0.0355,  0.0179,  0.0379,  0.0151,  0.0306,  0.0269,  0.0353,\n",
            "         0.0493,  0.0564,  0.0189,  0.0347,  0.0497,  0.0484,  0.0505,  0.0574,\n",
            "         0.0327,  0.0662,  0.0271,  0.0245, -0.0009,  0.0664,  0.0100,  0.0288,\n",
            "         0.0213,  0.0148,  0.0469,  0.0575,  0.0158,  0.0303, -0.0020,  0.0497,\n",
            "         0.0514,  0.0325,  0.0085,  0.0433,  0.0248,  0.0517,  0.0318,  0.0022,\n",
            "         0.0388,  0.0528,  0.0238,  0.0229,  0.0087,  0.0645,  0.0423,  0.0407,\n",
            "         0.0468,  0.0392], device='cuda:0', requires_grad=True) torch.Size([50])\n",
            "Parameter containing:\n",
            "tensor([[-0.3265,  0.3968, -0.1680,  0.4423,  0.1295,  0.3108, -0.2848, -0.3566,\n",
            "          0.5830, -0.5779,  0.2131,  0.4034, -0.5115,  0.5584,  0.5957, -0.6153,\n",
            "          0.3476, -0.6775,  0.2956, -0.2547, -0.0066, -0.6576, -0.0947,  0.3579,\n",
            "          0.2948,  0.1862,  0.5887, -0.5654,  0.1805,  0.2991,  0.0412, -0.5288,\n",
            "         -0.5669, -0.2938, -0.0771,  0.4797,  0.2796,  0.5872,  0.4137, -0.0401,\n",
            "         -0.4411, -0.5464,  0.2503,  0.2109, -0.0322, -0.6095,  0.4870,  0.4859,\n",
            "         -0.5027,  0.4415]], device='cuda:0', requires_grad=True) torch.Size([1, 50])\n",
            "Parameter containing:\n",
            "tensor([0.0347], device='cuda:0', requires_grad=True) torch.Size([1])\n",
            "\n",
            "Parameter containing:\n",
            "tensor([[ 0.0251,  0.0234,  0.0139,  ..., -0.0042, -0.0004, -0.0055],\n",
            "        [ 0.0283,  0.0236,  0.0196,  ..., -0.0006, -0.0056,  0.0031],\n",
            "        [ 0.0124,  0.0111,  0.0069,  ..., -0.0007,  0.0044,  0.0056],\n",
            "        ...,\n",
            "        [ 0.0349,  0.0284,  0.0231,  ...,  0.0040,  0.0004, -0.0002],\n",
            "        [ 0.0321,  0.0285,  0.0222,  ..., -0.0038, -0.0009,  0.0004],\n",
            "        [ 0.0331,  0.0223,  0.0154,  ...,  0.0023, -0.0001,  0.0027]],\n",
            "       device='cuda:0', requires_grad=True) torch.Size([50, 30941])\n",
            "Parameter containing:\n",
            "tensor([ 0.0297,  0.0355,  0.0179,  0.0379,  0.0151,  0.0306,  0.0269,  0.0353,\n",
            "         0.0493,  0.0564,  0.0189,  0.0347,  0.0497,  0.0484,  0.0505,  0.0574,\n",
            "         0.0327,  0.0662,  0.0271,  0.0245, -0.0009,  0.0664,  0.0100,  0.0288,\n",
            "         0.0213,  0.0148,  0.0469,  0.0575,  0.0158,  0.0303, -0.0020,  0.0497,\n",
            "         0.0514,  0.0325,  0.0085,  0.0433,  0.0248,  0.0517,  0.0318,  0.0022,\n",
            "         0.0388,  0.0528,  0.0238,  0.0229,  0.0087,  0.0645,  0.0423,  0.0407,\n",
            "         0.0468,  0.0392], device='cuda:0', requires_grad=True) torch.Size([50])\n",
            "Parameter containing:\n",
            "tensor([[-0.3265,  0.3968, -0.1680,  0.4423,  0.1295,  0.3108, -0.2848, -0.3566,\n",
            "          0.5830, -0.5779,  0.2131,  0.4034, -0.5115,  0.5584,  0.5957, -0.6153,\n",
            "          0.3476, -0.6775,  0.2956, -0.2547, -0.0066, -0.6576, -0.0947,  0.3579,\n",
            "          0.2948,  0.1862,  0.5887, -0.5654,  0.1805,  0.2991,  0.0412, -0.5288,\n",
            "         -0.5669, -0.2938, -0.0771,  0.4797,  0.2796,  0.5872,  0.4137, -0.0401,\n",
            "         -0.4411, -0.5464,  0.2503,  0.2109, -0.0322, -0.6095,  0.4870,  0.4859,\n",
            "         -0.5027,  0.4415]], device='cuda:0', requires_grad=True) torch.Size([1, 50])\n",
            "Parameter containing:\n",
            "tensor([0.0347], device='cuda:0', requires_grad=True) torch.Size([1])\n",
            "\n",
            "Parameter containing:\n",
            "tensor([[ 0.0224,  0.0190,  0.0079,  ..., -0.0042, -0.0004, -0.0055],\n",
            "        [ 0.0186,  0.0160,  0.0158,  ..., -0.0006, -0.0056,  0.0031],\n",
            "        [ 0.0091,  0.0072,  0.0049,  ..., -0.0007,  0.0044,  0.0056],\n",
            "        ...,\n",
            "        [ 0.0241,  0.0203,  0.0187,  ...,  0.0040,  0.0004, -0.0002],\n",
            "        [ 0.0281,  0.0233,  0.0154,  ..., -0.0038, -0.0009,  0.0004],\n",
            "        [ 0.0217,  0.0171,  0.0144,  ...,  0.0023, -0.0001,  0.0027]],\n",
            "       device='cuda:0', requires_grad=True) torch.Size([50, 30941])\n",
            "Parameter containing:\n",
            "tensor([ 0.0122,  0.0231,  0.0082,  0.0242,  0.0107,  0.0208,  0.0134,  0.0167,\n",
            "         0.0309,  0.0271,  0.0114,  0.0204,  0.0251,  0.0314,  0.0312,  0.0259,\n",
            "         0.0217,  0.0345,  0.0183,  0.0121, -0.0009,  0.0355,  0.0046,  0.0164,\n",
            "         0.0111,  0.0075,  0.0286,  0.0279,  0.0098,  0.0208, -0.0039,  0.0248,\n",
            "         0.0236,  0.0172,  0.0030,  0.0280,  0.0162,  0.0343,  0.0191, -0.0013,\n",
            "         0.0170,  0.0272,  0.0163,  0.0157,  0.0065,  0.0338,  0.0281,  0.0254,\n",
            "         0.0215,  0.0261], device='cuda:0', requires_grad=True) torch.Size([50])\n",
            "Parameter containing:\n",
            "tensor([[-0.1625,  0.2001, -0.0881,  0.2204,  0.0656,  0.1546, -0.1428, -0.1765,\n",
            "          0.2900, -0.2910,  0.1096,  0.2006, -0.2553,  0.2776,  0.2985, -0.3062,\n",
            "          0.1739, -0.3365,  0.1486, -0.1321, -0.0063, -0.3298, -0.0471,  0.1794,\n",
            "          0.1481,  0.0928,  0.2952, -0.2823,  0.0931,  0.1492,  0.0338, -0.2638,\n",
            "         -0.2823, -0.1496, -0.0396,  0.2407,  0.1393,  0.2916,  0.2089, -0.0208,\n",
            "         -0.2183, -0.2727,  0.1239,  0.1076, -0.0202, -0.3057,  0.2407,  0.2449,\n",
            "         -0.2526,  0.2187]], device='cuda:0', requires_grad=True) torch.Size([1, 50])\n",
            "Parameter containing:\n",
            "tensor([0.0463], device='cuda:0', requires_grad=True) torch.Size([1])\n"
          ],
          "name": "stdout"
        }
      ]
    },
    {
      "metadata": {
        "id": "fkYBaktsF-sm",
        "colab_type": "code",
        "colab": {}
      },
      "cell_type": "code",
      "source": [
        "data = []\n",
        "data = [Variable(make_bow_vector(instance, word_to_ix)).to('cuda:0') for instance in test_text_reviews]"
      ],
      "execution_count": 0,
      "outputs": []
    },
    {
      "metadata": {
        "id": "ffYv5PAmjyp-",
        "colab_type": "code",
        "outputId": "605b4a5e-9190-49a2-8831-b56192625bba",
        "colab": {
          "base_uri": "https://localhost:8080/",
          "height": 51
        }
      },
      "cell_type": "code",
      "source": [
        "print('--- AFTER TRAINING ---')\n",
        "correct = 0\n",
        "tic = time.time()\n",
        "for i, instance in enumerate(data):\n",
        "    label = test_text_labels[i]\n",
        "    pred = bow.forward(instance)\n",
        "#     pred = more_bow.forward(instance)\n",
        "#     pred = stop_bow.forward(instance)\n",
        "    pred_class = 1 if pred.item() > 0.5 else 0 # sigmoid activated\n",
        "    \n",
        "    if(int(label) == pred_class):\n",
        "        correct += 1\n",
        "toc = time.time()\n",
        "print(\"Time: {}, Test Accuracy: {:.2f}%\".format((toc-tic), correct*100/len(data)))"
      ],
      "execution_count": 414,
      "outputs": [
        {
          "output_type": "stream",
          "text": [
            "--- AFTER TRAINING ---\n",
            "Time: 2.3922858238220215, Test Accuracy: 88.28%\n"
          ],
          "name": "stdout"
        }
      ]
    },
    {
      "metadata": {
        "id": "uHAvtGWbudLN",
        "colab_type": "code",
        "colab": {
          "base_uri": "https://localhost:8080/",
          "height": 71
        },
        "outputId": "cf9aaa61-26d3-4e0e-8dee-a38eb47bcbb1"
      },
      "cell_type": "code",
      "source": [
        "torch.save(bow, 'Task1A.mdl')\n",
        "\n",
        "from google.colab import files\n",
        "files.download(\"Task1A.mdl\")"
      ],
      "execution_count": 415,
      "outputs": [
        {
          "output_type": "stream",
          "text": [
            "/usr/local/lib/python3.6/dist-packages/torch/serialization.py:251: UserWarning: Couldn't retrieve source code for container of type BOWClassifier. It won't be checked for correctness upon loading.\n",
            "  \"type \" + obj.__name__ + \". It won't be checked \"\n"
          ],
          "name": "stderr"
        }
      ]
    },
    {
      "metadata": {
        "id": "Zz5PwYjVudEk",
        "colab_type": "code",
        "colab": {
          "resources": {
            "http://localhost:8080/nbextensions/google.colab/files.js": {
              "data": "Ly8gQ29weXJpZ2h0IDIwMTcgR29vZ2xlIExMQwovLwovLyBMaWNlbnNlZCB1bmRlciB0aGUgQXBhY2hlIExpY2Vuc2UsIFZlcnNpb24gMi4wICh0aGUgIkxpY2Vuc2UiKTsKLy8geW91IG1heSBub3QgdXNlIHRoaXMgZmlsZSBleGNlcHQgaW4gY29tcGxpYW5jZSB3aXRoIHRoZSBMaWNlbnNlLgovLyBZb3UgbWF5IG9idGFpbiBhIGNvcHkgb2YgdGhlIExpY2Vuc2UgYXQKLy8KLy8gICAgICBodHRwOi8vd3d3LmFwYWNoZS5vcmcvbGljZW5zZXMvTElDRU5TRS0yLjAKLy8KLy8gVW5sZXNzIHJlcXVpcmVkIGJ5IGFwcGxpY2FibGUgbGF3IG9yIGFncmVlZCB0byBpbiB3cml0aW5nLCBzb2Z0d2FyZQovLyBkaXN0cmlidXRlZCB1bmRlciB0aGUgTGljZW5zZSBpcyBkaXN0cmlidXRlZCBvbiBhbiAiQVMgSVMiIEJBU0lTLAovLyBXSVRIT1VUIFdBUlJBTlRJRVMgT1IgQ09ORElUSU9OUyBPRiBBTlkgS0lORCwgZWl0aGVyIGV4cHJlc3Mgb3IgaW1wbGllZC4KLy8gU2VlIHRoZSBMaWNlbnNlIGZvciB0aGUgc3BlY2lmaWMgbGFuZ3VhZ2UgZ292ZXJuaW5nIHBlcm1pc3Npb25zIGFuZAovLyBsaW1pdGF0aW9ucyB1bmRlciB0aGUgTGljZW5zZS4KCi8qKgogKiBAZmlsZW92ZXJ2aWV3IEhlbHBlcnMgZm9yIGdvb2dsZS5jb2xhYiBQeXRob24gbW9kdWxlLgogKi8KKGZ1bmN0aW9uKHNjb3BlKSB7CmZ1bmN0aW9uIHNwYW4odGV4dCwgc3R5bGVBdHRyaWJ1dGVzID0ge30pIHsKICBjb25zdCBlbGVtZW50ID0gZG9jdW1lbnQuY3JlYXRlRWxlbWVudCgnc3BhbicpOwogIGVsZW1lbnQudGV4dENvbnRlbnQgPSB0ZXh0OwogIGZvciAoY29uc3Qga2V5IG9mIE9iamVjdC5rZXlzKHN0eWxlQXR0cmlidXRlcykpIHsKICAgIGVsZW1lbnQuc3R5bGVba2V5XSA9IHN0eWxlQXR0cmlidXRlc1trZXldOwogIH0KICByZXR1cm4gZWxlbWVudDsKfQoKLy8gTWF4IG51bWJlciBvZiBieXRlcyB3aGljaCB3aWxsIGJlIHVwbG9hZGVkIGF0IGEgdGltZS4KY29uc3QgTUFYX1BBWUxPQURfU0laRSA9IDEwMCAqIDEwMjQ7Ci8vIE1heCBhbW91bnQgb2YgdGltZSB0byBibG9jayB3YWl0aW5nIGZvciB0aGUgdXNlci4KY29uc3QgRklMRV9DSEFOR0VfVElNRU9VVF9NUyA9IDMwICogMTAwMDsKCmZ1bmN0aW9uIF91cGxvYWRGaWxlcyhpbnB1dElkLCBvdXRwdXRJZCkgewogIGNvbnN0IHN0ZXBzID0gdXBsb2FkRmlsZXNTdGVwKGlucHV0SWQsIG91dHB1dElkKTsKICBjb25zdCBvdXRwdXRFbGVtZW50ID0gZG9jdW1lbnQuZ2V0RWxlbWVudEJ5SWQob3V0cHV0SWQpOwogIC8vIENhY2hlIHN0ZXBzIG9uIHRoZSBvdXRwdXRFbGVtZW50IHRvIG1ha2UgaXQgYXZhaWxhYmxlIGZvciB0aGUgbmV4dCBjYWxsCiAgLy8gdG8gdXBsb2FkRmlsZXNDb250aW51ZSBmcm9tIFB5dGhvbi4KICBvdXRwdXRFbGVtZW50LnN0ZXBzID0gc3RlcHM7CgogIHJldHVybiBfdXBsb2FkRmlsZXNDb250aW51ZShvdXRwdXRJZCk7Cn0KCi8vIFRoaXMgaXMgcm91Z2hseSBhbiBhc3luYyBnZW5lcmF0b3IgKG5vdCBzdXBwb3J0ZWQgaW4gdGhlIGJyb3dzZXIgeWV0KSwKLy8gd2hlcmUgdGhlcmUgYXJlIG11bHRpcGxlIGFzeW5jaHJvbm91cyBzdGVwcyBhbmQgdGhlIFB5dGhvbiBzaWRlIGlzIGdvaW5nCi8vIHRvIHBvbGwgZm9yIGNvbXBsZXRpb24gb2YgZWFjaCBzdGVwLgovLyBUaGlzIHVzZXMgYSBQcm9taXNlIHRvIGJsb2NrIHRoZSBweXRob24gc2lkZSBvbiBjb21wbGV0aW9uIG9mIGVhY2ggc3RlcCwKLy8gdGhlbiBwYXNzZXMgdGhlIHJlc3VsdCBvZiB0aGUgcHJldmlvdXMgc3RlcCBhcyB0aGUgaW5wdXQgdG8gdGhlIG5leHQgc3RlcC4KZnVuY3Rpb24gX3VwbG9hZEZpbGVzQ29udGludWUob3V0cHV0SWQpIHsKICBjb25zdCBvdXRwdXRFbGVtZW50ID0gZG9jdW1lbnQuZ2V0RWxlbWVudEJ5SWQob3V0cHV0SWQpOwogIGNvbnN0IHN0ZXBzID0gb3V0cHV0RWxlbWVudC5zdGVwczsKCiAgY29uc3QgbmV4dCA9IHN0ZXBzLm5leHQob3V0cHV0RWxlbWVudC5sYXN0UHJvbWlzZVZhbHVlKTsKICByZXR1cm4gUHJvbWlzZS5yZXNvbHZlKG5leHQudmFsdWUucHJvbWlzZSkudGhlbigodmFsdWUpID0+IHsKICAgIC8vIENhY2hlIHRoZSBsYXN0IHByb21pc2UgdmFsdWUgdG8gbWFrZSBpdCBhdmFpbGFibGUgdG8gdGhlIG5leHQKICAgIC8vIHN0ZXAgb2YgdGhlIGdlbmVyYXRvci4KICAgIG91dHB1dEVsZW1lbnQubGFzdFByb21pc2VWYWx1ZSA9IHZhbHVlOwogICAgcmV0dXJuIG5leHQudmFsdWUucmVzcG9uc2U7CiAgfSk7Cn0KCi8qKgogKiBHZW5lcmF0b3IgZnVuY3Rpb24gd2hpY2ggaXMgY2FsbGVkIGJldHdlZW4gZWFjaCBhc3luYyBzdGVwIG9mIHRoZSB1cGxvYWQKICogcHJvY2Vzcy4KICogQHBhcmFtIHtzdHJpbmd9IGlucHV0SWQgRWxlbWVudCBJRCBvZiB0aGUgaW5wdXQgZmlsZSBwaWNrZXIgZWxlbWVudC4KICogQHBhcmFtIHtzdHJpbmd9IG91dHB1dElkIEVsZW1lbnQgSUQgb2YgdGhlIG91dHB1dCBkaXNwbGF5LgogKiBAcmV0dXJuIHshSXRlcmFibGU8IU9iamVjdD59IEl0ZXJhYmxlIG9mIG5leHQgc3RlcHMuCiAqLwpmdW5jdGlvbiogdXBsb2FkRmlsZXNTdGVwKGlucHV0SWQsIG91dHB1dElkKSB7CiAgY29uc3QgaW5wdXRFbGVtZW50ID0gZG9jdW1lbnQuZ2V0RWxlbWVudEJ5SWQoaW5wdXRJZCk7CiAgaW5wdXRFbGVtZW50LmRpc2FibGVkID0gZmFsc2U7CgogIGNvbnN0IG91dHB1dEVsZW1lbnQgPSBkb2N1bWVudC5nZXRFbGVtZW50QnlJZChvdXRwdXRJZCk7CiAgb3V0cHV0RWxlbWVudC5pbm5lckhUTUwgPSAnJzsKCiAgY29uc3QgcGlja2VkUHJvbWlzZSA9IG5ldyBQcm9taXNlKChyZXNvbHZlKSA9PiB7CiAgICBpbnB1dEVsZW1lbnQuYWRkRXZlbnRMaXN0ZW5lcignY2hhbmdlJywgKGUpID0+IHsKICAgICAgcmVzb2x2ZShlLnRhcmdldC5maWxlcyk7CiAgICB9KTsKICB9KTsKCiAgY29uc3QgY2FuY2VsID0gZG9jdW1lbnQuY3JlYXRlRWxlbWVudCgnYnV0dG9uJyk7CiAgaW5wdXRFbGVtZW50LnBhcmVudEVsZW1lbnQuYXBwZW5kQ2hpbGQoY2FuY2VsKTsKICBjYW5jZWwudGV4dENvbnRlbnQgPSAnQ2FuY2VsIHVwbG9hZCc7CiAgY29uc3QgY2FuY2VsUHJvbWlzZSA9IG5ldyBQcm9taXNlKChyZXNvbHZlKSA9PiB7CiAgICBjYW5jZWwub25jbGljayA9ICgpID0+IHsKICAgICAgcmVzb2x2ZShudWxsKTsKICAgIH07CiAgfSk7CgogIC8vIENhbmNlbCB1cGxvYWQgaWYgdXNlciBoYXNuJ3QgcGlja2VkIGFueXRoaW5nIGluIHRpbWVvdXQuCiAgY29uc3QgdGltZW91dFByb21pc2UgPSBuZXcgUHJvbWlzZSgocmVzb2x2ZSkgPT4gewogICAgc2V0VGltZW91dCgoKSA9PiB7CiAgICAgIHJlc29sdmUobnVsbCk7CiAgICB9LCBGSUxFX0NIQU5HRV9USU1FT1VUX01TKTsKICB9KTsKCiAgLy8gV2FpdCBmb3IgdGhlIHVzZXIgdG8gcGljayB0aGUgZmlsZXMuCiAgY29uc3QgZmlsZXMgPSB5aWVsZCB7CiAgICBwcm9taXNlOiBQcm9taXNlLnJhY2UoW3BpY2tlZFByb21pc2UsIHRpbWVvdXRQcm9taXNlLCBjYW5jZWxQcm9taXNlXSksCiAgICByZXNwb25zZTogewogICAgICBhY3Rpb246ICdzdGFydGluZycsCiAgICB9CiAgfTsKCiAgaWYgKCFmaWxlcykgewogICAgcmV0dXJuIHsKICAgICAgcmVzcG9uc2U6IHsKICAgICAgICBhY3Rpb246ICdjb21wbGV0ZScsCiAgICAgIH0KICAgIH07CiAgfQoKICBjYW5jZWwucmVtb3ZlKCk7CgogIC8vIERpc2FibGUgdGhlIGlucHV0IGVsZW1lbnQgc2luY2UgZnVydGhlciBwaWNrcyBhcmUgbm90IGFsbG93ZWQuCiAgaW5wdXRFbGVtZW50LmRpc2FibGVkID0gdHJ1ZTsKCiAgZm9yIChjb25zdCBmaWxlIG9mIGZpbGVzKSB7CiAgICBjb25zdCBsaSA9IGRvY3VtZW50LmNyZWF0ZUVsZW1lbnQoJ2xpJyk7CiAgICBsaS5hcHBlbmQoc3BhbihmaWxlLm5hbWUsIHtmb250V2VpZ2h0OiAnYm9sZCd9KSk7CiAgICBsaS5hcHBlbmQoc3BhbigKICAgICAgICBgKCR7ZmlsZS50eXBlIHx8ICduL2EnfSkgLSAke2ZpbGUuc2l6ZX0gYnl0ZXMsIGAgKwogICAgICAgIGBsYXN0IG1vZGlmaWVkOiAkewogICAgICAgICAgICBmaWxlLmxhc3RNb2RpZmllZERhdGUgPyBmaWxlLmxhc3RNb2RpZmllZERhdGUudG9Mb2NhbGVEYXRlU3RyaW5nKCkgOgogICAgICAgICAgICAgICAgICAgICAgICAgICAgICAgICAgICAnbi9hJ30gLSBgKSk7CiAgICBjb25zdCBwZXJjZW50ID0gc3BhbignMCUgZG9uZScpOwogICAgbGkuYXBwZW5kQ2hpbGQocGVyY2VudCk7CgogICAgb3V0cHV0RWxlbWVudC5hcHBlbmRDaGlsZChsaSk7CgogICAgY29uc3QgZmlsZURhdGFQcm9taXNlID0gbmV3IFByb21pc2UoKHJlc29sdmUpID0+IHsKICAgICAgY29uc3QgcmVhZGVyID0gbmV3IEZpbGVSZWFkZXIoKTsKICAgICAgcmVhZGVyLm9ubG9hZCA9IChlKSA9PiB7CiAgICAgICAgcmVzb2x2ZShlLnRhcmdldC5yZXN1bHQpOwogICAgICB9OwogICAgICByZWFkZXIucmVhZEFzQXJyYXlCdWZmZXIoZmlsZSk7CiAgICB9KTsKICAgIC8vIFdhaXQgZm9yIHRoZSBkYXRhIHRvIGJlIHJlYWR5LgogICAgbGV0IGZpbGVEYXRhID0geWllbGQgewogICAgICBwcm9taXNlOiBmaWxlRGF0YVByb21pc2UsCiAgICAgIHJlc3BvbnNlOiB7CiAgICAgICAgYWN0aW9uOiAnY29udGludWUnLAogICAgICB9CiAgICB9OwoKICAgIC8vIFVzZSBhIGNodW5rZWQgc2VuZGluZyB0byBhdm9pZCBtZXNzYWdlIHNpemUgbGltaXRzLiBTZWUgYi82MjExNTY2MC4KICAgIGxldCBwb3NpdGlvbiA9IDA7CiAgICB3aGlsZSAocG9zaXRpb24gPCBmaWxlRGF0YS5ieXRlTGVuZ3RoKSB7CiAgICAgIGNvbnN0IGxlbmd0aCA9IE1hdGgubWluKGZpbGVEYXRhLmJ5dGVMZW5ndGggLSBwb3NpdGlvbiwgTUFYX1BBWUxPQURfU0laRSk7CiAgICAgIGNvbnN0IGNodW5rID0gbmV3IFVpbnQ4QXJyYXkoZmlsZURhdGEsIHBvc2l0aW9uLCBsZW5ndGgpOwogICAgICBwb3NpdGlvbiArPSBsZW5ndGg7CgogICAgICBjb25zdCBiYXNlNjQgPSBidG9hKFN0cmluZy5mcm9tQ2hhckNvZGUuYXBwbHkobnVsbCwgY2h1bmspKTsKICAgICAgeWllbGQgewogICAgICAgIHJlc3BvbnNlOiB7CiAgICAgICAgICBhY3Rpb246ICdhcHBlbmQnLAogICAgICAgICAgZmlsZTogZmlsZS5uYW1lLAogICAgICAgICAgZGF0YTogYmFzZTY0LAogICAgICAgIH0sCiAgICAgIH07CiAgICAgIHBlcmNlbnQudGV4dENvbnRlbnQgPQogICAgICAgICAgYCR7TWF0aC5yb3VuZCgocG9zaXRpb24gLyBmaWxlRGF0YS5ieXRlTGVuZ3RoKSAqIDEwMCl9JSBkb25lYDsKICAgIH0KICB9CgogIC8vIEFsbCBkb25lLgogIHlpZWxkIHsKICAgIHJlc3BvbnNlOiB7CiAgICAgIGFjdGlvbjogJ2NvbXBsZXRlJywKICAgIH0KICB9Owp9CgpzY29wZS5nb29nbGUgPSBzY29wZS5nb29nbGUgfHwge307CnNjb3BlLmdvb2dsZS5jb2xhYiA9IHNjb3BlLmdvb2dsZS5jb2xhYiB8fCB7fTsKc2NvcGUuZ29vZ2xlLmNvbGFiLl9maWxlcyA9IHsKICBfdXBsb2FkRmlsZXMsCiAgX3VwbG9hZEZpbGVzQ29udGludWUsCn07Cn0pKHNlbGYpOwo=",
              "ok": true,
              "headers": [
                [
                  "content-type",
                  "application/javascript"
                ]
              ],
              "status": 200,
              "status_text": ""
            }
          },
          "base_uri": "https://localhost:8080/",
          "height": 74
        },
        "outputId": "d5ccd8bf-7d91-4ef7-b37b-e4a39ebd842b"
      },
      "cell_type": "code",
      "source": [
        "from google.colab import files\n",
        "temp_test = files.upload()"
      ],
      "execution_count": 416,
      "outputs": [
        {
          "output_type": "display_data",
          "data": {
            "text/html": [
              "\n",
              "     <input type=\"file\" id=\"files-79bed7f2-c754-4385-837e-e16ff1f7ab53\" name=\"files[]\" multiple disabled />\n",
              "     <output id=\"result-79bed7f2-c754-4385-837e-e16ff1f7ab53\">\n",
              "      Upload widget is only available when the cell has been executed in the\n",
              "      current browser session. Please rerun this cell to enable.\n",
              "      </output>\n",
              "      <script src=\"/nbextensions/google.colab/files.js\"></script> "
            ],
            "text/plain": [
              "<IPython.core.display.HTML object>"
            ]
          },
          "metadata": {
            "tags": []
          }
        },
        {
          "output_type": "stream",
          "text": [
            "Saving Task1A.mdl to Task1A (1).mdl\n"
          ],
          "name": "stdout"
        }
      ]
    },
    {
      "metadata": {
        "id": "29twCfxpuc8r",
        "colab_type": "code",
        "colab": {}
      },
      "cell_type": "code",
      "source": [
        "_model_ = torch.load(io.BytesIO(temp_test['Task1A.mdl']))"
      ],
      "execution_count": 0,
      "outputs": []
    },
    {
      "metadata": {
        "id": "Ixy30WkrH3_-",
        "colab_type": "code",
        "colab": {
          "base_uri": "https://localhost:8080/",
          "height": 476
        },
        "outputId": "38c445b3-70f5-45b7-f5fc-a98fd76df239"
      },
      "cell_type": "code",
      "source": [
        "for params in _model_.parameters():\n",
        "    print (params)"
      ],
      "execution_count": 422,
      "outputs": [
        {
          "output_type": "stream",
          "text": [
            "Parameter containing:\n",
            "tensor([[ 0.0261,  0.0221,  0.0165,  ..., -0.0042, -0.0004, -0.0055],\n",
            "        [ 0.0266,  0.0270,  0.0171,  ..., -0.0006, -0.0056,  0.0031],\n",
            "        [ 0.0152,  0.0111,  0.0046,  ..., -0.0007,  0.0044,  0.0056],\n",
            "        ...,\n",
            "        [ 0.0340,  0.0254,  0.0204,  ...,  0.0040,  0.0004, -0.0002],\n",
            "        [ 0.0323,  0.0227,  0.0225,  ..., -0.0038, -0.0009,  0.0004],\n",
            "        [ 0.0352,  0.0154,  0.0106,  ...,  0.0023, -0.0001,  0.0027]],\n",
            "       device='cuda:0', requires_grad=True)\n",
            "Parameter containing:\n",
            "tensor([ 0.0355,  0.0442,  0.0223,  0.0447,  0.0201,  0.0354,  0.0306,  0.0417,\n",
            "         0.0565,  0.0647,  0.0215,  0.0432,  0.0580,  0.0563,  0.0606,  0.0675,\n",
            "         0.0388,  0.0760,  0.0272,  0.0324, -0.0007,  0.0737,  0.0119,  0.0335,\n",
            "         0.0316,  0.0209,  0.0557,  0.0693,  0.0163,  0.0389,  0.0016,  0.0559,\n",
            "         0.0609,  0.0391,  0.0114,  0.0536,  0.0292,  0.0587,  0.0381,  0.0036,\n",
            "         0.0454,  0.0594,  0.0273,  0.0265,  0.0096,  0.0742,  0.0530,  0.0476,\n",
            "         0.0559,  0.0517], device='cuda:0', requires_grad=True)\n",
            "Parameter containing:\n",
            "tensor([[-0.5615,  0.6852, -0.2882,  0.7626,  0.2254,  0.5352, -0.4892, -0.6133,\n",
            "          1.0005, -0.9908,  0.3702,  0.7004, -0.8739,  0.9629,  1.0271, -1.0576,\n",
            "          0.6003, -1.1655,  0.5059, -0.4314, -0.0098, -1.1250, -0.1615,  0.6162,\n",
            "          0.5057,  0.3194,  1.0106, -0.9704,  0.3083,  0.5165,  0.0655, -0.9062,\n",
            "         -0.9707, -0.5013, -0.1331,  0.8262,  0.4815,  1.0114,  0.7084, -0.0698,\n",
            "         -0.7600, -0.9379,  0.4303,  0.3599, -0.0572, -1.0431,  0.8399,  0.8347,\n",
            "         -0.8567,  0.7620]], device='cuda:0', requires_grad=True)\n",
            "Parameter containing:\n",
            "tensor([0.0355], device='cuda:0', requires_grad=True)\n"
          ],
          "name": "stdout"
        }
      ]
    },
    {
      "metadata": {
        "id": "Ub0HKgL8H37z",
        "colab_type": "code",
        "colab": {}
      },
      "cell_type": "code",
      "source": [
        ""
      ],
      "execution_count": 0,
      "outputs": []
    },
    {
      "metadata": {
        "id": "lCraW41hH32S",
        "colab_type": "code",
        "colab": {}
      },
      "cell_type": "code",
      "source": [
        ""
      ],
      "execution_count": 0,
      "outputs": []
    },
    {
      "metadata": {
        "id": "mhftDt1DH3x6",
        "colab_type": "code",
        "colab": {}
      },
      "cell_type": "code",
      "source": [
        ""
      ],
      "execution_count": 0,
      "outputs": []
    },
    {
      "metadata": {
        "id": "kE_TcX1KH3tQ",
        "colab_type": "code",
        "colab": {}
      },
      "cell_type": "code",
      "source": [
        ""
      ],
      "execution_count": 0,
      "outputs": []
    },
    {
      "metadata": {
        "id": "T60wqxmoH3Zl",
        "colab_type": "code",
        "colab": {}
      },
      "cell_type": "code",
      "source": [
        ""
      ],
      "execution_count": 0,
      "outputs": []
    }
  ]
}
{
  "nbformat": 4,
  "nbformat_minor": 0,
  "metadata": {
    "colab": {
      "name": "DL_Assign.ipynb",
      "version": "0.3.2",
      "provenance": [],
      "collapsed_sections": [],
      "toc_visible": true,
      "include_colab_link": true
    },
    "kernelspec": {
      "name": "python3",
      "display_name": "Python 3"
    },
    "accelerator": "GPU"
  },
  "cells": [
    {
      "cell_type": "markdown",
      "metadata": {
        "id": "view-in-github",
        "colab_type": "text"
      },
      "source": [
        "<a href=\"https://colab.research.google.com/github/rajeshsahu09/CS69002_9A_18CS60R19/blob/master/DL_Assign.ipynb\" target=\"_parent\"><img src=\"https://colab.research.google.com/assets/colab-badge.svg\" alt=\"Open In Colab\"/></a>"
      ]
    },
    {
      "metadata": {
        "id": "wuB0HM37teAc",
        "colab_type": "text"
      },
      "cell_type": "markdown",
      "source": [
        "# Movie Review Sentiment Analysis"
      ]
    },
    {
      "metadata": {
        "id": "rKlXTA5zfx20",
        "colab_type": "text"
      },
      "cell_type": "markdown",
      "source": [
        "# Run on **GPU**\n",
        "\n"
      ]
    },
    {
      "metadata": {
        "id": "_NV6CE-qtvGO",
        "colab_type": "text"
      },
      "cell_type": "markdown",
      "source": [
        "### Import Header Files"
      ]
    },
    {
      "metadata": {
        "id": "WE7OEcPOtzJf",
        "colab_type": "code",
        "colab": {}
      },
      "cell_type": "code",
      "source": [
        "import torch\n",
        "import pandas as pd\n",
        "import numpy as np\n",
        "import io"
      ],
      "execution_count": 0,
      "outputs": []
    },
    {
      "metadata": {
        "id": "v4037ccUuFFp",
        "colab_type": "text"
      },
      "cell_type": "markdown",
      "source": [
        "### Load the Dataset and Visualise"
      ]
    },
    {
      "metadata": {
        "id": "EhWFepP2t3eA",
        "colab_type": "code",
        "colab": {}
      },
      "cell_type": "code",
      "source": [
        "# from google.colab import files\n",
        "# uploaded = files.upload()\n",
        "\n",
        "# import io\n",
        "# df_train = pd.read_csv(io.StringIO(uploaded['Train_20K.csv'].decode('utf-8')), sep='\\t')\n",
        "# df_train.head()\n",
        "url = \"https://raw.githubusercontent.com/binny-mathew/IITKGP_CS69002_Spring_2019/master/Dataset/Train_20K.csv\"\n",
        "df = pd.read_csv(url, sep='\\t')"
      ],
      "execution_count": 0,
      "outputs": []
    },
    {
      "metadata": {
        "id": "mvAXyCoDaR3b",
        "colab_type": "code",
        "colab": {
          "base_uri": "https://localhost:8080/",
          "height": 34
        },
        "outputId": "816875d1-e473-4d50-b41f-5e885b1051b3"
      },
      "cell_type": "code",
      "source": [
        "df.shape"
      ],
      "execution_count": 140,
      "outputs": [
        {
          "output_type": "execute_result",
          "data": {
            "text/plain": [
              "(17999, 2)"
            ]
          },
          "metadata": {
            "tags": []
          },
          "execution_count": 140
        }
      ]
    },
    {
      "metadata": {
        "id": "44YtF48vX24a",
        "colab_type": "code",
        "colab": {}
      },
      "cell_type": "code",
      "source": [
        "df_1 = df[df['label']==1]\n",
        "df_0 = df[df['label']==0]\n",
        "\n",
        "range_1 = int(0.8*len(df_1))\n",
        "range_2 = int(0.8*len(df_0))\n",
        "\n",
        "np.random.seed(42) # fix the seed value\n",
        "df_1 = df_1.iloc[np.random.permutation(len(df_1))] # shuffled the data set of label==1\n",
        "df_0 = df_0.iloc[np.random.permutation(len(df_0))] # shuffled the data set of label==0\n",
        "\n",
        "temp_1_train = df_1.iloc[:range_1]\n",
        "temp_2_train = df_0.iloc[:range_2]\n",
        "df_train = pd.concat([temp_1_train, temp_2_train])\n",
        "\n",
        "temp_1_val = df_1.iloc[range_1:]\n",
        "temp_2_val = df_0.iloc[range_2:]\n",
        "df_val = pd.concat([temp_1_val, temp_2_val])\n"
      ],
      "execution_count": 0,
      "outputs": []
    },
    {
      "metadata": {
        "id": "T9FBTqABuRlO",
        "colab_type": "code",
        "colab": {
          "base_uri": "https://localhost:8080/",
          "height": 34
        },
        "outputId": "095d7448-7604-4c60-8bf5-f8c1d0a5917b"
      },
      "cell_type": "code",
      "source": [
        "len(df_train), len(df_val)"
      ],
      "execution_count": 144,
      "outputs": [
        {
          "output_type": "execute_result",
          "data": {
            "text/plain": [
              "(14399, 3600)"
            ]
          },
          "metadata": {
            "tags": []
          },
          "execution_count": 144
        }
      ]
    },
    {
      "metadata": {
        "id": "0WFB1TtsxD3F",
        "colab_type": "code",
        "outputId": "40f9d887-95e2-45f7-ef5f-a84587c2e150",
        "colab": {
          "base_uri": "https://localhost:8080/",
          "height": 68
        }
      },
      "cell_type": "code",
      "source": [
        "print('Number of Negative movie reviews', len(df_train[df_train['label']==0]))\n",
        "print('Number of Positive movie reviews', len(df_train[df_train['label']==1]))\n",
        "print('Number of movie reviews', len(df_train['label']))"
      ],
      "execution_count": 146,
      "outputs": [
        {
          "output_type": "stream",
          "text": [
            "Number of Negative movie reviews 7195\n",
            "Number of Positive movie reviews 7204\n",
            "Number of movie reviews 14399\n"
          ],
          "name": "stdout"
        }
      ]
    },
    {
      "metadata": {
        "id": "uuZxOMpkQoka",
        "colab_type": "code",
        "colab": {}
      },
      "cell_type": "code",
      "source": [
        "# from google.colab import files\n",
        "# uploaded = files.upload()\n",
        "\n",
        "# import io\n",
        "# df_test = pd.read_csv(io.StringIO(uploaded['Test_5K.csv'].decode('utf-8')), sep='\\t')\n",
        "# df_test.head()\n",
        "url = \"https://raw.githubusercontent.com/binny-mathew/IITKGP_CS69002_Spring_2019/master/Dataset/Test_5K.csv\"\n",
        "df_test = pd.read_csv(url, sep='\\t')"
      ],
      "execution_count": 0,
      "outputs": []
    },
    {
      "metadata": {
        "id": "TVzhPcGGxf2-",
        "colab_type": "text"
      },
      "cell_type": "markdown",
      "source": [
        "## Data pre-processing"
      ]
    },
    {
      "metadata": {
        "id": "u-8IR64TKH0F",
        "colab_type": "text"
      },
      "cell_type": "markdown",
      "source": [
        "### Get Train Data"
      ]
    },
    {
      "metadata": {
        "id": "JprKnOXgxXkE",
        "colab_type": "code",
        "colab": {}
      },
      "cell_type": "code",
      "source": [
        "train_raw_text_reviews = df_train['text'].astype(str).tolist()\n",
        "train_text_labels = df_train['label'].astype(int).tolist()"
      ],
      "execution_count": 0,
      "outputs": []
    },
    {
      "metadata": {
        "id": "TwU4zROpKLdQ",
        "colab_type": "text"
      },
      "cell_type": "markdown",
      "source": [
        "###Get Validation Data"
      ]
    },
    {
      "metadata": {
        "id": "7TsL1ACWJ_3V",
        "colab_type": "code",
        "colab": {}
      },
      "cell_type": "code",
      "source": [
        "val_raw_text_reviews = df_val['text'].astype(str).tolist()\n",
        "val_text_labels = df_val['label'].astype(int).tolist()"
      ],
      "execution_count": 0,
      "outputs": []
    },
    {
      "metadata": {
        "id": "YixDzEnXLZN-",
        "colab_type": "text"
      },
      "cell_type": "markdown",
      "source": [
        "###Get Test Data"
      ]
    },
    {
      "metadata": {
        "id": "MQHaSpnJJ9eT",
        "colab_type": "code",
        "colab": {}
      },
      "cell_type": "code",
      "source": [
        "test_raw_text_reviews = df_test['text'].astype(str).tolist()\n",
        "test_text_labels = df_test['label'].astype(int).tolist()"
      ],
      "execution_count": 0,
      "outputs": []
    },
    {
      "metadata": {
        "id": "ui-q6WRqOrB4",
        "colab_type": "text"
      },
      "cell_type": "markdown",
      "source": [
        "#### Cleaning the raw input data"
      ]
    },
    {
      "metadata": {
        "id": "8_4b4FmShb0u",
        "colab_type": "code",
        "outputId": "b1054309-10dd-472c-cc80-6c5c64571c88",
        "colab": {
          "base_uri": "https://localhost:8080/",
          "height": 51
        }
      },
      "cell_type": "code",
      "source": [
        "import re\n",
        "import string\n",
        "import nltk\n",
        "nltk.download(\"stopwords\")\n",
        "from nltk.corpus import stopwords\n",
        "\n",
        "# Finding stop words\n",
        "stop_words = set(stopwords.words('english'))"
      ],
      "execution_count": 159,
      "outputs": [
        {
          "output_type": "stream",
          "text": [
            "[nltk_data] Downloading package stopwords to /root/nltk_data...\n",
            "[nltk_data]   Package stopwords is already up-to-date!\n"
          ],
          "name": "stdout"
        }
      ]
    },
    {
      "metadata": {
        "id": "s3AxEhD_z1DM",
        "colab_type": "code",
        "colab": {}
      },
      "cell_type": "code",
      "source": [
        "def preprocess_document(doc):\n",
        "    # negative sense should not be eleminated + some short representation\n",
        "    CONTRACTIONS = {\"mayn't\":\"may not\", \"can't\":\"can not\", \"won't\":\"will not\", \"isn't\":\"is not\", \"amn't\":\"am not\",\\\n",
        "                  \"aren't\":\"are not\", \"wasn't\":\"was not\", \"weren't\":\"were not\", \"couldn't\":\"could not\", \\\n",
        "                  \"wouldn't\":\"would not\", \"don't\":\"do not\", \"doesn't\":\"does not\",\\\n",
        "                  \"i'll\":\"i will\", \"you'll\":\"you will\", \"they'll\":\"they will\",\\\n",
        "                  \"may've\":\"may have\", \"can've\":\"can have\", \"will've\":\"will have\", \"you've\":\"you have\", \\\n",
        "                  \"could've\":\"could have\", \"would've\":\"would have\", \"you've\":\"you have\", \"they\":\"they have\",\\\n",
        "                  \"i've\":\"i have\", \"you've\":\"you have\", \"we've\":\"we have\", \"there's\":\"there is\", \"i'm\":\"i am\",\\\n",
        "                  \"it's\":\"it is\", \"what's\":\"what is\", \"where's\":\"where is\", \"how's\":\"how is\", \"i'd\":\"i had\"}\n",
        "    punctuation = string.punctuation + \"\\n\\n\"\n",
        "    punc_replace = ''.join([' ' for s in punctuation]) # required for replacing punctuation with null ('')\n",
        "    doc_clean = doc.replace('-', ' ') # replace - with null str\n",
        "    doc_clean = (doc_clean.encode('ascii', 'ignore')).decode(\"utf-8\")\n",
        "    doc_clean = doc_clean.replace('<br />', '') # replace <br /> with ''\n",
        "    doc_clean = doc_clean.replace(\"’\", \"'\") # replace <br /> with null str\n",
        "    doc_clean = [CONTRACTIONS[word] if word in CONTRACTIONS else word for word in doc_clean.split(' ')] # replacing some common short forms\n",
        "    doc_clean = \" \".join(doc_clean) # list to sentence of strings\n",
        "    doc_clean = re.sub(r'\\W +', ' ', doc_clean) # except [a-zA-Z0-9_]\n",
        "    doc_clean = re.sub(r'\\d+', ' ', doc_clean) # remove numbers [0-9]\n",
        "    trans_table = str.maketrans(punctuation, punc_replace); # replace punctuations with ' '\n",
        "    doc_clean = ' '.join([word.translate(trans_table) for word in doc_clean.split(' ')])\n",
        "    doc_clean = doc_clean.split(' ');\n",
        "    doc_clean = [word for word in doc_clean if len(word) > 0];\n",
        "    # removing the stopwords from a sentence\n",
        "    doc_clean = [word for word in doc_clean if not word in stop_words and word != 'not' and word != 'no']\n",
        "    return doc_clean;"
      ],
      "execution_count": 0,
      "outputs": []
    },
    {
      "metadata": {
        "id": "rSNuXUopzavX",
        "colab_type": "code",
        "outputId": "2c3b70b3-7db7-4aad-d826-dd77be868481",
        "colab": {
          "base_uri": "https://localhost:8080/",
          "height": 71
        }
      },
      "cell_type": "code",
      "source": [
        "train_text_reviews = [preprocess_document(review.lower()) for review in train_raw_text_reviews]\n",
        "print (train_text_reviews[len(train_text_reviews)-2])\n",
        "print (train_text_labels[len(train_text_labels)-2])"
      ],
      "execution_count": 161,
      "outputs": [
        {
          "output_type": "stream",
          "text": [
            "['really', 'believe', 'spent', 'movie', 'huge', 'zombie', 'fanatic', 'thought', 'movie', 'could', 'bad', 'zombies', 'right', 'wrong', 'honest', 'movie', 'moments', 'thought', 'cool', 'guy', 'got', 'head', 'ripped', 'overall', 'think', 'would', 'enjoyable', 'slide', 'razorblade', 'slide', 'bare', 'nutsack', 'vat', 'vinegar', 'watch', 'movie', 'movie', 'could', 'better', 'could', 'see', 'boob', 'watch', 'trailers', 'movies', 'produced', 'company', 'see', 'buyer', 'beware', 'unless', 'masochism']\n",
            "0\n"
          ],
          "name": "stdout"
        }
      ]
    },
    {
      "metadata": {
        "id": "W6psZ2jxNOoP",
        "colab_type": "code",
        "outputId": "07ad853f-efc4-4b9e-d9e2-b3aa9c19b1cf",
        "colab": {
          "base_uri": "https://localhost:8080/",
          "height": 71
        }
      },
      "cell_type": "code",
      "source": [
        "val_text_reviews = [preprocess_document(review.lower()) for review in val_raw_text_reviews]\n",
        "print (val_text_reviews[len(val_text_reviews)-2])\n",
        "print (val_text_labels[len(val_text_labels)-2])"
      ],
      "execution_count": 162,
      "outputs": [
        {
          "output_type": "stream",
          "text": [
            "['piece', 'crap', 'funny', 'whole', 'movie', 'nothing', 'ever', 'happens', 'almost', 'fell', 'asleep', 'case', 'happens', 'movie', 'rally', 'bad', 'get', 'awful', 'fooled', 'like', 'first', 'review', 'waste', 'money', 'time', 'spend', 'stuff', 'point', 'finished', 'review', 'fill', 'least', 'ten', 'lines', 'text', 'go', 'ctrl', 'c', 'ctrl', 'v', 'piece', 'crap', 'funny', 'whole', 'movie', 'nothing', 'ever', 'happens', 'almost', 'fell', 'asleep', 'case', 'happens', 'movie', 'rally', 'bad', 'get', 'awful', 'fooled', 'like', 'first', 'review', 'waste', 'money', 'time', 'spend', 'stuff', 'piece', 'crap', 'funny', 'whole', 'movie', 'nothing', 'ever', 'happens', 'almost', 'fell', 'asleep', 'case', 'happens', 'movie', 'rally', 'bad', 'get', 'awful', 'fooled', 'like', 'first', 'review', 'waste', 'money', 'time', 'spend', 'stuff']\n",
            "0\n"
          ],
          "name": "stdout"
        }
      ]
    },
    {
      "metadata": {
        "id": "REdaGj3VNOEX",
        "colab_type": "code",
        "outputId": "0f5913d2-e0b5-4543-a032-2e0e41505682",
        "colab": {
          "base_uri": "https://localhost:8080/",
          "height": 71
        }
      },
      "cell_type": "code",
      "source": [
        "test_text_reviews = [preprocess_document(review.lower()) for review in test_raw_text_reviews]\n",
        "print (test_text_reviews[len(test_text_reviews)-2])\n",
        "print (test_text_labels[len(test_text_labels)-2])"
      ],
      "execution_count": 163,
      "outputs": [
        {
          "output_type": "stream",
          "text": [
            "['shining', 'know', 'weird', 'movie', 'movie', 'everyone', 'people', 'claim', 'like', 'horror', 'films', 'always', 'say', 'shining', 'terrific', 'film', 'stanley', 'kubrick', 'classic', 'vision', 'stephen', 'king', 'horror', 'tale', 'madness', 'blood', 'incredible', 'film', 'wither', 'seen', 'heard', 'know', 'lines', 'know', 'classic', 'images', 'could', 'forget', 'jack', 'johnny', 'could', 'forget', 'work', 'play', 'make', 'jack', 'dull', 'boy', 'could', 'forget', 'chilling', 'ending', 'film', 'unforgettable', 'honestly', 'opinion', 'kubrick', 'best', 'work', 'know', 'lot', 'argument', 'department', 'lot', 'people', 'say', 'space', 'odyssey', 'clockwork', 'orange', 'even', 'dr', 'strangelove', 'film', 'pioneered', 'film', 'making', 'shining', 'perfected', 'tale', 'isolation', 'madness', 'terrifying', 'images', 'ultimate', 'ghost', 'story', 'crawl', 'underneath', 'skin', 'jack', 'torrance', 'jack', 'son', 'danny', 'jack', 'wife', 'wendy', 'arrive', 'overlook', 'hotel', 'closing', 'day', 'elderly', 'african', 'american', 'chef', 'dick', 'hallorann', 'surprises', 'danny', 'speaking', 'telepathically', 'offering', 'ice', 'cream', 'explains', 'danny', 'grandmother', 'shared', 'gift', 'called', 'communication', 'shining', 'danny', 'asks', 'anything', 'afraid', 'hotel', 'particularly', 'room', 'dick', 'tells', 'danny', 'hotel', 'certain', 'shine', 'many', 'memories', 'good', 'advises', 'stay', 'room', 'circumstances', 'danny', 'curiosity', 'room', 'finally', 'gets', 'better', 'sees', 'room', 'opened', 'danny', 'shows', 'injured', 'visibly', 'traumatized', 'jack', 'tells', 'wendy', 'loves', 'family', 'seeing', 'wendy', 'thinks', 'jack', 'abusing', 'danny', 'jack', 'wanders', 'hotel', 'gold', 'room', 'meets', 'ghostly', 'bartender', 'named', 'lloyd', 'danny', 'starts', 'calling', 'word', 'redrum', 'frantically', 'scribbling', 'walls', 'goes', 'trance', 'withdraws', 'says', 'tony', 'imaginary', 'friend', 'jack', 'sabotages', 'hotel', 'radio', 'cutting', 'communication', 'outside', 'world', 'hallorann', 'received', 'danny', 'telepathic', 'cry', 'help', 'way', 'wendy', 'discovers', 'jack', 'typing', 'endless', 'pages', 'manuscript', 'repeating', 'work', 'play', 'makes', 'jack', 'dull', 'boy', 'formatted', 'various', 'ways', 'horrified', 'jack', 'threatens', 'knocks', 'unconscious', 'baseball', 'bat', 'locking', 'storage', 'locker', 'kitchen', 'jack', 'converses', 'grady', 'door', 'locker', 'unlocks', 'releasing', 'danny', 'written', 'redrum', 'lipstick', 'door', 'wendy', 'bedroom', 'looks', 'mirror', 'sees', 'murder', 'spelled', 'backwards', 'jack', 'picks', 'axe', 'begins', 'chop', 'door', 'leading', 'family', 'living', 'quarters', 'johnny', 'jack', 'legendary', 'image', 'born', 'shining', 'one', 'films', 'seriously', 'make', 'time', 'see', 'incredible', 'film', 'still', 'gives', 'nightmares', 'jack', 'nicholson', 'performance', 'timeless', 'unforgettable', 'one', 'also', 'feel', 'extremely', 'overlooked', 'shelley', 'duvall', 'scene', 'finding', 'jack', 'rant', 'work', 'incredible', 'look', 'horror', 'see', 'fear', 'face', 'realizing', 'husband', 'mad', 'also', 'another', 'incredible', 'scene', 'jack', 'sees', 'ghost', 'woman', 'bathtub', 'honestly', 'one', 'terrifying', 'scenes', 'horror', 'cinema', 'reason', 'film', 'well', 'known', 'film', 'perfection', 'simpsons', 'shown', 'films', 'film', 'forever', 'stay', 'see', 'trust']\n",
            "1\n"
          ],
          "name": "stdout"
        }
      ]
    },
    {
      "metadata": {
        "id": "ydrqMX261kQ-",
        "colab_type": "code",
        "outputId": "68101979-e447-44bd-f7ed-fcc580841e13",
        "colab": {
          "base_uri": "https://localhost:8080/",
          "height": 34
        }
      },
      "cell_type": "code",
      "source": [
        "import gc\n",
        "gc.collect()"
      ],
      "execution_count": 164,
      "outputs": [
        {
          "output_type": "execute_result",
          "data": {
            "text/plain": [
              "116"
            ]
          },
          "metadata": {
            "tags": []
          },
          "execution_count": 164
        }
      ]
    },
    {
      "metadata": {
        "id": "MKifaS85Dkap",
        "colab_type": "text"
      },
      "cell_type": "markdown",
      "source": [
        "###Creating Tokens and Types"
      ]
    },
    {
      "metadata": {
        "id": "dyQJIGVw4Dau",
        "colab_type": "code",
        "outputId": "6ed0ba2f-d264-4944-a8a6-d87bfa8c6893",
        "colab": {
          "base_uri": "https://localhost:8080/",
          "height": 34
        }
      },
      "cell_type": "code",
      "source": [
        "# Fetching the tokens (all words in a doc) and types(unique words in a doc) in the document\n",
        "types = ()\n",
        "tokens = []\n",
        "for row in train_text_reviews+val_text_reviews+test_text_reviews:\n",
        "    tokens += [words for words in row]\n",
        "types = set(tokens)\n",
        "\n",
        "VOCAB_SIZE, TOKEN_SIZE = len(types), len(tokens)\n",
        "VOCAB_SIZE, TOKEN_SIZE"
      ],
      "execution_count": 18,
      "outputs": [
        {
          "output_type": "execute_result",
          "data": {
            "text/plain": [
              "(72098, 2809504)"
            ]
          },
          "metadata": {
            "tags": []
          },
          "execution_count": 18
        }
      ]
    },
    {
      "metadata": {
        "id": "B20xEKK-Hwn7",
        "colab_type": "code",
        "outputId": "01f071bb-6e55-4829-fba6-e047433dc6ea",
        "colab": {
          "base_uri": "https://localhost:8080/",
          "height": 34
        }
      },
      "cell_type": "code",
      "source": [
        "word_to_ix = {x:i for i, x in enumerate(types)}\n",
        "ix_to_word = [x for i, x in enumerate(types)]\n",
        "\n",
        "ix_to_word[word_to_ix['kick']]=='kick', word_to_ix['kick'], len(ix_to_word)"
      ],
      "execution_count": 19,
      "outputs": [
        {
          "output_type": "execute_result",
          "data": {
            "text/plain": [
              "(True, 28183, 72098)"
            ]
          },
          "metadata": {
            "tags": []
          },
          "execution_count": 19
        }
      ]
    },
    {
      "metadata": {
        "id": "GMbWbZdr1reC",
        "colab_type": "code",
        "outputId": "20532d26-1086-4d15-e5a5-d3ca972e521f",
        "colab": {
          "base_uri": "https://localhost:8080/",
          "height": 34
        }
      },
      "cell_type": "code",
      "source": [
        "gc.collect()"
      ],
      "execution_count": 20,
      "outputs": [
        {
          "output_type": "execute_result",
          "data": {
            "text/plain": [
              "164"
            ]
          },
          "metadata": {
            "tags": []
          },
          "execution_count": 20
        }
      ]
    },
    {
      "metadata": {
        "id": "yNUlKuJeNJEu",
        "colab_type": "text"
      },
      "cell_type": "markdown",
      "source": [
        "## PyTorch"
      ]
    },
    {
      "metadata": {
        "id": "SqLOymKPLPug",
        "colab_type": "code",
        "outputId": "d01eddc0-3483-4e96-bae1-844bfcffa2b5",
        "colab": {
          "base_uri": "https://localhost:8080/",
          "height": 34
        }
      },
      "cell_type": "code",
      "source": [
        "import torch.nn as nn\n",
        "import torch.nn.functional as F\n",
        "from torch.autograd import Variable # Automatic gradients are calculated and back-propagated through the computational graph\n",
        "\n",
        "device = torch.device(\"cuda:0\" if torch.cuda.is_available() else \"cpu\")\n",
        "device"
      ],
      "execution_count": 21,
      "outputs": [
        {
          "output_type": "execute_result",
          "data": {
            "text/plain": [
              "device(type='cuda', index=0)"
            ]
          },
          "metadata": {
            "tags": []
          },
          "execution_count": 21
        }
      ]
    },
    {
      "metadata": {
        "id": "SaSwXEBh6565",
        "colab_type": "text"
      },
      "cell_type": "markdown",
      "source": [
        "##Model Definition for the BOWClassifier"
      ]
    },
    {
      "metadata": {
        "id": "PM5I4GP6lFGu",
        "colab_type": "code",
        "colab": {}
      },
      "cell_type": "code",
      "source": [
        "class BOWClassifier(nn.Module):\n",
        "    def __init__(self, input_size, hidden_size, output_size):\n",
        "        super(BOWClassifier, self).__init__()\n",
        "        SEED = 42\n",
        "        torch.manual_seed(SEED)\n",
        "        torch.cuda.manual_seed(SEED)\n",
        "        self.hidden_size = hidden_size\n",
        "        self.i2h = nn.Linear(input_size, hidden_size) # initialises weights and biases i2h\n",
        "        self.h2o = nn.Linear(hidden_size, output_size) # initialises weights and biases h2o\n",
        "#         self.i2o = nn.Linear(input_size, output_size) # initialises weights and biases i2o\n",
        "         \n",
        "    def forward(self, x):\n",
        "        x = torch.relu(self.i2h(x)) # relu activation @ hidden layer\n",
        "        x = torch.sigmoid(self.h2o(x)) # sigmoid activation @ output layer\n",
        "        return x"
      ],
      "execution_count": 0,
      "outputs": []
    },
    {
      "metadata": {
        "id": "a8MGEFG3Mmww",
        "colab_type": "text"
      },
      "cell_type": "markdown",
      "source": [
        "### Initialise Parameter and Model"
      ]
    },
    {
      "metadata": {
        "id": "MlMeX6577J9A",
        "colab_type": "code",
        "outputId": "19e04fd9-98b7-4a0a-d5c2-baf036edf3e4",
        "colab": {
          "base_uri": "https://localhost:8080/",
          "height": 51
        }
      },
      "cell_type": "code",
      "source": [
        "num_of_input = VOCAB_SIZE # Bag word restriction has to be equal to vocabulary\n",
        "num_of_hidden = 50 # vary this for assignment\n",
        "num_of_output = 1 # binary sentiment classes (+ve, -ve)\n",
        "\n",
        "bow = BOWClassifier(num_of_input, num_of_hidden, num_of_output).to('cuda:0') # initialises weights and biases\n",
        "bow.i2h, bow.h2o # desc network\n",
        "\n",
        "# bow.i2o"
      ],
      "execution_count": 33,
      "outputs": [
        {
          "output_type": "execute_result",
          "data": {
            "text/plain": [
              "(Linear(in_features=72098, out_features=50, bias=True),\n",
              " Linear(in_features=50, out_features=1, bias=True))"
            ]
          },
          "metadata": {
            "tags": []
          },
          "execution_count": 33
        }
      ]
    },
    {
      "metadata": {
        "id": "8fMMShAzMDjW",
        "colab_type": "text"
      },
      "cell_type": "markdown",
      "source": [
        "#### visualise the parameter"
      ]
    },
    {
      "metadata": {
        "id": "PRhDPFx87Ptm",
        "colab_type": "code",
        "outputId": "1f817c3d-0292-4dbb-c56d-7720b83b24a7",
        "colab": {
          "base_uri": "https://localhost:8080/",
          "height": 476
        }
      },
      "cell_type": "code",
      "source": [
        "for param in bow.parameters(): # desc the parameter value\n",
        "    print(param,param.size())"
      ],
      "execution_count": 34,
      "outputs": [
        {
          "output_type": "stream",
          "text": [
            "Parameter containing:\n",
            "tensor([[ 0.0028,  0.0031, -0.0009,  ...,  0.0013,  0.0002,  0.0032],\n",
            "        [-0.0035, -0.0032, -0.0017,  ...,  0.0025, -0.0011, -0.0002],\n",
            "        [ 0.0010,  0.0022, -0.0014,  ...,  0.0005, -0.0004,  0.0025],\n",
            "        ...,\n",
            "        [ 0.0018,  0.0020,  0.0019,  ...,  0.0023, -0.0005, -0.0022],\n",
            "        [-0.0004, -0.0036, -0.0005,  ...,  0.0002,  0.0009,  0.0002],\n",
            "        [-0.0037,  0.0010, -0.0030,  ..., -0.0003, -0.0001, -0.0032]],\n",
            "       device='cuda:0', requires_grad=True) torch.Size([50, 72098])\n",
            "Parameter containing:\n",
            "tensor([ 0.0011,  0.0004,  0.0031, -0.0034, -0.0035, -0.0011, -0.0032,  0.0018,\n",
            "         0.0030,  0.0035,  0.0010, -0.0009, -0.0037,  0.0021,  0.0017,  0.0023,\n",
            "        -0.0003,  0.0017, -0.0013,  0.0020,  0.0022, -0.0023,  0.0021,  0.0006,\n",
            "         0.0027,  0.0002, -0.0031, -0.0016,  0.0030,  0.0012, -0.0007, -0.0016,\n",
            "         0.0007,  0.0009,  0.0024,  0.0037,  0.0026,  0.0007,  0.0032, -0.0031,\n",
            "        -0.0023, -0.0017, -0.0031, -0.0026,  0.0031, -0.0017, -0.0019, -0.0009,\n",
            "         0.0015, -0.0036], device='cuda:0', requires_grad=True) torch.Size([50])\n",
            "Parameter containing:\n",
            "tensor([[ 0.0199,  0.0149,  0.0489,  0.0216,  0.0003,  0.0826,  0.0151,  0.0862,\n",
            "          0.1347, -0.0403,  0.0093,  0.0200, -0.0589, -0.0107, -0.0764, -0.0322,\n",
            "         -0.0884, -0.0293, -0.0897, -0.0402,  0.0540, -0.0363,  0.1348, -0.1242,\n",
            "          0.0739, -0.0110, -0.0421, -0.0210, -0.0361,  0.0512, -0.1150,  0.0524,\n",
            "         -0.0134, -0.0586, -0.1376,  0.0937, -0.0825, -0.0457,  0.0855, -0.0786,\n",
            "         -0.0229,  0.0808, -0.0104, -0.0091,  0.0346, -0.0017, -0.0088,  0.0050,\n",
            "          0.0788,  0.0027]], device='cuda:0', requires_grad=True) torch.Size([1, 50])\n",
            "Parameter containing:\n",
            "tensor([-0.0448], device='cuda:0', requires_grad=True) torch.Size([1])\n"
          ],
          "name": "stdout"
        }
      ]
    },
    {
      "metadata": {
        "id": "sWqAwOAI7D54",
        "colab_type": "text"
      },
      "cell_type": "markdown",
      "source": [
        "## Generate the BOW Vectors"
      ]
    },
    {
      "metadata": {
        "id": "UZK9TAQI7Fbm",
        "colab_type": "code",
        "colab": {}
      },
      "cell_type": "code",
      "source": [
        "def make_bow_vector(sentence, word_to_ix):\n",
        "    # create a vector of zeros of vocab size = len(word_to_idx)\n",
        "    vec = torch.zeros(len(word_to_ix)).to('cuda:0') #, device=device) # make 1D vector of len = vocab size\n",
        "    for word in sentence:\n",
        "        if word not in word_to_ix:            \n",
        "#             raise ValueError('Word',word,' not present in the dictionary. Sorry!')\n",
        "            pass\n",
        "        else:\n",
        "            vec[word_to_ix[word]]+=1 # count the number of occurance of same word in a sentences\n",
        "            \n",
        "    return vec.view(1, -1)"
      ],
      "execution_count": 0,
      "outputs": []
    },
    {
      "metadata": {
        "id": "6p3T6oo_T99z",
        "colab_type": "text"
      },
      "cell_type": "markdown",
      "source": [
        "### Store in input sentences torch vector"
      ]
    },
    {
      "metadata": {
        "id": "g6Tw8pD5NW2S",
        "colab_type": "code",
        "colab": {}
      },
      "cell_type": "code",
      "source": [
        "import time"
      ],
      "execution_count": 0,
      "outputs": []
    },
    {
      "metadata": {
        "id": "W7xoiOiAyZN5",
        "colab_type": "code",
        "outputId": "f08e8b5b-93d3-47b4-ed93-4f44ebba4aa4",
        "colab": {
          "base_uri": "https://localhost:8080/",
          "height": 34
        }
      },
      "cell_type": "code",
      "source": [
        "# store the bag of word vectors for each sentences and wraping to tensor of torch type\n",
        "tic = time.time()\n",
        "train_data = [Variable(make_bow_vector(instance, word_to_ix)).to('cuda:0') for instance in train_text_reviews]\n",
        "num_train_data = len(train_text_reviews)\n",
        "\n",
        "\n",
        "val_data = [Variable(make_bow_vector(instance, word_to_ix)).to('cuda:0') for instance in val_text_reviews]\n",
        "num_val_data = len(val_text_reviews)\n",
        "toc = time.time()\n",
        "num_train_data, num_val_data, (toc-tic)"
      ],
      "execution_count": 29,
      "outputs": [
        {
          "output_type": "execute_result",
          "data": {
            "text/plain": [
              "(17999, 499, 104.50174760818481)"
            ]
          },
          "metadata": {
            "tags": []
          },
          "execution_count": 29
        }
      ]
    },
    {
      "metadata": {
        "id": "deO_hz8vT19u",
        "colab_type": "text"
      },
      "cell_type": "markdown",
      "source": [
        "### Validation Accuracy Computation"
      ]
    },
    {
      "metadata": {
        "id": "cStQIVFfESWM",
        "colab_type": "code",
        "colab": {}
      },
      "cell_type": "code",
      "source": [
        "def evaluate_validation_accuracy(data, net):\n",
        "    sum_loss = 0\n",
        "    \n",
        "    true_positive = 0\n",
        "    true_negative = 0\n",
        "    false_positive = 0\n",
        "    false_negative = 0\n",
        "    \n",
        "    for i, instance in enumerate(data):\n",
        "        label = val_text_labels[i] # get the label of the corresponding instace\n",
        "        label = Variable(torch.FloatTensor([label])).resize_((1,1)).to('cuda:0') # wraps a tensor for label\n",
        "        \n",
        "#         vec = Variable(make_bow_vector(instance, word_to_ix)).to('cuda:0') # wrap to tensor of torch type for instance\n",
        "        \n",
        "#         prob = net.forward(vec) # forward pass\n",
        "\n",
        "        prob = net.forward(instance)\n",
        "    \n",
        "        _class = 1 if prob.item() > 0.5 else 0 # sigmoid activated\n",
        "        \n",
        "        loss = loss_function(prob, label) # compute the loss\n",
        "        \n",
        "        sum_loss += float(loss.item())\n",
        "        \n",
        "        if(int(label) == _class and _class == 1):\n",
        "            true_positive += 1\n",
        "            \n",
        "        if(int(label) == _class and _class == 0):\n",
        "            true_negative += 1\n",
        "        \n",
        "        if(_class == 1 and int(label) == 0):\n",
        "            false_positive += 1\n",
        "            \n",
        "        if(_class == 0 and int(label) == 1):\n",
        "            false_negative += 1\n",
        "\n",
        "    precision = float(true_positive) / (true_positive + false_positive)\n",
        "    recall = float(true_positive) / (true_positive + false_negative)\n",
        "    f_score = float(2)*true_positive / (2*true_positive + false_positive + false_negative)\n",
        "    \n",
        "    return float(sum_loss)/len(data), float(100)*(true_positive+true_negative)/(true_positive+true_negative+false_positive+false_negative), precision, recall, f_score"
      ],
      "execution_count": 0,
      "outputs": []
    },
    {
      "metadata": {
        "id": "nw0OYbTzBwJ8",
        "colab_type": "text"
      },
      "cell_type": "markdown",
      "source": [
        "## Define Loss function"
      ]
    },
    {
      "metadata": {
        "id": "PbQcwSIb96V9",
        "colab_type": "code",
        "colab": {}
      },
      "cell_type": "code",
      "source": [
        "epochs = 100\n",
        "# define a loss function and an optimizer\n",
        "loss_function = nn.BCELoss()\n",
        "opt = torch.optim.SGD(bow.parameters(), lr = float(1)/epoch)#, momentum=0.9)"
      ],
      "execution_count": 0,
      "outputs": []
    },
    {
      "metadata": {
        "id": "dqYSLXcj11HJ",
        "colab_type": "code",
        "outputId": "0665fc01-9e2b-4b56-9b9e-04933d66bb84",
        "colab": {
          "base_uri": "https://localhost:8080/",
          "height": 34
        }
      },
      "cell_type": "code",
      "source": [
        "gc.collect()"
      ],
      "execution_count": 37,
      "outputs": [
        {
          "output_type": "execute_result",
          "data": {
            "text/plain": [
              "8"
            ]
          },
          "metadata": {
            "tags": []
          },
          "execution_count": 37
        }
      ]
    },
    {
      "metadata": {
        "id": "tuYAAQh2F6J8",
        "colab_type": "text"
      },
      "cell_type": "markdown",
      "source": [
        "## Train the model"
      ]
    },
    {
      "metadata": {
        "id": "ad6MFVt7F5X8",
        "colab_type": "code",
        "outputId": "24e5835d-7eda-4535-f589-8e03f7fa0027",
        "colab": {
          "base_uri": "https://localhost:8080/",
          "height": 5137
        }
      },
      "cell_type": "code",
      "source": [
        "# the training loop\n",
        "total_time = 0.0\n",
        "train_epoch_history = []\n",
        "train_loss_history = []\n",
        "val_loss_history = []\n",
        "\n",
        "for e in range(epochs):\n",
        "    tic = time.time() # start the timer\n",
        "    correct = 0\n",
        "    cumulative_loss = 0\n",
        "    incorrect = 0\n",
        "    \n",
        "    for i, instance in enumerate(train_data): # train_text_reviews \n",
        "        # get the training data\n",
        "        label = train_text_labels[i] # get the label of the corresponding instace\n",
        "        label = Variable(torch.FloatTensor([label])).resize_((1,1)).to('cuda:0') # wraps a tensor for label\n",
        "        \n",
        "        bow.zero_grad() # reset the gradient for each instance\n",
        "        \n",
        "#         bow_vec = Variable(make_bow_vector(instance, word_to_ix)).to('cuda:0') # vector repesentation of input sentence\n",
        "        \n",
        "#         pred = bow.forward(bow_vec) # forward pass ==> computes predictied values (1 or 0)\n",
        "        pred = bow.forward(instance)\n",
        "    \n",
        "        loss = loss_function(pred, label) # compute the loss\n",
        "        loss.backward() # backprop the loss\n",
        "        opt.step() # performs parameter updation based on the current gradient\n",
        "        \n",
        "        cumulative_loss += float(loss.item()) # accumulate the loss over whole training sample\n",
        "        \n",
        "        pred_class = 1 if pred.item() > 0.5 else 0 # as sigmoid activated\n",
        "        if(int(label) == pred_class): # counting correct prediction in each epoch\n",
        "            correct += 1\n",
        "        \n",
        "    train_epoch_history.append(e+1)\n",
        "    train_loss_history.append(float(cumulative_loss)/num_train_data)\n",
        "    \n",
        "    val_loss, val_accuracy, p, r, f = evaluate_validation_accuracy(val_data, bow) # test val-data-set on currently trained model\n",
        "    val_loss_history.append(val_loss/num_val_data)\n",
        "    \n",
        "    toc = time.time() # final time\n",
        "    total_time += (toc-tic)\n",
        "    \n",
        "    print(\"Epoch {}/{}\\n[On Training] ==> Time: {:.2f}s, Train Loss: {:.9f}, Train Accuracy: {:.2f}%\".format(e+1, epochs, (toc-tic), float(cumulative_loss)/num_train_data, correct*float(100)/num_train_data))\n",
        "    print(\"[On Validation] ==> Precision: {:.3f}, Recall: {:.3f}, F-Score: {:.3f}, Val loss: {:.9f}, Val Accuracy: {:.2f}% Total Time: {:.2f}s\".format(p, r, f, val_loss, val_accuracy, total_time))"
      ],
      "execution_count": 39,
      "outputs": [
        {
          "output_type": "stream",
          "text": [
            "Epoch 1/100\n",
            "[On Training] ==> Time: 42.28s, Train Loss: 0.490627056, Train Accuracy: 76.50%\n",
            "[On Validation] ==> Precision: 0.791, Recall: 0.854, F-Score: 0.821, Val loss: 0.434530610, Val Accuracy: 81.16% Total Time: 42.28s\n",
            "Epoch 2/100\n",
            "[On Training] ==> Time: 42.29s, Train Loss: 0.359034021, Train Accuracy: 84.60%\n",
            "[On Validation] ==> Precision: 0.858, Recall: 0.909, F-Score: 0.883, Val loss: 0.273836044, Val Accuracy: 87.78% Total Time: 84.57s\n",
            "Epoch 3/100\n",
            "[On Training] ==> Time: 42.27s, Train Loss: 0.309304970, Train Accuracy: 86.25%\n",
            "[On Validation] ==> Precision: 0.839, Recall: 0.949, F-Score: 0.891, Val loss: 0.299580080, Val Accuracy: 88.18% Total Time: 126.85s\n",
            "Epoch 4/100\n",
            "[On Training] ==> Time: 42.11s, Train Loss: 0.239977344, Train Accuracy: 89.32%\n",
            "[On Validation] ==> Precision: 0.890, Recall: 0.960, F-Score: 0.924, Val loss: 0.209757740, Val Accuracy: 91.98% Total Time: 168.95s\n",
            "Epoch 5/100\n",
            "[On Training] ==> Time: 42.06s, Train Loss: 0.208395128, Train Accuracy: 90.99%\n",
            "[On Validation] ==> Precision: 0.849, Recall: 0.976, F-Score: 0.908, Val loss: 0.196341421, Val Accuracy: 89.98% Total Time: 211.02s\n",
            "Epoch 6/100\n",
            "[On Training] ==> Time: 42.06s, Train Loss: 0.184334028, Train Accuracy: 92.44%\n",
            "[On Validation] ==> Precision: 0.918, Recall: 0.968, F-Score: 0.942, Val loss: 0.172915825, Val Accuracy: 93.99% Total Time: 253.08s\n",
            "Epoch 7/100\n",
            "[On Training] ==> Time: 42.07s, Train Loss: 0.164502211, Train Accuracy: 93.34%\n",
            "[On Validation] ==> Precision: 0.937, Recall: 0.945, F-Score: 0.941, Val loss: 0.195595942, Val Accuracy: 93.99% Total Time: 295.15s\n",
            "Epoch 8/100\n",
            "[On Training] ==> Time: 42.06s, Train Loss: 0.149724308, Train Accuracy: 93.99%\n",
            "[On Validation] ==> Precision: 0.943, Recall: 0.972, F-Score: 0.957, Val loss: 0.087089548, Val Accuracy: 95.59% Total Time: 337.21s\n",
            "Epoch 9/100\n",
            "[On Training] ==> Time: 42.17s, Train Loss: 0.120334158, Train Accuracy: 94.68%\n",
            "[On Validation] ==> Precision: 0.975, Recall: 0.917, F-Score: 0.945, Val loss: 0.118859552, Val Accuracy: 94.59% Total Time: 379.38s\n",
            "Epoch 10/100\n",
            "[On Training] ==> Time: 42.07s, Train Loss: 0.115195261, Train Accuracy: 94.81%\n",
            "[On Validation] ==> Precision: 0.983, Recall: 0.929, F-Score: 0.955, Val loss: 0.085074551, Val Accuracy: 95.59% Total Time: 421.45s\n",
            "Epoch 11/100\n",
            "[On Training] ==> Time: 42.31s, Train Loss: 0.143646516, Train Accuracy: 94.38%\n",
            "[On Validation] ==> Precision: 0.982, Recall: 0.858, F-Score: 0.916, Val loss: 0.170260930, Val Accuracy: 91.98% Total Time: 463.77s\n",
            "Epoch 12/100\n",
            "[On Training] ==> Time: 42.01s, Train Loss: 0.127413081, Train Accuracy: 94.53%\n",
            "[On Validation] ==> Precision: 0.943, Recall: 0.976, F-Score: 0.959, Val loss: 0.095305844, Val Accuracy: 95.79% Total Time: 505.78s\n",
            "Epoch 13/100\n",
            "[On Training] ==> Time: 42.06s, Train Loss: 0.117825885, Train Accuracy: 95.08%\n",
            "[On Validation] ==> Precision: 0.923, Recall: 0.992, F-Score: 0.956, Val loss: 0.154847659, Val Accuracy: 95.39% Total Time: 547.84s\n",
            "Epoch 14/100\n",
            "[On Training] ==> Time: 42.10s, Train Loss: 0.126163414, Train Accuracy: 95.23%\n",
            "[On Validation] ==> Precision: 0.920, Recall: 0.996, F-Score: 0.956, Val loss: 0.137529217, Val Accuracy: 95.39% Total Time: 589.95s\n",
            "Epoch 15/100\n",
            "[On Training] ==> Time: 42.04s, Train Loss: 0.135903698, Train Accuracy: 94.81%\n",
            "[On Validation] ==> Precision: 0.963, Recall: 0.925, F-Score: 0.944, Val loss: 0.123701090, Val Accuracy: 94.39% Total Time: 631.99s\n",
            "Epoch 16/100\n",
            "[On Training] ==> Time: 42.17s, Train Loss: 0.132363246, Train Accuracy: 94.85%\n",
            "[On Validation] ==> Precision: 0.991, Recall: 0.917, F-Score: 0.953, Val loss: 0.114076206, Val Accuracy: 95.39% Total Time: 674.16s\n",
            "Epoch 17/100\n",
            "[On Training] ==> Time: 42.04s, Train Loss: 0.104660271, Train Accuracy: 95.88%\n",
            "[On Validation] ==> Precision: 0.987, Recall: 0.933, F-Score: 0.959, Val loss: 0.085204583, Val Accuracy: 95.99% Total Time: 716.21s\n",
            "Epoch 18/100\n",
            "[On Training] ==> Time: 42.30s, Train Loss: 0.119358257, Train Accuracy: 95.58%\n",
            "[On Validation] ==> Precision: 0.996, Recall: 0.921, F-Score: 0.957, Val loss: 0.092995733, Val Accuracy: 95.79% Total Time: 758.51s\n",
            "Epoch 19/100\n",
            "[On Training] ==> Time: 42.15s, Train Loss: 0.118150386, Train Accuracy: 95.30%\n",
            "[On Validation] ==> Precision: 0.996, Recall: 0.913, F-Score: 0.953, Val loss: 0.078536198, Val Accuracy: 95.39% Total Time: 800.66s\n",
            "Epoch 20/100\n",
            "[On Training] ==> Time: 42.09s, Train Loss: 0.082099754, Train Accuracy: 96.27%\n",
            "[On Validation] ==> Precision: 0.996, Recall: 0.941, F-Score: 0.967, Val loss: 0.069191475, Val Accuracy: 96.79% Total Time: 842.76s\n",
            "Epoch 21/100\n",
            "[On Training] ==> Time: 42.06s, Train Loss: 0.099078808, Train Accuracy: 96.04%\n",
            "[On Validation] ==> Precision: 0.992, Recall: 0.957, F-Score: 0.974, Val loss: 0.051497064, Val Accuracy: 97.39% Total Time: 884.81s\n",
            "Epoch 22/100\n",
            "[On Training] ==> Time: 42.10s, Train Loss: 0.096983722, Train Accuracy: 96.51%\n",
            "[On Validation] ==> Precision: 0.988, Recall: 0.941, F-Score: 0.964, Val loss: 0.063600754, Val Accuracy: 96.39% Total Time: 926.91s\n",
            "Epoch 23/100\n",
            "[On Training] ==> Time: 42.08s, Train Loss: 0.110889654, Train Accuracy: 96.09%\n",
            "[On Validation] ==> Precision: 0.996, Recall: 0.941, F-Score: 0.967, Val loss: 0.058398332, Val Accuracy: 96.79% Total Time: 968.99s\n",
            "Epoch 24/100\n",
            "[On Training] ==> Time: 42.25s, Train Loss: 0.134389949, Train Accuracy: 95.45%\n",
            "[On Validation] ==> Precision: 0.892, Recall: 0.984, F-Score: 0.936, Val loss: 0.242925102, Val Accuracy: 93.19% Total Time: 1011.24s\n",
            "Epoch 25/100\n",
            "[On Training] ==> Time: 42.21s, Train Loss: 0.217567108, Train Accuracy: 94.64%\n",
            "[On Validation] ==> Precision: 0.926, Recall: 0.992, F-Score: 0.958, Val loss: 0.177800233, Val Accuracy: 95.59% Total Time: 1053.45s\n",
            "Epoch 26/100\n",
            "[On Training] ==> Time: 42.25s, Train Loss: 0.131264044, Train Accuracy: 95.44%\n",
            "[On Validation] ==> Precision: 0.934, Recall: 1.000, F-Score: 0.966, Val loss: 0.090112293, Val Accuracy: 96.39% Total Time: 1095.70s\n",
            "Epoch 27/100\n",
            "[On Training] ==> Time: 42.06s, Train Loss: 0.110203051, Train Accuracy: 96.17%\n",
            "[On Validation] ==> Precision: 0.962, Recall: 1.000, F-Score: 0.981, Val loss: 0.068522443, Val Accuracy: 98.00% Total Time: 1137.76s\n",
            "Epoch 28/100\n",
            "[On Training] ==> Time: 42.14s, Train Loss: 0.098662536, Train Accuracy: 96.34%\n",
            "[On Validation] ==> Precision: 0.969, Recall: 1.000, F-Score: 0.984, Val loss: 0.046761038, Val Accuracy: 98.40% Total Time: 1179.90s\n",
            "Epoch 29/100\n",
            "[On Training] ==> Time: 42.14s, Train Loss: 0.081340433, Train Accuracy: 96.82%\n",
            "[On Validation] ==> Precision: 0.992, Recall: 0.964, F-Score: 0.978, Val loss: 0.032652415, Val Accuracy: 97.80% Total Time: 1222.03s\n",
            "Epoch 30/100\n",
            "[On Training] ==> Time: 42.18s, Train Loss: 0.076660612, Train Accuracy: 96.76%\n",
            "[On Validation] ==> Precision: 0.969, Recall: 0.996, F-Score: 0.982, Val loss: 0.031053625, Val Accuracy: 98.20% Total Time: 1264.22s\n",
            "Epoch 31/100\n",
            "[On Training] ==> Time: 42.36s, Train Loss: 0.095411611, Train Accuracy: 96.87%\n",
            "[On Validation] ==> Precision: 0.958, Recall: 0.984, F-Score: 0.971, Val loss: 0.093744776, Val Accuracy: 96.99% Total Time: 1306.58s\n",
            "Epoch 32/100\n",
            "[On Training] ==> Time: 42.16s, Train Loss: 0.106307923, Train Accuracy: 95.92%\n",
            "[On Validation] ==> Precision: 0.962, Recall: 0.996, F-Score: 0.979, Val loss: 0.052822938, Val Accuracy: 97.80% Total Time: 1348.74s\n",
            "Epoch 33/100\n",
            "[On Training] ==> Time: 42.38s, Train Loss: 0.075500562, Train Accuracy: 96.87%\n",
            "[On Validation] ==> Precision: 0.962, Recall: 1.000, F-Score: 0.981, Val loss: 0.046370643, Val Accuracy: 98.00% Total Time: 1391.12s\n",
            "Epoch 34/100\n",
            "[On Training] ==> Time: 42.23s, Train Loss: 0.070346890, Train Accuracy: 97.33%\n",
            "[On Validation] ==> Precision: 0.966, Recall: 0.996, F-Score: 0.981, Val loss: 0.041597413, Val Accuracy: 98.00% Total Time: 1433.36s\n",
            "Epoch 35/100\n",
            "[On Training] ==> Time: 42.19s, Train Loss: 0.063608961, Train Accuracy: 97.42%\n",
            "[On Validation] ==> Precision: 0.969, Recall: 0.992, F-Score: 0.980, Val loss: 0.035933759, Val Accuracy: 98.00% Total Time: 1475.55s\n",
            "Epoch 36/100\n",
            "[On Training] ==> Time: 42.27s, Train Loss: 0.062121212, Train Accuracy: 97.32%\n",
            "[On Validation] ==> Precision: 0.958, Recall: 1.000, F-Score: 0.979, Val loss: 0.034826257, Val Accuracy: 97.80% Total Time: 1517.82s\n",
            "Epoch 37/100\n",
            "[On Training] ==> Time: 42.28s, Train Loss: 0.078974749, Train Accuracy: 97.49%\n",
            "[On Validation] ==> Precision: 0.954, Recall: 0.992, F-Score: 0.973, Val loss: 0.070473263, Val Accuracy: 97.19% Total Time: 1560.10s\n",
            "Epoch 38/100\n",
            "[On Training] ==> Time: 42.34s, Train Loss: 0.094521778, Train Accuracy: 97.28%\n",
            "[On Validation] ==> Precision: 0.996, Recall: 0.937, F-Score: 0.965, Val loss: 0.056733578, Val Accuracy: 96.59% Total Time: 1602.43s\n",
            "Epoch 39/100\n",
            "[On Training] ==> Time: 42.25s, Train Loss: 0.089082519, Train Accuracy: 97.04%\n",
            "[On Validation] ==> Precision: 0.966, Recall: 0.996, F-Score: 0.981, Val loss: 0.064609158, Val Accuracy: 98.00% Total Time: 1644.68s\n",
            "Epoch 40/100\n",
            "[On Training] ==> Time: 42.43s, Train Loss: 0.120137667, Train Accuracy: 96.36%\n",
            "[On Validation] ==> Precision: 0.987, Recall: 0.925, F-Score: 0.955, Val loss: 0.083205059, Val Accuracy: 95.59% Total Time: 1687.10s\n",
            "Epoch 41/100\n",
            "[On Training] ==> Time: 42.19s, Train Loss: 0.153724861, Train Accuracy: 95.08%\n",
            "[On Validation] ==> Precision: 0.996, Recall: 0.921, F-Score: 0.957, Val loss: 0.106756382, Val Accuracy: 95.79% Total Time: 1729.29s\n",
            "Epoch 42/100\n",
            "[On Training] ==> Time: 42.21s, Train Loss: 0.109010592, Train Accuracy: 95.79%\n",
            "[On Validation] ==> Precision: 0.996, Recall: 0.949, F-Score: 0.972, Val loss: 0.069085189, Val Accuracy: 97.19% Total Time: 1771.50s\n",
            "Epoch 43/100\n",
            "[On Training] ==> Time: 42.21s, Train Loss: 0.092379902, Train Accuracy: 96.66%\n",
            "[On Validation] ==> Precision: 0.992, Recall: 0.964, F-Score: 0.978, Val loss: 0.044345205, Val Accuracy: 97.80% Total Time: 1813.71s\n",
            "Epoch 44/100\n",
            "[On Training] ==> Time: 42.20s, Train Loss: 0.064195002, Train Accuracy: 97.19%\n",
            "[On Validation] ==> Precision: 1.000, Recall: 0.941, F-Score: 0.969, Val loss: 0.052249586, Val Accuracy: 96.99% Total Time: 1855.91s\n",
            "Epoch 45/100\n",
            "[On Training] ==> Time: 42.36s, Train Loss: 0.161956586, Train Accuracy: 95.70%\n",
            "[On Validation] ==> Precision: 0.982, Recall: 0.885, F-Score: 0.931, Val loss: 0.233835697, Val Accuracy: 93.39% Total Time: 1898.27s\n",
            "Epoch 46/100\n",
            "[On Training] ==> Time: 42.19s, Train Loss: 0.114973690, Train Accuracy: 95.97%\n",
            "[On Validation] ==> Precision: 0.987, Recall: 0.933, F-Score: 0.959, Val loss: 0.067683929, Val Accuracy: 95.99% Total Time: 1940.46s\n",
            "Epoch 47/100\n",
            "[On Training] ==> Time: 42.15s, Train Loss: 0.085040386, Train Accuracy: 96.75%\n",
            "[On Validation] ==> Precision: 0.992, Recall: 0.949, F-Score: 0.970, Val loss: 0.046458399, Val Accuracy: 96.99% Total Time: 1982.61s\n",
            "Epoch 48/100\n",
            "[On Training] ==> Time: 42.41s, Train Loss: 0.102088143, Train Accuracy: 96.22%\n",
            "[On Validation] ==> Precision: 0.961, Recall: 0.984, F-Score: 0.973, Val loss: 0.057620964, Val Accuracy: 97.19% Total Time: 2025.02s\n",
            "Epoch 49/100\n",
            "[On Training] ==> Time: 42.19s, Train Loss: 0.104640664, Train Accuracy: 97.05%\n",
            "[On Validation] ==> Precision: 0.966, Recall: 1.000, F-Score: 0.983, Val loss: 0.046054202, Val Accuracy: 98.20% Total Time: 2067.20s\n",
            "Epoch 50/100\n",
            "[On Training] ==> Time: 42.17s, Train Loss: 0.095223788, Train Accuracy: 96.55%\n",
            "[On Validation] ==> Precision: 0.996, Recall: 0.960, F-Score: 0.978, Val loss: 0.054890907, Val Accuracy: 97.80% Total Time: 2109.38s\n",
            "Epoch 51/100\n",
            "[On Training] ==> Time: 42.24s, Train Loss: 0.066677897, Train Accuracy: 97.23%\n",
            "[On Validation] ==> Precision: 0.996, Recall: 0.957, F-Score: 0.976, Val loss: 0.074452697, Val Accuracy: 97.60% Total Time: 2151.61s\n",
            "Epoch 52/100\n",
            "[On Training] ==> Time: 42.10s, Train Loss: 0.069670896, Train Accuracy: 97.39%\n",
            "[On Validation] ==> Precision: 0.955, Recall: 1.000, F-Score: 0.977, Val loss: 0.039590081, Val Accuracy: 97.60% Total Time: 2193.72s\n",
            "Epoch 53/100\n",
            "[On Training] ==> Time: 42.27s, Train Loss: 0.051187436, Train Accuracy: 97.77%\n",
            "[On Validation] ==> Precision: 0.965, Recall: 0.988, F-Score: 0.977, Val loss: 0.053641635, Val Accuracy: 97.60% Total Time: 2235.99s\n",
            "Epoch 54/100\n",
            "[On Training] ==> Time: 42.20s, Train Loss: 0.065740172, Train Accuracy: 97.36%\n",
            "[On Validation] ==> Precision: 0.988, Recall: 0.957, F-Score: 0.972, Val loss: 0.064526444, Val Accuracy: 97.19% Total Time: 2278.19s\n",
            "Epoch 55/100\n",
            "[On Training] ==> Time: 42.47s, Train Loss: 0.054419113, Train Accuracy: 97.74%\n",
            "[On Validation] ==> Precision: 0.996, Recall: 0.964, F-Score: 0.980, Val loss: 0.060107773, Val Accuracy: 98.00% Total Time: 2320.66s\n",
            "Epoch 56/100\n",
            "[On Training] ==> Time: 42.21s, Train Loss: 0.065492649, Train Accuracy: 97.77%\n",
            "[On Validation] ==> Precision: 1.000, Recall: 0.968, F-Score: 0.984, Val loss: 0.029100552, Val Accuracy: 98.40% Total Time: 2362.88s\n",
            "Epoch 57/100\n",
            "[On Training] ==> Time: 42.21s, Train Loss: 0.054308256, Train Accuracy: 97.88%\n",
            "[On Validation] ==> Precision: 1.000, Recall: 0.968, F-Score: 0.984, Val loss: 0.028773135, Val Accuracy: 98.40% Total Time: 2405.08s\n",
            "Epoch 58/100\n",
            "[On Training] ==> Time: 42.15s, Train Loss: 0.042323127, Train Accuracy: 98.13%\n",
            "[On Validation] ==> Precision: 1.000, Recall: 0.976, F-Score: 0.988, Val loss: 0.029434818, Val Accuracy: 98.80% Total Time: 2447.24s\n",
            "Epoch 59/100\n",
            "[On Training] ==> Time: 42.19s, Train Loss: 0.081478556, Train Accuracy: 97.51%\n",
            "[On Validation] ==> Precision: 0.984, Recall: 0.968, F-Score: 0.976, Val loss: 0.090790384, Val Accuracy: 97.60% Total Time: 2489.43s\n",
            "Epoch 60/100\n",
            "[On Training] ==> Time: 42.33s, Train Loss: 0.092012522, Train Accuracy: 96.97%\n",
            "[On Validation] ==> Precision: 1.000, Recall: 0.968, F-Score: 0.984, Val loss: 0.043138566, Val Accuracy: 98.40% Total Time: 2531.76s\n",
            "Epoch 61/100\n",
            "[On Training] ==> Time: 42.18s, Train Loss: 0.090624430, Train Accuracy: 96.89%\n",
            "[On Validation] ==> Precision: 0.996, Recall: 0.968, F-Score: 0.982, Val loss: 0.042385088, Val Accuracy: 98.20% Total Time: 2573.93s\n",
            "Epoch 62/100\n",
            "[On Training] ==> Time: 42.39s, Train Loss: 0.070049440, Train Accuracy: 97.53%\n",
            "[On Validation] ==> Precision: 0.988, Recall: 0.972, F-Score: 0.980, Val loss: 0.048688697, Val Accuracy: 98.00% Total Time: 2616.32s\n",
            "Epoch 63/100\n",
            "[On Training] ==> Time: 42.19s, Train Loss: 0.062234344, Train Accuracy: 97.58%\n",
            "[On Validation] ==> Precision: 1.000, Recall: 0.957, F-Score: 0.978, Val loss: 0.063179508, Val Accuracy: 97.80% Total Time: 2658.52s\n",
            "Epoch 64/100\n",
            "[On Training] ==> Time: 42.19s, Train Loss: 0.078285067, Train Accuracy: 97.76%\n",
            "[On Validation] ==> Precision: 0.992, Recall: 0.984, F-Score: 0.988, Val loss: 0.058430445, Val Accuracy: 98.80% Total Time: 2700.70s\n",
            "Epoch 65/100\n",
            "[On Training] ==> Time: 42.22s, Train Loss: 0.060069995, Train Accuracy: 97.89%\n",
            "[On Validation] ==> Precision: 1.000, Recall: 0.984, F-Score: 0.992, Val loss: 0.021769922, Val Accuracy: 99.20% Total Time: 2742.92s\n",
            "Epoch 66/100\n",
            "[On Training] ==> Time: 42.20s, Train Loss: 0.047313009, Train Accuracy: 98.07%\n",
            "[On Validation] ==> Precision: 1.000, Recall: 0.984, F-Score: 0.992, Val loss: 0.021394911, Val Accuracy: 99.20% Total Time: 2785.12s\n",
            "Epoch 67/100\n",
            "[On Training] ==> Time: 42.31s, Train Loss: 0.046306433, Train Accuracy: 98.16%\n",
            "[On Validation] ==> Precision: 1.000, Recall: 0.984, F-Score: 0.992, Val loss: 0.021146512, Val Accuracy: 99.20% Total Time: 2827.44s\n",
            "Epoch 68/100\n",
            "[On Training] ==> Time: 42.24s, Train Loss: 0.049941686, Train Accuracy: 98.02%\n",
            "[On Validation] ==> Precision: 1.000, Recall: 0.980, F-Score: 0.990, Val loss: 0.022917422, Val Accuracy: 99.00% Total Time: 2869.68s\n",
            "Epoch 69/100\n",
            "[On Training] ==> Time: 42.18s, Train Loss: 0.068474108, Train Accuracy: 98.02%\n",
            "[On Validation] ==> Precision: 0.996, Recall: 0.968, F-Score: 0.982, Val loss: 0.052323776, Val Accuracy: 98.20% Total Time: 2911.86s\n",
            "Epoch 70/100\n",
            "[On Training] ==> Time: 42.38s, Train Loss: 0.094130056, Train Accuracy: 97.33%\n",
            "[On Validation] ==> Precision: 0.955, Recall: 1.000, F-Score: 0.977, Val loss: 0.027253770, Val Accuracy: 97.60% Total Time: 2954.24s\n",
            "Epoch 71/100\n",
            "[On Training] ==> Time: 42.27s, Train Loss: 0.077255865, Train Accuracy: 97.13%\n",
            "[On Validation] ==> Precision: 1.000, Recall: 0.960, F-Score: 0.980, Val loss: 0.032275178, Val Accuracy: 98.00% Total Time: 2996.52s\n",
            "Epoch 72/100\n",
            "[On Training] ==> Time: 42.17s, Train Loss: 0.049484148, Train Accuracy: 98.07%\n",
            "[On Validation] ==> Precision: 0.996, Recall: 0.968, F-Score: 0.982, Val loss: 0.045001992, Val Accuracy: 98.20% Total Time: 3038.69s\n",
            "Epoch 73/100\n",
            "[On Training] ==> Time: 42.21s, Train Loss: 0.069819733, Train Accuracy: 98.05%\n",
            "[On Validation] ==> Precision: 0.996, Recall: 0.988, F-Score: 0.992, Val loss: 0.032104213, Val Accuracy: 99.20% Total Time: 3080.90s\n",
            "Epoch 74/100\n",
            "[On Training] ==> Time: 42.39s, Train Loss: 0.097744293, Train Accuracy: 97.52%\n",
            "[On Validation] ==> Precision: 0.996, Recall: 0.976, F-Score: 0.986, Val loss: 0.027443097, Val Accuracy: 98.60% Total Time: 3123.29s\n",
            "Epoch 75/100\n",
            "[On Training] ==> Time: 42.17s, Train Loss: 0.072975487, Train Accuracy: 97.77%\n",
            "[On Validation] ==> Precision: 0.954, Recall: 0.992, F-Score: 0.973, Val loss: 0.043026506, Val Accuracy: 97.19% Total Time: 3165.45s\n",
            "Epoch 76/100\n",
            "[On Training] ==> Time: 42.23s, Train Loss: 0.081964156, Train Accuracy: 97.48%\n",
            "[On Validation] ==> Precision: 1.000, Recall: 0.976, F-Score: 0.988, Val loss: 0.022327171, Val Accuracy: 98.80% Total Time: 3207.69s\n",
            "Epoch 77/100\n",
            "[On Training] ==> Time: 42.43s, Train Loss: 0.066043619, Train Accuracy: 97.85%\n",
            "[On Validation] ==> Precision: 0.988, Recall: 0.964, F-Score: 0.976, Val loss: 0.047989587, Val Accuracy: 97.60% Total Time: 3250.11s\n",
            "Epoch 78/100\n",
            "[On Training] ==> Time: 42.12s, Train Loss: 0.068937248, Train Accuracy: 97.72%\n",
            "[On Validation] ==> Precision: 0.980, Recall: 0.976, F-Score: 0.978, Val loss: 0.106814858, Val Accuracy: 97.80% Total Time: 3292.24s\n",
            "Epoch 79/100\n",
            "[On Training] ==> Time: 42.17s, Train Loss: 0.064449347, Train Accuracy: 97.97%\n",
            "[On Validation] ==> Precision: 0.992, Recall: 0.964, F-Score: 0.978, Val loss: 0.109575730, Val Accuracy: 97.80% Total Time: 3334.40s\n",
            "Epoch 80/100\n",
            "[On Training] ==> Time: 42.14s, Train Loss: 0.085787046, Train Accuracy: 97.49%\n",
            "[On Validation] ==> Precision: 0.992, Recall: 0.980, F-Score: 0.986, Val loss: 0.119477165, Val Accuracy: 98.60% Total Time: 3376.55s\n",
            "Epoch 81/100\n",
            "[On Training] ==> Time: 42.14s, Train Loss: 0.066023816, Train Accuracy: 97.94%\n",
            "[On Validation] ==> Precision: 0.996, Recall: 0.972, F-Score: 0.984, Val loss: 0.049212621, Val Accuracy: 98.40% Total Time: 3418.68s\n",
            "Epoch 82/100\n",
            "[On Training] ==> Time: 42.28s, Train Loss: 0.056466652, Train Accuracy: 98.09%\n",
            "[On Validation] ==> Precision: 0.996, Recall: 0.980, F-Score: 0.988, Val loss: 0.024337863, Val Accuracy: 98.80% Total Time: 3460.97s\n",
            "Epoch 83/100\n",
            "[On Training] ==> Time: 42.16s, Train Loss: 0.050676268, Train Accuracy: 98.28%\n",
            "[On Validation] ==> Precision: 0.996, Recall: 0.984, F-Score: 0.990, Val loss: 0.021729231, Val Accuracy: 99.00% Total Time: 3503.13s\n",
            "Epoch 84/100\n",
            "[On Training] ==> Time: 42.30s, Train Loss: 0.076440524, Train Accuracy: 98.12%\n",
            "[On Validation] ==> Precision: 0.996, Recall: 0.968, F-Score: 0.982, Val loss: 0.038147295, Val Accuracy: 98.20% Total Time: 3545.43s\n",
            "Epoch 85/100\n",
            "[On Training] ==> Time: 42.19s, Train Loss: 0.075892687, Train Accuracy: 98.09%\n",
            "[On Validation] ==> Precision: 1.000, Recall: 0.949, F-Score: 0.974, Val loss: 0.041798399, Val Accuracy: 97.39% Total Time: 3587.62s\n",
            "Epoch 86/100\n",
            "[On Training] ==> Time: 42.16s, Train Loss: 0.079607063, Train Accuracy: 97.60%\n",
            "[On Validation] ==> Precision: 0.996, Recall: 0.945, F-Score: 0.970, Val loss: 0.067782842, Val Accuracy: 96.99% Total Time: 3629.78s\n",
            "Epoch 87/100\n",
            "[On Training] ==> Time: 42.14s, Train Loss: 0.080674562, Train Accuracy: 97.56%\n",
            "[On Validation] ==> Precision: 1.000, Recall: 0.984, F-Score: 0.992, Val loss: 0.023737864, Val Accuracy: 99.20% Total Time: 3671.93s\n",
            "Epoch 88/100\n",
            "[On Training] ==> Time: 42.19s, Train Loss: 0.088663732, Train Accuracy: 97.69%\n",
            "[On Validation] ==> Precision: 0.988, Recall: 0.980, F-Score: 0.984, Val loss: 0.057144690, Val Accuracy: 98.40% Total Time: 3714.12s\n",
            "Epoch 89/100\n",
            "[On Training] ==> Time: 42.27s, Train Loss: 0.055762065, Train Accuracy: 98.12%\n",
            "[On Validation] ==> Precision: 0.996, Recall: 0.984, F-Score: 0.990, Val loss: 0.035438403, Val Accuracy: 99.00% Total Time: 3756.39s\n",
            "Epoch 90/100\n",
            "[On Training] ==> Time: 42.15s, Train Loss: 0.075637491, Train Accuracy: 97.71%\n",
            "[On Validation] ==> Precision: 0.996, Recall: 0.976, F-Score: 0.986, Val loss: 0.040655699, Val Accuracy: 98.60% Total Time: 3798.54s\n",
            "Epoch 91/100\n",
            "[On Training] ==> Time: 42.18s, Train Loss: 0.078914919, Train Accuracy: 97.87%\n",
            "[On Validation] ==> Precision: 1.000, Recall: 0.953, F-Score: 0.976, Val loss: 0.033927966, Val Accuracy: 97.60% Total Time: 3840.72s\n",
            "Epoch 92/100\n",
            "[On Training] ==> Time: 42.33s, Train Loss: 0.063285646, Train Accuracy: 97.92%\n",
            "[On Validation] ==> Precision: 1.000, Recall: 0.964, F-Score: 0.982, Val loss: 0.034058540, Val Accuracy: 98.20% Total Time: 3883.05s\n",
            "Epoch 93/100\n",
            "[On Training] ==> Time: 42.16s, Train Loss: 0.068511719, Train Accuracy: 97.73%\n",
            "[On Validation] ==> Precision: 0.951, Recall: 0.992, F-Score: 0.971, Val loss: 0.108179661, Val Accuracy: 96.99% Total Time: 3925.21s\n",
            "Epoch 94/100\n",
            "[On Training] ==> Time: 42.20s, Train Loss: 0.071603762, Train Accuracy: 97.63%\n",
            "[On Validation] ==> Precision: 0.996, Recall: 0.957, F-Score: 0.976, Val loss: 0.062785681, Val Accuracy: 97.60% Total Time: 3967.41s\n",
            "Epoch 95/100\n",
            "[On Training] ==> Time: 42.10s, Train Loss: 0.078410469, Train Accuracy: 97.59%\n",
            "[On Validation] ==> Precision: 0.992, Recall: 0.957, F-Score: 0.974, Val loss: 0.112806220, Val Accuracy: 97.39% Total Time: 4009.51s\n",
            "Epoch 96/100\n",
            "[On Training] ==> Time: 42.29s, Train Loss: 0.048214246, Train Accuracy: 98.01%\n",
            "[On Validation] ==> Precision: 0.951, Recall: 1.000, F-Score: 0.975, Val loss: 0.039361651, Val Accuracy: 97.39% Total Time: 4051.80s\n",
            "Epoch 97/100\n",
            "[On Training] ==> Time: 42.18s, Train Loss: 0.052425560, Train Accuracy: 97.84%\n",
            "[On Validation] ==> Precision: 0.980, Recall: 0.984, F-Score: 0.982, Val loss: 0.081174384, Val Accuracy: 98.20% Total Time: 4093.98s\n",
            "Epoch 98/100\n",
            "[On Training] ==> Time: 42.10s, Train Loss: 0.056578845, Train Accuracy: 97.99%\n",
            "[On Validation] ==> Precision: 0.980, Recall: 0.984, F-Score: 0.982, Val loss: 0.275199872, Val Accuracy: 98.20% Total Time: 4136.08s\n",
            "Epoch 99/100\n",
            "[On Training] ==> Time: 42.36s, Train Loss: 0.073498032, Train Accuracy: 98.02%\n",
            "[On Validation] ==> Precision: 0.992, Recall: 0.980, F-Score: 0.986, Val loss: 0.083049211, Val Accuracy: 98.60% Total Time: 4178.44s\n",
            "Epoch 100/100\n",
            "[On Training] ==> Time: 42.17s, Train Loss: 0.060280711, Train Accuracy: 98.03%\n",
            "[On Validation] ==> Precision: 0.996, Recall: 0.984, F-Score: 0.990, Val loss: 0.074863192, Val Accuracy: 99.00% Total Time: 4220.61s\n"
          ],
          "name": "stdout"
        }
      ]
    },
    {
      "metadata": {
        "id": "RsIuCobJmOel",
        "colab_type": "code",
        "colab": {
          "base_uri": "https://localhost:8080/",
          "height": 34
        },
        "outputId": "2fb73414-5593-4199-a807-2b8a36e3af95"
      },
      "cell_type": "code",
      "source": [
        "gc.collect()"
      ],
      "execution_count": 40,
      "outputs": [
        {
          "output_type": "execute_result",
          "data": {
            "text/plain": [
              "583"
            ]
          },
          "metadata": {
            "tags": []
          },
          "execution_count": 40
        }
      ]
    },
    {
      "metadata": {
        "id": "FDUyFfwmXSew",
        "colab_type": "code",
        "outputId": "e6fe3ce4-1b8d-4c8f-b47f-8e0f7f2782ff",
        "colab": {
          "base_uri": "https://localhost:8080/",
          "height": 379
        }
      },
      "cell_type": "code",
      "source": [
        "import matplotlib.pyplot as plt\n",
        "plt.figure(\"Image\")\n",
        "plt.title(\"Loss vs Epoch\")\n",
        "val_loss_history =  [float(i)/sum(val_loss_history) for i in val_loss_history] # normalised between 0-1\n",
        "train_loss_history =  [float(i)/sum(train_loss_history) for i in train_loss_history] # normalised between 0-1\n",
        "plt.plot(val_loss_history, c=\"blue\", label=\"Validation Loss\")\n",
        "plt.plot(train_loss_history, c=\"red\", label = \"Training Loss\")\n",
        "plt.legend()"
      ],
      "execution_count": 41,
      "outputs": [
        {
          "output_type": "execute_result",
          "data": {
            "text/plain": [
              "<matplotlib.legend.Legend at 0x7f7883b62128>"
            ]
          },
          "metadata": {
            "tags": []
          },
          "execution_count": 41
        },
        {
          "output_type": "display_data",
          "data": {
            "image/png": "[encoded data removed]",
            "text/plain": [
              "<Figure size 576x396 with 1 Axes>"
            ]
          },
          "metadata": {
            "tags": []
          }
        }
      ]
    },
    {
      "metadata": {
        "id": "gPf_k4VNuaDi",
        "colab_type": "code",
        "colab": {}
      },
      "cell_type": "code",
      "source": [
        ""
      ],
      "execution_count": 0,
      "outputs": []
    },
    {
      "metadata": {
        "id": "fkYBaktsF-sm",
        "colab_type": "code",
        "colab": {}
      },
      "cell_type": "code",
      "source": [
        "data = []\n",
        "data = [Variable(make_bow_vector(instance, word_to_ix)).to('cuda:0') for instance in test_text_reviews]"
      ],
      "execution_count": 0,
      "outputs": []
    },
    {
      "metadata": {
        "id": "ffYv5PAmjyp-",
        "colab_type": "code",
        "outputId": "d9406836-41eb-49c7-d8ea-577b2727a570",
        "colab": {
          "base_uri": "https://localhost:8080/",
          "height": 51
        }
      },
      "cell_type": "code",
      "source": [
        "print('--- AFTER TRAINING ---')\n",
        "correct = 0\n",
        "tic = time.time()\n",
        "for i, instance in enumerate(data):\n",
        "    label = test_text_labels[i]\n",
        "    pred = bow.forward(instance)\n",
        "    pred_class = 1 if pred.item() > 0.5 else 0 # sigmoid activated\n",
        "    \n",
        "    if(int(label) == pred_class):\n",
        "        correct += 1\n",
        "toc = time.time()\n",
        "print(\"Time: {}, Test Accuracy: {:.2f}%\".format((toc-tic), correct*100/len(data)))"
      ],
      "execution_count": 43,
      "outputs": [
        {
          "output_type": "stream",
          "text": [
            "--- AFTER TRAINING ---\n",
            "Time: 4.523271083831787, Test Accuracy: 85.54%\n"
          ],
          "name": "stdout"
        }
      ]
    },
    {
      "metadata": {
        "id": "uHAvtGWbudLN",
        "colab_type": "code",
        "colab": {
          "base_uri": "https://localhost:8080/",
          "height": 71
        },
        "outputId": "23e39339-6ee2-44ed-d734-2d1ce58da3e7"
      },
      "cell_type": "code",
      "source": [
        "torch.save(bow, 'Task1A.mdl')\n",
        "\n",
        "from google.colab import files\n",
        "files.download(\"Task1A.mdl\")"
      ],
      "execution_count": 44,
      "outputs": [
        {
          "output_type": "stream",
          "text": [
            "/usr/local/lib/python3.6/dist-packages/torch/serialization.py:251: UserWarning: Couldn't retrieve source code for container of type BOWClassifier. It won't be checked for correctness upon loading.\n",
            "  \"type \" + obj.__name__ + \". It won't be checked \"\n"
          ],
          "name": "stderr"
        }
      ]
    },
    {
      "metadata": {
        "id": "Zz5PwYjVudEk",
        "colab_type": "code",
        "colab": {
          "resources": {
            "http://localhost:8080/nbextensions/google.colab/files.js": {
              "data": "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",
              "ok": true,
              "headers": [
                [
                  "content-type",
                  "application/javascript"
                ]
              ],
              "status": 200,
              "status_text": ""
            }
          },
          "base_uri": "https://localhost:8080/",
          "height": 74
        },
        "outputId": "7c838c72-a8dd-4490-afd2-592700669450"
      },
      "cell_type": "code",
      "source": [
        "from google.colab import files\n",
        "temp_test = files.upload()"
      ],
      "execution_count": 1,
      "outputs": [
        {
          "output_type": "display_data",
          "data": {
            "text/html": [
              "\n",
              "     <input type=\"file\" id=\"files-bd4833a3-861c-4882-8c25-5d938bd5f28c\" name=\"files[]\" multiple disabled />\n",
              "     <output id=\"result-bd4833a3-861c-4882-8c25-5d938bd5f28c\">\n",
              "      Upload widget is only available when the cell has been executed in the\n",
              "      current browser session. Please rerun this cell to enable.\n",
              "      </output>\n",
              "      <script src=\"/nbextensions/google.colab/files.js\"></script> "
            ],
            "text/plain": [
              "<IPython.core.display.HTML object>"
            ]
          },
          "metadata": {
            "tags": []
          }
        },
        {
          "output_type": "stream",
          "text": [
            "Saving Task1A.mdl to Task1A.mdl\n"
          ],
          "name": "stdout"
        }
      ]
    },
    {
      "metadata": {
        "id": "29twCfxpuc8r",
        "colab_type": "code",
        "colab": {
          "base_uri": "https://localhost:8080/",
          "height": 435
        },
        "outputId": "910ba29b-b487-4068-aab2-314a0dc79c37"
      },
      "cell_type": "code",
      "source": [
        "import torch\n",
        "import io\n",
        "_model_ = torch.load(io.BytesIO(temp_test['Task1A.mdl']))"
      ],
      "execution_count": 6,
      "outputs": [
        {
          "output_type": "error",
          "ename": "AttributeError",
          "evalue": "ignored",
          "traceback": [
            "\u001b[0;31m---------------------------------------------------------------------------\u001b[0m",
            "\u001b[0;31mAttributeError\u001b[0m                            Traceback (most recent call last)",
            "\u001b[0;32m<ipython-input-6-f196b2c916b3>\u001b[0m in \u001b[0;36m<module>\u001b[0;34m()\u001b[0m\n\u001b[1;32m      1\u001b[0m \u001b[0;32mimport\u001b[0m \u001b[0mtorch\u001b[0m\u001b[0;34m\u001b[0m\u001b[0;34m\u001b[0m\u001b[0m\n\u001b[1;32m      2\u001b[0m \u001b[0;32mimport\u001b[0m \u001b[0mio\u001b[0m\u001b[0;34m\u001b[0m\u001b[0;34m\u001b[0m\u001b[0m\n\u001b[0;32m----> 3\u001b[0;31m \u001b[0m_model_\u001b[0m \u001b[0;34m=\u001b[0m \u001b[0mtorch\u001b[0m\u001b[0;34m.\u001b[0m\u001b[0mload\u001b[0m\u001b[0;34m(\u001b[0m\u001b[0mio\u001b[0m\u001b[0;34m.\u001b[0m\u001b[0mBytesIO\u001b[0m\u001b[0;34m(\u001b[0m\u001b[0mtemp_test\u001b[0m\u001b[0;34m[\u001b[0m\u001b[0;34m'Task1A.mdl'\u001b[0m\u001b[0;34m]\u001b[0m\u001b[0;34m)\u001b[0m\u001b[0;34m)\u001b[0m\u001b[0;34m\u001b[0m\u001b[0;34m\u001b[0m\u001b[0m\n\u001b[0m",
            "\u001b[0;32m/usr/local/lib/python3.6/dist-packages/torch/serialization.py\u001b[0m in \u001b[0;36mload\u001b[0;34m(f, map_location, pickle_module)\u001b[0m\n\u001b[1;32m    366\u001b[0m         \u001b[0mf\u001b[0m \u001b[0;34m=\u001b[0m \u001b[0mopen\u001b[0m\u001b[0;34m(\u001b[0m\u001b[0mf\u001b[0m\u001b[0;34m,\u001b[0m \u001b[0;34m'rb'\u001b[0m\u001b[0;34m)\u001b[0m\u001b[0;34m\u001b[0m\u001b[0;34m\u001b[0m\u001b[0m\n\u001b[1;32m    367\u001b[0m     \u001b[0;32mtry\u001b[0m\u001b[0;34m:\u001b[0m\u001b[0;34m\u001b[0m\u001b[0;34m\u001b[0m\u001b[0m\n\u001b[0;32m--> 368\u001b[0;31m         \u001b[0;32mreturn\u001b[0m \u001b[0m_load\u001b[0m\u001b[0;34m(\u001b[0m\u001b[0mf\u001b[0m\u001b[0;34m,\u001b[0m \u001b[0mmap_location\u001b[0m\u001b[0;34m,\u001b[0m \u001b[0mpickle_module\u001b[0m\u001b[0;34m)\u001b[0m\u001b[0;34m\u001b[0m\u001b[0;34m\u001b[0m\u001b[0m\n\u001b[0m\u001b[1;32m    369\u001b[0m     \u001b[0;32mfinally\u001b[0m\u001b[0;34m:\u001b[0m\u001b[0;34m\u001b[0m\u001b[0;34m\u001b[0m\u001b[0m\n\u001b[1;32m    370\u001b[0m         \u001b[0;32mif\u001b[0m \u001b[0mnew_fd\u001b[0m\u001b[0;34m:\u001b[0m\u001b[0;34m\u001b[0m\u001b[0;34m\u001b[0m\u001b[0m\n",
            "\u001b[0;32m/usr/local/lib/python3.6/dist-packages/torch/serialization.py\u001b[0m in \u001b[0;36m_load\u001b[0;34m(f, map_location, pickle_module)\u001b[0m\n\u001b[1;32m    540\u001b[0m     \u001b[0munpickler\u001b[0m \u001b[0;34m=\u001b[0m \u001b[0mpickle_module\u001b[0m\u001b[0;34m.\u001b[0m\u001b[0mUnpickler\u001b[0m\u001b[0;34m(\u001b[0m\u001b[0mf\u001b[0m\u001b[0;34m)\u001b[0m\u001b[0;34m\u001b[0m\u001b[0;34m\u001b[0m\u001b[0m\n\u001b[1;32m    541\u001b[0m     \u001b[0munpickler\u001b[0m\u001b[0;34m.\u001b[0m\u001b[0mpersistent_load\u001b[0m \u001b[0;34m=\u001b[0m \u001b[0mpersistent_load\u001b[0m\u001b[0;34m\u001b[0m\u001b[0;34m\u001b[0m\u001b[0m\n\u001b[0;32m--> 542\u001b[0;31m     \u001b[0mresult\u001b[0m \u001b[0;34m=\u001b[0m \u001b[0munpickler\u001b[0m\u001b[0;34m.\u001b[0m\u001b[0mload\u001b[0m\u001b[0;34m(\u001b[0m\u001b[0;34m)\u001b[0m\u001b[0;34m\u001b[0m\u001b[0;34m\u001b[0m\u001b[0m\n\u001b[0m\u001b[1;32m    543\u001b[0m \u001b[0;34m\u001b[0m\u001b[0m\n\u001b[1;32m    544\u001b[0m     \u001b[0mdeserialized_storage_keys\u001b[0m \u001b[0;34m=\u001b[0m \u001b[0mpickle_module\u001b[0m\u001b[0;34m.\u001b[0m\u001b[0mload\u001b[0m\u001b[0;34m(\u001b[0m\u001b[0mf\u001b[0m\u001b[0;34m)\u001b[0m\u001b[0;34m\u001b[0m\u001b[0;34m\u001b[0m\u001b[0m\n",
            "\u001b[0;31mAttributeError\u001b[0m: Can't get attribute 'BOWClassifier' on <module '__main__'>"
          ]
        }
      ]
    },
    {
      "metadata": {
        "id": "Ixy30WkrH3_-",
        "colab_type": "code",
        "colab": {}
      },
      "cell_type": "code",
      "source": [
        ""
      ],
      "execution_count": 0,
      "outputs": []
    },
    {
      "metadata": {
        "id": "Ub0HKgL8H37z",
        "colab_type": "code",
        "colab": {}
      },
      "cell_type": "code",
      "source": [
        ""
      ],
      "execution_count": 0,
      "outputs": []
    },
    {
      "metadata": {
        "id": "lCraW41hH32S",
        "colab_type": "code",
        "colab": {}
      },
      "cell_type": "code",
      "source": [
        ""
      ],
      "execution_count": 0,
      "outputs": []
    },
    {
      "metadata": {
        "id": "mhftDt1DH3x6",
        "colab_type": "code",
        "colab": {}
      },
      "cell_type": "code",
      "source": [
        ""
      ],
      "execution_count": 0,
      "outputs": []
    },
    {
      "metadata": {
        "id": "kE_TcX1KH3tQ",
        "colab_type": "code",
        "colab": {}
      },
      "cell_type": "code",
      "source": [
        ""
      ],
      "execution_count": 0,
      "outputs": []
    },
    {
      "metadata": {
        "id": "T60wqxmoH3Zl",
        "colab_type": "code",
        "colab": {}
      },
      "cell_type": "code",
      "source": [
        ""
      ],
      "execution_count": 0,
      "outputs": []
    }
  ]
}
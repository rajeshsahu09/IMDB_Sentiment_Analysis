{
  "nbformat": 4,
  "nbformat_minor": 0,
  "metadata": {
    "colab": {
      "name": "DL_Assign.ipynb",
      "version": "0.3.2",
      "provenance": [],
      "collapsed_sections": [],
      "toc_visible": true,
      "include_colab_link": true
    },
    "kernelspec": {
      "name": "python3",
      "display_name": "Python 3"
    },
    "accelerator": "GPU"
  },
  "cells": [
    {
      "cell_type": "markdown",
      "metadata": {
        "id": "view-in-github",
        "colab_type": "text"
      },
      "source": [
        "<a href=\"https://colab.research.google.com/github/rajeshsahu09/CS69002_9A_18CS60R19/blob/master/DL_Assign.ipynb\" target=\"_parent\"><img src=\"https://colab.research.google.com/assets/colab-badge.svg\" alt=\"Open In Colab\"/></a>"
      ]
    },
    {
      "metadata": {
        "id": "wuB0HM37teAc",
        "colab_type": "text"
      },
      "cell_type": "markdown",
      "source": [
        "# Movie Review Sentiment Analysis"
      ]
    },
    {
      "metadata": {
        "id": "_NV6CE-qtvGO",
        "colab_type": "text"
      },
      "cell_type": "markdown",
      "source": [
        "### Import Header Files"
      ]
    },
    {
      "metadata": {
        "id": "WE7OEcPOtzJf",
        "colab_type": "code",
        "colab": {}
      },
      "cell_type": "code",
      "source": [
        "import torch\n",
        "import pandas as pd\n",
        "import numpy as np\n",
        "import io"
      ],
      "execution_count": 0,
      "outputs": []
    },
    {
      "metadata": {
        "id": "v4037ccUuFFp",
        "colab_type": "text"
      },
      "cell_type": "markdown",
      "source": [
        "### Load the Dataset and Visualise"
      ]
    },
    {
      "metadata": {
        "id": "EhWFepP2t3eA",
        "colab_type": "code",
        "colab": {}
      },
      "cell_type": "code",
      "source": [
        "# from google.colab import files\n",
        "# uploaded = files.upload()\n",
        "\n",
        "# import io\n",
        "# df_train = pd.read_csv(io.StringIO(uploaded['Train_20K.csv'].decode('utf-8')), sep='\\t')\n",
        "# df_train.head()\n",
        "url = \"https://raw.githubusercontent.com/binny-mathew/IITKGP_CS69002_Spring_2019/master/Dataset/Train_20K.csv\"\n",
        "df_train = pd.read_csv(url, sep='\\t')"
      ],
      "execution_count": 0,
      "outputs": []
    },
    {
      "metadata": {
        "id": "T9FBTqABuRlO",
        "colab_type": "code",
        "colab": {}
      },
      "cell_type": "code",
      "source": [
        "# from google.colab import files\n",
        "# uploaded = files.upload()\n",
        "\n",
        "# import io\n",
        "# df_val = pd.read_csv(io.StringIO(uploaded['check.csv'].decode('utf-8')), sep='\\t')\n",
        "# df_val.head()\n",
        "url = \"https://raw.githubusercontent.com/binny-mathew/IITKGP_CS69002_Spring_2019/master/Dataset/check.csv\"\n",
        "df_val = pd.read_csv(url, sep='\\t')"
      ],
      "execution_count": 0,
      "outputs": []
    },
    {
      "metadata": {
        "id": "uuZxOMpkQoka",
        "colab_type": "code",
        "colab": {}
      },
      "cell_type": "code",
      "source": [
        "# from google.colab import files\n",
        "# uploaded = files.upload()\n",
        "\n",
        "# import io\n",
        "# df_test = pd.read_csv(io.StringIO(uploaded['Test_5K.csv'].decode('utf-8')), sep='\\t')\n",
        "# df_test.head()\n",
        "url = \"https://raw.githubusercontent.com/binny-mathew/IITKGP_CS69002_Spring_2019/master/Dataset/Test_5K.csv\"\n",
        "df_test = pd.read_csv(url, sep='\\t')"
      ],
      "execution_count": 0,
      "outputs": []
    },
    {
      "metadata": {
        "id": "0WFB1TtsxD3F",
        "colab_type": "code",
        "outputId": "a8c9e681-ad18-4f26-8baf-9d1cb5b0fbf1",
        "colab": {
          "base_uri": "https://localhost:8080/",
          "height": 68
        }
      },
      "cell_type": "code",
      "source": [
        "print('Number of Negative movie reviews', len(df_train[df_train['label']==0]))\n",
        "print('Number of Positive movie reviews', len(df_train[df_train['label']==1]))\n",
        "print('Number of movie reviews', len(df_train['label']))"
      ],
      "execution_count": 5,
      "outputs": [
        {
          "output_type": "stream",
          "text": [
            "Number of Negative movie reviews 8994\n",
            "Number of Positive movie reviews 9005\n",
            "Number of movie reviews 17999\n"
          ],
          "name": "stdout"
        }
      ]
    },
    {
      "metadata": {
        "id": "TVzhPcGGxf2-",
        "colab_type": "text"
      },
      "cell_type": "markdown",
      "source": [
        "## Data pre-processing"
      ]
    },
    {
      "metadata": {
        "id": "u-8IR64TKH0F",
        "colab_type": "text"
      },
      "cell_type": "markdown",
      "source": [
        "### Get Train Data"
      ]
    },
    {
      "metadata": {
        "id": "JprKnOXgxXkE",
        "colab_type": "code",
        "outputId": "c1f2808b-cd7a-4e37-8210-1685de6b63fc",
        "colab": {
          "base_uri": "https://localhost:8080/",
          "height": 71
        }
      },
      "cell_type": "code",
      "source": [
        "train_raw_text_reviews = df_train['text'].astype(str).tolist()\n",
        "len(train_raw_text_reviews), train_raw_text_reviews[-2]"
      ],
      "execution_count": 6,
      "outputs": [
        {
          "output_type": "execute_result",
          "data": {
            "text/plain": [
              "(17999,\n",
              " 'Anyone notice that Tommy only has 3 facial expressions.<br /><br />1. The angry eyes look he gives every enemy. 2. The holding of the hands to face, mouth agape and frightened eyes. 3. The smiling Tommy Turnbull.<br /><br />I have to say that i pretty much hate this show, i don\\'t watch it but it\\'s like Code Lyoko, we\\'ve all watched at least one, i must say that this show is borderline racist, uninteresting and pointless.<br /><br />every episode ends with robotboy winning, except for one exception when robotboy basically let this overly geeky freakazoid fly away on a jetpack.<br /><br />The jokes are pretty crude too, i think it\\'s mostly people saying the word \"Suck\" or farting, i think the bullies of the show are quite shocking too.<br /><br />Isn\\'t there one that hides a bowling ball under his hate, and the other uses a chain, for god sake, what kind of school is he going to. Not to mention his older brother, who is borderline psychopathic and has no other character qualities.<br /><br />The whole show i feel is ripping off megas XLR and Fosters. Like you could say the trio of coop, jamie and Kiva, as well as Robotboy being similar to Megas where he beats everyone no matter what the odds and he\\'s free spirited despite being a robot.<br /><br />There is simply no appeal to this show, i\\'m surprised that it\\'s still running.')"
            ]
          },
          "metadata": {
            "tags": []
          },
          "execution_count": 6
        }
      ]
    },
    {
      "metadata": {
        "id": "6pyMLy0NyHVx",
        "colab_type": "code",
        "outputId": "530b8ae4-0463-462f-f32b-ac6e0ced5e06",
        "colab": {
          "base_uri": "https://localhost:8080/",
          "height": 34
        }
      },
      "cell_type": "code",
      "source": [
        "train_text_labels = df_train['label'].astype(int)\n",
        "len(train_text_labels), train_text_labels[len(train_text_labels)-2]"
      ],
      "execution_count": 7,
      "outputs": [
        {
          "output_type": "execute_result",
          "data": {
            "text/plain": [
              "(17999, 0)"
            ]
          },
          "metadata": {
            "tags": []
          },
          "execution_count": 7
        }
      ]
    },
    {
      "metadata": {
        "id": "TwU4zROpKLdQ",
        "colab_type": "text"
      },
      "cell_type": "markdown",
      "source": [
        "###Get Validation Data"
      ]
    },
    {
      "metadata": {
        "id": "7TsL1ACWJ_3V",
        "colab_type": "code",
        "outputId": "d9b9fac6-6b6a-40a3-9463-d83aad70ca31",
        "colab": {
          "base_uri": "https://localhost:8080/",
          "height": 71
        }
      },
      "cell_type": "code",
      "source": [
        "val_raw_text_reviews = df_val['text'].astype(str).tolist()\n",
        "len(val_raw_text_reviews), val_raw_text_reviews[-2]"
      ],
      "execution_count": 8,
      "outputs": [
        {
          "output_type": "execute_result",
          "data": {
            "text/plain": [
              "(499,\n",
              " \"This movie starts out brisk, has some slow moments in the middle, but generally moves along well, has a few very good moments, then peters out at the end of Act 3. I was able to get to see this in LA premieres 2 times (with 2 different endings). Jason Lee is a star, but he is not tomorrows leading man. He is humorous and holds his own, but he is better served as a supporting actor. Julia Stiles does 'ok' in a comedy role, new for her, but she doesn't 'steal' this movie, the way a star of her caliber should. For an actress who has so much potential(10 Things, Save the Last Dance, O), it is hard to watch her continue to do roles that are so 'average', and then not have her take the role and run away with the movie (like Daniel Day-Lewis did in 'Gangs'). Selma Blair is a good young actress as well, and does an 'ok' job. I didn't expect an academy award performance from her, and she didn't deliver one, but, her performance was adequate. Chris Koch delivers another film that is 'above average'. Perhaps the problem lies in the script more than anything else. I 'did' like this movie! But, it is not a movie where you walk away and say...'that was great!'...This 'story' has been done so many times before and there was just not much new here. The rehearsal dinner scene was probably the best in the movie, and Larry Miller gives an incredible performance in a supporting role (he could be the best surprise of the film). If you want to go see a movie that will make you laugh a few times, and have an enjoyable evening, I can still recommend this film, but unless they have changed the ending...again...leave during the church scene, or you will surely be disappointed.\")"
            ]
          },
          "metadata": {
            "tags": []
          },
          "execution_count": 8
        }
      ]
    },
    {
      "metadata": {
        "id": "nXcL1jBEJ-0w",
        "colab_type": "code",
        "outputId": "8916c8c2-b453-450c-d8f2-7141776c2717",
        "colab": {
          "base_uri": "https://localhost:8080/",
          "height": 34
        }
      },
      "cell_type": "code",
      "source": [
        "val_text_labels = df_val['label'].astype(int)\n",
        "len(val_text_labels), val_text_labels[len(val_text_labels)-2]"
      ],
      "execution_count": 9,
      "outputs": [
        {
          "output_type": "execute_result",
          "data": {
            "text/plain": [
              "(499, 1)"
            ]
          },
          "metadata": {
            "tags": []
          },
          "execution_count": 9
        }
      ]
    },
    {
      "metadata": {
        "id": "YixDzEnXLZN-",
        "colab_type": "text"
      },
      "cell_type": "markdown",
      "source": [
        "###Get Test Data"
      ]
    },
    {
      "metadata": {
        "id": "MQHaSpnJJ9eT",
        "colab_type": "code",
        "outputId": "ce15b659-2be7-45e1-d199-efec24791e7f",
        "colab": {
          "base_uri": "https://localhost:8080/",
          "height": 71
        }
      },
      "cell_type": "code",
      "source": [
        "test_raw_text_reviews = df_test['text'].astype(str).tolist()\n",
        "len(test_raw_text_reviews), test_raw_text_reviews[-2]"
      ],
      "execution_count": 10,
      "outputs": [
        {
          "output_type": "execute_result",
          "data": {
            "text/plain": [
              "(5000,\n",
              " 'The Shining, you know what\\'s weird about this movie? This is the movie that everyone, for people who claim to not like horror films, will always say that The Shining is a terrific film. This is Stanley Kubrick\\'s classic vision of Stephen King\\'s horror tale of madness and blood. This is just an incredible film and wither you have seen it or not, you have heard of it, know a few lines from it, and know some of the classic images. Who could forget Jack\\'s \"Here\\'s Johnny!\"? Who could forget \"All Work and No Play Make Jack a Dull Boy\"? Who could forget that chilling ending? This is the film that is unforgettable and honestly in my opinion is Kubrick\\'s best work. I know there is a lot of argument in that department, a lot of people say it\\'s 2001: A Space Odyssey or Clockwork Orange or even Dr. Strangelove, but if those film pioneered film making, then The Shining perfected it. This is the tale of isolation, madness, terrifying images, and the ultimate ghost story that will crawl underneath your skin. <br /><br />Jack Torrance, Jack\\'s son Danny, and Jack\\'s wife, Wendy arrive at the Overlook Hotel on closing day. The elderly African-American chef, Dick Hallorann, surprises Danny by speaking to him telepathically and offering him some ice cream. He explains to Danny that he and his grandmother shared the gift; they called the communication \"shining.\" Danny asks if there is anything to be afraid of in the hotel, particularly Room 237. Dick tells Danny that the hotel has a certain \"shine\" to it and many memories, not all of them good, and advises him to stay out of room 237 under all circumstances. Danny\\'s curiosity about Room 237 finally gets the better of him when he sees the room has been opened. Danny shows up injured and visibly traumatized after Jack tells Wendy that he loves his family. Seeing this, Wendy thinks Jack has been abusing Danny. Jack wanders into the hotel\\'s Gold Room where he meets a ghostly bartender named Lloyd. Danny starts calling out the word \"redrum\" frantically, and scribbling it on walls. He goes into a trance, and withdraws; he now says that he is Tony, his own \"imaginary friend.\" Jack sabotages the hotel radio, cutting off communication from the outside world, but Hallorann has received Danny\\'s telepathic cry for help and is on his way. Wendy discovers that Jack has been typing endless pages of manuscript repeating \"All work and no play makes Jack a dull boy\" formatted in various ways. Horrified, Jack threatens her and she knocks him unconscious with a baseball bat, locking him in a storage locker in the kitchen. Jack converses with Grady through the door of the locker, which then unlocks releasing him. Danny has written \"REDRUM\" in lipstick on the door of Wendy\\'s bedroom. When she looks in the mirror, she sees that it is \"Murder\" spelled backwards. Jack picks up an axe and begins to chop through the door leading to his family\\'s living quarters. \"Here\\'s Johnny!\", and Jack\\'s legendary image is born.<br /><br />The Shining is one of those films that you seriously have to make time to see, this is an incredible film and still gives me nightmares. Jack Nicholson\\'s performance is timeless and unforgettable. But one I also feel is extremely overlooked is Shelley Duvall, her scene of finding Jack\\'s rant All Work\\x85 is incredible, that\\'s a look of horror and you can see that fear in her face after realizing her husband is mad. Also another incredible scene is when Jack sees a ghost woman in the bathtub, it\\'s honestly one of the most terrifying scenes in horror cinema. The reason this film is so well known is because it\\'s a film of perfection, it\\'s been on The Simpsons, it\\'s been shown in other films and it\\'s a film that will forever stay with you when you see it, trust me.<br /><br />10/10')"
            ]
          },
          "metadata": {
            "tags": []
          },
          "execution_count": 10
        }
      ]
    },
    {
      "metadata": {
        "id": "xm_vDSe9J8jO",
        "colab_type": "code",
        "outputId": "4a810cea-d4cd-40de-ae26-24e9c1a0591e",
        "colab": {
          "base_uri": "https://localhost:8080/",
          "height": 34
        }
      },
      "cell_type": "code",
      "source": [
        "test_text_labels = df_test['label'].astype(int)\n",
        "len(test_text_labels), test_text_labels[len(val_text_labels)-2]"
      ],
      "execution_count": 11,
      "outputs": [
        {
          "output_type": "execute_result",
          "data": {
            "text/plain": [
              "(5000, 1)"
            ]
          },
          "metadata": {
            "tags": []
          },
          "execution_count": 11
        }
      ]
    },
    {
      "metadata": {
        "id": "ui-q6WRqOrB4",
        "colab_type": "text"
      },
      "cell_type": "markdown",
      "source": [
        "#### Cleaning the raw input data"
      ]
    },
    {
      "metadata": {
        "id": "8_4b4FmShb0u",
        "colab_type": "code",
        "colab": {
          "base_uri": "https://localhost:8080/",
          "height": 51
        },
        "outputId": "f7a46818-7894-4cf8-d115-447c22b176d3"
      },
      "cell_type": "code",
      "source": [
        "import re\n",
        "import string\n",
        "import nltk\n",
        "nltk.download(\"stopwords\")\n",
        "from nltk.corpus import stopwords\n",
        "\n",
        "# Finding stop words\n",
        "stop_words = set(stopwords.words('english'))"
      ],
      "execution_count": 12,
      "outputs": [
        {
          "output_type": "stream",
          "text": [
            "[nltk_data] Downloading package stopwords to /root/nltk_data...\n",
            "[nltk_data]   Package stopwords is already up-to-date!\n"
          ],
          "name": "stdout"
        }
      ]
    },
    {
      "metadata": {
        "id": "s3AxEhD_z1DM",
        "colab_type": "code",
        "colab": {}
      },
      "cell_type": "code",
      "source": [
        "def preprocess_document(doc):\n",
        "    # negative sense should not be eleminated + some short representation\n",
        "    CONTRACTIONS = {\"mayn't\":\"may not\", \"can't\":\"can not\", \"won't\":\"will not\", \"isn't\":\"is not\", \"amn't\":\"am not\",\\\n",
        "                  \"aren't\":\"are not\", \"wasn't\":\"was not\", \"weren't\":\"were not\", \"couldn't\":\"could not\", \\\n",
        "                  \"wouldn't\":\"would not\", \"don't\":\"do not\", \"doesn't\":\"does not\",\\\n",
        "                  \"i'll\":\"i will\", \"you'll\":\"you will\", \"they'll\":\"they will\",\\\n",
        "                  \"may've\":\"may have\", \"can've\":\"can have\", \"will've\":\"will have\", \"you've\":\"you have\", \\\n",
        "                  \"could've\":\"could have\", \"would've\":\"would have\", \"you've\":\"you have\", \"they\":\"they have\",\\\n",
        "                  \"i've\":\"i have\", \"you've\":\"you have\", \"we've\":\"we have\", \"there's\":\"there is\", \"i'm\":\"i am\",\\\n",
        "                  \"it's\":\"it is\", \"what's\":\"what is\", \"where's\":\"where is\", \"how's\":\"how is\", \"i'd\":\"i had\"}\n",
        "    punctuation = string.punctuation + \"\\n\\n\"\n",
        "    punc_replace = ''.join([' ' for s in punctuation]) # required for replacing punctuation with null ('')\n",
        "    doc_clean = doc.replace('-', ' ') # replace - with null str\n",
        "    doc_clean = (doc_clean.encode('ascii', 'ignore')).decode(\"utf-8\")\n",
        "    doc_clean = doc_clean.replace('<br />', '') # replace <br /> with ''\n",
        "    doc_clean = doc_clean.replace(\"’\", \"'\") # replace <br /> with null str\n",
        "    doc_clean = [CONTRACTIONS[word] if word in CONTRACTIONS else word for word in doc_clean.split(' ')] # replacing some common short forms\n",
        "    doc_clean = \" \".join(doc_clean) # list to sentence of strings\n",
        "    doc_clean = re.sub(r'\\W +', ' ', doc_clean) # except [a-zA-Z0-9_]\n",
        "    doc_clean = re.sub(r'\\d+', ' ', doc_clean) # remove numbers [0-9]\n",
        "    trans_table = str.maketrans(punctuation, punc_replace); # replace punctuations with ' '\n",
        "    doc_clean = ' '.join([word.translate(trans_table) for word in doc_clean.split(' ')])\n",
        "    doc_clean = doc_clean.split(' ');\n",
        "    doc_clean = [word for word in doc_clean if len(word) > 0];\n",
        "    # removing the stopwords from a sentence\n",
        "    doc_clean = [word for word in doc_clean if not word in stop_words and word != 'not' and word != 'no']\n",
        "    return doc_clean;"
      ],
      "execution_count": 0,
      "outputs": []
    },
    {
      "metadata": {
        "id": "rSNuXUopzavX",
        "colab_type": "code",
        "outputId": "c9fd31ae-ee1b-467e-ddab-5b68c882934d",
        "colab": {
          "base_uri": "https://localhost:8080/",
          "height": 71
        }
      },
      "cell_type": "code",
      "source": [
        "train_text_reviews = [preprocess_document(review.lower()) for review in train_raw_text_reviews]\n",
        "print (train_text_reviews[len(train_text_reviews)-2])\n",
        "print (train_text_labels[len(train_text_labels)-2])"
      ],
      "execution_count": 14,
      "outputs": [
        {
          "output_type": "stream",
          "text": [
            "['anyone', 'notice', 'tommy', 'facial', 'expressions', 'angry', 'eyes', 'look', 'gives', 'every', 'enemy', 'holding', 'hands', 'face', 'mouth', 'agape', 'frightened', 'eyes', 'smiling', 'tommy', 'turnbull', 'say', 'pretty', 'much', 'hate', 'show', 'watch', 'like', 'code', 'lyoko', 'watched', 'least', 'one', 'must', 'say', 'show', 'borderline', 'racist', 'uninteresting', 'pointless', 'every', 'episode', 'ends', 'robotboy', 'winning', 'except', 'one', 'exception', 'robotboy', 'basically', 'let', 'overly', 'geeky', 'freakazoid', 'fly', 'away', 'jetpack', 'jokes', 'pretty', 'crude', 'think', 'mostly', 'people', 'saying', 'word', 'suck', 'farting', 'think', 'bullies', 'show', 'quite', 'shocking', 'one', 'hides', 'bowling', 'ball', 'hate', 'uses', 'chain', 'god', 'sake', 'kind', 'school', 'going', 'mention', 'older', 'brother', 'borderline', 'psychopathic', 'character', 'qualities', 'whole', 'show', 'feel', 'ripping', 'megas', 'xlr', 'fosters', 'like', 'could', 'say', 'trio', 'coop', 'jamie', 'kiva', 'well', 'robotboy', 'similar', 'megas', 'beats', 'everyone', 'matter', 'odds', 'free', 'spirited', 'despite', 'robot', 'simply', 'appeal', 'show', 'surprised', 'still', 'running']\n",
            "0\n"
          ],
          "name": "stdout"
        }
      ]
    },
    {
      "metadata": {
        "id": "W6psZ2jxNOoP",
        "colab_type": "code",
        "outputId": "1b703f55-0221-4eb7-cb90-e325dc80b9b9",
        "colab": {
          "base_uri": "https://localhost:8080/",
          "height": 71
        }
      },
      "cell_type": "code",
      "source": [
        "val_text_reviews = [preprocess_document(review.lower()) for review in val_raw_text_reviews]\n",
        "print (val_text_reviews[len(val_text_reviews)-2])\n",
        "print (val_text_labels[len(val_text_labels)-2])"
      ],
      "execution_count": 15,
      "outputs": [
        {
          "output_type": "stream",
          "text": [
            "['movie', 'starts', 'brisk', 'slow', 'moments', 'middle', 'generally', 'moves', 'along', 'well', 'good', 'moments', 'peters', 'end', 'act', 'able', 'get', 'see', 'la', 'premieres', 'times', 'different', 'endings', 'jason', 'lee', 'star', 'tomorrows', 'leading', 'man', 'humorous', 'holds', 'better', 'served', 'supporting', 'actor', 'julia', 'stiles', 'ok', 'comedy', 'role', 'new', 'steal', 'movie', 'way', 'star', 'caliber', 'actress', 'much', 'potential', 'things', 'save', 'last', 'dance', 'hard', 'watch', 'continue', 'roles', 'average', 'take', 'role', 'run', 'away', 'movie', 'like', 'daniel', 'day', 'lewis', 'gangs', 'selma', 'blair', 'good', 'young', 'actress', 'well', 'ok', 'job', 'expect', 'academy', 'award', 'performance', 'deliver', 'one', 'performance', 'adequate', 'chris', 'koch', 'delivers', 'another', 'film', 'average', 'perhaps', 'problem', 'lies', 'script', 'anything', 'else', 'like', 'movie', 'movie', 'walk', 'away', 'say', 'great', 'story', 'done', 'many', 'times', 'much', 'new', 'rehearsal', 'dinner', 'scene', 'probably', 'best', 'movie', 'larry', 'miller', 'gives', 'incredible', 'performance', 'supporting', 'role', 'could', 'best', 'surprise', 'film', 'want', 'go', 'see', 'movie', 'make', 'laugh', 'times', 'enjoyable', 'evening', 'still', 'recommend', 'film', 'unless', 'changed', 'ending', 'leave', 'church', 'scene', 'surely', 'disappointed']\n",
            "1\n"
          ],
          "name": "stdout"
        }
      ]
    },
    {
      "metadata": {
        "id": "REdaGj3VNOEX",
        "colab_type": "code",
        "outputId": "50798c97-8bc0-4141-9ba1-c5da641fed0d",
        "colab": {
          "base_uri": "https://localhost:8080/",
          "height": 71
        }
      },
      "cell_type": "code",
      "source": [
        "test_text_reviews = [preprocess_document(review.lower()) for review in test_raw_text_reviews]\n",
        "print (test_text_reviews[len(test_text_reviews)-2])\n",
        "print (test_text_labels[len(test_text_labels)-2])"
      ],
      "execution_count": 16,
      "outputs": [
        {
          "output_type": "stream",
          "text": [
            "['shining', 'know', 'weird', 'movie', 'movie', 'everyone', 'people', 'claim', 'like', 'horror', 'films', 'always', 'say', 'shining', 'terrific', 'film', 'stanley', 'kubrick', 'classic', 'vision', 'stephen', 'king', 'horror', 'tale', 'madness', 'blood', 'incredible', 'film', 'wither', 'seen', 'heard', 'know', 'lines', 'know', 'classic', 'images', 'could', 'forget', 'jack', 'johnny', 'could', 'forget', 'work', 'play', 'make', 'jack', 'dull', 'boy', 'could', 'forget', 'chilling', 'ending', 'film', 'unforgettable', 'honestly', 'opinion', 'kubrick', 'best', 'work', 'know', 'lot', 'argument', 'department', 'lot', 'people', 'say', 'space', 'odyssey', 'clockwork', 'orange', 'even', 'dr', 'strangelove', 'film', 'pioneered', 'film', 'making', 'shining', 'perfected', 'tale', 'isolation', 'madness', 'terrifying', 'images', 'ultimate', 'ghost', 'story', 'crawl', 'underneath', 'skin', 'jack', 'torrance', 'jack', 'son', 'danny', 'jack', 'wife', 'wendy', 'arrive', 'overlook', 'hotel', 'closing', 'day', 'elderly', 'african', 'american', 'chef', 'dick', 'hallorann', 'surprises', 'danny', 'speaking', 'telepathically', 'offering', 'ice', 'cream', 'explains', 'danny', 'grandmother', 'shared', 'gift', 'called', 'communication', 'shining', 'danny', 'asks', 'anything', 'afraid', 'hotel', 'particularly', 'room', 'dick', 'tells', 'danny', 'hotel', 'certain', 'shine', 'many', 'memories', 'good', 'advises', 'stay', 'room', 'circumstances', 'danny', 'curiosity', 'room', 'finally', 'gets', 'better', 'sees', 'room', 'opened', 'danny', 'shows', 'injured', 'visibly', 'traumatized', 'jack', 'tells', 'wendy', 'loves', 'family', 'seeing', 'wendy', 'thinks', 'jack', 'abusing', 'danny', 'jack', 'wanders', 'hotel', 'gold', 'room', 'meets', 'ghostly', 'bartender', 'named', 'lloyd', 'danny', 'starts', 'calling', 'word', 'redrum', 'frantically', 'scribbling', 'walls', 'goes', 'trance', 'withdraws', 'says', 'tony', 'imaginary', 'friend', 'jack', 'sabotages', 'hotel', 'radio', 'cutting', 'communication', 'outside', 'world', 'hallorann', 'received', 'danny', 'telepathic', 'cry', 'help', 'way', 'wendy', 'discovers', 'jack', 'typing', 'endless', 'pages', 'manuscript', 'repeating', 'work', 'play', 'makes', 'jack', 'dull', 'boy', 'formatted', 'various', 'ways', 'horrified', 'jack', 'threatens', 'knocks', 'unconscious', 'baseball', 'bat', 'locking', 'storage', 'locker', 'kitchen', 'jack', 'converses', 'grady', 'door', 'locker', 'unlocks', 'releasing', 'danny', 'written', 'redrum', 'lipstick', 'door', 'wendy', 'bedroom', 'looks', 'mirror', 'sees', 'murder', 'spelled', 'backwards', 'jack', 'picks', 'axe', 'begins', 'chop', 'door', 'leading', 'family', 'living', 'quarters', 'johnny', 'jack', 'legendary', 'image', 'born', 'shining', 'one', 'films', 'seriously', 'make', 'time', 'see', 'incredible', 'film', 'still', 'gives', 'nightmares', 'jack', 'nicholson', 'performance', 'timeless', 'unforgettable', 'one', 'also', 'feel', 'extremely', 'overlooked', 'shelley', 'duvall', 'scene', 'finding', 'jack', 'rant', 'work', 'incredible', 'look', 'horror', 'see', 'fear', 'face', 'realizing', 'husband', 'mad', 'also', 'another', 'incredible', 'scene', 'jack', 'sees', 'ghost', 'woman', 'bathtub', 'honestly', 'one', 'terrifying', 'scenes', 'horror', 'cinema', 'reason', 'film', 'well', 'known', 'film', 'perfection', 'simpsons', 'shown', 'films', 'film', 'forever', 'stay', 'see', 'trust']\n",
            "1\n"
          ],
          "name": "stdout"
        }
      ]
    },
    {
      "metadata": {
        "id": "ydrqMX261kQ-",
        "colab_type": "code",
        "colab": {
          "base_uri": "https://localhost:8080/",
          "height": 34
        },
        "outputId": "be34545d-c4f3-40cf-ad3e-b3e5694d2248"
      },
      "cell_type": "code",
      "source": [
        "import gc\n",
        "gc.collect()"
      ],
      "execution_count": 17,
      "outputs": [
        {
          "output_type": "execute_result",
          "data": {
            "text/plain": [
              "0"
            ]
          },
          "metadata": {
            "tags": []
          },
          "execution_count": 17
        }
      ]
    },
    {
      "metadata": {
        "id": "MKifaS85Dkap",
        "colab_type": "text"
      },
      "cell_type": "markdown",
      "source": [
        "###Creating Tokens and Types"
      ]
    },
    {
      "metadata": {
        "id": "dyQJIGVw4Dau",
        "colab_type": "code",
        "outputId": "911fd0fc-f942-4ba2-d36d-76c09d987dd6",
        "colab": {
          "base_uri": "https://localhost:8080/",
          "height": 34
        }
      },
      "cell_type": "code",
      "source": [
        "# Fetching the tokens (all words in a doc) and types(unique words in a doc) in the document\n",
        "types = ()\n",
        "tokens = []\n",
        "for row in train_text_reviews+val_text_reviews+test_text_reviews:\n",
        "    tokens += [words for words in row]\n",
        "types = set(tokens)\n",
        "\n",
        "VOCAB_SIZE, TOKEN_SIZE = len(types), len(tokens)\n",
        "VOCAB_SIZE, TOKEN_SIZE"
      ],
      "execution_count": 18,
      "outputs": [
        {
          "output_type": "execute_result",
          "data": {
            "text/plain": [
              "(72098, 2809504)"
            ]
          },
          "metadata": {
            "tags": []
          },
          "execution_count": 18
        }
      ]
    },
    {
      "metadata": {
        "id": "B20xEKK-Hwn7",
        "colab_type": "code",
        "outputId": "66fcb693-5d75-40c5-dab7-6fe31edb31fd",
        "colab": {
          "base_uri": "https://localhost:8080/",
          "height": 34
        }
      },
      "cell_type": "code",
      "source": [
        "word_to_ix = {x:i for i, x in enumerate(types)}\n",
        "ix_to_word = [x for i, x in enumerate(types)]\n",
        "\n",
        "ix_to_word[word_to_ix['kick']]=='kick', word_to_ix['kick'], len(ix_to_word)"
      ],
      "execution_count": 19,
      "outputs": [
        {
          "output_type": "execute_result",
          "data": {
            "text/plain": [
              "(True, 55949, 72098)"
            ]
          },
          "metadata": {
            "tags": []
          },
          "execution_count": 19
        }
      ]
    },
    {
      "metadata": {
        "id": "GMbWbZdr1reC",
        "colab_type": "code",
        "colab": {
          "base_uri": "https://localhost:8080/",
          "height": 34
        },
        "outputId": "bdab5d9b-e775-4703-983e-75745d57bd35"
      },
      "cell_type": "code",
      "source": [
        "gc.collect()"
      ],
      "execution_count": 20,
      "outputs": [
        {
          "output_type": "execute_result",
          "data": {
            "text/plain": [
              "174"
            ]
          },
          "metadata": {
            "tags": []
          },
          "execution_count": 20
        }
      ]
    },
    {
      "metadata": {
        "id": "yNUlKuJeNJEu",
        "colab_type": "text"
      },
      "cell_type": "markdown",
      "source": [
        "## PyTorch"
      ]
    },
    {
      "metadata": {
        "id": "SqLOymKPLPug",
        "colab_type": "code",
        "outputId": "7a13def6-0b96-4815-d8cf-e652da75c61e",
        "colab": {
          "base_uri": "https://localhost:8080/",
          "height": 34
        }
      },
      "cell_type": "code",
      "source": [
        "import torch.nn as nn\n",
        "import torch.nn.functional as F\n",
        "from torch.autograd import Variable # Automatic gradients are calculated and back-propagated through the computational graph\n",
        "\n",
        "device = torch.device(\"cuda:0\" if torch.cuda.is_available() else \"cpu\")\n",
        "device"
      ],
      "execution_count": 21,
      "outputs": [
        {
          "output_type": "execute_result",
          "data": {
            "text/plain": [
              "device(type='cuda', index=0)"
            ]
          },
          "metadata": {
            "tags": []
          },
          "execution_count": 21
        }
      ]
    },
    {
      "metadata": {
        "id": "SaSwXEBh6565",
        "colab_type": "text"
      },
      "cell_type": "markdown",
      "source": [
        "##Model Definition for the BOWClassifier"
      ]
    },
    {
      "metadata": {
        "id": "PM5I4GP6lFGu",
        "colab_type": "code",
        "colab": {}
      },
      "cell_type": "code",
      "source": [
        "class BOWClassifier(nn.Module):\n",
        "    def __init__(self, input_size, hidden_size, output_size):\n",
        "        super(BOWClassifier, self).__init__()\n",
        "        SEED = 42\n",
        "        torch.manual_seed(SEED)\n",
        "        torch.cuda.manual_seed(SEED)\n",
        "        self.hidden_size = hidden_size\n",
        "        self.i2h = nn.Linear(input_size, hidden_size) # initialises weights and biases i2h\n",
        "        self.h2o = nn.Linear(hidden_size, output_size) # initialises weights and biases h2o\n",
        "#         self.i2o = nn.Linear(input_size, output_size) # initialises weights and biases i2o\n",
        "         \n",
        "    def forward(self, x):\n",
        "        x = torch.relu(self.i2h(x)) # relu activation @ hidden layer\n",
        "        x = torch.sigmoid(self.h2o(x)) # sigmoid activation @ output layer\n",
        "        return x"
      ],
      "execution_count": 0,
      "outputs": []
    },
    {
      "metadata": {
        "id": "a8MGEFG3Mmww",
        "colab_type": "text"
      },
      "cell_type": "markdown",
      "source": [
        "### Initialise Parameter and Model"
      ]
    },
    {
      "metadata": {
        "id": "MlMeX6577J9A",
        "colab_type": "code",
        "outputId": "a8fd14a6-56c0-4240-efe5-1dad5f207060",
        "colab": {
          "base_uri": "https://localhost:8080/",
          "height": 51
        }
      },
      "cell_type": "code",
      "source": [
        "num_of_input = VOCAB_SIZE # Bag word restriction has to be equal to vocabulary\n",
        "num_of_hidden = 50 # vary this for assignment\n",
        "num_of_output = 1 # binary sentiment classes (+ve, -ve)\n",
        "\n",
        "bow = BOWClassifier(num_of_input, num_of_hidden, num_of_output).to('cuda:0') # initialises weights and biases\n",
        "bow.i2h, bow.h2o # desc network\n",
        "\n",
        "# bow.i2o"
      ],
      "execution_count": 25,
      "outputs": [
        {
          "output_type": "execute_result",
          "data": {
            "text/plain": [
              "(Linear(in_features=72098, out_features=50, bias=True),\n",
              " Linear(in_features=50, out_features=1, bias=True))"
            ]
          },
          "metadata": {
            "tags": []
          },
          "execution_count": 25
        }
      ]
    },
    {
      "metadata": {
        "id": "8fMMShAzMDjW",
        "colab_type": "text"
      },
      "cell_type": "markdown",
      "source": [
        "#### visualise the parameter"
      ]
    },
    {
      "metadata": {
        "id": "PRhDPFx87Ptm",
        "colab_type": "code",
        "outputId": "bc74b4ac-ec89-4597-ae08-1458fc5a5884",
        "colab": {
          "base_uri": "https://localhost:8080/",
          "height": 476
        }
      },
      "cell_type": "code",
      "source": [
        "for param in bow.parameters(): # desc the parameter value\n",
        "    print(param,param.size())"
      ],
      "execution_count": 26,
      "outputs": [
        {
          "output_type": "stream",
          "text": [
            "Parameter containing:\n",
            "tensor([[ 0.0028,  0.0031, -0.0009,  ...,  0.0013,  0.0002,  0.0032],\n",
            "        [-0.0035, -0.0032, -0.0017,  ...,  0.0025, -0.0011, -0.0002],\n",
            "        [ 0.0010,  0.0022, -0.0014,  ...,  0.0005, -0.0004,  0.0025],\n",
            "        ...,\n",
            "        [ 0.0018,  0.0020,  0.0019,  ...,  0.0023, -0.0005, -0.0022],\n",
            "        [-0.0004, -0.0036, -0.0005,  ...,  0.0002,  0.0009,  0.0002],\n",
            "        [-0.0037,  0.0010, -0.0030,  ..., -0.0003, -0.0001, -0.0032]],\n",
            "       device='cuda:0', requires_grad=True) torch.Size([50, 72098])\n",
            "Parameter containing:\n",
            "tensor([ 0.0011,  0.0004,  0.0031, -0.0034, -0.0035, -0.0011, -0.0032,  0.0018,\n",
            "         0.0030,  0.0035,  0.0010, -0.0009, -0.0037,  0.0021,  0.0017,  0.0023,\n",
            "        -0.0003,  0.0017, -0.0013,  0.0020,  0.0022, -0.0023,  0.0021,  0.0006,\n",
            "         0.0027,  0.0002, -0.0031, -0.0016,  0.0030,  0.0012, -0.0007, -0.0016,\n",
            "         0.0007,  0.0009,  0.0024,  0.0037,  0.0026,  0.0007,  0.0032, -0.0031,\n",
            "        -0.0023, -0.0017, -0.0031, -0.0026,  0.0031, -0.0017, -0.0019, -0.0009,\n",
            "         0.0015, -0.0036], device='cuda:0', requires_grad=True) torch.Size([50])\n",
            "Parameter containing:\n",
            "tensor([[ 0.0199,  0.0149,  0.0489,  0.0216,  0.0003,  0.0826,  0.0151,  0.0862,\n",
            "          0.1347, -0.0403,  0.0093,  0.0200, -0.0589, -0.0107, -0.0764, -0.0322,\n",
            "         -0.0884, -0.0293, -0.0897, -0.0402,  0.0540, -0.0363,  0.1348, -0.1242,\n",
            "          0.0739, -0.0110, -0.0421, -0.0210, -0.0361,  0.0512, -0.1150,  0.0524,\n",
            "         -0.0134, -0.0586, -0.1376,  0.0937, -0.0825, -0.0457,  0.0855, -0.0786,\n",
            "         -0.0229,  0.0808, -0.0104, -0.0091,  0.0346, -0.0017, -0.0088,  0.0050,\n",
            "          0.0788,  0.0027]], device='cuda:0', requires_grad=True) torch.Size([1, 50])\n",
            "Parameter containing:\n",
            "tensor([-0.0448], device='cuda:0', requires_grad=True) torch.Size([1])\n"
          ],
          "name": "stdout"
        }
      ]
    },
    {
      "metadata": {
        "id": "sWqAwOAI7D54",
        "colab_type": "text"
      },
      "cell_type": "markdown",
      "source": [
        "## Generate the BOW Vectors"
      ]
    },
    {
      "metadata": {
        "id": "UZK9TAQI7Fbm",
        "colab_type": "code",
        "colab": {}
      },
      "cell_type": "code",
      "source": [
        "def make_bow_vector(sentence, word_to_ix):\n",
        "    # create a vector of zeros of vocab size = len(word_to_idx)\n",
        "    vec = torch.zeros(len(word_to_ix)).to('cuda:0') #, device=device) # make 1D vector of len = vocab size\n",
        "    for word in sentence:\n",
        "        if word not in word_to_ix:            \n",
        "#             raise ValueError('Word',word,' not present in the dictionary. Sorry!')\n",
        "            pass\n",
        "        else:\n",
        "            vec[word_to_ix[word]]+=1 # count the number of occurance of same word in a sentences\n",
        "            \n",
        "    return vec.view(1, -1)"
      ],
      "execution_count": 0,
      "outputs": []
    },
    {
      "metadata": {
        "id": "nw0OYbTzBwJ8",
        "colab_type": "text"
      },
      "cell_type": "markdown",
      "source": [
        "## Define Loss function"
      ]
    },
    {
      "metadata": {
        "id": "PbQcwSIb96V9",
        "colab_type": "code",
        "colab": {}
      },
      "cell_type": "code",
      "source": [
        "# define a loss function and an optimizer\n",
        "loss_function = nn.BCELoss()\n",
        "opt = torch.optim.SGD(bow.parameters(), lr = 0.1) #, momentum=0.9)"
      ],
      "execution_count": 0,
      "outputs": []
    },
    {
      "metadata": {
        "id": "dqYSLXcj11HJ",
        "colab_type": "code",
        "colab": {
          "base_uri": "https://localhost:8080/",
          "height": 34
        },
        "outputId": "905535c5-5746-4bf7-d7d5-7b6e2d91673c"
      },
      "cell_type": "code",
      "source": [
        "gc.collect()"
      ],
      "execution_count": 29,
      "outputs": [
        {
          "output_type": "execute_result",
          "data": {
            "text/plain": [
              "8"
            ]
          },
          "metadata": {
            "tags": []
          },
          "execution_count": 29
        }
      ]
    },
    {
      "metadata": {
        "id": "tuYAAQh2F6J8",
        "colab_type": "text"
      },
      "cell_type": "markdown",
      "source": [
        "## Train the model"
      ]
    },
    {
      "metadata": {
        "id": "g6Tw8pD5NW2S",
        "colab_type": "code",
        "colab": {}
      },
      "cell_type": "code",
      "source": [
        ""
      ],
      "execution_count": 0,
      "outputs": []
    },
    {
      "metadata": {
        "id": "W7xoiOiAyZN5",
        "colab_type": "code",
        "colab": {
          "base_uri": "https://localhost:8080/",
          "height": 34
        },
        "outputId": "0a1ab8ab-d440-4b27-fd49-e6d5e4930366"
      },
      "cell_type": "code",
      "source": [
        "# store the bag of word vectors for each sentences\n",
        "train_data = [make_bow_vector(instance, word_to_ix) for instance in train_text_reviews]\n",
        "num_train_data = len(train_text_reviews)\n",
        "\n",
        "\n",
        "val_data = [make_bow_vector(instance, word_to_ix) for instance in val_text_reviews]\n",
        "num_val_data = len(val_text_reviews)\n",
        "\n",
        "num_train_data, num_val_data"
      ],
      "execution_count": 30,
      "outputs": [
        {
          "output_type": "execute_result",
          "data": {
            "text/plain": [
              "(17999, 499)"
            ]
          },
          "metadata": {
            "tags": []
          },
          "execution_count": 30
        }
      ]
    },
    {
      "metadata": {
        "id": "K04BHs8Gqq6J",
        "colab_type": "code",
        "colab": {
          "base_uri": "https://localhost:8080/",
          "height": 34
        },
        "outputId": "7a470599-c572-4de7-e8a6-4c287ad283ce"
      },
      "cell_type": "code",
      "source": [
        "type(train_data[0])"
      ],
      "execution_count": 31,
      "outputs": [
        {
          "output_type": "execute_result",
          "data": {
            "text/plain": [
              "torch.Tensor"
            ]
          },
          "metadata": {
            "tags": []
          },
          "execution_count": 31
        }
      ]
    },
    {
      "metadata": {
        "id": "cStQIVFfESWM",
        "colab_type": "code",
        "colab": {}
      },
      "cell_type": "code",
      "source": [
        "def evaluate_validation_accuracy(data, net):\n",
        "    correct = 0\n",
        "    sum_loss = 0\n",
        "    for i, instance in enumerate(data):\n",
        "        label = val_text_labels[i] # get the label of the corresponding instace\n",
        "        label = Variable(torch.FloatTensor([label])).to('cuda:0') # wraps a tensor for label\n",
        "        label.resize_((1,1)) # to match up with dim of pred i.e. tensor([1,1])\n",
        "        \n",
        "        vec = Variable(instance).to('cuda:0') # wrap to tensor of torch type for instance\n",
        "        \n",
        "        prob = net.forward(vec) # forward pass\n",
        "    \n",
        "        _class = 1 if prob.item() > 0.5 else 0 # sigmoid activated\n",
        "        \n",
        "        loss = loss_function(prob, label) # compute the loss\n",
        "        \n",
        "        sum_loss += float(loss.item())\n",
        "        \n",
        "        if(int(label) == _class):\n",
        "            correct += 1\n",
        "\n",
        "    return float(100)*correct/len(data), sum_loss"
      ],
      "execution_count": 0,
      "outputs": []
    },
    {
      "metadata": {
        "id": "ad6MFVt7F5X8",
        "colab_type": "code",
        "outputId": "a255faea-fc56-4e2b-c87d-284e92bf2db7",
        "colab": {
          "base_uri": "https://localhost:8080/",
          "height": 377
        }
      },
      "cell_type": "code",
      "source": [
        "import time\n",
        "# the training loop\n",
        "epochs = 100\n",
        "total_time = 0.0\n",
        "train_epoch_history = []\n",
        "train_loss_history = []\n",
        "val_loss_history = []\n",
        "\n",
        "for e in range(epochs):\n",
        "    tic = time.time() # start the timer\n",
        "    correct = 0\n",
        "    cumulative_loss = 0\n",
        "    \n",
        "    for i, instance in enumerate(train_data): \n",
        "        # get the training data\n",
        "        label = train_text_labels[i] # get the label of the corresponding instace\n",
        "        label = Variable(torch.FloatTensor([label])).to('cuda:0') # wraps a tensor for label\n",
        "        label.resize_((1,1)) # to match up with dim of pred i.e. tensor([1,1])\n",
        "        \n",
        "        bow.zero_grad() # reset the gradient for each instance\n",
        "        \n",
        "        bow_vec = Variable(instance).to('cuda:0') # vector repesentation of input sentence\n",
        "        \n",
        "        pred = bow.forward(bow_vec) # forward pass ==> computes predictied values (1 or 0)\n",
        "        \n",
        "        loss = loss_function(pred, label) # compute the loss\n",
        "        loss.backward() # backprop the loss\n",
        "        opt.step() # performs parameter updation based on the current gradient\n",
        "        \n",
        "        cumulative_loss += float(loss.item()) # accumulate the loss over whole training sample\n",
        "        \n",
        "        pred_class = 1 if pred.item() > 0.5 else 0 # as sigmoid activated\n",
        "        if(int(label) == pred_class): # counting correct prediction in each epoch\n",
        "            correct += 1\n",
        "        \n",
        "    train_epoch_history.append(e+1)\n",
        "    train_loss_history.append(cumulative_loss/num_train_data)\n",
        "    \n",
        "    val_accuracy, val_loss = evaluate_validation_accuracy(val_data, bow) # test val-data-set on currently trained model\n",
        "    val_loss_history.append(val_loss/num_val_data)\n",
        "    \n",
        "    toc = time.time() # final time\n",
        "    total_time += (toc-tic)\n",
        "    \n",
        "    print(\"Epoch {}/{}, Time: {:.2f}s, Train Loss: {:.9f}, Train Accuracy: {:.2f}%, Val loss: {:.9f}, Val Accuracy: {:.2f}% Total Time: {:.2f}s\".format(e+1, epochs, (toc-tic), float(cumulative_loss)/num_train_data, (correct*float(100)/num_train_data), (float(val_loss)/num_val_data), val_accuracy, total_time))"
      ],
      "execution_count": 0,
      "outputs": [
        {
          "output_type": "stream",
          "text": [
            "Epoch 1/100, Time: 73.14s, Train Loss: 1.144597881, Train Accuracy: 50.65%, Val loss: 1.376252692, Val Accuracy: 50.10% Total Time: 73.14s\n",
            "Epoch 2/100, Time: 72.97s, Train Loss: 1.139416975, Train Accuracy: 51.45%, Val loss: 1.314973245, Val Accuracy: 50.50% Total Time: 146.11s\n",
            "Epoch 3/100, Time: 73.44s, Train Loss: 0.979448219, Train Accuracy: 52.63%, Val loss: 0.773481897, Val Accuracy: 51.70% Total Time: 219.55s\n",
            "Epoch 4/100, Time: 74.34s, Train Loss: 0.871175787, Train Accuracy: 51.55%, Val loss: 1.220318167, Val Accuracy: 49.70% Total Time: 293.89s\n",
            "Epoch 5/100, Time: 72.78s, Train Loss: 0.921726352, Train Accuracy: 51.24%, Val loss: 0.947472679, Val Accuracy: 50.50% Total Time: 366.67s\n",
            "Epoch 6/100, Time: 72.89s, Train Loss: 0.812377087, Train Accuracy: 51.59%, Val loss: 0.937027024, Val Accuracy: 51.70% Total Time: 439.56s\n",
            "Epoch 7/100, Time: 73.53s, Train Loss: 1.042183904, Train Accuracy: 52.81%, Val loss: 1.203686321, Val Accuracy: 51.90% Total Time: 513.09s\n",
            "Epoch 8/100, Time: 72.97s, Train Loss: 0.894087326, Train Accuracy: 51.89%, Val loss: 1.311648972, Val Accuracy: 49.50% Total Time: 586.06s\n",
            "Epoch 9/100, Time: 72.87s, Train Loss: 0.829159225, Train Accuracy: 51.79%, Val loss: 0.934912525, Val Accuracy: 51.90% Total Time: 658.93s\n",
            "Epoch 10/100, Time: 72.82s, Train Loss: 0.870571908, Train Accuracy: 52.45%, Val loss: 0.923554273, Val Accuracy: 53.31% Total Time: 731.75s\n",
            "Epoch 11/100, Time: 73.00s, Train Loss: 0.858441625, Train Accuracy: 52.50%, Val loss: 0.935184947, Val Accuracy: 51.90% Total Time: 804.74s\n",
            "Epoch 12/100, Time: 73.08s, Train Loss: 0.837320417, Train Accuracy: 52.15%, Val loss: 0.922805111, Val Accuracy: 53.31% Total Time: 877.82s\n",
            "Epoch 13/100, Time: 72.81s, Train Loss: 1.015265865, Train Accuracy: 52.09%, Val loss: 0.928169325, Val Accuracy: 52.71% Total Time: 950.63s\n",
            "Epoch 14/100, Time: 72.77s, Train Loss: 0.884805671, Train Accuracy: 52.31%, Val loss: 1.030371973, Val Accuracy: 53.31% Total Time: 1023.40s\n",
            "Epoch 15/100, Time: 72.90s, Train Loss: 1.049964729, Train Accuracy: 52.88%, Val loss: 1.030032438, Val Accuracy: 53.31% Total Time: 1096.29s\n",
            "Epoch 16/100, Time: 72.90s, Train Loss: 0.939042149, Train Accuracy: 52.39%, Val loss: 0.931750333, Val Accuracy: 52.30% Total Time: 1169.20s\n",
            "Epoch 17/100, Time: 72.67s, Train Loss: 0.891907450, Train Accuracy: 52.18%, Val loss: 0.929967510, Val Accuracy: 52.51% Total Time: 1241.87s\n",
            "Epoch 18/100, Time: 72.75s, Train Loss: 0.933730627, Train Accuracy: 51.69%, Val loss: 0.935262564, Val Accuracy: 51.90% Total Time: 1314.62s\n",
            "Epoch 19/100, Time: 72.81s, Train Loss: 0.822341537, Train Accuracy: 52.35%, Val loss: 0.930017697, Val Accuracy: 52.51% Total Time: 1387.43s\n",
            "Epoch 20/100, Time: 72.88s, Train Loss: 0.849175470, Train Accuracy: 52.71%, Val loss: 0.922770872, Val Accuracy: 53.31% Total Time: 1460.32s\n"
          ],
          "name": "stdout"
        }
      ]
    },
    {
      "metadata": {
        "id": "FDUyFfwmXSew",
        "colab_type": "code",
        "outputId": "389dae98-72ec-4f66-ae56-04a9e81e6a80",
        "colab": {
          "base_uri": "https://localhost:8080/",
          "height": 379
        }
      },
      "cell_type": "code",
      "source": [
        "import matplotlib.pyplot as plt\n",
        "plt.figure(\"Image\")\n",
        "plt.title(\"Loss vs Epoch\")\n",
        "val_loss_history =  [float(i)/sum(val_loss_history) for i in val_loss_history] # normalised between 0-1\n",
        "train_loss_history =  [float(i)/sum(train_loss_history) for i in train_loss_history] # normalised between 0-1\n",
        "plt.plot(val_loss_history, c=\"blue\", label=\"Validation Loss\")\n",
        "plt.plot(train_loss_history, c=\"red\", label = \"Training Loss\")\n",
        "plt.legend()"
      ],
      "execution_count": 113,
      "outputs": [
        {
          "output_type": "execute_result",
          "data": {
            "text/plain": [
              "<matplotlib.legend.Legend at 0x7fb34e006940>"
            ]
          },
          "metadata": {
            "tags": []
          },
          "execution_count": 113
        },
        {
          "output_type": "display_data",
          "data": {
            "image/png": "[encoded data removed]",
            "text/plain": [
              "<Figure size 576x396 with 1 Axes>"
            ]
          },
          "metadata": {
            "tags": []
          }
        }
      ]
    },
    {
      "metadata": {
        "id": "gPf_k4VNuaDi",
        "colab_type": "code",
        "colab": {}
      },
      "cell_type": "code",
      "source": [
        ""
      ],
      "execution_count": 0,
      "outputs": []
    },
    {
      "metadata": {
        "id": "fkYBaktsF-sm",
        "colab_type": "code",
        "outputId": "8083b485-b323-4db0-ef48-28e17038dcef",
        "colab": {
          "base_uri": "https://localhost:8080/",
          "height": 51
        }
      },
      "cell_type": "code",
      "source": [
        "print('--- AFTER TRAINING ---')\n",
        "correct = 0\n",
        "data = []\n",
        "data = [make_bow_vector(instance, word_to_ix) for instance in test_text_reviews]\n",
        "tic = time.time()\n",
        "for i, instance in enumerate(data):\n",
        "    label = test_text_labels[i]\n",
        "    bow_vec = Variable(instance)\n",
        "    logprobs = bow.forward(bow_vec)\n",
        "#     print(logprobs)\n",
        "    pred_class = np.argmax(logprobs.data.numpy())\n",
        "    \n",
        "#     print('prediction: {}'.format(pred_class))\n",
        "#     print('actual: {}'.format(label))\n",
        "    if(int(label) == pred_class):\n",
        "        correct += 1\n",
        "toc = time.time()\n",
        "print(\"Test Accuracy: {:.2f}%\".format(correct*100/len(data)))"
      ],
      "execution_count": 0,
      "outputs": [
        {
          "output_type": "stream",
          "text": [
            "--- AFTER TRAINING ---\n",
            "Test Accuracy: 87.140%\n"
          ],
          "name": "stdout"
        }
      ]
    },
    {
      "metadata": {
        "id": "uHAvtGWbudLN",
        "colab_type": "code",
        "colab": {}
      },
      "cell_type": "code",
      "source": [
        "torch.save(bow,'model.json')\n",
        "\n",
        "from google.colab import files\n",
        "files.download(\"model.json\")"
      ],
      "execution_count": 0,
      "outputs": []
    },
    {
      "metadata": {
        "id": "Zz5PwYjVudEk",
        "colab_type": "code",
        "colab": {}
      },
      "cell_type": "code",
      "source": [
        "from google.colab import files\n",
        "temp_test = files.upload()"
      ],
      "execution_count": 0,
      "outputs": []
    },
    {
      "metadata": {
        "id": "29twCfxpuc8r",
        "colab_type": "code",
        "colab": {}
      },
      "cell_type": "code",
      "source": [
        "torch.load(io.BytesIO(temp_test['model.json']))"
      ],
      "execution_count": 0,
      "outputs": []
    },
    {
      "metadata": {
        "id": "Ixy30WkrH3_-",
        "colab_type": "code",
        "colab": {}
      },
      "cell_type": "code",
      "source": [
        ""
      ],
      "execution_count": 0,
      "outputs": []
    },
    {
      "metadata": {
        "id": "Ub0HKgL8H37z",
        "colab_type": "code",
        "colab": {}
      },
      "cell_type": "code",
      "source": [
        ""
      ],
      "execution_count": 0,
      "outputs": []
    },
    {
      "metadata": {
        "id": "lCraW41hH32S",
        "colab_type": "code",
        "colab": {}
      },
      "cell_type": "code",
      "source": [
        ""
      ],
      "execution_count": 0,
      "outputs": []
    },
    {
      "metadata": {
        "id": "mhftDt1DH3x6",
        "colab_type": "code",
        "colab": {}
      },
      "cell_type": "code",
      "source": [
        ""
      ],
      "execution_count": 0,
      "outputs": []
    },
    {
      "metadata": {
        "id": "kE_TcX1KH3tQ",
        "colab_type": "code",
        "colab": {}
      },
      "cell_type": "code",
      "source": [
        ""
      ],
      "execution_count": 0,
      "outputs": []
    },
    {
      "metadata": {
        "id": "T60wqxmoH3Zl",
        "colab_type": "code",
        "colab": {}
      },
      "cell_type": "code",
      "source": [
        ""
      ],
      "execution_count": 0,
      "outputs": []
    }
  ]
}